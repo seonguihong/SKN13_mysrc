{
 "cells": [
  {
   "cell_type": "markdown",
   "id": "8c49cd8e",
   "metadata": {
    "slideshow": {
     "slide_type": "slide"
    }
   },
   "source": [
    "# 제어문(Control flow statement)\n",
    "\n",
    "기본적으로 프로그램은 순차구조를 가진다. 즉 작성한 순서대로 실행이 된다.  \n",
    "이런 실행흐름을 다른 순서로 제어하기 위한 구문을 만드는 문법이 제어문이다.  \n",
    "제어문은 **조건문** 과 **반복문** 두가지 문법이 있다.\n",
    "\n",
    "-   **조건문**\n",
    "    -   if 문\n",
    "-   **반복문**\n",
    "    -   while 문\n",
    "    -   for in 문\n"
   ]
  },
  {
   "cell_type": "markdown",
   "id": "92c502ce",
   "metadata": {
    "slideshow": {
     "slide_type": "slide"
    }
   },
   "source": [
    "# 조건문/분기문 (conditional statement)\n",
    "\n",
    "-   프로그램이 명령문들을 실행하는 도중 특정 순서에서 **조건에 따라 흐름의 나눠져야 하는 경우 사용한다**\n",
    "-   파이썬은 조건문으로 **if문**이 있다.\n",
    "\n",
    "![조건문](images/ch03_01.png)\n",
    "\n",
    "<center>입력 받은 a 의 값이 0인지 여부에 따라 두가지 흐름으로 분기된다.</center>\n"
   ]
  },
  {
   "cell_type": "markdown",
   "id": "2a3c1835",
   "metadata": {
    "slideshow": {
     "slide_type": "subslide"
    }
   },
   "source": [
    "## 구문\n",
    "\n",
    "-   조건이 True일 경우만 특정 구문들을 실행 하는 조건문.\n",
    "\n",
    "```python\n",
    "if 조건:    # 조건은 bool 표현식을 기술한다. 조건선언 다음에 : 으로 선언해서 코드블록을 구분한다.\n",
    "    명령문1  # 조건이 True이면 실행할 구문들을 코드블럭에 기술한다.\n",
    "    명령문2  # 코드 블록은 들여쓰기를 이용해 묶어준다. 보통 공백 4칸으로 들여쓰기를 한다.\n",
    "    ...\n",
    "```\n",
    "\n",
    "> ### 파이썬의 코드블록(code block)\n",
    ">\n",
    "> 코드블록이란 **여러 명령문들을 묶어놓은 것을** 말한다. 코드블록으로 묶이면 실행시 같이 다 실행되고 실행이 안되면 같이 다 실행이 안된다.  \n",
    "> 파이썬에서는 코드블록을 작성할 때 **들여쓰기를 이용해 묶어준다.**  \n",
    "> 같은 칸만큼 들여쓰기를 한 명령문들이 같은 블록으로 묶인다.\n",
    "> 들여쓰기는 관례적으로 **공백 4칸을** 사용한다.\n",
    "\n",
    "> ### pass 키워드(예약어)\n",
    ">\n",
    "> -   빈 구현부를 만들때 사용\n",
    ">     -   제어문, 함수의 body 코드블럭은 비울 수 없다. 반드시 명령문을 한개 이상 작성해야한다.\n",
    ">     -   작성할 내용이 없을 경우 사용하는 키워드로 `pass`를 사용한다.\n"
   ]
  },
  {
   "cell_type": "code",
   "execution_count": null,
   "id": "9aa311a5",
   "metadata": {
    "slideshow": {
     "slide_type": "fragment"
    }
   },
   "outputs": [],
   "source": []
  },
  {
   "cell_type": "markdown",
   "id": "09c79c35",
   "metadata": {
    "slideshow": {
     "slide_type": "subslide"
    }
   },
   "source": [
    "-   **조건이 True일 때 False일때 실행 구문이 분기되는 조건문.**\n",
    "\n",
    "```python\n",
    "if 조건:\n",
    "    명령문1_1 # 조건이 True일 경우 실행할 구문들\n",
    "    명령문1_2\n",
    "    ...\n",
    "else:\n",
    "    명령문2_1 # 조건이 False일 경우 실행할 구문들\n",
    "    명령문2_2\n",
    "    ...\n",
    "```\n"
   ]
  },
  {
   "cell_type": "code",
   "execution_count": null,
   "id": "87b51956",
   "metadata": {
    "slideshow": {
     "slide_type": "fragment"
    }
   },
   "outputs": [],
   "source": []
  },
  {
   "cell_type": "markdown",
   "id": "621eae9a",
   "metadata": {
    "slideshow": {
     "slide_type": "subslide"
    }
   },
   "source": [
    "-   **조건이 여러 개인 조건문.**\n",
    "\n",
    "```python\n",
    "if 조건1:\n",
    "    명령문1_1  # 조건1이 True일 경우 실행할 코드블록.\n",
    "    명령문1_2\n",
    "    ...\n",
    "elif 조건2:    # 다음 조건으로 앞의 조건들이 모드 False일 경우 비교한다.\n",
    "    명령문2_1  # 조건2가 True일 경우 실행할 코드블록.\n",
    "    명령문2_2\n",
    "    ...\n",
    "elif 조건3 :\n",
    "    명령문3_1\n",
    "    명령문3_2\n",
    "    ...\n",
    "else:         # 위의 모든 조건이 False일 경우 실행하는 코드블록. 생략 가능하다.\n",
    "    명령문4\n",
    "```\n"
   ]
  },
  {
   "cell_type": "code",
   "execution_count": null,
   "id": "4c6a532d",
   "metadata": {
    "slideshow": {
     "slide_type": "fragment"
    }
   },
   "outputs": [],
   "source": []
  },
  {
   "cell_type": "markdown",
   "id": "2149b728",
   "metadata": {
    "slideshow": {
     "slide_type": "slide"
    }
   },
   "source": [
    "# 반복문 (Loop statement)\n",
    "\n",
    "특정 구문들을 반복해서 실행할 때 사용한다. 동일한 코드를 여러번 반복하거나 값이 일정하게 변하는 코드를 반복할 경우 사용한다.  \n",
    "단순 반복을 처리하는 **while문**과 iterable객체가 제공하는 값들을 반복 조회하는 **for in문** 두가지 문법이 있다.\n",
    "\n",
    "![반복문](images/ch03_02.png)\n",
    "\n",
    "<center>count의 값이 limit의 값보다 크거나 같을때 까지 count의 값을 1증가 후 출력하는 구문을 반복한다. </center>\n"
   ]
  },
  {
   "cell_type": "markdown",
   "id": "b4740a36",
   "metadata": {
    "slideshow": {
     "slide_type": "subslide"
    }
   },
   "source": [
    "## while문\n",
    "\n",
    "-   조건이 True인 동안 구문을 반복해서 실행한다.\n",
    "\n",
    "### 구문\n",
    "\n",
    "```python\n",
    "while 조건:       # 조건은 bool 표현식을 기술한다. 조건선언 다음에 : 으로 선언해서 코드블록을 구분한다\n",
    "    반복할 구문1  # 반복할 구문을 코드블록으로 작성한다.\n",
    "    반복할 구문2\n",
    "    ...\n",
    "```\n"
   ]
  },
  {
   "cell_type": "code",
   "execution_count": null,
   "id": "6b11bde6",
   "metadata": {
    "slideshow": {
     "slide_type": "fragment"
    }
   },
   "outputs": [],
   "source": []
  },
  {
   "cell_type": "markdown",
   "id": "04f12e55",
   "metadata": {
    "slideshow": {
     "slide_type": "subslide"
    }
   },
   "source": [
    "## for in 문\n",
    "\n",
    "-   Iterable 객체를 순환조회하는 구문\n",
    "    -   for in문은 Iterable 타입의 객체가 가지고 있는 값들을 하나씩 처리하는 구문을 작성할 때 사용한다.\n",
    "\n",
    "> -   **Iterable**\n",
    ">     -   반복가능한 객체. 반복문(for in)을 이용해 일련의 값들을 반복적으로 각각 제공하는 객체를 말한다.\n",
    ">     -   대표적으로 List, Tuple, Dictionary, Set, 문자열 등이 있다.\n",
    "\n",
    "### 구문\n",
    "\n",
    "```python\n",
    "for 변수 in Iterable: # for in 선언후 : 으로 선언부와 구현부를 나눈다.\n",
    "    반복구문          # Iterable이 반복시 제공하는 값을 가지는 \"변수\"를 이용해 값들을 처리하는 구문을 코드블록으로 작성한다.\n",
    "    반복구문\n",
    "```\n"
   ]
  },
  {
   "cell_type": "code",
   "execution_count": null,
   "id": "da0ce0f6",
   "metadata": {
    "slideshow": {
     "slide_type": "fragment"
    }
   },
   "outputs": [],
   "source": []
  },
  {
   "cell_type": "markdown",
   "id": "1f30cd6f",
   "metadata": {
    "slideshow": {
     "slide_type": "subslide"
    }
   },
   "source": [
    "## continue와 break를 이용한 반복문 제어\n",
    "\n",
    "-   **continue**\n",
    "    -   실행 블록에서 continue가 실행되면 현재 반복을 중단하고 다음 반복을 진행한다.\n",
    "    -   특정 조건에서 처리를 멈추고 다음 처리를 반복할 때 사용한다.\n",
    "-   **break**\n",
    "    -   반복문 실행을 중단한다.\n",
    "    -   특정 조건에서 반복문을 중간에 중지할때 사용한다.\n",
    "-   continue와 break는 특정 조건에서 실행되야 하는 경우가 대부분이므로 if문 안에 작성한다.\n"
   ]
  },
  {
   "cell_type": "code",
   "execution_count": 120,
   "id": "90c41e9f",
   "metadata": {
    "slideshow": {
     "slide_type": "fragment"
    }
   },
   "outputs": [
    {
     "name": "stdout",
     "output_type": "stream",
     "text": [
      "[16, 99, 37, 92, 50, 39, 89, 1, 58, 26, 42, 61, 85, 16, 65, 100, 51, 91, 64, 3, 62, 9, 67, 13, 65, 33, 8, 27, 78, 10, 27, 83, 98, 4, 4, 59, 89, 36]\n",
      "[-94, -82, -39, -96, -42, -16, -18, -44, -2, -16, -11, -68, -10, -17, -9, -7, -54, -17, -12, -56, -90, -28, -88, -75, -41, -78, -79, -100, -75, -27, -69, -86, -96, -73, -7, -99, -89, -49, -60, -68, -45, -95, -28, -69, -64, -88, -13, -79, -21, -18, -4, -44, -36, -86, -35]\n"
     ]
    }
   ],
   "source": [
    "import random\n",
    "pos_result = []\n",
    "neg_result = []\n",
    "while(1):\n",
    "    num = random.randint(-100,100) # 100,100 포함\n",
    "    if(num>0):\n",
    "        pos_result.append(num)\n",
    "    elif(num<0):\n",
    "        neg_result.append(num)\n",
    "    else:\n",
    "        break\n",
    "print(pos_result)\n",
    "print(neg_result)"
   ]
  },
  {
   "cell_type": "code",
   "execution_count": 128,
   "id": "62caa58c-4cbb-4c2c-b8d1-78bf7cb5b7cf",
   "metadata": {},
   "outputs": [
    {
     "name": "stdout",
     "output_type": "stream",
     "text": [
      "[59, 83, 89, 19]\n",
      "[-71, -2, -75, -13, -5, -46, -59, -74, -70]\n"
     ]
    }
   ],
   "source": [
    "pos_result = []\n",
    "neg_result = []\n",
    "while(num := random.randint(-100,100)): #왈러스연산자 := -> 조건문이나 반복문에서 값을 변수에 대입하고 반환\n",
    "    if(num>0):\n",
    "        pos_result.append(num)\n",
    "    elif(num<0):\n",
    "        neg_result.append(num)\n",
    "print(pos_result)\n",
    "print(neg_result)"
   ]
  },
  {
   "cell_type": "markdown",
   "id": "dc6099c5",
   "metadata": {
    "slideshow": {
     "slide_type": "slide"
    }
   },
   "source": [
    "## for in 문 연관 내장 함수\n",
    "\n",
    "### range()\n",
    "\n",
    "-   일정한 간격의 연속된 정수를 제공하는 반복가능 객체 생성한다.\n",
    "-   구문\n",
    "    -   `range([시작값], 멈춤값, [증감값])`\n",
    "        -   시작값, 멈춤값, 증감값 모두 정수만 가능하다.\n",
    "        -   시작값 > 멈춤값 이고 증감값이 음수이면 내림차순으로 값을 제공한다.\n",
    "        1. 전달값이 **1개: 멈춤값**.\n",
    "            - 0 ~ (멈춤값-1)까지 1씩 증가하는 정수를 제공\n",
    "        2. 전달값이 **2개: 시작값, 멈춤값**.\n",
    "            - 시작값 ~ (멈춤값-1) 까지 1씩 증가하는 정수 제공\n",
    "        3. 전달값이 **3개: 시작값, 멈춤값, 증감값(간격)**.\n",
    "            - 시작값 ~ (멈춤값-1)까지 증감값만큼 증가하는 정수를 제공.\n"
   ]
  },
  {
   "cell_type": "code",
   "execution_count": null,
   "id": "352d937b",
   "metadata": {
    "slideshow": {
     "slide_type": "fragment"
    }
   },
   "outputs": [],
   "source": []
  },
  {
   "cell_type": "markdown",
   "id": "5de9d74e",
   "metadata": {
    "slideshow": {
     "slide_type": "subslide"
    }
   },
   "source": [
    "## enumerate()\n",
    "\n",
    "-   구문\n",
    "    -   `enumerate(Iterable,  [, start=정수])`\n",
    "        -   현재 몇번째 값을 제공하는 지(현재 몇번째 반복인지)를 나타내는 **index**와 제공하는 **원소**를 tuple로 묶어서 반환\n",
    "        -   Iterable\n",
    "            -   값을 제공할 Iterable객체\n",
    "        -   start: 정수\n",
    "            -   index 시작 값. 생략하면 0부터 시작한다.\n"
   ]
  },
  {
   "cell_type": "markdown",
   "id": "f5a5540f",
   "metadata": {
    "slideshow": {
     "slide_type": "subslide"
    }
   },
   "source": [
    "## zip()\n",
    "\n",
    "-   여러 개의 Iterable 객체를 받아 반복시 같은 index의 값끼리 튜플로 묶어 반환한다.\n",
    "-   구문\n",
    "    -   `zip(Iterable1, Iterable2, Iterable3 [, .......])`\n",
    "        -   Iterable 2개이상.전달한다.\n",
    "-   각 Iterable이 제공하는 원소의 개수가가 다를 경우 가장 적은 것의 개수에 맞춰 반복한다.\n"
   ]
  },
  {
   "cell_type": "markdown",
   "id": "2df89dae",
   "metadata": {
    "slideshow": {
     "slide_type": "subslide"
    }
   },
   "source": [
    "# 컴프리헨션(Comprehension)\n",
    "\n",
    "-   기존 Iterable의 원소들을 이용해서 새로운 자료구조(List, Dictionary, Set)를 생성하는 구문.\n",
    "    -   기존 Iterable의 **원소들을 처리한 결과**나 **특정 조건이 True인 값들을** 새로운 자료구조에 넣을때 사용.\n",
    "    -   결과를 넣을 새로운 자료구조 타입에 따라 다음 세가지가 있다.\n",
    "        -   리스트 컴프리헨션\n",
    "        -   딕셔너리 컴프리헨션\n",
    "        -   셋 컴프리헨션\n",
    "- **튜플 컴프리헨션**은 tuple() 함수를 이용해서 만든다.\n",
    "-   **딕셔너리 컴프리헨션**과 **셋 컴프리헨션**은 파이썬 3 에 새로 추가되었다.\n",
    "-   컴프리헨션 문법은 iterable 을 타입을 넣는 곳에서는 다 적용할 수있다.\n"
   ]
  },
  {
   "cell_type": "code",
   "execution_count": 21,
   "id": "de62c1b1-297a-4a85-a473-a70dd7ed2f66",
   "metadata": {},
   "outputs": [],
   "source": [
    "l = [1,2,3,4,5,6]"
   ]
  },
  {
   "cell_type": "code",
   "execution_count": 33,
   "id": "cf337f3d-52dc-4c1e-8264-b3a03554106c",
   "metadata": {
    "slideshow": {
     "slide_type": "fragment"
    }
   },
   "outputs": [
    {
     "data": {
      "text/plain": [
       "[1, 2, 3, 4, 5, 6]"
      ]
     },
     "execution_count": 33,
     "metadata": {},
     "output_type": "execute_result"
    }
   ],
   "source": [
    "# filtering - 걸러 내는 작업들 -> 변수에서 일정부분을 조건에의해 제거하는 것 등을 하는 행위\n",
    "# result = [v for v in l]\n",
    "# result\n",
    "#2,3차원 배열도 가능\n",
    "#ex) result1 = [v for l in l2 for v in l if v % 2 !=0]"
   ]
  },
  {
   "cell_type": "code",
   "execution_count": 63,
   "id": "f96651a4-dae0-4d2d-8cad-ef1a8cc84614",
   "metadata": {
    "slideshow": {
     "slide_type": "fragment"
    }
   },
   "outputs": [
    {
     "data": {
      "text/plain": [
       "(2, 4, 6, 8, 10, 12)"
      ]
     },
     "execution_count": 63,
     "metadata": {},
     "output_type": "execute_result"
    }
   ],
   "source": [
    "# # mapping - 자료구조에 있는 자료를 처리해서 다른 자료구조에 넣는 행위 등을 하는 것\n",
    "# result2 = [2*v for v in l] list컴플리헨션\n",
    "# {2*v for v in l} set컴플리헨션\n",
    "# {f\"value{v}\":2*v for v in l} dic컴플리헨션\n",
    "# (v*2 for v in l) #generator 생성\n",
    "tuple(v*2 for v in l) #tuple컴플리헨션"
   ]
  },
  {
   "cell_type": "markdown",
   "id": "092288d7",
   "metadata": {
    "slideshow": {
     "slide_type": "skip"
    }
   },
   "source": [
    "# TODO\n"
   ]
  },
  {
   "cell_type": "code",
   "execution_count": 2,
   "id": "ca92112e-faa0-463a-823a-0734fe074b3b",
   "metadata": {
    "slideshow": {
     "slide_type": "skip"
    }
   },
   "outputs": [
    {
     "name": "stdin",
     "output_type": "stream",
     "text": [
      "아이디를 입력하세요 :  15135135\n"
     ]
    },
    {
     "name": "stdout",
     "output_type": "stream",
     "text": [
      "사용할 수 있습니다.\n"
     ]
    }
   ],
   "source": [
    "# (1) 사용자로 부터 ID를 입력 받은 뒤 입력받은 ID가 5글자 이상이면 \"사용할 수 있습니다.\"를 5글자 미만이면\n",
    "#\"사용할 수 없는 ID입니다.\"를 출력하세요.\n",
    "id = input(\"아이디를 입력하세요 : \")\n",
    "if(len(id)>=5):\n",
    "    print(\"사용할 수 있습니다.\")\n",
    "else:\n",
    "    print(\"사용할 수 없는 ID입니다.\")"
   ]
  },
  {
   "cell_type": "code",
   "execution_count": 14,
   "id": "e94d939c-2f36-462f-a692-f6d2fae14484",
   "metadata": {
    "slideshow": {
     "slide_type": "skip"
    }
   },
   "outputs": [
    {
     "name": "stdin",
     "output_type": "stream",
     "text": [
      "도시명을 입력하세요 :     인천\n"
     ]
    },
    {
     "name": "stdout",
     "output_type": "stream",
     "text": [
      "광역시.\n"
     ]
    }
   ],
   "source": [
    "# (2) 사용자로부터 우리나라 도시명을 입력 받은 뒤 입력받은 도시명이 서울이면\n",
    "#\"특별시\"를 인천,부산,광주,대구,대전,울산 이면 \"광역시\"를 나머지는 \"특별시나 광역시가 아닙니다.\"를 출력하세요.\n",
    "city_name = input(\"도시명을 입력하세요 : \")\n",
    "city_name = city_name.strip()\n",
    "if city_name == \"서울\":\n",
    "    print(\"특별시.\")\n",
    "elif city_name in [\"인천\",\"부산\",\"광주\",\"대구\",\"대전\",\"울산\"]:\n",
    "    print(\"광역시.\")\n",
    "else:\n",
    "    print(\"특별시나 광역시가 아닙니다.\")"
   ]
  },
  {
   "cell_type": "code",
   "execution_count": 17,
   "id": "2bb67d26-4b47-454d-9741-9db3b25fe2b2",
   "metadata": {
    "slideshow": {
     "slide_type": "skip"
    }
   },
   "outputs": [
    {
     "name": "stdout",
     "output_type": "stream",
     "text": [
      "89.0\n"
     ]
    }
   ],
   "source": [
    "# (3-4)\n",
    "# (3) 아래 리스트의 평균을 구하시오.\n",
    "jumsu = [100, 90, 100, 80, 70, 100, 80, 90, 95, 85]\n",
    "avg = 0\n",
    "for _ in jumsu:\n",
    "    avg += _/len(jumsu)\n",
    "print(avg)"
   ]
  },
  {
   "cell_type": "code",
   "execution_count": 19,
   "id": "ae6b09ea-a3dc-4ff8-9eb8-3c4a7d458904",
   "metadata": {
    "slideshow": {
     "slide_type": "skip"
    }
   },
   "outputs": [
    {
     "name": "stdout",
     "output_type": "stream",
     "text": [
      "0-pass\n",
      "1-pass\n",
      "2-pass\n",
      "3-fail\n",
      "4-fail\n",
      "5-pass\n",
      "6-fail\n",
      "7-pass\n",
      "8-pass\n",
      "9-fail\n"
     ]
    }
   ],
   "source": [
    "# (4) 위 jumsu리스트에서 평균점수이상은 pass, 미만은 fail을 index번호와 함께 출력하시오. (ex: 0-pass, 1-pass, 2-fail)\n",
    "for _ in range(0,len(jumsu)):\n",
    "    if(jumsu[_]>=avg):\n",
    "        print(f\"{_}-pass\")\n",
    "    else:\n",
    "        print(f\"{_}-fail\")"
   ]
  },
  {
   "cell_type": "code",
   "execution_count": 20,
   "id": "4675fe2f-6136-4925-b644-aee45d199ab8",
   "metadata": {
    "slideshow": {
     "slide_type": "skip"
    }
   },
   "outputs": [
    {
     "name": "stdout",
     "output_type": "stream",
     "text": [
      "최대값: 95\n"
     ]
    }
   ],
   "source": [
    "# (5) 아래 리스트 값들 중 최대값을 조회해 출력하시오.\n",
    "# jumsu = [60, 90, 80, 80, 70, 55, 80, 90, 95, 85]\n",
    "# print(max(jumsu))\n",
    "\n",
    "jumsu = [60, 90, 80, 80, 70, 55, 80, 90, 95, 85]\n",
    "\n",
    "max_value = jumsu[0] #  최대값을 저장할 변수\n",
    "for v in jumsu:\n",
    "    if max_value < v:\n",
    "        max_value = v\n",
    "print(\"최대값:\", max_value)"
   ]
  },
  {
   "cell_type": "code",
   "execution_count": 25,
   "id": "e569c454-aeb0-42e5-a9a3-bcfe9ffcba0e",
   "metadata": {
    "slideshow": {
     "slide_type": "skip"
    }
   },
   "outputs": [
    {
     "name": "stdin",
     "output_type": "stream",
     "text": [
      "단을 입력하시오:  2\n"
     ]
    },
    {
     "name": "stdout",
     "output_type": "stream",
     "text": [
      "2 X 1 = 2\n",
      "2 X 2 = 4\n",
      "2 X 3 = 6\n",
      "2 X 4 = 8\n",
      "2 X 5 = 10\n",
      "2 X 6 = 12\n",
      "2 X 7 = 14\n",
      "2 X 8 = 16\n",
      "2 X 9 = 18\n"
     ]
    }
   ],
   "source": [
    "# (6) 사용자로부터 정수를 입력받아 그 정수 단의 구구단을 출력하시오.\n",
    "# ex)\n",
    "# 단을 입력하시오 : 2\n",
    "# 2 x 1 = 2\n",
    "# 2 x 2 = 4\n",
    "# ..\n",
    "# 2 x 9 = 18\n",
    "# num = int(input(\"단을 입력하시오 : \"))\n",
    "# print([f\"{num} X {i+1} = {num*(i+1)}\" for i in range(9)])\n",
    "\n",
    "dan = int(input(\"단을 입력하시오: \"))\n",
    "# print(dan)\n",
    "for i in range(1, 10):\n",
    "     print(f\"{dan} X {i} = {dan * i}\")"
   ]
  },
  {
   "cell_type": "code",
   "execution_count": 27,
   "id": "9b75e952-bc39-42b6-9c85-30b32ebf4de9",
   "metadata": {
    "slideshow": {
     "slide_type": "skip"
    }
   },
   "outputs": [
    {
     "name": "stdout",
     "output_type": "stream",
     "text": [
      "2 X 1 = 2\t3 X 1 = 3\t4 X 1 = 4\t5 X 1 = 5\t6 X 1 = 6\t7 X 1 = 7\t8 X 1 = 8\t9 X 1 = 9\t\n",
      "2 X 2 = 4\t3 X 2 = 6\t4 X 2 = 8\t5 X 2 = 10\t6 X 2 = 12\t7 X 2 = 14\t8 X 2 = 16\t9 X 2 = 18\t\n",
      "2 X 3 = 6\t3 X 3 = 9\t4 X 3 = 12\t5 X 3 = 15\t6 X 3 = 18\t7 X 3 = 21\t8 X 3 = 24\t9 X 3 = 27\t\n",
      "2 X 4 = 8\t3 X 4 = 12\t4 X 4 = 16\t5 X 4 = 20\t6 X 4 = 24\t7 X 4 = 28\t8 X 4 = 32\t9 X 4 = 36\t\n",
      "2 X 5 = 10\t3 X 5 = 15\t4 X 5 = 20\t5 X 5 = 25\t6 X 5 = 30\t7 X 5 = 35\t8 X 5 = 40\t9 X 5 = 45\t\n",
      "2 X 6 = 12\t3 X 6 = 18\t4 X 6 = 24\t5 X 6 = 30\t6 X 6 = 36\t7 X 6 = 42\t8 X 6 = 48\t9 X 6 = 54\t\n",
      "2 X 7 = 14\t3 X 7 = 21\t4 X 7 = 28\t5 X 7 = 35\t6 X 7 = 42\t7 X 7 = 49\t8 X 7 = 56\t9 X 7 = 63\t\n",
      "2 X 8 = 16\t3 X 8 = 24\t4 X 8 = 32\t5 X 8 = 40\t6 X 8 = 48\t7 X 8 = 56\t8 X 8 = 64\t9 X 8 = 72\t\n",
      "2 X 9 = 18\t3 X 9 = 27\t4 X 9 = 36\t5 X 9 = 45\t6 X 9 = 54\t7 X 9 = 63\t8 X 9 = 72\t9 X 9 = 81\t\n"
     ]
    }
   ],
   "source": [
    "for i in range(1, 10):\n",
    "    for dan in range(2,10):\n",
    "        print(f\"{dan} X {i} = {dan * i}\" ,end = \"\\t\")\n",
    "    print()"
   ]
  },
  {
   "cell_type": "code",
   "execution_count": 31,
   "id": "e17be4f2-c1bc-42c3-bbb4-59347d02bd44",
   "metadata": {
    "slideshow": {
     "slide_type": "skip"
    }
   },
   "outputs": [
    {
     "name": "stdout",
     "output_type": "stream",
     "text": [
      "[(10, 100), (30, 300), (70, 700), (5, 50), (5, 50), (120, 1200), (700, 7000), (1, 10), (35, 350), (35, 350)]\n"
     ]
    }
   ],
   "source": [
    "# 컴프리헨션\n",
    "# (7) 다음 리스트의 원소들에 10배한 값을 (원래값, 10배값) 의 튜플 묶음으로 가지는 리스트를 만드시오 (리스트 컴프리헨션 이용)\n",
    "# Ex) [(10,100), (30,300), .., (35, 350)]\n",
    "lst = [10, 30, 70, 5, 5, 120, 700, 1, 35, 35]\n",
    "print([(v,v*10) for v in lst])"
   ]
  },
  {
   "cell_type": "code",
   "execution_count": 41,
   "id": "82c319e9-b597-4657-95d5-5ce5a41be729",
   "metadata": {
    "slideshow": {
     "slide_type": "skip"
    }
   },
   "outputs": [
    {
     "name": "stdout",
     "output_type": "stream",
     "text": [
      "[3, 33, 21, 33, 60, 120]\n"
     ]
    }
   ],
   "source": [
    "# (8) 다음 리스트가 가진 값들 중 3의 배수만 가지는 리스트를 만드시오. (리스트 컴프리헨션 이용)\n",
    "lst2 = [3, 20, 33, 21, 33, 8, 11, 10, 7, 17, 60, 120, 2]\n",
    "result = [v for v in lst2 if v%3==0]\n",
    "print(result)"
   ]
  },
  {
   "cell_type": "code",
   "execution_count": 45,
   "id": "c3532737-8c59-40cd-a7a4-4b39bcb50b97",
   "metadata": {
    "slideshow": {
     "slide_type": "skip"
    }
   },
   "outputs": [
    {
     "name": "stdout",
     "output_type": "stream",
     "text": [
      "['a.exe', 'function.exe', 'b.exe', 'run.exe']\n"
     ]
    }
   ],
   "source": [
    "# (9)) 다음 파일이름들을 담은 리스트에서 확장자가 exe인 파일만 골라서 새로운 리스트에 담으시오.(string의 endswith()함수 이용)\n",
    "file_names = [\n",
    "    \"test.txt\",\n",
    "    \"a.exe\",\n",
    "    \"jupyter.bat\",\n",
    "    \"function.exe\",\n",
    "    \"b.exe\",\n",
    "    \"cat.jpg\",\n",
    "    \"dog.png\",\n",
    "    \"run.exe\",\n",
    "    \"i.dll\",\n",
    "]\n",
    "result = []\n",
    "for i in range(len(file_names)):\n",
    "    if file_names[i].endswith('exe') == True:\n",
    "        result.append(file_names[i])\n",
    "print(result)\n",
    "# print([file_name for file_name in file_names if file_name.endswith(\".exe\")])"
   ]
  },
  {
   "cell_type": "code",
   "execution_count": 33,
   "id": "a580bc7f-2dfa-4117-9b37-eb75976e8fba",
   "metadata": {
    "slideshow": {
     "slide_type": "skip"
    }
   },
   "outputs": [
    {
     "name": "stdout",
     "output_type": "stream",
     "text": [
      "['mystroy.txt', 'jupyter.bat', 'function.exe']\n"
     ]
    }
   ],
   "source": [
    "# (10) 다음 중 10글자 이상인 파일명(확장자포함)만 가지는 리스트를 만드시오.\n",
    "file_names = [\n",
    "    \"mystroy.txt\",\n",
    "    \"a.exe\",\n",
    "    \"jupyter.bat\",\n",
    "    \"function.exe\",\n",
    "    \"b.exe\",\n",
    "    \"cat.jpg\",\n",
    "    \"dog.png\",\n",
    "    \"run.exe\",\n",
    "    \"i.dll\",\n",
    "]\n",
    "result = []\n",
    "for i in range(len(file_names)):\n",
    "    if len(file_names[i]) >= 10:\n",
    "        result.append(file_names[i])\n",
    "print(result)\n",
    "# [file_name for file_name in file_names if len(file_name) >= 10]`"
   ]
  },
  {
   "cell_type": "code",
   "execution_count": 34,
   "id": "584c43ae-c196-48ca-a576-b4b082a06312",
   "metadata": {},
   "outputs": [
    {
     "data": {
      "text/plain": [
       "[('mystroy.txt', 11), ('jupyter.bat', 11), ('function.exe', 12)]"
      ]
     },
     "execution_count": 34,
     "metadata": {},
     "output_type": "execute_result"
    }
   ],
   "source": [
    "[(file_name,len(file_name)) for file_name in file_names if len(file_name) >= 10]"
   ]
  }
 ],
 "metadata": {
  "kernelspec": {
   "display_name": "Python 3 (ipykernel)",
   "language": "python",
   "name": "python3"
  },
  "language_info": {
   "codemirror_mode": {
    "name": "ipython",
    "version": 3
   },
   "file_extension": ".py",
   "mimetype": "text/x-python",
   "name": "python",
   "nbconvert_exporter": "python",
   "pygments_lexer": "ipython3",
   "version": "3.12.9"
  },
  "toc": {
   "base_numbering": 1,
   "nav_menu": {},
   "number_sections": true,
   "sideBar": true,
   "skip_h1_title": false,
   "title_cell": "Table of Contents",
   "title_sidebar": "Contents",
   "toc_cell": false,
   "toc_position": {},
   "toc_section_display": true,
   "toc_window_display": false
  },
  "varInspector": {
   "cols": {
    "lenName": 16,
    "lenType": 16,
    "lenVar": 40
   },
   "kernels_config": {
    "python": {
     "delete_cmd_postfix": "",
     "delete_cmd_prefix": "del ",
     "library": "var_list.py",
     "varRefreshCmd": "print(var_dic_list())"
    },
    "r": {
     "delete_cmd_postfix": ") ",
     "delete_cmd_prefix": "rm(",
     "library": "var_list.r",
     "varRefreshCmd": "cat(var_dic_list()) "
    }
   },
   "types_to_exclude": [
    "module",
    "function",
    "builtin_function_or_method",
    "instance",
    "_Feature"
   ],
   "window_display": false
  }
 },
 "nbformat": 4,
 "nbformat_minor": 5
}
