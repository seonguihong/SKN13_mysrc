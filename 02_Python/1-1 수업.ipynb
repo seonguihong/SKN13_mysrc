{
 "cells": [
  {
   "cell_type": "markdown",
   "id": "7db46cce-724f-4f85-97f4-fc40782694e8",
   "metadata": {},
   "source": [
    "shift + enter -> 실행후 다음셀로 이동"
   ]
  },
  {
   "cell_type": "markdown",
   "id": "1076fc1e-463f-49eb-9362-75da9ee1585d",
   "metadata": {},
   "source": [
    "control + enter -> 실행후 실행한 cell에서 이동X"
   ]
  },
  {
   "cell_type": "markdown",
   "id": "a71cf15c-4c50-4dd6-b044-65b3f1760aea",
   "metadata": {},
   "source": [
    "# 명령모드 \n",
    "- A -> 위에 빈셀 추가\n",
    "- B -> 아래 빈 cell 추가\n",
    "- X -> cell 오려두기\n",
    "- V -> 붙혀넣기\n",
    "- DD -> cell 삭제\n",
    "- y -> cell을 코드모드로 변경\n",
    "- m -> cell을 마크다운모드로 변경"
   ]
  }
 ],
 "metadata": {
  "kernelspec": {
   "display_name": "Python 3 (ipykernel)",
   "language": "python",
   "name": "python3"
  },
  "language_info": {
   "codemirror_mode": {
    "name": "ipython",
    "version": 3
   },
   "file_extension": ".py",
   "mimetype": "text/x-python",
   "name": "python",
   "nbconvert_exporter": "python",
   "pygments_lexer": "ipython3",
   "version": "3.12.9"
  }
 },
 "nbformat": 4,
 "nbformat_minor": 5
}
