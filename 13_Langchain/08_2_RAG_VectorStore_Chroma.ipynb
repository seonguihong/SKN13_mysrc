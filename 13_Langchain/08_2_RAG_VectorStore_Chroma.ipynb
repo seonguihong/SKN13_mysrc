{
 "cells": [
  {
   "cell_type": "markdown",
   "id": "cff5b412-7083-4729-b85e-203069873ce7",
   "metadata": {},
   "source": [
    "# Chroma Vector Database\n",
    "- Chroma는 대규모 언어 모델(LLM) 애플리케이션 구축을 위해 설계된 AI 네이티브 **오픈 소스 벡터 데이터베이스**다.    \n",
    "- 임베딩 저장소, 쿼리 및 검색 등의 핵심 기능을 제공하여 개발자들이 효율적으로 작업할 수 있도록 돕는다. \n",
    "- https://www.trychroma.com/\n",
    "  \n",
    "## Chroma의 주요 특징\n",
    "\n",
    "- **오픈 소스 라이선스** \n",
    "  - Apache 2.0 라이선스에 따라 제공되어 누구나 자유롭게 사용하고 수정할 수 있다. \n",
    "- **다양한 개발 환경 지원**\n",
    "  -  Python 및 JavaScript/TypeScript SDK를 지원하여 다양한 Langchain 과 연동하여 활용할 수 있다. \n",
    "- **유연한 데이터 저장 옵션**\n",
    "  -  HTTP 방식, 디스크 저장 방식, 인메모리 방식을 선택하여 데이터를 저장할 수 있어 사용자 입장에서 매우 편리하다. \n",
    "- **간편한 사용법** \n",
    "  - 설치 및 사용법이 매우 간단하여 빠르게 프로토타입을 개발하고 검증할 수 있다. \n",
    "\n",
    "## 설치\n",
    "- pip로 chromadb 설치시 **windows**에서는 c컴파일러 관련되어 에러가 난다. **conda 를 이용해 설치한다.**\n",
    "- `conda install conda-forge::chromadb`\n",
    "- `pip install langchain-chroma`"
   ]
  },
  {
   "cell_type": "markdown",
   "id": "d70ea95b-9244-4208-9d99-bb8698cc5d43",
   "metadata": {},
   "source": [
    "# Chroma API 를 이용해 연동\n",
    "- https://docs.trychroma.com/"
   ]
  },
  {
   "cell_type": "code",
   "execution_count": null,
   "id": "70971742-500d-4470-89b0-b82f0b7cc30c",
   "metadata": {},
   "outputs": [],
   "source": []
  },
  {
   "cell_type": "code",
   "execution_count": null,
   "id": "8011c707-5a8e-4333-bb5f-c13bed9b30b6",
   "metadata": {},
   "outputs": [],
   "source": [
    "from uuid import uuid4\n",
    "\n",
    "# 추가할 데이터\n",
    "document_list = [\n",
    "        \"This is a document about pineapple\",\n",
    "        \"This is a document about oranges\",\n",
    "        \"This is a document about sports\",\n",
    "        \"This is a document about langchain\",\n",
    "]\n",
    "ids = [str(uuid4()) for _ in range(len(document_list))]"
   ]
  },
  {
   "cell_type": "code",
   "execution_count": null,
   "id": "2b7e66bf-e527-4bf2-a1c0-bfbb42fad70a",
   "metadata": {},
   "outputs": [],
   "source": []
  },
  {
   "cell_type": "markdown",
   "id": "fb8d7bba-a840-477e-9ef3-666b1d5c1301",
   "metadata": {},
   "source": [
    "# Langchain을 이용해 Chroma 연동\n",
    "\n",
    "## Data 준비"
   ]
  },
  {
   "cell_type": "code",
   "execution_count": 1,
   "id": "d281e998-76c4-46b7-8e96-ddd08e7ba42c",
   "metadata": {
    "execution": {
     "iopub.execute_input": "2024-12-02T12:09:44.559588Z",
     "iopub.status.busy": "2024-12-02T12:09:44.558586Z",
     "iopub.status.idle": "2024-12-02T12:09:46.061566Z",
     "shell.execute_reply": "2024-12-02T12:09:46.061566Z",
     "shell.execute_reply.started": "2024-12-02T12:09:44.559588Z"
    }
   },
   "outputs": [],
   "source": [
    "from uuid import uuid4\n",
    "from langchain_core.documents import Document\n",
    "\n",
    "document_1 = Document(\n",
    "    page_content=\"I had chocolate chip pancakes and scrambled eggs for breakfast this morning.\",\n",
    "    metadata={\"source\": \"tweet\"},\n",
    "    id=1,\n",
    ")\n",
    "\n",
    "document_2 = Document(\n",
    "    page_content=\"The weather forecast for tomorrow is cloudy and overcast, with a high of 62 degrees.\",\n",
    "    metadata={\"source\": \"news\"},\n",
    "    id=2,\n",
    ")\n",
    "\n",
    "document_3 = Document(\n",
    "    page_content=\"Building an exciting new project with LangChain - come check it out!\",\n",
    "    metadata={\"source\": \"tweet\"},\n",
    "    id=3,\n",
    ")\n",
    "\n",
    "document_4 = Document(\n",
    "    page_content=\"Robbers broke into the city bank and stole $1 million in cash.\",\n",
    "    metadata={\"source\": \"news\"},\n",
    "    id=4,\n",
    ")\n",
    "\n",
    "document_5 = Document(\n",
    "    page_content=\"Wow! That was an amazing movie. I can't wait to see it again.\",\n",
    "    metadata={\"source\": \"tweet\"},\n",
    "    id=5,\n",
    ")\n",
    "\n",
    "document_6 = Document(\n",
    "    page_content=\"Is the new iPhone worth the price? Read this review to find out.\",\n",
    "    metadata={\"source\": \"website\"},\n",
    "    id=6,\n",
    ")\n",
    "\n",
    "document_7 = Document(\n",
    "    page_content=\"The top 10 soccer players in the world right now.\",\n",
    "    metadata={\"source\": \"website\"},\n",
    "    id=7,\n",
    ")\n",
    "\n",
    "document_8 = Document(\n",
    "    page_content=\"LangGraph is the best framework for building stateful, agentic applications!\",\n",
    "    metadata={\"source\": \"tweet\"},\n",
    "    id=8,\n",
    ")\n",
    "\n",
    "document_9 = Document(\n",
    "    page_content=\"The stock market is down 500 points today due to fears of a recession.\",\n",
    "    metadata={\"source\": \"news\"},\n",
    "    id=9,\n",
    ")\n",
    "\n",
    "document_10 = Document(\n",
    "    page_content=\"I have a bad feeling I am going to get deleted :(\",\n",
    "    metadata={\"source\": \"tweet\"},\n",
    "    id=10,\n",
    ")"
   ]
  },
  {
   "cell_type": "markdown",
   "id": "cd05fc0a-c00e-4df8-a455-0333cbf17821",
   "metadata": {},
   "source": [
    "## Vector Store 생성, 연결\n",
    "- Chroma.from_documents()\n",
    "  - VectorStore를 초기화(생성)하고 문서를 추가한다.\n",
    "  - persist_directory를 지정하지 않으면 메모리에 저장된다."
   ]
  },
  {
   "cell_type": "code",
   "execution_count": null,
   "id": "3aeed090-a67f-4599-a47d-0fe8b034603f",
   "metadata": {},
   "outputs": [],
   "source": []
  },
  {
   "cell_type": "code",
   "execution_count": null,
   "id": "0200a08d-7734-4b3e-874b-8d27b14f3369",
   "metadata": {},
   "outputs": [],
   "source": []
  },
  {
   "cell_type": "markdown",
   "id": "e16c700e-54ec-43a9-890b-ae804cf3ca3f",
   "metadata": {},
   "source": [
    "## VectorStore 정보 확인"
   ]
  },
  {
   "cell_type": "code",
   "execution_count": null,
   "id": "e8ebf6ab-776b-4ae8-be97-7046de1873c0",
   "metadata": {},
   "outputs": [],
   "source": []
  },
  {
   "cell_type": "code",
   "execution_count": null,
   "id": "9c586ed7-7d81-4a5f-ac49-f476ee980bc9",
   "metadata": {},
   "outputs": [],
   "source": []
  },
  {
   "cell_type": "markdown",
   "id": "051a46bf-3d08-4c00-97d1-f71488b39c76",
   "metadata": {},
   "source": [
    "## Add (추가)"
   ]
  },
  {
   "cell_type": "code",
   "execution_count": null,
   "id": "3c040506-b68c-43ed-95d7-3184a10dc742",
   "metadata": {},
   "outputs": [],
   "source": [
    "document_11 = Document(\n",
    "    page_content=\"랭체인은 대규모 언어 모델(LLM)을 효과적으로 활용하기 위한 도구와 프레임워크를 제공하는 오픈소스 라이브러리입니다.\",\n",
    "    metadata={\"source\": \"tweet\"},\n",
    "    id=10,\n",
    ")\n",
    "\n",
    "document_12 = Document(\n",
    "    page_content=\"랭체인은 체인 구조를 사용하여 여러 LLM 작업을 연결하고, 이를 통해 더 복잡하고 맞춤화된 자연어 처리 애플리케이션을 개발할 수 있게 합니다\",\n",
    "    metadata={\"source\": \"tweet\"},\n",
    "    id=10,\n",
    ")\n",
    "\n",
    "document_13 = Document(\n",
    "    page_content=\"랭체인, AI 활용의 새 시대를 열다: 복잡한 언어 처리도 간단하게!\",\n",
    "    metadata={\"source\": \"news\"},\n",
    "    id=10,\n",
    ")"
   ]
  },
  {
   "cell_type": "code",
   "execution_count": null,
   "id": "92f9d5f9-aef7-4a5a-aec9-dbbd0ade4adf",
   "metadata": {},
   "outputs": [],
   "source": []
  },
  {
   "cell_type": "markdown",
   "id": "a3f0d979-ea73-4dfb-abe5-ff328cc77b3e",
   "metadata": {},
   "source": [
    "## Update(갱신)"
   ]
  },
  {
   "cell_type": "code",
   "execution_count": null,
   "id": "9cf981b7-80e3-4a2f-b607-d73c409fdfd8",
   "metadata": {},
   "outputs": [],
   "source": []
  },
  {
   "cell_type": "code",
   "execution_count": null,
   "id": "2960f4a5-6407-49cc-9272-7b8f37cc3dbf",
   "metadata": {},
   "outputs": [],
   "source": []
  },
  {
   "cell_type": "markdown",
   "id": "28084f0a-4baf-4f94-8d06-6992d7551d81",
   "metadata": {},
   "source": [
    "## Delete(삭제)"
   ]
  },
  {
   "cell_type": "code",
   "execution_count": null,
   "id": "37216a6d-7192-438a-99f3-c1de8e2a0728",
   "metadata": {},
   "outputs": [],
   "source": []
  },
  {
   "cell_type": "code",
   "execution_count": null,
   "id": "c82b1400-e241-4e83-bdb6-c3fb0157306f",
   "metadata": {},
   "outputs": [],
   "source": []
  },
  {
   "cell_type": "markdown",
   "id": "3350ace1-7997-4e5b-a6b1-52a5741a41ce",
   "metadata": {},
   "source": [
    "## Query(조회)\n",
    "- `similarity_search(query, k, filter)`\n",
    "  - 저장되 있는 item들 중 질의와 가장 유사한 것 k개를 찾는다. \n",
    "  - 찾은 결과를 filter 조건으로 필터링 한다. filter 조건은 meta-data의 정보를 이용한다.\n",
    "  - 질의어(query)는 text(자연어)로 입력한다.\n",
    "- `similarity_search_with_score(query, k, filter)`\n",
    "  - 저장되 있는 item들 중 질의와 가장 유사한 것 k개를 찾아 유사도 점수와 함께 반환\n",
    "- `similarity_search_by_vector(embedding, k, filter)`\n",
    "  - Embedding Vector 를 질의로 입력한다. (질의(query)를 문장이 아니라 embedding vector로 입력.) "
   ]
  },
  {
   "cell_type": "code",
   "execution_count": null,
   "id": "dc28dff1-8241-4200-84ad-a3994595e9e6",
   "metadata": {},
   "outputs": [],
   "source": []
  },
  {
   "cell_type": "code",
   "execution_count": null,
   "id": "73dce0f2-59e3-4c69-acac-82d606b9fe28",
   "metadata": {},
   "outputs": [],
   "source": []
  },
  {
   "cell_type": "code",
   "execution_count": null,
   "id": "a9cdf1d1-ea47-468d-8eef-d6681f7533f3",
   "metadata": {},
   "outputs": [],
   "source": []
  }
 ],
 "metadata": {
  "kernelspec": {
   "display_name": "Python 3 (ipykernel)",
   "language": "python",
   "name": "python3"
  },
  "language_info": {
   "codemirror_mode": {
    "name": "ipython",
    "version": 3
   },
   "file_extension": ".py",
   "mimetype": "text/x-python",
   "name": "python",
   "nbconvert_exporter": "python",
   "pygments_lexer": "ipython3",
   "version": "3.12.2"
  }
 },
 "nbformat": 4,
 "nbformat_minor": 5
}
