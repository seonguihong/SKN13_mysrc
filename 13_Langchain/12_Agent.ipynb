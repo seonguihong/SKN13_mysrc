{
 "cells": [
  {
   "cell_type": "markdown",
   "metadata": {},
   "source": [
    "# Agent 개요\n",
    "\n",
    "- Agent 대형 언어 모델(LLM)과 다양한 도구(Tool)를 결합하여 복잡한 작업을 처리할 수 있도록 설계된 사용자 요청 처리 인공지능 시스템이다.\n",
    "    - Agent는 주어진 목표를 달성하기 위해 환경(toolkit)과 상호작용하며 의사 결정을 내리고 행동을 취하는 자율적인 개체이다.\n",
    "    - Agent의 자율적인 의사 결정은 LLM 이 담당하여 사람의 개입이 최소화 된다.\n",
    "\n",
    "## Agent의 주요 특징\n",
    "- **자율성**: 사전 정의된 규칙 없이도 스스로 결정을 내리고 행동할 수 있다.\n",
    "- **목표 지향성**: 특정 목표나 작업을 달성하기 위해 설계되어 있다.\n",
    "- **도구 활용**: 다양한 도구나 API를 활용하여 작업을 수행한다.\n",
    "\n",
    "## Agent 기본 동작 원리\n",
    "\n",
    "![agent_concept](figures/agent_concept.png)\n",
    "\n",
    "### ReAct\n",
    "- Reasoning and Acting의 약자로, 에이전트가 문제를 해결할 때 추론과 행동을 결합하는 방식이다.\n",
    "\n",
    "#### 동작 단계\n",
    "- **사용자 입력 수신**: \n",
    "    - 에이전트는 사용자가 입력한 질문이나 명령을 받는다.\n",
    "- **추론(Reasoning)**\n",
    "    - 입력된 내용을 분석하여 문제를 이해하고, 해결 방안을 계획합니다. \n",
    "- **행동 결정 및 도구 실행(Action)**: \n",
    "    - 계획에 따라 어떤 도구를 사용할지 결정하고 그 도구를 호출하여 작업을 수행한다.\n",
    "- **결과 평가 및 추가 행동 결정**: \n",
    "    - 도구 실행 결과를 바탕으로 추가로 도구를 사용할지, 아니면 최종 답변을 생성할지를 결정한다.\n",
    "    - 추가로 도구를 사용하기로 결정한 경우 도구를 실행한다.\n",
    "- **최종 답변 반환**: \n",
    "    - 최종 결과를 사용자에게 제공한다."
   ]
  },
  {
   "cell_type": "markdown",
   "metadata": {},
   "source": [
    "# TOOL\n",
    "- **Tool은 하나의 기능을 처리하는 함수이다.**\n",
    "\n",
    "## Tool Calling 개요\n",
    "- LLM이 외부 도구나 API를 활용하여 작업을 수행할 수 있게 하는 기능이다.\n",
    "    1. LLM 이 사용할 수 있는 도구들을 binding한다.\n",
    "    2. 사용자로 부터 질의가 들어오면 그 질의를 처리하기 위해 tool을 호출 하는 것이 필요하다면 LLM은 어떤 tool을 어떻게 호출할지 응답한다.\n",
    "    3.  사용자는 응답에 맞는 tool을 호출하고 그 처리결과를 취합해 질의와 함께 LLM에게 요청한다.\n",
    "\t- TOOL Calling 예\n",
    "        - LLM이 수학 계산을 수행해야 할 때, 직접 계산하는 대신 미리 정의된 '계산' 도구를 호출하여 정확한 결과를 얻을 수 있다.\n",
    "    \t- LLM에 최신 정보를 요청하는 질문이 들어왔을 때 '검색' 도구나 'Database 연동' 도구를 사용해 최신 뉴스를 검색하거나, 특정 데이터베이스에서 정보를 조회하는 등의 작업을 수행할 수 있다.\n",
    "- **LLM은 도구를 이용해 자체 지식의 한계를 넘어서는 정보를 제공할 수 있습니다.**\n",
    "- Tool calling은 OpenAI, Anthropic 등 여러 LLM 서비스가 지원한다.\n",
    "  - Tool Calling을 지원하는 LLM 모델만 사용할 수있다.\n",
    "- LangChain은 다양한 모델들의 도구 호출 방식을 표준화하여 일관된 인터페이스로 제공한다. 이를 통해 개발자들은 다양한 모델과 도구들을 쉽게 통합할 수있다.\n",
    "- Tool Calling Concept: https://python.langchain.com/docs/concepts/tool_calling/\n",
    "- Langchain 지원 tools (Builtin Tool)\n",
    "    -  https://python.langchain.com/docs/integrations/tools/#search\n",
    "- **Agent:**\n",
    "\t- LLM 모델이 목표한 결과를 얻기 위해 적절한 도구를 선택하고, 이를 활용하여 작업을 수행하는 시스템을 **Agent**라고 한다."
   ]
  },
  {
   "cell_type": "markdown",
   "metadata": {},
   "source": [
    "# 랭체인 내장 도구(tools) 사용\n",
    "- Langchain은 다양한 도구들을 구현해서 제공하고 있다. 이것들을 builtin tool이라고 한다. \n",
    "  - [Langchain 지원 Built tools](https://python.langchain.com/docs/integrations/tools/)\n",
    "- 그 외에 필요한 도구들을 직접 구현할 수있는 방법도 제공한다.\n",
    "- Tavily 웹 검색 도구 사용해 Tool calling을 이해한다.\n",
    "\n",
    "\n",
    "## Tavily\n",
    "- LLM을 위한 웹 검색 API.\n",
    "- https://tavily.com/\n",
    "-  LLM과 RAG 시스템에 최적화된 검색 엔진.\n",
    "   -  기존의 일반 검색 엔진들과 달리, Tavily는 AI 애플리케이션의 요구사항에 맞춰 설계되었다.\n",
    "   -  Tavily는 검색 결과에서 검색 query와 관련 콘텐츠를 추출하여 제공한다.\n",
    "   -  월 1000회 무료 사용 가능.\n",
    "### Tavily API Key 받기\n",
    "- 로그인 한다.\n",
    "- Overview 화면에서 API Key 생성  \n",
    "- **API Keys \\[+\\] 클릭**\n",
    "\n",
    "![apikey1](figures/travily_apikey1.png)\n",
    "\n",
    "- **Key Name을 입력하고 생성**\n",
    "\n",
    "![apikey1](figures/travily_apikey2.png)\n",
    "\n",
    "- **API Key를 복사**\n",
    "\n",
    "![apikey1](figures/travily_apikey3.png)\n",
    "\n",
    "- 환경변수에 등록한다.\n",
    "    - 변수이름: \"TAVILY_API_KEY\""
   ]
  },
  {
   "cell_type": "markdown",
   "metadata": {},
   "source": [
    "## TavilySearch\n",
    "- Langchain에서 제공하는 tool로 Tavily 의 검색 엔진 API를 사용해 검색을 수행한다.\n",
    "- 설치\n",
    "  - `pip install langchain-tavily`\n",
    "- https://python.langchain.com/docs/integrations/tools/tavily_search/"
   ]
  },
  {
   "cell_type": "markdown",
   "metadata": {},
   "source": [
    "## LLM tool callings\n",
    "\n",
    "### 작동 원리\n",
    "\n",
    "![toolcalling_concept](figures/toolcalling_concept.png)\n",
    "1. Tool 생성\n",
    "2. 생성한 Tool을 tool calling을 지원하는 LLM 모델에 연결(binding)\n",
    "   - LLM 이 사용할 수있는 tool들을 등록(bind) 한다.\n",
    "    - **`Model.bind([tool_1, tool_2, ...]): RunnableBinding`**\n",
    "    - Model에 tool을 bind 하면 `Runnable` 타입의 `RunnableBinding` 객체가 반환된다.\n",
    "3. 질의가 들어오면 모델(LLM + tool) 은 tool calling 정보(어떤 툴을 어떤 query로 호출할지 schema 에 맞게 만든 정보)를 응답.\n",
    "    - 질의에 대해 tool 요청이 **필요하다고** 결정한 경우 tool들 중 어떤 tool을 어떤 query로 호출해야 하는지를 응답한다.\n",
    "    - 질의에 대해 tool 요청이 **필요 없다고** 결정한 경우는 LLM API를 호출한다.(모델이 직접 응답)\n",
    "5. 3에서 응답한 tool calling 정보를 이용해 tool 호출"
   ]
  },
  {
   "cell_type": "markdown",
   "metadata": {},
   "source": [
    "### LLM Model에 tool binding\n",
    "- `LLM.bind_tools(tools=[tool_1, tool_2, ...])`"
   ]
  },
  {
   "cell_type": "code",
   "execution_count": 3,
   "metadata": {},
   "outputs": [
    {
     "data": {
      "text/plain": [
       "True"
      ]
     },
     "execution_count": 3,
     "metadata": {},
     "output_type": "execute_result"
    }
   ],
   "source": [
    "from dotenv import load_dotenv\n",
    "from langchain_tavily import TavilySearch\n",
    "\n",
    "load_dotenv()"
   ]
  },
  {
   "cell_type": "code",
   "execution_count": null,
   "metadata": {},
   "outputs": [],
   "source": [
    "tavily_search = TavilySearch(\n",
    "    max_results = 3, # 최대 검색 개수.\n",
    "    include_images = True ,# 검색한 페이지의 이미지들의 URL도 반환.\n",
    "    time_range=\"month\" # day, month, year ...\n",
    ")\n",
    "\n",
    "query = \"2025~2026 시즌 손흥민 이적설.\"\n",
    "resp = tavily_search.invoke(query)"
   ]
  },
  {
   "cell_type": "code",
   "execution_count": 5,
   "metadata": {},
   "outputs": [
    {
     "data": {
      "text/plain": [
       "{'query': '2025~2026 시즌 손흥민 이적설.',\n",
       " 'follow_up_questions': None,\n",
       " 'answer': None,\n",
       " 'images': [],\n",
       " 'results': [{'title': \"손흥민 이적설 데드라인 나왔다…'아시아 투어' 이후 결정 :: 공감언론 뉴시스\",\n",
       "   'url': 'https://www.newsis.com/view/NISX20250618_0003217259',\n",
       "   'content': '손흥민 이적설 데드라인 나왔다…\\'아시아 투어\\' 이후 결정 ... \\'bbc\\'는 \"신뢰할 만한 소식통에 따르면 손흥민은 2025~2026시즌 전 팀을 떠날 가능성이',\n",
       "   'score': 0.86080295,\n",
       "   'raw_content': None},\n",
       "  {'title': \"'아직 공식 오퍼는 없는데'…현지에서 계속 제기되는 손흥민의 이적설｜스포츠동아\",\n",
       "   'url': 'https://sports.donga.com/sports/article/all/20250618/131828228/1',\n",
       "   'content': '영국 현지에서 축구국가대표팀 주장 손흥민(33·토트넘)의 거취를 다룬 보도가 잇따르고 있다. ... 의 2025~2026시즌 계획에 없다면 이적이 일사천리로',\n",
       "   'score': 0.8312667,\n",
       "   'raw_content': None},\n",
       "  {'title': '손흥민 이적설 2025 최신 뉴스 - 사우디행 유력? 토트넘과 결별 수순?',\n",
       "   'url': 'https://socando.tistory.com/entry/손흥민-이적설-2025-최신-뉴스',\n",
       "   'content': '2025년 여름 이적시장을 앞두고 손흥민(33, 토트넘) 의 거취가 다시 한번 뜨거운 이슈로 떠올랐습니다. 사우디아라비아 구단들의 지속적인 관심, 토트넘의 재정 악화, 유니폼 모델 제외 등의 정황이 겹치며 이적설이 급부상하고 있습니다.토트넘과의 계약 상황손흥민은 2021년 재계약을 통해 2025년까지',\n",
       "   'score': 0.7811474,\n",
       "   'raw_content': None}],\n",
       " 'response_time': 3.81}"
      ]
     },
     "execution_count": 5,
     "metadata": {},
     "output_type": "execute_result"
    }
   ],
   "source": [
    "resp"
   ]
  },
  {
   "cell_type": "code",
   "execution_count": 6,
   "metadata": {},
   "outputs": [
    {
     "data": {
      "text/plain": [
       "langchain_tavily.tavily_search.TavilySearch"
      ]
     },
     "execution_count": 6,
     "metadata": {},
     "output_type": "execute_result"
    }
   ],
   "source": [
    "type(tavily_search)"
   ]
  },
  {
   "cell_type": "code",
   "execution_count": 8,
   "metadata": {},
   "outputs": [
    {
     "name": "stdout",
     "output_type": "stream",
     "text": [
      "tool의 이름 : tavily_search\n"
     ]
    }
   ],
   "source": [
    "# 툴 정보 : \n",
    "print(\"tool의 이름 :\", tavily_search.name)"
   ]
  },
  {
   "cell_type": "code",
   "execution_count": null,
   "metadata": {},
   "outputs": [
    {
     "name": "stdout",
     "output_type": "stream",
     "text": [
      "tool의 스키마 : \n"
     ]
    },
    {
     "data": {
      "text/plain": [
       "{'description': 'Input for [TavilySearch]',\n",
       " 'properties': {'query': {'description': 'Search query to look up',\n",
       "   'title': 'Query',\n",
       "   'type': 'string'},\n",
       "  'include_domains': {'anyOf': [{'items': {'type': 'string'}, 'type': 'array'},\n",
       "    {'type': 'null'}],\n",
       "   'default': [],\n",
       "   'description': 'A list of domains to restrict search results to.\\n\\n        Use this parameter when:\\n        1. The user explicitly requests information from specific websites (e.g., \"Find climate data from nasa.gov\")\\n        2. The user mentions an organization or company without specifying the domain (e.g., \"Find information about iPhones from Apple\")\\n\\n        In both cases, you should determine the appropriate domains (e.g., [\"nasa.gov\"] or [\"apple.com\"]) and set this parameter.\\n\\n        Results will ONLY come from the specified domains - no other sources will be included.\\n        Default is None (no domain restriction).\\n        ',\n",
       "   'title': 'Include Domains'},\n",
       "  'exclude_domains': {'anyOf': [{'items': {'type': 'string'}, 'type': 'array'},\n",
       "    {'type': 'null'}],\n",
       "   'default': [],\n",
       "   'description': 'A list of domains to exclude from search results.\\n\\n        Use this parameter when:\\n        1. The user explicitly requests to avoid certain websites (e.g., \"Find information about climate change but not from twitter.com\")\\n        2. The user mentions not wanting results from specific organizations without naming the domain (e.g., \"Find phone reviews but nothing from Apple\")\\n\\n        In both cases, you should determine the appropriate domains to exclude (e.g., [\"twitter.com\"] or [\"apple.com\"]) and set this parameter.\\n\\n        Results will filter out all content from the specified domains.\\n        Default is None (no domain exclusion).\\n        ',\n",
       "   'title': 'Exclude Domains'},\n",
       "  'search_depth': {'anyOf': [{'enum': ['basic', 'advanced'], 'type': 'string'},\n",
       "    {'type': 'null'}],\n",
       "   'default': 'basic',\n",
       "   'description': 'Controls search thoroughness and result comprehensiveness.\\n    \\n        Use \"basic\" for simple queries requiring quick, straightforward answers.\\n        \\n        Use \"advanced\" (default) for complex queries, specialized topics, \\n        rare information, or when in-depth analysis is needed.\\n        ',\n",
       "   'title': 'Search Depth'},\n",
       "  'include_images': {'anyOf': [{'type': 'boolean'}, {'type': 'null'}],\n",
       "   'default': False,\n",
       "   'description': 'Determines if the search returns relevant images along with text results.\\n   \\n        Set to True when the user explicitly requests visuals or when images would \\n        significantly enhance understanding (e.g., \"Show me what black holes look like,\" \\n        \"Find pictures of Renaissance art\").\\n        \\n        Leave as False (default) for most informational queries where text is sufficient.\\n        ',\n",
       "   'title': 'Include Images'},\n",
       "  'time_range': {'anyOf': [{'enum': ['day', 'week', 'month', 'year'],\n",
       "     'type': 'string'},\n",
       "    {'type': 'null'}],\n",
       "   'default': None,\n",
       "   'description': 'Limits results to content published within a specific timeframe.\\n        \\n        ONLY set this when the user explicitly mentions a time period \\n        (e.g., \"latest AI news,\" \"articles from last week\").\\n        \\n        For less popular or niche topics, use broader time ranges \\n        (\"month\" or \"year\") to ensure sufficient relevant results.\\n   \\n        Options: \"day\" (24h), \"week\" (7d), \"month\" (30d), \"year\" (365d).\\n        \\n        Default is None.\\n        ',\n",
       "   'title': 'Time Range'},\n",
       "  'topic': {'anyOf': [{'enum': ['general', 'news', 'finance'],\n",
       "     'type': 'string'},\n",
       "    {'type': 'null'}],\n",
       "   'default': 'general',\n",
       "   'description': 'Specifies search category for optimized results.\\n   \\n        Use \"general\" (default) for most queries, INCLUDING those with terms like \\n        \"latest,\" \"newest,\" or \"recent\" when referring to general information.\\n\\n        Use \"finance\" for markets, investments, economic data, or financial news.\\n\\n        Use \"news\" ONLY for politics, sports, or major current events covered by \\n        mainstream media - NOT simply because a query asks for \"new\" information.\\n        ',\n",
       "   'title': 'Topic'}},\n",
       " 'required': ['query'],\n",
       " 'title': 'TavilySearchInput',\n",
       " 'type': 'object'}"
      ]
     },
     "execution_count": 9,
     "metadata": {},
     "output_type": "execute_result"
    }
   ],
   "source": [
    "print(\"tool의 스키마 : \") # tool의 구조에 대한 설계도\n",
    "tavily_search.args_schema.model_json_schema()\n",
    "# \"property\" -> 툴을 호출할때 전달해야하는 값들."
   ]
  },
  {
   "cell_type": "code",
   "execution_count": 10,
   "metadata": {},
   "outputs": [
    {
     "data": {
      "text/plain": [
       "(langchain_openai.chat_models.base.ChatOpenAI,\n",
       " langchain_core.runnables.base.RunnableBinding)"
      ]
     },
     "execution_count": 10,
     "metadata": {},
     "output_type": "execute_result"
    }
   ],
   "source": [
    "from langchain_openai import ChatOpenAI\n",
    "\n",
    "model = ChatOpenAI(model=\"gpt-4.1-mini\")\n",
    "# model에 tool들을 binding.\n",
    "\n",
    "tool_model = model.bind_tools(tools=[tavily_search])\n",
    "type(model), type(tool_model)"
   ]
  },
  {
   "cell_type": "code",
   "execution_count": 11,
   "metadata": {},
   "outputs": [],
   "source": [
    "resp1 = tool_model.invoke(\"안녕하세요\")"
   ]
  },
  {
   "cell_type": "code",
   "execution_count": null,
   "metadata": {},
   "outputs": [
    {
     "name": "stdout",
     "output_type": "stream",
     "text": [
      "AI 응답 content : 안녕하세요! 무엇을 도와드릴까요?\n",
      "AI tool 호출 정보 : []\n"
     ]
    }
   ],
   "source": [
    "print(\"AI 응답 content :\", resp1.content)\n",
    "print(\"AI tool 호출 정보 :\", resp1.tool_calls)\n",
    "# RunnableBinding(model+tool들)의 응답에는 tool을 호출하는 방법을 리스트에 담아서 반환. (tool_calls)"
   ]
  },
  {
   "cell_type": "code",
   "execution_count": 18,
   "metadata": {},
   "outputs": [],
   "source": [
    "# 툴 호출 (tool calling)이 필요한 요청\n",
    "query = \"2025~2026 손흥민, 김민재, 이강인 이적설에 대해 정리해줘.\"\n",
    "resp2 = tool_model.invoke(query)"
   ]
  },
  {
   "cell_type": "code",
   "execution_count": 19,
   "metadata": {},
   "outputs": [
    {
     "name": "stdout",
     "output_type": "stream",
     "text": [
      "\n",
      "------------------------------------------------------------------------------------------\n"
     ]
    },
    {
     "data": {
      "text/plain": [
       "[{'name': 'tavily_search',\n",
       "  'args': {'query': '손흥민 이적설 2025 2026',\n",
       "   'time_range': 'year',\n",
       "   'search_depth': 'advanced'},\n",
       "  'id': 'call_qi6fViFL8edw2mzkHwWZJdAM',\n",
       "  'type': 'tool_call'},\n",
       " {'name': 'tavily_search',\n",
       "  'args': {'query': '김민재 이적설 2025 2026',\n",
       "   'time_range': 'year',\n",
       "   'search_depth': 'advanced'},\n",
       "  'id': 'call_yYrpkbTKSKjGUEDvPxAl4YhD',\n",
       "  'type': 'tool_call'},\n",
       " {'name': 'tavily_search',\n",
       "  'args': {'query': '이강인 이적설 2025 2026',\n",
       "   'time_range': 'year',\n",
       "   'search_depth': 'advanced'},\n",
       "  'id': 'call_w9K4YRSWhtNESwnaVvohTGQT',\n",
       "  'type': 'tool_call'}]"
      ]
     },
     "execution_count": 19,
     "metadata": {},
     "output_type": "execute_result"
    }
   ],
   "source": [
    "print(resp2.content)\n",
    "print(\"---------\"*10)\n",
    "resp2.tool_calls"
   ]
  },
  {
   "cell_type": "markdown",
   "metadata": {},
   "source": [
    "## tool_calls 를 이용해 Tool 호출\n",
    "- LLM 모델이 tool 요청을 결정한 경우 어떤 tool을 어떻게 호출할 지 tool_calls를 반환한다.\n",
    "- tool_calls를 이용해 Tool을 호출한다.\n",
    "\n",
    "### 방법\n",
    "1. `tool_calls` 의 `args` 값을 전달.\n",
    "   - `args`는 tool을 호출(invoke)할 때 전달할 정보를 dictionary로 제공한다.\n",
    "   - `tool.invoke(result.tool_calls[0]['args'])`\n",
    "   - **반환타입**: 각 tool의 반환타입\n",
    "2. tool_calls 정보를 넣어 호출\n",
    "   - `tool.invoke(result.tool_calls[0])`\n",
    "   - **반환타입**: `ToolMessage`\n",
    "     - Tool의 처리결과를 담는 Message Type 이다."
   ]
  },
  {
   "cell_type": "markdown",
   "metadata": {},
   "source": [
    "#### tool_calls의 args를 이용해 호출"
   ]
  },
  {
   "cell_type": "code",
   "execution_count": 23,
   "metadata": {},
   "outputs": [],
   "source": [
    "resp2.tool_calls[0]['args']\n",
    "search_result = tavily_search.invoke(resp2.tool_calls[0]['args'])"
   ]
  },
  {
   "cell_type": "code",
   "execution_count": 24,
   "metadata": {},
   "outputs": [
    {
     "data": {
      "text/plain": [
       "{'query': '손흥민 이적설 2025 2026',\n",
       " 'follow_up_questions': None,\n",
       " 'answer': None,\n",
       " 'images': [],\n",
       " 'results': [{'url': 'https://sports.donga.com/sports/article/all/20250618/131828228/1',\n",
       "   'title': \"'아직 공식 오퍼는 없는데'…현지에서 계속 제기되는 손흥민의 이적설\",\n",
       "   'content': '이에 ‘BBC’는 손흥민이 이적할 경우, 아시아 투어 이후 팀을 옮길 것으로 내다봤다. 손흥민이 아시아 투어에 불참할 경우, 토트넘이 주최 측과 계약상의 문제가 생길 수 있기 때문이다. 다만 ‘BBC’는 타 팀에서 손흥민을 향해 적정가 이상의 이적료를 제시한다면 아시아 투어 이전에도 이적이 이뤄질 가능성도 있다고 분석했다. 축구통계전문 트란스퍼마르크트에 따르면 손흥민의 몸값은 2000만 유로(약 317억 원)다.\\n\\n일각에선 토트넘의 이적시장 행보가 손흥민의 이적을 염두에 둔 것이라고 분석하기도 한다. 토트넘은 바이에른 뮌헨(독일)에서 임대해 온 공격수 마티스 텔(프랑스)을 최근 완전영입했다. 브렌트퍼드(잉글랜드) 공격수 브라이언 음뵈모(카메룬)의 영입도 계속 추진하고 있다. 아직 손흥민을 향한 다른 팀의 공식 제안은 없었다. 그러나 손흥민이 토마스 프랑크 토트넘 신임감독(덴마크)의 2025~2026시즌 계획에 없다면 이적이 일사천리로 진행될 가능성이 제기됐다. [...] *   **[권재민 기자](https://sports.donga.com/Search?query=jmart220%40donga.com)**\\n*    기사수정 2025-06-18 08:11 입력 2025-06-18 08:11 \\n\\n0\\n\\n![Image 2: 축구국가대표팀 주장 손흥민의 거취를 놓고 영국 현지에서 다양한 보도가 잇따르고 있다. 그가 8월 초 아시아 투어 이후 팀을 떠날 수 있다는 추측이 일고 있다. AP뉴시스](https://dimg.donga.com/wps/SPORTS/IMAGE/2025/06/18/131828293.1.jpg)\\n축구국가대표팀 주장 손흥민의 거취를 놓고 영국 현지에서 다양한 보도가 잇따르고 있다. 그가 8월 초 아시아 투어 이후 팀을 떠날 수 있다는 추측이 일고 있다. AP뉴시스\\n\\n영국 현지에서 축구국가대표팀 주장 손흥민(33·토트넘)의 거취를 다룬 보도가 잇따르고 있다. 그가 8월 초 아시아 투어 이후 팀을 떠날 수 있다는 이야기가 나오고 있다. [...] Published Time: 2025-06-18T08:11:22+09:00\\n\\n‘아직 공식 오퍼는 없는데’…현지에서 계속 제기되는 손흥민의 이적설｜스포츠동아\\n\\n===============\\n\\n[본문바로가기](https://sports.donga.com/sports/article/all/20250618/131828228/1#container)\\n\\n*   [로그인](https://secure.donga.com/membership/login.php?gourl=https%3A%2F%2Fsports.donga.com%2Fsports%2Farticle%2Fall%2F20250618%2F131828228%2F1)\\n*   [동아일보](https://www.donga.com/)\\n\\n[![Image 1: 스포츠동아](https://image.donga.com/sportsdonga/2025/pc/images/logo_sports.png)](https://sports.donga.com/)',\n",
       "   'score': 0.87166095,\n",
       "   'raw_content': None},\n",
       "  {'url': 'https://www.starnewskorea.com/stview.php?no=2025061722115227870',\n",
       "   'title': '\\'충격\\' 英 BBC \"손흥민 2달 안에 토트넘 떠날 가능성... 한국 투어는 참가 ...',\n",
       "   'content': '이 계약에 따라 손흥민과 토트넘의 계약은 2025~2026시즌을 끝으로 만료된다. 사실상 올여름 이적시장이 손흥민을 현금화할 마지막 기회다.',\n",
       "   'score': 0.8405867,\n",
       "   'raw_content': None},\n",
       "  {'url': 'https://www.msn.com/ko-kr/sports/other/%EC%86%90%ED%9D%A5%EB%AF%BC-%EC%95%88-%EB%96%A0%EB%82%98%EA%B3%A0-%EA%B2%B0%EA%B5%AD-%ED%86%A0%ED%8A%B8%EB%84%98%EC%84%9C-%EB%8D%94-%EB%9B%B4%EB%8B%A4-here-we-go-%EA%B8%B0%EC%9E%90%EC%9D%98-%ED%99%95%EC%8B%A0-son-2026%EB%85%84-%EC%97%AC%EB%A6%84%EA%B9%8C%EC%A7%80-%ED%86%A0%ED%8A%B8%EB%84%98%EA%B3%BC-%ED%95%A8%EA%BB%98/ar-AA1wr6Oq',\n",
       "   'title': \"Here we go' 기자의 확신 “SON, 2026년 여름까지 토트넘과 함께” - MSN\",\n",
       "   'content': \"영국 '기브미스포츠'는 23일 “토트넘은 손흥민과 계약을 2026년까지 연장하는 옵션을 행사할 것으로 보인다. 손흥민은 2025년 여름 계약이 끝나면 토트넘을 떠날 예정\",\n",
       "   'score': 0.826278,\n",
       "   'raw_content': None}],\n",
       " 'response_time': 2.38}"
      ]
     },
     "execution_count": 24,
     "metadata": {},
     "output_type": "execute_result"
    }
   ],
   "source": [
    "type(search_result)\n",
    "search_result"
   ]
  },
  {
   "cell_type": "markdown",
   "metadata": {},
   "source": [
    "#### tool_call 정보를 넣어 Tool 호출"
   ]
  },
  {
   "cell_type": "code",
   "execution_count": 26,
   "metadata": {},
   "outputs": [],
   "source": [
    "resp2.tool_calls[0]\n",
    "search_result2 = tavily_search.invoke(resp2.tool_calls[0])"
   ]
  },
  {
   "cell_type": "code",
   "execution_count": null,
   "metadata": {},
   "outputs": [
    {
     "data": {
      "text/plain": [
       "'{\"query\": \"손흥민 이적설 2025 2026\", \"follow_up_questions\": null, \"answer\": null, \"images\": [], \"results\": [{\"url\": \"https://sports.donga.com/sports/article/all/20250618/131828228/1\", \"title\": \"\\'아직 공식 오퍼는 없는데\\'…현지에서 계속 제기되는 손흥민의 이적설\", \"content\": \"이에 ‘BBC’는 손흥민이 이적할 경우, 아시아 투어 이후 팀을 옮길 것으로 내다봤다. 손흥민이 아시아 투어에 불참할 경우, 토트넘이 주최 측과 계약상의 문제가 생길 수 있기 때문이다. 다만 ‘BBC’는 타 팀에서 손흥민을 향해 적정가 이상의 이적료를 제시한다면 아시아 투어 이전에도 이적이 이뤄질 가능성도 있다고 분석했다. 축구통계전문 트란스퍼마르크트에 따르면 손흥민의 몸값은 2000만 유로(약 317억 원)다.\\\\n\\\\n일각에선 토트넘의 이적시장 행보가 손흥민의 이적을 염두에 둔 것이라고 분석하기도 한다. 토트넘은 바이에른 뮌헨(독일)에서 임대해 온 공격수 마티스 텔(프랑스)을 최근 완전영입했다. 브렌트퍼드(잉글랜드) 공격수 브라이언 음뵈모(카메룬)의 영입도 계속 추진하고 있다. 아직 손흥민을 향한 다른 팀의 공식 제안은 없었다. 그러나 손흥민이 토마스 프랑크 토트넘 신임감독(덴마크)의 2025~2026시즌 계획에 없다면 이적이 일사천리로 진행될 가능성이 제기됐다. [...] *   **[권재민 기자](https://sports.donga.com/Search?query=jmart220%40donga.com)**\\\\n*    기사수정 2025-06-18 08:11 입력 2025-06-18 08:11 \\\\n\\\\n0\\\\n\\\\n![Image 2: 축구국가대표팀 주장 손흥민의 거취를 놓고 영국 현지에서 다양한 보도가 잇따르고 있다. 그가 8월 초 아시아 투어 이후 팀을 떠날 수 있다는 추측이 일고 있다. AP뉴시스](https://dimg.donga.com/wps/SPORTS/IMAGE/2025/06/18/131828293.1.jpg)\\\\n축구국가대표팀 주장 손흥민의 거취를 놓고 영국 현지에서 다양한 보도가 잇따르고 있다. 그가 8월 초 아시아 투어 이후 팀을 떠날 수 있다는 추측이 일고 있다. AP뉴시스\\\\n\\\\n영국 현지에서 축구국가대표팀 주장 손흥민(33·토트넘)의 거취를 다룬 보도가 잇따르고 있다. 그가 8월 초 아시아 투어 이후 팀을 떠날 수 있다는 이야기가 나오고 있다. [...] Published Time: 2025-06-18T08:11:22+09:00\\\\n\\\\n‘아직 공식 오퍼는 없는데’…현지에서 계속 제기되는 손흥민의 이적설｜스포츠동아\\\\n\\\\n===============\\\\n\\\\n[본문바로가기](https://sports.donga.com/sports/article/all/20250618/131828228/1#container)\\\\n\\\\n*   [로그인](https://secure.donga.com/membership/login.php?gourl=https%3A%2F%2Fsports.donga.com%2Fsports%2Farticle%2Fall%2F20250618%2F131828228%2F1)\\\\n*   [동아일보](https://www.donga.com/)\\\\n\\\\n[![Image 1: 스포츠동아](https://image.donga.com/sportsdonga/2025/pc/images/logo_sports.png)](https://sports.donga.com/)\", \"score\": 0.87166095, \"raw_content\": null}, {\"url\": \"https://www.starnewskorea.com/stview.php?no=2025061722115227870\", \"title\": \"\\'충격\\' 英 BBC \\\\\"손흥민 2달 안에 토트넘 떠날 가능성... 한국 투어는 참가 ...\", \"content\": \"이 계약에 따라 손흥민과 토트넘의 계약은 2025~2026시즌을 끝으로 만료된다. 사실상 올여름 이적시장이 손흥민을 현금화할 마지막 기회다.\", \"score\": 0.8405867, \"raw_content\": null}, {\"url\": \"https://www.msn.com/ko-kr/sports/other/%EC%86%90%ED%9D%A5%EB%AF%BC-%EC%95%88-%EB%96%A0%EB%82%98%EA%B3%A0-%EA%B2%B0%EA%B5%AD-%ED%86%A0%ED%8A%B8%EB%84%98%EC%84%9C-%EB%8D%94-%EB%9B%B4%EB%8B%A4-here-we-go-%EA%B8%B0%EC%9E%90%EC%9D%98-%ED%99%95%EC%8B%A0-son-2026%EB%85%84-%EC%97%AC%EB%A6%84%EA%B9%8C%EC%A7%80-%ED%86%A0%ED%8A%B8%EB%84%98%EA%B3%BC-%ED%95%A8%EA%BB%98/ar-AA1wr6Oq\", \"title\": \"Here we go\\' 기자의 확신 “SON, 2026년 여름까지 토트넘과 함께” - MSN\", \"content\": \"영국 \\'기브미스포츠\\'는 23일 “토트넘은 손흥민과 계약을 2026년까지 연장하는 옵션을 행사할 것으로 보인다. 손흥민은 2025년 여름 계약이 끝나면 토트넘을 떠날 예정\", \"score\": 0.826278, \"raw_content\": null}], \"response_time\": 1.33}'"
      ]
     },
     "execution_count": 30,
     "metadata": {},
     "output_type": "execute_result"
    }
   ],
   "source": [
    "search_result2.content\n",
    "# tool이 리턴한 값을 str로 변환해서 content속성으로 제공. (dict로 사용하고 싶으면 재 변환 필요.)"
   ]
  },
  {
   "cell_type": "code",
   "execution_count": 29,
   "metadata": {},
   "outputs": [
    {
     "data": {
      "text/plain": [
       "str"
      ]
     },
     "execution_count": 29,
     "metadata": {},
     "output_type": "execute_result"
    }
   ],
   "source": [
    "type(search_result2.content)"
   ]
  },
  {
   "cell_type": "code",
   "execution_count": null,
   "metadata": {},
   "outputs": [
    {
     "data": {
      "text/plain": [
       "{'content': '{\"query\": \"손흥민 이적설 2025 2026\", \"follow_up_questions\": null, \"answer\": null, \"images\": [], \"results\": [{\"url\": \"https://sports.donga.com/sports/article/all/20250618/131828228/1\", \"title\": \"\\'아직 공식 오퍼는 없는데\\'…현지에서 계속 제기되는 손흥민의 이적설\", \"content\": \"이에 ‘BBC’는 손흥민이 이적할 경우, 아시아 투어 이후 팀을 옮길 것으로 내다봤다. 손흥민이 아시아 투어에 불참할 경우, 토트넘이 주최 측과 계약상의 문제가 생길 수 있기 때문이다. 다만 ‘BBC’는 타 팀에서 손흥민을 향해 적정가 이상의 이적료를 제시한다면 아시아 투어 이전에도 이적이 이뤄질 가능성도 있다고 분석했다. 축구통계전문 트란스퍼마르크트에 따르면 손흥민의 몸값은 2000만 유로(약 317억 원)다.\\\\n\\\\n일각에선 토트넘의 이적시장 행보가 손흥민의 이적을 염두에 둔 것이라고 분석하기도 한다. 토트넘은 바이에른 뮌헨(독일)에서 임대해 온 공격수 마티스 텔(프랑스)을 최근 완전영입했다. 브렌트퍼드(잉글랜드) 공격수 브라이언 음뵈모(카메룬)의 영입도 계속 추진하고 있다. 아직 손흥민을 향한 다른 팀의 공식 제안은 없었다. 그러나 손흥민이 토마스 프랑크 토트넘 신임감독(덴마크)의 2025~2026시즌 계획에 없다면 이적이 일사천리로 진행될 가능성이 제기됐다. [...] *   **[권재민 기자](https://sports.donga.com/Search?query=jmart220%40donga.com)**\\\\n*    기사수정 2025-06-18 08:11 입력 2025-06-18 08:11 \\\\n\\\\n0\\\\n\\\\n![Image 2: 축구국가대표팀 주장 손흥민의 거취를 놓고 영국 현지에서 다양한 보도가 잇따르고 있다. 그가 8월 초 아시아 투어 이후 팀을 떠날 수 있다는 추측이 일고 있다. AP뉴시스](https://dimg.donga.com/wps/SPORTS/IMAGE/2025/06/18/131828293.1.jpg)\\\\n축구국가대표팀 주장 손흥민의 거취를 놓고 영국 현지에서 다양한 보도가 잇따르고 있다. 그가 8월 초 아시아 투어 이후 팀을 떠날 수 있다는 추측이 일고 있다. AP뉴시스\\\\n\\\\n영국 현지에서 축구국가대표팀 주장 손흥민(33·토트넘)의 거취를 다룬 보도가 잇따르고 있다. 그가 8월 초 아시아 투어 이후 팀을 떠날 수 있다는 이야기가 나오고 있다. [...] Published Time: 2025-06-18T08:11:22+09:00\\\\n\\\\n‘아직 공식 오퍼는 없는데’…현지에서 계속 제기되는 손흥민의 이적설｜스포츠동아\\\\n\\\\n===============\\\\n\\\\n[본문바로가기](https://sports.donga.com/sports/article/all/20250618/131828228/1#container)\\\\n\\\\n*   [로그인](https://secure.donga.com/membership/login.php?gourl=https%3A%2F%2Fsports.donga.com%2Fsports%2Farticle%2Fall%2F20250618%2F131828228%2F1)\\\\n*   [동아일보](https://www.donga.com/)\\\\n\\\\n[![Image 1: 스포츠동아](https://image.donga.com/sportsdonga/2025/pc/images/logo_sports.png)](https://sports.donga.com/)\", \"score\": 0.87166095, \"raw_content\": null}, {\"url\": \"https://www.starnewskorea.com/stview.php?no=2025061722115227870\", \"title\": \"\\'충격\\' 英 BBC \\\\\"손흥민 2달 안에 토트넘 떠날 가능성... 한국 투어는 참가 ...\", \"content\": \"이 계약에 따라 손흥민과 토트넘의 계약은 2025~2026시즌을 끝으로 만료된다. 사실상 올여름 이적시장이 손흥민을 현금화할 마지막 기회다.\", \"score\": 0.8405867, \"raw_content\": null}, {\"url\": \"https://www.msn.com/ko-kr/sports/other/%EC%86%90%ED%9D%A5%EB%AF%BC-%EC%95%88-%EB%96%A0%EB%82%98%EA%B3%A0-%EA%B2%B0%EA%B5%AD-%ED%86%A0%ED%8A%B8%EB%84%98%EC%84%9C-%EB%8D%94-%EB%9B%B4%EB%8B%A4-here-we-go-%EA%B8%B0%EC%9E%90%EC%9D%98-%ED%99%95%EC%8B%A0-son-2026%EB%85%84-%EC%97%AC%EB%A6%84%EA%B9%8C%EC%A7%80-%ED%86%A0%ED%8A%B8%EB%84%98%EA%B3%BC-%ED%95%A8%EA%BB%98/ar-AA1wr6Oq\", \"title\": \"Here we go\\' 기자의 확신 “SON, 2026년 여름까지 토트넘과 함께” - MSN\", \"content\": \"영국 \\'기브미스포츠\\'는 23일 “토트넘은 손흥민과 계약을 2026년까지 연장하는 옵션을 행사할 것으로 보인다. 손흥민은 2025년 여름 계약이 끝나면 토트넘을 떠날 예정\", \"score\": 0.826278, \"raw_content\": null}], \"response_time\": 1.33}',\n",
       " 'additional_kwargs': {},\n",
       " 'response_metadata': {},\n",
       " 'type': 'tool',\n",
       " 'name': 'tavily_search',\n",
       " 'id': None,\n",
       " 'tool_call_id': 'call_qi6fViFL8edw2mzkHwWZJdAM',\n",
       " 'artifact': None,\n",
       " 'status': 'success'}"
      ]
     },
     "execution_count": 31,
     "metadata": {},
     "output_type": "execute_result"
    }
   ],
   "source": [
    "vars(search_result2) # vars : 객체 -> dict로 변환. (instance변수 -> 키, 변수값 -> value)"
   ]
  },
  {
   "cell_type": "markdown",
   "metadata": {},
   "source": [
    "#### tool_call 이 여러개일 경우 \n",
    "- 질의에 대해 tool을 여러번 호출 해야 하는 경우 tool_calling 정보를 여러개 반환할 수 있다.\n",
    "    - 예) 검색할 키워드가 여러개인 경우. \n",
    "- `tool.batch([tool_call1, tool_call2, ..])`"
   ]
  },
  {
   "cell_type": "code",
   "execution_count": 32,
   "metadata": {},
   "outputs": [],
   "source": [
    "# Runnable을 한번에 여러번 호출할 때.\n",
    "# Runnable.batch([전달할값1, 전달할값2, 전달할값3, ...]) : list[결과값1, 결과값2, 결과값3, ... ]\n",
    "\n",
    "resp = model.batch([\"안녕하세요\",\"LLM을 20글자로 설명해줘\", \"손흥민 이적설을 20글자로 설명해줘\" ])"
   ]
  },
  {
   "cell_type": "code",
   "execution_count": 39,
   "metadata": {},
   "outputs": [],
   "source": [
    "search_result3 = tavily_search.batch(resp2.tool_calls)"
   ]
  },
  {
   "cell_type": "code",
   "execution_count": 40,
   "metadata": {},
   "outputs": [
    {
     "data": {
      "text/plain": [
       "[ToolMessage(content='{\"query\": \"손흥민 이적설 2025 2026\", \"follow_up_questions\": null, \"answer\": null, \"images\": [], \"results\": [{\"url\": \"https://sports.donga.com/sports/article/all/20250618/131828228/1\", \"title\": \"\\'아직 공식 오퍼는 없는데\\'…현지에서 계속 제기되는 손흥민의 이적설\", \"content\": \"이에 ‘BBC’는 손흥민이 이적할 경우, 아시아 투어 이후 팀을 옮길 것으로 내다봤다. 손흥민이 아시아 투어에 불참할 경우, 토트넘이 주최 측과 계약상의 문제가 생길 수 있기 때문이다. 다만 ‘BBC’는 타 팀에서 손흥민을 향해 적정가 이상의 이적료를 제시한다면 아시아 투어 이전에도 이적이 이뤄질 가능성도 있다고 분석했다. 축구통계전문 트란스퍼마르크트에 따르면 손흥민의 몸값은 2000만 유로(약 317억 원)다.\\\\n\\\\n일각에선 토트넘의 이적시장 행보가 손흥민의 이적을 염두에 둔 것이라고 분석하기도 한다. 토트넘은 바이에른 뮌헨(독일)에서 임대해 온 공격수 마티스 텔(프랑스)을 최근 완전영입했다. 브렌트퍼드(잉글랜드) 공격수 브라이언 음뵈모(카메룬)의 영입도 계속 추진하고 있다. 아직 손흥민을 향한 다른 팀의 공식 제안은 없었다. 그러나 손흥민이 토마스 프랑크 토트넘 신임감독(덴마크)의 2025~2026시즌 계획에 없다면 이적이 일사천리로 진행될 가능성이 제기됐다. [...] *   **[권재민 기자](https://sports.donga.com/Search?query=jmart220%40donga.com)**\\\\n*    기사수정 2025-06-18 08:11 입력 2025-06-18 08:11 \\\\n\\\\n0\\\\n\\\\n![Image 2: 축구국가대표팀 주장 손흥민의 거취를 놓고 영국 현지에서 다양한 보도가 잇따르고 있다. 그가 8월 초 아시아 투어 이후 팀을 떠날 수 있다는 추측이 일고 있다. AP뉴시스](https://dimg.donga.com/wps/SPORTS/IMAGE/2025/06/18/131828293.1.jpg)\\\\n축구국가대표팀 주장 손흥민의 거취를 놓고 영국 현지에서 다양한 보도가 잇따르고 있다. 그가 8월 초 아시아 투어 이후 팀을 떠날 수 있다는 추측이 일고 있다. AP뉴시스\\\\n\\\\n영국 현지에서 축구국가대표팀 주장 손흥민(33·토트넘)의 거취를 다룬 보도가 잇따르고 있다. 그가 8월 초 아시아 투어 이후 팀을 떠날 수 있다는 이야기가 나오고 있다. [...] Published Time: 2025-06-18T08:11:22+09:00\\\\n\\\\n‘아직 공식 오퍼는 없는데’…현지에서 계속 제기되는 손흥민의 이적설｜스포츠동아\\\\n\\\\n===============\\\\n\\\\n[본문바로가기](https://sports.donga.com/sports/article/all/20250618/131828228/1#container)\\\\n\\\\n*   [로그인](https://secure.donga.com/membership/login.php?gourl=https%3A%2F%2Fsports.donga.com%2Fsports%2Farticle%2Fall%2F20250618%2F131828228%2F1)\\\\n*   [동아일보](https://www.donga.com/)\\\\n\\\\n[![Image 1: 스포츠동아](https://image.donga.com/sportsdonga/2025/pc/images/logo_sports.png)](https://sports.donga.com/)\", \"score\": 0.87166095, \"raw_content\": null}, {\"url\": \"https://www.starnewskorea.com/stview.php?no=2025061722115227870\", \"title\": \"\\'충격\\' 英 BBC \\\\\"손흥민 2달 안에 토트넘 떠날 가능성... 한국 투어는 참가 ...\", \"content\": \"이 계약에 따라 손흥민과 토트넘의 계약은 2025~2026시즌을 끝으로 만료된다. 사실상 올여름 이적시장이 손흥민을 현금화할 마지막 기회다.\", \"score\": 0.8405867, \"raw_content\": null}, {\"url\": \"https://www.msn.com/ko-kr/sports/other/%EC%86%90%ED%9D%A5%EB%AF%BC-%EC%95%88-%EB%96%A0%EB%82%98%EA%B3%A0-%EA%B2%B0%EA%B5%AD-%ED%86%A0%ED%8A%B8%EB%84%98%EC%84%9C-%EB%8D%94-%EB%9B%B4%EB%8B%A4-here-we-go-%EA%B8%B0%EC%9E%90%EC%9D%98-%ED%99%95%EC%8B%A0-son-2026%EB%85%84-%EC%97%AC%EB%A6%84%EA%B9%8C%EC%A7%80-%ED%86%A0%ED%8A%B8%EB%84%98%EA%B3%BC-%ED%95%A8%EA%BB%98/ar-AA1wr6Oq\", \"title\": \"Here we go\\' 기자의 확신 “SON, 2026년 여름까지 토트넘과 함께” - MSN\", \"content\": \"영국 \\'기브미스포츠\\'는 23일 “토트넘은 손흥민과 계약을 2026년까지 연장하는 옵션을 행사할 것으로 보인다. 손흥민은 2025년 여름 계약이 끝나면 토트넘을 떠날 예정\", \"score\": 0.826278, \"raw_content\": null}], \"response_time\": 1.3}', name='tavily_search', tool_call_id='call_qi6fViFL8edw2mzkHwWZJdAM'),\n",
       " ToolMessage(content='{\"query\": \"김민재 이적설 2025 2026\", \"follow_up_questions\": null, \"answer\": null, \"images\": [], \"results\": [{\"url\": \"https://www.radiokorea.com/news/article.php?uid=473986\", \"title\": \"\\'대충격 마지노선 781억\\' 뮌헨, 김민재 만족 못해 이적 시킬 수 있다 獨 ...\", \"content\": \"바이에른은 현재 요나탄 타를 자유계약으로 데려오기 위해 협상을 진행 중이며 다요 우파메카노와는 2030년까지 계약 연장 논의를 긍정적으로 이어가고 있다. 이런 분위기 속에서 김민재는 차기 시즌 주전 수비진에서 밀려날 가능성이 커지고 있다.\\\\n  \\\\n  \\\\n독일 축구 이적시장 통계 사이트 트랜스퍼마르크트가 발표한 2025-2026시즌 예상 베스트11에도 김민재는 이름을 올리지 못했다. 센터백 조합으로는 타와 우파메카노가 선정됐다. 바바리안 풋볼 역시 “김민재는 기대에 부응하지 못한 것으로 평가됐으며, 구단의 미래 계획에서도 중심에서 벗어나고 있다”고 보도했다.\\\\n  \\\\n  \\\\n주요 경기에서의 실수가 김민재에게 향한 비판을 키운 요인이 됐다. 도르트문트전과 UEFA 챔피언스리그 8강 인터밀란전에서는 불안정한 수비가 실점으로 이어졌고 김민재는 실책의 원인으로 지적됐다. 하지만 이 시기 김민재의 컨디션은 정상과 거리가 멀었다. [...] ![](https://rk-img-news.s3.us-west-2.amazonaws.com/2025/05/16/473986/202505160941779215_68268b031f467.jpg)\\\\n\\\\n  \\\\n  \\\\n  \\\\n\\\\n![](https://rk-img-news.s3.us-west-2.amazonaws.com/2025/05/16/473986/202505160941779215_68268b03ae9ef.jpg)\\\\n\\\\n  \\\\n  \\\\n  \\\\n김민재는 “팀을 떠나야 할 이유는 없다”고 밝히며 잔류 의사를 분명히 했지만 바이에른 뮌헨의 전력 재편 움직임과 잇따른 보도는 그를 둘러싼 미래가 녹록지 않다는 사실을 방증한다.\\xa0/ 10bird@osen.co.kr\\\\n\\\\n![](https://rk-img-news.s3.us-west-2.amazonaws.com/2025/05/16/473986/202505160941779215_68268b025d435.jpg) [...] ![](https://rk-img-news.s3.us-west-2.amazonaws.com/2025/05/16/473986/202505160941779215_68268b031f467.jpg)\\\\n\\\\n  \\\\n  \\\\n  \\\\n\\\\n![](https://rk-img-news.s3.us-west-2.amazonaws.com/2025/05/16/473986/202505160941779215_68268b03ae9ef.jpg)\\\\n\\\\n  \\\\n  \\\\n  \\\\n김민재는 “팀을 떠나야 할 이유는 없다”고 밝히며 잔류 의사를 분명히 했지만 바이에른 뮌헨의 전력 재편 움직임과 잇따른 보도는 그를 둘러싼 미래가 녹록지 않다는 사실을 방증한다.\\xa0/ 10bird@osen.co.kr\\\\n\\\\n![](https://rk-img-news.s3.us-west-2.amazonaws.com/2025/05/16/473986/202505160941779215_68268b01b7380.jpg)\", \"score\": 0.8455478, \"raw_content\": null}, {\"url\": \"https://www.xportsnews.com/article/2004509\", \"title\": \"\\'충격\\' 김민재, 유럽 생활 끝났다→아시아 복귀?…\\'HERE WE GO\\' 기자 ...\", \"content\": \"이적시장 전문 매체 트랜스퍼마르크트는 아예 김민재를 2025-2026시즌 바이에른 예상 베스트11에서 제외했으며 독일 유력지 빌트는 \\\\\"김민재도 바이에른 뮌헨에서 행복하지\", \"score\": 0.8066246, \"raw_content\": null}, {\"url\": \"https://www.newsis.com/view/NISX20250616_0003214834\", \"title\": \"\\'이적설\\' 이강인·김민재, 클럽월드컵 이후 거취 결정될까 - 뉴시스\", \"content\": \"[암만(요르단)=뉴시스] 이영환 기자 = 2026 국제축구연맹(FIFA) 북중미 월드컵 아시아 3차 예선 B조 6차전 팔레스타인전에 출전한 김민재(왼쪽), 이강인. 2024.11.20. [[email\\xa0protected]](/cdn-cgi/l/email-protection)\\\\n\\\\n![[패서디나=AP/뉴시스] 파리 생제르맹(OSG, 프랑스)의 이강인이 지난 15일(현지 시간) 미 캘리포니아주 패서디나 로즈볼 스타디움에서 열린 2025 국제축구연맹(FIFA) 클럽 월드컵 B조 조별리그 1차전 아틀레티코 마드리드(스페인)와의 경기 후반 추가시간 페널티킥으로 팀 4번째 골을 넣고 있다. 이강인은 스페인 최고 골키퍼 얀 오블락을 상대로 PK를 성공했으며 PSG는 4-0 완승을 기록했다. 2025.06.16.](https://img1.newsis.com/2025/06/16/NISI20250616_0000422594_web.jpg?rnd=20250616100257) [...] ![[암만(요르단)=뉴시스] 이영환 기자 = 2026 국제축구연맹(FIFA) 북중미 월드컵 아시아 3차 예선 B조 6차전 팔레스타인전에 출전한 김민재(왼쪽), 이강인. 2024.11.20. 20hwan@newsis.com](https://img1.newsis.com/2024/11/26/NISI20241126_0001712788_web.jpg?rnd=20241126101157)\\\\n\\\\n[암만(요르단)=뉴시스] 이영환 기자 = 2026 국제축구연맹(FIFA) 북중미 월드컵 아시아 3차 예선 B조 6차전 팔레스타인전에 출전한 김민재(왼쪽), 이강인. 2024.11.20. [[email\\xa0protected]](/cdn-cgi/l/email-protection) [...] ![[서울=뉴시스] 독일 프로축구 분데스리가 바이에른 뮌헨의 김민재. (사진=바이에른 뮌헨 홈페이지 캡처) *재판매 및 DB 금지](https://img1.newsis.com/2025/06/13/NISI20250613_0001867068_web.jpg?rnd=20250613173617)\\\\n\\\\n[서울=뉴시스] 독일 프로축구 분데스리가 바이에른 뮌헨의 김민재. (사진=바이에른 뮌헨 홈페이지 캡처) \\\\\\\\*재판매 및 DB 금지\\\\n\\\\n[서울=뉴시스] 독일 프로축구 분데스리가 바이에른 뮌헨의 김민재. (사진=바이에른 뮌헨 홈페이지 캡처) \\\\\\\\*재판매 및 DB 금지\\\\n\\\\n![[서울=뉴시스] 독일 프로축구 분데스리가 바이에른 뮌헨의 김민재. (사진=바이에른 뮌헨 홈페이지 캡처) *재판매 및 DB 금지](https://img1.newsis.com/2025/06/11/NISI20250611_0001864010_web.jpg?rnd=20250611072600)\", \"score\": 0.79732054, \"raw_content\": null}], \"response_time\": 4.19}', name='tavily_search', tool_call_id='call_yYrpkbTKSKjGUEDvPxAl4YhD'),\n",
       " ToolMessage(content='{\"query\": \"이강인 이적설 2025 2026\", \"follow_up_questions\": null, \"answer\": null, \"images\": [], \"results\": [{\"url\": \"https://sports.khan.co.kr/article/202506102252003\", \"title\": \"이적설에 입을 연 이강인 “앞으로 무슨 일이 일어날지 나도 몰라요”\", \"content\": \"이강인이 10일 서울월드컵경기장에서 열린 쿠웨이트와 2026 북중미 월드컵 아시아지역 3차예선 10차전에서 4-0으로 승리한 뒤 소감을 밝히고 있다. 연합뉴스\\\\n\\\\n이강인(24·파리 생제르맹)이 자신을 둘러싼 이적설에 긍정도 부정도 하지 않았다.\\\\n\\\\n이강인은 10일 서울월드컵경기장에서 열린 2026 북중미 월드컵 아시아지역 3차예선 쿠웨이트와 10차전을 마친 뒤 “솔직히 말하면 앞으로 무슨 일이 일어날지는 나도 모르겠다”고 말했다.\\\\n\\\\n프랑스 최고의 명문 파리 생제르맹에서 뛰는 이강인은 최근 이적설의 주인공이 됐다. 프랑스 유력지 ‘레키프’는 이날 이탈리아 세리에A 나폴리가 이강인에게 강한 관심을 보이고 있지만 파리 생제르맹이 아직 협상의 문을 열지는 않았다고 보도했다.\\\\n\\\\n이강인의 이적설은 2024~2025시즌 후반기부터 주전 경쟁에 어려움을 겪은 것이 원인이다. [...] # [스포츠경향](https://sports.khan.co.kr \\\\\"스포츠경향\\\\\")\\\\n\\\\n![스포츠경향](https://img.khan.co.kr/images/skhan/logo-skhan.svg)\\\\n![스포츠경향](https://img.khan.co.kr/images/skhan/logo-skhan.svg)\\\\n\\\\n## 메뉴 레이어\\\\n\\\\n## [축구](https://sports.khan.co.kr/soccer \\\\\"축구\\\\\")\\\\n\\\\n# 이적설에 입을 연 이강인 “앞으로 무슨 일이 일어날지 나도 몰라요”\\\\n\\\\n![이강인이 10일 서울월드컵경기장에서 열린 쿠웨이트와 2026 북중미 월드컵 아시아지역 3차예선 10차전에서 4-0으로 승리한 뒤 소감을 밝히고 있다. 연합뉴스](https://images.khan.co.kr/article/2025/06/10/rcv.YNA.20250610.PYH2025061022180001300_P1.jpg) [...] 정상에 오른 유럽챔피언스리그에선 8강전부터 결승전까지 벤치만 지키는 아쉬움을 남겼다. 이강인 본인도 자신의 SNS 프로필에서 파리 생제르맹 관련 문구를 삭제하면서 이적설에 힘이 실렸다.\\\\n\\\\n나폴리 외에도 잉글랜드 프리미어리그(EPL)아스널과 맨체스터 유나이티드 스페인 프리메라리가의 아틀레티코 마드리드 등이 이강인에게 관심을 갖고 있는 것으로 알려졌다.\\\\n\\\\n이강인은 “앞으로 내가 어디에 있든, 파리 생제르맹이나 다른 구단에 있든 항상 최고의 모습과 최고의 도움을 주려고 노력할 것”이라며 “지금까지 그래왔고, 앞으로도 그럴 생각”이라고 말했다.\\\\n\\\\n이날 이강인은 쿠웨이트를 상대로 1-0으로 앞선 후반 6분 페널티지역 왼쪽 측면에서 배준호의 전진 패스를 잡아챈 뒤 절묘한 왼발슛으로 득점을 기록해 유종의 미를 거뒀다.\\\\n\\\\n### 주요 기사\\\\n\\\\n### 박수, 공유 영역\\\\n\\\\n### 댓글 레이어 열기 버튼\\\\n\\\\n### 기자 정보\", \"score\": 0.81665546, \"raw_content\": null}, {\"url\": \"https://www.newsis.com/view/NISX20250616_0003214834\", \"title\": \"\\'이적설\\' 이강인·김민재, 클럽월드컵 이후 거취 결정될까 - 뉴시스\", \"content\": \"[서울=뉴시스] 김진엽 기자 = \\'코리안리거\\' 이강인(24·파리 생제르맹)과 김민재(29·바이에른 뮌헨)의 거취가 2025 국제축구연맹(FIFA) 클럽월드컵 이후에 결정될 전망이다.\", \"score\": 0.7785319, \"raw_content\": null}, {\"url\": \"https://biz.chosun.com/sports/football/2025/06/11/QNN4AEP7K6TMC6XTEM4DMOZYKI/\", \"title\": \"\\'이적설 입 열었다\\' 이강인, \\\\\"PSG 혹은 다른 구단이든 최선 다할 것\\\\\" [오 ...\", \"content\": \"이강인(PSG)가 이적 가능성에 대해 조심스러운 반응을 내놓았다. 홍명보 감독이 이끄는 대한민국 축구대표팀은 10일 오후 8시 서울월드컵경기장에서 열린 2026 국제축구연\", \"score\": 0.6675167, \"raw_content\": null}], \"response_time\": 3.76}', name='tavily_search', tool_call_id='call_w9K4YRSWhtNESwnaVvohTGQT')]"
      ]
     },
     "execution_count": 40,
     "metadata": {},
     "output_type": "execute_result"
    }
   ],
   "source": [
    "search_result3"
   ]
  },
  {
   "cell_type": "markdown",
   "metadata": {},
   "source": [
    "## Tool 의 처리(응답) 결과를 LLM 요청시 사용\n",
    "- ToolMessage를 prompt 에 추가하여 LLM에 요청한다.\n",
    "- ToolMessage 는 Tool Calling 정보를 가진 AIMessage 다음에 들어와야 한다.\n",
    "- Prompt 순서\n",
    "    1. 일반 prompt (system, 대화 history, .., human)\n",
    "    2. AIMessage: tool calling 정보를 가진 AIMessage. (tool_model에 질의 받은 tool calling 정보가 있는 응답)\n",
    "    3. ToolMessage:  Tool의 처리 결과"
   ]
  },
  {
   "cell_type": "code",
   "execution_count": 45,
   "metadata": {},
   "outputs": [],
   "source": [
    "from langchain.prompts import ChatPromptTemplate, MessagesPlaceholder\n",
    "\n",
    "prompt = ChatPromptTemplate(\n",
    "    [\n",
    "        (\"system\", \"당신은 AI 정보제공자입니다. 제공된 정보를 바탕으로 답변해주세요.\"),\n",
    "        (\"human\", \"{user_input}\"),\n",
    "        MessagesPlaceholder(variable_name=\"messages\", optional=True)\n",
    "    ]\n",
    ")\n",
    "\n",
    "input_dict = {\"user_input\":query, \"messages\":[resp2, *search_result3]} # messages : [AImessage, Toolmassage, Toolmassage, ...]\n",
    "# *search_result3 -> 3개의 데이터 하나씩 풀어서 넣어준다는 의미.\n",
    "\n",
    "final_chain = prompt | tool_model\n",
    "final_response = final_chain.invoke(input_dict)"
   ]
  },
  {
   "cell_type": "code",
   "execution_count": null,
   "metadata": {},
   "outputs": [
    {
     "data": {
      "text/plain": [
       "[1, 2, 3]"
      ]
     },
     "execution_count": 44,
     "metadata": {},
     "output_type": "execute_result"
    }
   ],
   "source": [
    "# [*list] 예시\n",
    "a = [1,2,3]\n",
    "[*a]"
   ]
  },
  {
   "cell_type": "code",
   "execution_count": 47,
   "metadata": {},
   "outputs": [
    {
     "name": "stdout",
     "output_type": "stream",
     "text": [
      "2025~2026년 손흥민, 김민재, 이강인의 이적설에 대해 각각 정리했습니다.\n",
      "\n",
      "1. 손흥민\n",
      "- BBC 등 영국 언론에 따르면 손흥민은 2025~2026시즌을 끝으로 토트넘과 계약이 종료될 가능성이 큽니다.\n",
      "- 현재 토트넘 계약의 일부 문제로 아시아 이적설이 나오고 있으나, 공식적인 이적 제안이나 구단 간 합의는 없는 상태입니다.\n",
      "- 2025년 여름 이적 가능성이 주로 거론되며, 토트넘과 재계약 여부가 관건입니다.\n",
      "\n",
      "2. 김민재\n",
      "- 김민재는 바이에른 뮌헨 등 유럽 빅클럽의 영입 관심을 받고 있으며, 2030년대까지 계약 연장을 신중히 검토하고 있습니다.\n",
      "- 2025~2026시즌 베식타스에서 계약 연장이 어려울 경우 유럽 내 다른 구단 이적으로 이어질 가능성이 있습니다.\n",
      "- 그러나 아직 확정된 이적 계획이나 협상은 공개되지 않았습니다.\n",
      "\n",
      "3. 이강인\n",
      "- 이강인은 2026년 북중미 월드컵 이후 이적 결정이 예상되며, 현재 파리 생제르맹(PSG)에서 활약 중입니다.\n",
      "- 이강인은 2024~2025시즌 후반부터 주전 경쟁과 몸 상태 관리에 집중하고 있고, 이적설에 대해 공식적인 입장은 없으나 앞으로 움직임이 있을 것으로 보입니다.\n",
      "- 최근 서포터들과 언론에서는 이강인이 파리에서 다른 구단으로 이적할 가능성에 대해 관심을 보이고 있습니다.\n",
      "\n",
      "요약하면, 세 선수 모두 2025~2026년 시즌을 전후로 계약 종료 또는 이적 가능성이 제기되고 있으나, 공식 확정된 이적 발표는 없으며 상황 변화에 따라 달라질 수 있습니다.\n"
     ]
    }
   ],
   "source": [
    "print(final_response.content)"
   ]
  },
  {
   "cell_type": "code",
   "execution_count": 49,
   "metadata": {},
   "outputs": [
    {
     "data": {
      "text/plain": [
       "True"
      ]
     },
     "execution_count": 49,
     "metadata": {},
     "output_type": "execute_result"
    }
   ],
   "source": [
    "#############################################\n",
    "# 요청 - 응답까지의 전체 체인을 구성\n",
    "# query -> (tool + model = RunnableBinding) -> AIMessage.tool_calls\n",
    "# -> (Tool) -> 처리결과(검색결과)\n",
    "# -> (prompt template) -> prompt\n",
    "# -> (LLM) 최종응답\n",
    "#############################################\n",
    "\n",
    "from langchain_tavily import TavilySearch\n",
    "from langchain_openai import ChatOpenAI\n",
    "from langchain.prompts import ChatMessagePromptTemplate, MessagesPlaceholder\n",
    "from langchain_core.output_parsers import StrOutputParser\n",
    "from langchain_core.runnables import chain\n",
    "from dotenv import load_dotenv\n",
    "from datetime import date\n",
    "\n",
    "load_dotenv()"
   ]
  },
  {
   "cell_type": "code",
   "execution_count": 53,
   "metadata": {},
   "outputs": [
    {
     "data": {
      "text/plain": [
       "'2025년 06월 19일'"
      ]
     },
     "execution_count": 53,
     "metadata": {},
     "output_type": "execute_result"
    }
   ],
   "source": [
    "date.today().strftime(\"%Y년 %m월 %d일\")"
   ]
  },
  {
   "cell_type": "code",
   "execution_count": 75,
   "metadata": {},
   "outputs": [],
   "source": [
    "# 1. Tool 생성.\n",
    "tavily_search = TavilySearch()\n",
    "model = ChatOpenAI(model=\"gpt-4.1\") # model + tool - 성능이 좋은모델 사용해야함 / 툴에도 모델이 파라미터를 넣어주기때문에.\n",
    "\n",
    "tool_model = model.bind_tools(tools=[tavily_search])\n",
    "prompt_template = ChatPromptTemplate(\n",
    "    [\n",
    "        (\"system\", (\"당신은 AI 어시스턴트입니다.\"\n",
    "                    \"질문에 대해서 최신 정보를 바탕으로 답변해주세요.\"\n",
    "                    \"검색을 해야하는 경우엔 반드시 검색어에 오늘 날짜를 넣어서 검색하세요.\"\n",
    "                    \"오늘 날짜는 {today} 입니다.\")),\n",
    "        (\"human\", \"{user_input}\"),\n",
    "        MessagesPlaceholder(variable_name=\"messages\", optional=True)\n",
    "    ],\n",
    "    partial_variables={\"today\":{date.today().strftime(\"%Y년 %m월 %d일\")}} # %H시간 %M분 %S초 %A요일\n",
    ")\n",
    "\n",
    "tool_model_chain = prompt_template | tool_model\n",
    "\n",
    "@chain\n",
    "def web_search_chain(user_input : str) -> str:\n",
    "    \"\"\"사용자 질문(user_input)을 받아서 tool 호출을 거쳐서 응답 처리를 하는 체인.\"\"\"\n",
    "\n",
    "    ai_message = tool_model_chain.invoke({\"user_input\":user_input}) # 반환 -> 1. 응답, 2. tool calls 정보\n",
    "\n",
    "    if ai_message.tool_calls: # ex) [{tool_call}, {tool_call}, ...] -> 직접 응답 불가능해서 콜정보 반환\n",
    "        # Tool 호출. -> 결과 -> LLM 호출.\n",
    "        # Tool 호출.\n",
    "        tool_messages = tavily_search.batch(ai_message.tool_calls) # [Toolmessage. Toolmessage, ...]\n",
    "        input_dict = {\"user_input\":user_input,\"messages\":[ai_message, *tool_messages]}\n",
    "        # Tool 처리결과 LLM에 전달. -> tool_calls값이 있는 AImessage, Tool처리 결과 ToolMessage\n",
    "        return tool_model_chain.invoke(input_dict).content\n",
    "    else: # ex) [] -> LLM이 직접 응답\n",
    "        return ai_message.content\n"
   ]
  },
  {
   "cell_type": "code",
   "execution_count": 76,
   "metadata": {},
   "outputs": [
    {
     "data": {
      "text/plain": [
       "'2025년 6월 20일(내일) 서울은 대체로 맑고, 비 소식 없이 고온 건조한 날씨가 계속될 것으로 예상됩니다. 낮 기온은 30도 이상, 습도는 60~70%로 다소 덥고 습하겠으니, 야외활동 시 더위와 자외선에 주의하세요.\\n\\n날씨 출처: 네이버 블로그 주간 예보, AccuWeather 등.'"
      ]
     },
     "execution_count": 76,
     "metadata": {},
     "output_type": "execute_result"
    }
   ],
   "source": [
    "response = web_search_chain.invoke(\"내일 서울 날씨를 알려주세요.\")\n",
    "response"
   ]
  },
  {
   "cell_type": "code",
   "execution_count": 77,
   "metadata": {},
   "outputs": [
    {
     "name": "stdout",
     "output_type": "stream",
     "text": [
      "2025년 6월 20일(내일) 서울은 대체로 맑고, 비 소식 없이 고온 건조한 날씨가 계속될 것으로 예상됩니다. 낮 기온은 30도 이상, 습도는 60~70%로 다소 덥고 습하겠으니, 야외활동 시 더위와 자외선에 주의하세요.\n",
      "\n",
      "날씨 출처: 네이버 블로그 주간 예보, AccuWeather 등.\n"
     ]
    }
   ],
   "source": [
    "print(response)"
   ]
  },
  {
   "cell_type": "markdown",
   "metadata": {},
   "source": [
    "# 사용자 정의 Tool 구현\n",
    "\n",
    "## @tool 사용\n",
    "- 함수로 구현하고 `@tool` 데코레이터를 사용해 tool(StructuredTool)로 정의한다.\n",
    "    - `langchain_core.tools` 모듈에 있다.\n",
    "- tool name\n",
    "    - 함수의 이름이 tool의 이름이 된다.\n",
    "- parameters\n",
    "    - 함수의 파라미터가 tool의 파라미터가 된다.\n",
    "    - **type hint**를 이용해 타입을 지정한다.  \n",
    "- description\n",
    "    - doctring이 description이 된다.\n",
    "    - RunnableBinding이 tool을 잘 찾을 수 있도록 하려면 **tool의 기능을 최대한 구체적**으로 작성한다.\n",
    "- **@tool이 적용된 함수(StructuredTool)이 tool**이므로 model에 binding 한다."
   ]
  },
  {
   "cell_type": "code",
   "execution_count": 78,
   "metadata": {},
   "outputs": [],
   "source": [
    "from langchain_core.tools import tool"
   ]
  },
  {
   "cell_type": "code",
   "execution_count": 83,
   "metadata": {},
   "outputs": [],
   "source": [
    "# LLM이 Tool을 선택하는 기준 : Tool의 이름, Description(툴 설명 - Docstring)\n",
    "\n",
    "@tool\n",
    "def plus(n1:int|float, n2:int|float) -> int|float:\n",
    "    \"\"\"\n",
    "    두 숫자를 받아서 덧셈처리 하는 tool.\n",
    "    \"\"\"\n",
    "    return n1+n2\n",
    "\n",
    "@tool\n",
    "def multiply(n1:int|float, n2:int|float) -> int|float:\n",
    "    \"\"\"\n",
    "    두 숫자를 받아서 곱셈처리 하는 tool.\n",
    "    \"\"\"\n",
    "    return n1*n2"
   ]
  },
  {
   "cell_type": "code",
   "execution_count": null,
   "metadata": {},
   "outputs": [
    {
     "name": "stdout",
     "output_type": "stream",
     "text": [
      "<class 'langchain_core.tools.structured.StructuredTool'>\n",
      "plus\n",
      "두 숫자를 받아서 덧셈처리 하는 tool.\n"
     ]
    }
   ],
   "source": [
    "print(type(plus))\n",
    "print(plus.name) # 툴 이름\n",
    "print(plus.description) # 툴 설명"
   ]
  },
  {
   "cell_type": "code",
   "execution_count": 90,
   "metadata": {},
   "outputs": [
    {
     "data": {
      "text/plain": [
       "{'description': '두 숫자를 받아서 덧셈처리 하는 tool.',\n",
       " 'properties': {'n1': {'anyOf': [{'type': 'integer'}, {'type': 'number'}],\n",
       "   'title': 'N1'},\n",
       "  'n2': {'anyOf': [{'type': 'integer'}, {'type': 'number'}], 'title': 'N2'}},\n",
       " 'required': ['n1', 'n2'],\n",
       " 'title': 'plus',\n",
       " 'type': 'object'}"
      ]
     },
     "execution_count": 90,
     "metadata": {},
     "output_type": "execute_result"
    }
   ],
   "source": [
    "plus.args_schema.model_json_schema()"
   ]
  },
  {
   "cell_type": "code",
   "execution_count": 91,
   "metadata": {},
   "outputs": [],
   "source": [
    "model = ChatOpenAI(model=\"gpt-4.1-mini\")\n",
    "\n",
    "tool_model = model.bind_tools([plus,multiply])"
   ]
  },
  {
   "cell_type": "code",
   "execution_count": 93,
   "metadata": {},
   "outputs": [
    {
     "data": {
      "text/plain": [
       "''"
      ]
     },
     "execution_count": 93,
     "metadata": {},
     "output_type": "execute_result"
    }
   ],
   "source": [
    "resp = tool_model.invoke(\"5000원짜리 빵을 5개 샀다. 얼마지?\")\n",
    "resp.content"
   ]
  },
  {
   "cell_type": "code",
   "execution_count": 94,
   "metadata": {},
   "outputs": [
    {
     "data": {
      "text/plain": [
       "[{'name': 'multiply',\n",
       "  'args': {'n1': 5000, 'n2': 5},\n",
       "  'id': 'call_D0ITOeve9RhUVW4pA030tTHT',\n",
       "  'type': 'tool_call'}]"
      ]
     },
     "execution_count": 94,
     "metadata": {},
     "output_type": "execute_result"
    }
   ],
   "source": [
    "resp.tool_calls"
   ]
  },
  {
   "cell_type": "code",
   "execution_count": 97,
   "metadata": {},
   "outputs": [
    {
     "data": {
      "text/plain": [
       "'25000'"
      ]
     },
     "execution_count": 97,
     "metadata": {},
     "output_type": "execute_result"
    }
   ],
   "source": [
    "multiply.invoke(resp.tool_calls[0]).content"
   ]
  },
  {
   "cell_type": "code",
   "execution_count": 98,
   "metadata": {},
   "outputs": [
    {
     "data": {
      "text/plain": [
       "[{'name': 'multiply',\n",
       "  'args': {'n1': 5, 'n2': 6},\n",
       "  'id': 'call_khZB2VOm8y2stzy3WoktpYty',\n",
       "  'type': 'tool_call'},\n",
       " {'name': 'plus',\n",
       "  'args': {'n1': 3, 'n2': 0},\n",
       "  'id': 'call_EzcdolrxPbGoCpUHjZ32DLGd',\n",
       "  'type': 'tool_call'}]"
      ]
     },
     "execution_count": 98,
     "metadata": {},
     "output_type": "execute_result"
    }
   ],
   "source": [
    "resp = tool_model.invoke(\"3 + 5 * 6의 결과는?\")\n",
    "resp.tool_calls"
   ]
  },
  {
   "cell_type": "code",
   "execution_count": null,
   "metadata": {},
   "outputs": [],
   "source": [
    "# tavily_search를 이용해서 web검색을 처리하는 툴\n",
    "from typing import Literal # 넣을 수 있는 값이 정해진 경우.\n",
    "# type|None -> optional\n",
    "from langchain_tavily import TavilySearch\n",
    "from langchain_core.tools import tool\n",
    "from langchain_community.document_loaders import WikipediaLoader\n",
    "from langchain_core.runnables import chain\n",
    "from pydantic import BaseModel, Field\n",
    "\n",
    "# @tool\n",
    "@tool(name_or_callable=\"Search_Web\", description=\"데이터베이스에 존재하지 않는 정보나, 최신정보를 찾기 위해서 인터넷 검색을 하는 Tool입니다.\",\n",
    "      # args_schema = 설정한 pydantic스키마\n",
    "      )\n",
    "def search_web(query:str, max_results:int=3, time_range:Literal[\"day\", \"week\", \"month\", \"year\"]|None=None) -> dict:\n",
    "    \"\"\"\n",
    "    데이터베이스에 존재하지 않는 정보나, 최신정보를 찾기 위해서 인터넷 검색을 하는 Tool입니다.\n",
    "    \"\"\"\n",
    "\n",
    "    #######################################################################\n",
    "    # tavily_search 이외의 검색 툴들을 이용해서 다양한 검색 결과들을 취합\n",
    "    #######################################################################\n",
    "    \n",
    "\n",
    "    tavily_search = TavilySearch(max_results=max_results, time_range=time_range)\n",
    "    search_result = tavily_search.invoke(query)[\"results\"] # {..., \"results\":list[dict. dict, ...]}\n",
    "    if search_result: # 검색결과가 존재.\n",
    "        return {\"result\" : search_result}\n",
    "    else: # 검색결과가 존재하지 않음.\n",
    "        return {\"results\" : \"검색결과가 없습니다.\"}\n"
   ]
  },
  {
   "cell_type": "code",
   "execution_count": 8,
   "metadata": {},
   "outputs": [
    {
     "name": "stdout",
     "output_type": "stream",
     "text": [
      "Search_Web\n",
      "데이터베이스에 존재하지 않는 정보나, 최신정보를 찾기 위해서 인터넷 검색을 하는 Tool입니다.\n"
     ]
    },
    {
     "data": {
      "text/plain": [
       "{'description': '데이터베이스에 존재하지 않는 정보나, 최신정보를 찾기 위해서 인터넷 검색을 하는 Tool입니다.',\n",
       " 'properties': {'query': {'title': 'Query', 'type': 'string'},\n",
       "  'max_results': {'default': 3, 'title': 'Max Results', 'type': 'integer'},\n",
       "  'time_range': {'anyOf': [{'enum': ['day', 'week', 'month', 'year'],\n",
       "     'type': 'string'},\n",
       "    {'type': 'null'}],\n",
       "   'default': None,\n",
       "   'title': 'Time Range'}},\n",
       " 'required': ['query'],\n",
       " 'title': 'Search_Web',\n",
       " 'type': 'object'}"
      ]
     },
     "execution_count": 8,
     "metadata": {},
     "output_type": "execute_result"
    }
   ],
   "source": [
    "print(search_web.name)\n",
    "print(search_web.description)\n",
    "search_web.args_schema.model_json_schema()"
   ]
  },
  {
   "cell_type": "code",
   "execution_count": 9,
   "metadata": {},
   "outputs": [
    {
     "data": {
      "text/plain": [
       "{'result': [{'url': 'https://www.tripadvisor.co.kr/Attractions-g294197-Activities-Seoul.html',\n",
       "   'title': '서울 관광명소 BEST 10 - Tripadvisor - 트립어드바이저',\n",
       "   'content': '서울 관광명소 BEST 10 - Tripadvisor - 트립어드바이저 =============== 본문 내용으로 건너뛰기 살펴보기 여행 리뷰 KRW로그인 서울호텔즐길거리음식점항공권렌터카 아시아 대한민국 서울 서울의 즐길거리 BEST 서울 관광명소 서울의 관광명소 꼭 봐야 할 명소와 액티비티를 확인하세요. 경복궁, 명동 쇼핑 거리, 테마 파크, 벼룩시장 & 재래시장. 경복궁4.4 11,004 역사적인 장소 작성자: Curious34716201507 외국인 친구들과 방문했는데 너무 좋았어요!다음에는 부모님과 함께 방문하고 싶습니다.여자친구랑도 가고 싶어요!날이 더울 때도 좋았습니다만, 날이 추울 때 역시 가보고 싶어요! 명동 쇼핑 거리4.3 10,504 인근 지역 작성자: FarAway40855691947 명동이 다시 활기를 찾은듯해요 외국인도 많고 예전모습 그대로 입니다 다만 길거리 음식이 비싼게 단점이네요 * * * 3.',\n",
       "   'score': 0.67192334,\n",
       "   'raw_content': None},\n",
       "  {'url': 'https://korean.visitseoul.net/attractions',\n",
       "   'title': '서울 가볼만한 관광 명소 | 서울 공식 관광정보 웹사이트',\n",
       "   'content': '경복궁 조선시대의 중심 궁궐로, 한국 전통 건축의 아름다움과 역사적 가치를 간직한 서울의 대표적인 문화유산 · 남산서울타워 · 익선동 한옥거리 · 북악스카이웨이 북악',\n",
       "   'score': 0.62770075,\n",
       "   'raw_content': None},\n",
       "  {'url': 'https://www.tripadvisor.co.kr/Attractions-g294197-Activities-zft11292-Seoul.html',\n",
       "   'title': '서울에서 즐길 수 있는 최고의 무료 오락거리 10 선 - 트립어드바이저',\n",
       "   'content': '국내 및 해외 브랜드를 취급하며 아쿠아리움, 영화관, 김치 박물관 등의 관광명소를 제공합니다. ... 서울의 컨벤션 센터서울의 도서관서울의 관광센터서울의 공항 라운지',\n",
       "   'score': 0.502564,\n",
       "   'raw_content': None}]}"
      ]
     },
     "execution_count": 9,
     "metadata": {},
     "output_type": "execute_result"
    }
   ],
   "source": [
    "resp = search_web.invoke(\"서울의 관광지를 검색해줘.\")\n",
    "resp"
   ]
  },
  {
   "cell_type": "code",
   "execution_count": 12,
   "metadata": {},
   "outputs": [],
   "source": [
    "resp2 = search_web({\"query\":\"서울의 관광지를 검색해줘.\",\"max_results\":10,\"time_range\":\"week\"})"
   ]
  },
  {
   "cell_type": "code",
   "execution_count": 15,
   "metadata": {},
   "outputs": [
    {
     "data": {
      "text/plain": [
       "{'result': [{'url': 'https://xn--zf4b19gw9af7l.kr/shop/item.php?it_id=1692685420&device=pc',\n",
       "   'title': '한우1++꽃등심 100g당 15000 > 베스트상품 - 주식회사 마장자연축산',\n",
       "   'content': '관련상품 · 한우1++ 새우살등심 100당 17,000 · 한우1++ 안심 100g당 18,000원 · 한우1++ 치마살 100g당 18,000 · 한우1++ 제비추리 100g당 18,000 · 한우1++ 업진살 100g당',\n",
       "   'score': 0.81097376,\n",
       "   'raw_content': None},\n",
       "  {'url': 'https://m.kin.naver.com/qna/dirs/8020605/docs/480625927?qb=7ZWc7JqwIOuTseyLrCDqsIDqsqkgMTAwZ%20uLuQ==&enc=utf8&mobile',\n",
       "   'title': '한우 +1 등심 100g 9800원이면 어떤가요? : 네이버 지식iN - 지식인',\n",
       "   'content': '마트에서 한우 등심 1+ 등급을 100g당 9,800원 정도에 구매하셨다면, 현재 시세 대비 상당히 저렴하게 구매하신 편입니다. 보통 한우 등심 1+ 등급은 100g당 1만원을 훌쩍',\n",
       "   'score': 0.7923522,\n",
       "   'raw_content': None},\n",
       "  {'url': 'https://www.ssg.com/item/itemView.ssg?itemId=0000008041803',\n",
       "   'title': '한우 등심 구이용 1등급 (100g) (팩) - SSG.COM',\n",
       "   'content': '한우 등심 구이용 1등급 (100g) (팩) ; 원산지 · 상세설명참조 ; 최고판매가. 11,880원 ; 무이자 할부: 카드사별 무이자 혜택 ; 쇼핑혜택: 충전결제 시 최대 5% 적립 첫결제 5%,',\n",
       "   'score': 0.6680367,\n",
       "   'raw_content': None}]}"
      ]
     },
     "execution_count": 15,
     "metadata": {},
     "output_type": "execute_result"
    }
   ],
   "source": [
    "from tools import search_web as s_web\n",
    "\n",
    "\n",
    "s_web.invoke(\"한우 100g당 가격이 얼마지?\")"
   ]
  },
  {
   "cell_type": "markdown",
   "metadata": {},
   "source": [
    "## Runnable을 tool로 정의\n",
    "- `Runnable객체.as_tool()`\n",
    "    - name, description, args_schema 파라미터를 이용해 tool의 이름, 설명, 스키마를 설정한다."
   ]
  },
  {
   "cell_type": "code",
   "execution_count": null,
   "metadata": {},
   "outputs": [],
   "source": [
    "# !pip install wikipedia\n",
    "# 위키백과사전의 내용들을 검색하고 관리하는 라이브러리.\n",
    "# document_loader중 wikipediaLoader를 사용해서 위키백과사전 내용들을 검색 할 수 있다."
   ]
  },
  {
   "cell_type": "code",
   "execution_count": null,
   "metadata": {},
   "outputs": [],
   "source": [
    "from langchain_community.document_loaders import WikipediaLoader\n",
    "from langchain_core.runnables import chain\n",
    "from pydantic import BaseModel, Field\n",
    "\n",
    "@chain\n",
    "def wikipedia_search(input_dict:dict)->dict:\n",
    "    \"\"\"사용자 query에 대한 정보를 wikipedia에서 k개의 문서를 검색하는 Runnable\"\"\"\n",
    "\n",
    "    query = input_dict['query'] # 검색어\n",
    "    max_results = input_dict.get(\"max_result\", default=2) # 조회문서 최대 개수. / default : 2\n",
    "\n",
    "    wiki_loader = WikipediaLoader(query=query, load_max_docs=max_results, lang=\"ko\")\n",
    "    search_result = wiki_loader.load()\n",
    "    if search_result:\n",
    "        result_list = []\n",
    "        for doc in search_result:\n",
    "            result_list.append({\"content\":doc.page_content,\"url\":doc.metadata['source'],\"title\":doc.metadata[\"title\"]})\n",
    "            return {\"result\": result_list}\n",
    "        else:\n",
    "            return {\"result\":\"검색결과가 없습니다.\"}"
   ]
  },
  {
   "cell_type": "code",
   "execution_count": null,
   "metadata": {},
   "outputs": [
    {
     "name": "stdout",
     "output_type": "stream",
     "text": [
      "{'result': [{'content': '국제 축구 연맹(國際蹴球聯盟; 문화어: 국제 축구 련맹; 프랑스어: Fédération internationale de football association; 영어: International Association Football Federation), 줄여서 피파(FIFA)는 축구(아식축구)와 풋살, 비치사커 종목을 총괄하는 국제 기구로, 스위스의 취리히에 FIFA 본부를 두고 있으며 4년마다 열리는 FIFA 월드컵을 비롯해서 여러 국제 대회를 운영하고 있다. 1904년 5월 21일 파리에서 결성되었으며 현 FIFA 회장은 잔니 인판티노이다.\\n\\n\\n== 역사 ==\\n\\n20세기 초, 축구의 인기가 영국에서 해외로 확산되면서 경기 종목을 관리할 조직체의 필요성이 대두되었다. 하지만, 그 필요성을 먼저 느낀 것은 The FA가 아닌 다른 나라의 축구인들이었다. 그 조직으로써 FIFA가 1904년 5월 21일 프랑스 파리에서 설립되었다.\\n오늘날 프랑스어를 사용하지 않는 나라들에서도 이 단체의 이름을 프랑스어로 표기하는 것은 이 단체가 처음 만들어진 곳이 프랑스이기 때문이다.\\nFIFA가 주관한 최초의 국제 경기는 1906년 열렸는데, 그다지 성공적이지 못했다. 결국 초대 회장이었던 로베르 게랭이 물러나는 계기가 되었고, 종주국인 잉글랜드 출신의 대니얼 벌리 울폴이 새 회장이 된다.\\n그 다음 열린 국제 대회는 1908년 런던 올림픽이었는데, 여덟 팀이 참가한 축구 대회는 비교적 성공적이었다. 1909년 남아프리카 공화국이 FIFA에 가입하면서 처음으로 가맹국이 유럽의 울타리를 벗어나게 되었다.\\n1912년에는 아르헨티나와 칠레가, 1913년에는 캐나다와 미국이 가입하면서 FIFA는 대서양을 중심으로 세력을 확장시킬 수 있었다.\\n제1차 세계 대전은 FIFA의 발전에 큰 타격을 주었다. 국제적인 교류는 미미한 수준으로 떨어졌고, 많은 축구선수들이 전장에 나가 희생되기도 했으며, 국제경기는 정상적으로 치를 수 없었다.\\n전쟁 이후, 회장인 울펄이 사망하고 부회장이었던 네덜란드인 카를 히르츠만이 일시적으로 FIFA를 맡게 되었다. 전쟁을 이유로 홈 네이션 4개국(잉글랜드, 스코틀랜드, 웨일스, 북아일랜드)이 FIFA를 탈퇴하면서 FIFA는 큰 위기에 봉착했고 회원국 수는 20개 국으로 줄어들었다.\\n위기에 빠진 FIFA를 재건한 사람은 48세의 프랑스인 쥘 리메였다. 그가 회장으로 재임한 33년 동안 제2차 세계 대전발발에도 불구하고 FIFA는 많은 발전을 이루었다. 1930년 최초의 월드 컵이 우루과이에서 열렸으며, 회원국들은 다시 증가했다.\\n1946년 홈 네이션들도 FIFA에 재가입하였다. 제 5회 스위스 월드컵이 열린 1954년 회원국의 수는 무려 85개국까지 늘어났고 더욱 국제적인 조직으로 발전할 수 있었다. 이 대회 직후 80세의 쥘 리메는 사임하였다. 당시 월드 컵 우승 팀에게 주어지는 우승컵의 이름은 쥘 리메 컵이었다.\\n2차 세계대전 이후, 많은 신생 독립국들이 FIFA에 가입하면서 회원국의 수는 계속 늘어났다. 당시 독립국들은 UN보다 FIFA에 먼저 가입하는 경우가 많았다. 축구 경기를 TV에서 중계하게 되면서, 축구는 좀 더 세계적인 스포츠로 발전했고 FIFA의 인지도도 같이 높아졌다.\\n이전까지 FIFA는 4년에 한 번 열리는 월드컵을 통해 수익을 얻을 수밖에 없었는데, TV 중계는 FIFA의 재정에 큰 도움이 되었다. 6대 회장인 스탠리 루스 경은 여러 사업을 통해 FIFA의 재정 안정에 큰 기여를 하였다. 이러한 공로로 루스경은 1974년 FIFA 명예회장으로 추대되었다. 다음 회장은 브라질 출신의 주앙 아벨란제 박사였다.\\n아벨란제 회장은 다소 보수적이었던 FIFA를 보다 능동적인 조직으로 탈바꿈시켰다. 스위스 취리히의 작은 건물에서 12명의 직원이 일하던 FIFA는 그 열 배가 넘는 조직으로 확장되었고, 보다 많은 수익을 얻는 기관으로 발전했다. FIFA의 상업화에는 비판의 목소리도 있었지만, FIFA의 조직 안정성은 결과적으로 산하 연맹들과 회원국들에게 이익이 되었고 1998년까지 아벨란제는 24년간 장기 집권을 할 수 있었다.\\n1998년 6월 8일 스위스 출신의 제프 블라터가 새로운 회장으로 취임하면서 2016년까지 18년간 장기 집권을 하였다. FIFA 내 부패 혐의로 미국 연방검찰의 체포 위협 때문에 회장직을 사임하였다.(스위스인은 스위스 이외 외국으로 형사강제송환되지 아니한다.)\\n2016년 2월 스위스 출신의 유럽축구연맹 사무총장 잔니 인판티노가 새로운 회장으로 취임하면서 오늘에 이르고 있다.\\n\\n\\n== 구조 ==\\nFIFA는 스위스 취리히에 본부를 두고 있기 때문에, 스위스 법의 적용을 받는 단체이다.\\nFIFA의 최고 결정기관은 FIFA 총회이며, 이는 각 가입국의 대표들로 이루어져 있다. 1년에 한번 정기회의를 가지며, 1998년부터 요청이 있을 경우에 한해 1년에 한번 더 특별회의를 열 수 있다. FIFA 총회만이 회원국 승인, 재정 등 FIFA의 주요 사항을 결정할 수 있다.\\n총회는 FIFA 회장과 부회장, 사무총장, 집행위원회를 선출한다. 회장과 사무총장은 FIFA의 주요 구성원으로서 FIFA의 관리경영을 맡게 되며, 208개 회원국과 집행위원회에 의해 실행된다.\\nFIFA 회장에 의해 임명되는 FIFA 집행위원회는, 총회가 구성되는 사이사이에 중요한 결정기관의 역할을 한다. FIFA는 분야별로 전 세계에 걸쳐 총회 또는 집행위원회의 보좌를 상설위원회를 두고 있으며, 재정위원회, 징계위원회, 심판위원회 등이 있다.\\nFIFA는 각종 기관(총회, 집행위원회 등) 외에도 국가별 축구 협회를 산하에 두고 있으며, 대륙별 축구 연맹은 FIFA의 회원이 아닌, FIFA가 관리기관으로서 만든 연맹이다. FIFA가 주관하는 대회에 참가하기 위해서는 각 국가의 축구 협회는 FIFA에 가입해야 하며, 회원가입 신청시에는 FIFA는 물론 지역적으로 자국이 속한 대륙에 회원국 등록을 신청해야 한다.\\n\\n6개 대륙별 축구연맹으로 구성되어 있다.\\n\\n유럽과 아시아의 구분이 모호한 근동 지방에 있는 나라는 소속 연맹을 선택할 수 있다. 그에 따라 러시아, 터키, 아르메니아, 아제르바이잔, 조지아, 키프로스는 국토의 일부 혹은 전체가 아시아에 위치해 있음에도 유럽 축구 연맹에 가입되어 있다. 이스라엘은 국토 전체가 완전히 아시아에 속해 있지만 중동과의 정치적인 사유로 1994년에 유럽 축구 연맹에 가입했다. 2002년에는 카자흐스탄이 아시아 축구 연맹에서 유럽 축구 연맹으로 이동했으며, 2006년 1월에는 오스트레일리아가 오세아니아 축구 연맹에서 아시아 축구 연맹으로 이동했다.\\n가이아나와 수리남은 남아메리카 대륙에 위치해있음에도 불구하고 북중미카리브 축구 연맹에 소속되어 있다.\\n오세아니아 축구 연맹에 소속된 나라들은 FIFA 가맹국이 적고 FIFA 랭킹이 낮은 편이기 때문에 대륙에서 유일하게 0.5장의 본선 티켓만 배분받아 본선 진출을 완전히 보장받지 못하고 있다. 따라서 지역 예선에서 1위를 해도 대륙 간의 플레이오프에 진출해서 승리해야만 본선에 직행할 수 있다. 물론 패배할 경우 FIFA 월드컵 본선에 직행할 수 없게 되어 오세아니아에 출전할 수 있는 나라가 없게 된다.\\n가장 최근의 예선 시스템으로는, 오세아니아 지역예선의 1위는 남아메리카 축구 연맹 지역예선의 5위와 플레이오프를 벌여야 하고, 오스트레일리아는 이 단계에서 계속 진출 실패를 거듭해왔기 때문에, 경기력의 질적 향상과 월드컵 진출상의 용이를 위해 아시아 축구 연맹으로 이동했다. 이에 따라 오스트레일리아는 AFC 아시안컵과 AFC 챔피언스리그 등 아시아 축구 연맹이 주관하는 대회에 참가할 수 있게 되었다.\\n오스트레일리아는 아시아 축구 연맹으로의 이동이 결정되고부터 불과 몇 달 후에 우루과이와의 플레이오프전에서 승부차기까지 가는 사투 끝에 2006년 FIFA 월드컵 예선을 통과했다. FIFA는 당초 2010년 FIFA 월드컵 예선으로 오세아니아 예선 1위를 아시아 월드컵 최종 예선에 포함시킬 계획이었으나, 오세아니아의 1위와 아시아 팀의 월드컵 플레이오프가 결정되면서 무산되었다.\\nFIFA는 211개 축구 협회와 각각의 남성 대표팀 및 129개의 여성 대표팀을 인정하고 있다. (축구 ', 'url': 'https://ko.wikipedia.org/wiki/%EA%B5%AD%EC%A0%9C_%EC%B6%95%EA%B5%AC_%EC%97%B0%EB%A7%B9', 'title': '국제 축구 연맹'}]}\n"
     ]
    }
   ],
   "source": [
    "wikipedia_search.invoke({\"query\":\"FIFA\"})"
   ]
  },
  {
   "cell_type": "code",
   "execution_count": null,
   "metadata": {},
   "outputs": [
    {
     "name": "stderr",
     "output_type": "stream",
     "text": [
      "C:\\Users\\tjddm\\AppData\\Local\\Temp\\ipykernel_9620\\4095474825.py:6: LangChainBetaWarning: This API is in beta and may change in the future.\n",
      "  search_wiki = wikipedia_search.as_tool(\n"
     ]
    }
   ],
   "source": [
    "class SearchWikiArgsSchema(BaseModel):\n",
    "    query : str = Field(... , description=\"위키백과사전에서 검색할 키워드, 검색어\")\n",
    "    max_results: int = Field(default=2, description=\"검색할 문서의 개수\")\n",
    "\n",
    "# Runnable을 tool로 생성 - Runnable.as_tool(툴 정보)\n",
    "search_wiki = wikipedia_search.as_tool(\n",
    "    name=\"search_wikipedia\", # 툴 이름\n",
    "    description=(\"위키백과사전에서 정보를 검색할 떄 사용하는 tool.\"\n",
    "                 \"사용자의 질문과 관련된 위키백과사전의 문서를 지정한 개수만큼 검색해서 반환합니다.\" \\\n",
    "                 \"일반적인 지식이나 배경 정보가 필요한 경우 유용하게 사용할 수 있는 tool입니다.\"\n",
    "                  ), # 툴 설명\n",
    "    args_schema= SearchWikiArgsSchema # 파라미터(parameters)에 대한 설계 -> pydantic으로 모델 정의\n",
    ")"
   ]
  },
  {
   "cell_type": "code",
   "execution_count": 8,
   "metadata": {},
   "outputs": [
    {
     "name": "stdout",
     "output_type": "stream",
     "text": [
      "search_wikipedia\n",
      "위키백과사전에서 정보를 검색할 떄 사용하는 tool.사용자의 질문과 관련된 위키백과사전의 문서를 지정한 개수만큼 검색해서 반환합니다.일반적인 지식이나 배경 정보가 필요한 경우 유용하게 사용할 수 있는 tool입니다.\n"
     ]
    },
    {
     "data": {
      "text/plain": [
       "{'properties': {'query': {'description': '위키백과사전에서 검색할 키워드, 검색어',\n",
       "   'title': 'Query',\n",
       "   'type': 'string'},\n",
       "  'max_results': {'default': 2,\n",
       "   'description': '검색할 문서의 개수',\n",
       "   'title': 'Max Results',\n",
       "   'type': 'integer'}},\n",
       " 'required': ['query'],\n",
       " 'title': 'SearchWikiArgsSchema',\n",
       " 'type': 'object'}"
      ]
     },
     "execution_count": 8,
     "metadata": {},
     "output_type": "execute_result"
    }
   ],
   "source": [
    "print(search_wiki.name)\n",
    "print(search_wiki.description)\n",
    "search_wiki.args_schema.model_json_schema()"
   ]
  },
  {
   "cell_type": "code",
   "execution_count": 10,
   "metadata": {},
   "outputs": [
    {
     "data": {
      "text/plain": [
       "{'result': [{'content': '삼국 시대(三國時代)는 기원전 1세기부터 7세기까지 고구려, 백제, 신라 삼국이 남만주와 한반도 일대에서 중앙집권적 국가로 발전한 시기를 일컫는다. 신라와 당나라 연합군에 의해 백제(660년), 고구려(668년) 차례로 멸망하면서 한반도 중남부에는 통일신라 북부에는 발해가 들어서 남북국 시대로 넘어간다. 각국의 전성기로 평가되는 시기는 백제 4세기, 고구려 5세기, 신라 6세기 순이다.\\n일부 사학자들은 실질적으로 삼국이 정립되어 삼국 시대가 전개된 것은 고구려, 백제의 기원인 부여가 멸망하고(494년), 또, 가야가 멸망한 562년 이후부터 신라가 백제를 정복한 660년까지 약 100년 동안의 기간 뿐이므로 부여, 가야를 포함하여 오국 시대 혹은 사국 시대라는 용어를 사용하기도 한다.\\n\\n\\n== 역사 ==\\n\\n\\n=== 삼국 시대의 배경과 원삼국 시대 ===\\n기원전 108년 왕검성(王儉城)을 함락시키고 고조선을 멸망시킨 한나라는 옛 고조선 지역에 네 개의 군을 설치했다. 한사군(낙랑군, 임둔군, 진번군, 현도군)의 지배 시기에 고조선 사회의 기존 상급 통합조직은 해체되었다. 중국계 주민들은 군현 내의 주요 지점에 설치된 토성에 주로 거주하면서 지배 족속으로 군림하였고, 고조선인은 촌락 단위로 군현 조직에 예속되었다. 또한 8조의 법금이 갑자기 60여 조로 늘어난 데서 알 수 있듯이, 고조선 사회의 전통적인 사회질서와 문화에 큰 혼란이 일어났다. 경제적으로도 군현의 공적인 수취 외에 한나라인들에 의한 수탈적인 상거래가 성행하였다. 이러한 결과를 강요한 한군현의 지배에 대한 저항이 곧이어 일어났고, 그 결과 2개 군이 폐지되고 1개 군이 축소되는 변동이 잇따랐다.\\n그러나 고조선 사회의 중심부였던 한반도 서북 지방에 설치된 낙랑군은 점차 지배 영역이 축소되긴 했지만 기원후 4세기 초까지 유지되었다. 3세기 초에는 낙랑군의 남부 지역에 대방군이 설치되었다. 낙랑군 관할에 있었던 조선현(朝鮮縣), 즉 평양 지역은 비단 한반도 서북부의 문화와 정치의 중심지였을 뿐 아니라, 한반도 남부와 일본 열도 지역의 주민과 중국 사이의 무역 중계지로서 번영하였다. 이 지역에는 상당수의 중국계 주민이 이주해 와 정착하였다.\\n이들이 남긴 무덤들에선 한나라에서 반입된 고급품과 낙랑군 현지에서 생산한 물품들이 출토되어 당시 번성한 낙랑군의 면모를 보여준다. 그러나 이런 높은 수준의 문물은 토성을 중심으로 거주하던 중국계 주민들과 낙랑군의 지배 조직의 말단에 편입된 일부 고조선계의 수장층에 한정되어 보급되었으며, 다수의 고조선인의 생활과는 무관한 것이었다. 나아가 이런 한나라의 군현들과 그 세력의 원천인 한나라는 군현의 외곽 지역에 거주하던 예·맥·한민족 사회의 정치적인 성장을 압박하는 외적 요소로 작용하였다. 한편 한나라 군현을 통해 유입되는 선진문물은 토착사회의 변화를 자극하였다.\\n이러한 상황에서 한편으로는 한나라 군현의 세력에 대항하고, 다른 한편으로는 그 선진 문물을 수용하면서, 예·맥·한민족 사회에서 삼한(마한, 변한, 진한), 고구려, 옥저, 동예, 부여 등 여러 국가들이 차례로 등장하였다. 이 국가들이 오랜 기간에 걸친 상호 통합의 과정을 거쳐, 고구려·백제·신라 등의 국가로 정립하게 되었다.\\n\\n\\n=== 삼국의 정립 ===\\n\\n\\n==== 고구려 ====\\n한족과의 투쟁 과정 속에서 점차 세력을 확대한 고구려는 유리왕 때에 이르러 전한의 뒤를 이어 일어난 신나라와 충돌할 정도로 그 세력이 성장하였다. 이어 태조왕 때부터는 강력한 대외 발전을 꾀하여 옥저를 복속시키고 요동군과 현도군을 자주 공격하였다. 또 고구려는 요하 지역을 차지하고 있던 공손씨를 축출하고, 중국이 삼국의 대치로 혼란에 빠진 틈을 타 위나라를 공격하는 등 정복 국가로서의 면모를 과시하며 집권 체제를 가다듬었다.\\n이후 고국천왕 대에 이르러 을파소 등의 유능한 대신이 등장하고, 진대법 등을 통해 내정의 안정을 꾀하였지만, 고국천왕 사후에 고발기를 비롯한 고국천왕의 형제들 간에 일어난 싸움으로 혼란이 일어나기도 하였다. 그러나 발기의 난에서 고발기를 진압하고 왕이 된 산상왕에 이어 동천왕이 즉위하면서부터는 다시 대륙과의 관계를 다양하게 전개, 위나라에는 능동적으로 대처하고 신라를 지속적으로 침범하였다.\\n이러한 정복전쟁 결과 고구려는 막대한 토지와 인간을 점유하였고, 왕실을 고정하고 부자상속을 확립하였으며, 또 5부를 개편하는 등 국가체제의 정비를 꾀하여 4세기에는 율령제가 갖추어진 고대 국가로서 발전하였다.\\n\\n\\n==== 신라와 가야 ====\\n지금의 경주를 중심으로 성장한 사로국은 중국의 금속 문화와 접촉할 기회가 적어서 고구려·백제보다 사회 발전이 늦었다. 그러나 점차적으로 동부 해안에서 정착해 온 석씨와 연합하여 연맹체를 이루어 갔다. 그리하여 탈해 이사금 때는 국호를 계림(鷄林)으로 고치고, 6촌을 개편하여 6부의 행정 구역으로 하였다. 이 시대에는 부족장의 칭호도 군장이라는 의미로 해석되는 ‘거서간’에서 무당 또는 제사장을 의미하는 ‘차차웅(次次雄)’으로, 그리고 다시 부족장 권한의 ‘계승자’라는 의미의 ‘이사금(尼師今)’으로 변했다. 그 후 미추왕의 즉위를 기점으로 김알지의 후손 김씨가 왕위를 차지하였다.\\n한편 금속문화의 전파가 늦었던 변한의 여러 부족 국가들도 3세기 이후에는 가야라는 연맹체를 형성하기 시작했다.\\n\\n\\n==== 백제 ====\\n백제의 경우 고구려 계통에서 시작했을 것이라고 추측된다. 고구려에서 도주한 온조 집단이 처음에 정착한 곳은 미추홀과 위례성이었고, 비류가 자살하면서 위례로 합쳐졌다. 고조선 멸망 후부터 파상적으로 피난해 온조왕·초고왕의 재위 기간을 거치는 동안 토착 부족 세력을 결합하면서 점차\\n낙랑·대방의 침략을 받은 한강 유역의 부족 국가들은 이에 대항하기 위하여, 보다 큰 연맹체가 요구되자 백제를 맹주로 공고히 단결함으로써 백제는 부족국가로 성장할 수 있었다.\\n\\n\\n=== 삼국의 발전 ===\\n대륙에서 후한(後漢)이 망하고 위(魏)·촉(蜀)·오(吳)의 세 나라가 각축을 벌이는 가운데, 반도에 대한 영향력이 점차 감소되고 있던 4세기에서 6세기에 이르는 시기에 삼국은 정치적으로 큰 발전을 이룩하였다. 그 중 하나는 고대 국가로의 발돋움을 위한 체제 정비이고, 다른 하나는 정복 국가로의 변모다.\\n한국의 고대 국가 체제 정비는 부족 국가 체제의 약화에서 시작되었다. 원래 부족장의 권한이 강대한 상태에서는 지방 분권적인 사회 조직이 유지될 뿐 강력한 왕권이 존재할 수 없었다. 부족 연맹 사회의 우두머리라 할 부족 연맹장으로서의 왕도 각 부족장의 통치권을 인정한 바탕 위에서 성립된 것이기 때문에 강력한 전제 왕권의 행사가 불가능하였다. 따라서 왕권의 세습이나 왕권의 부자상속 같은 것도 기대할 수 없었고, 다만 선거로써 왕좌(王座)가 변동되었다. 부여에서 가뭄과 장마의 책임을 왕에게 돌려 왕을 폐위하거나 죽인 사례나 고구려의 오부(五部) 사이에서 왕권의 이동이 있었던 사실, 신라의 세 성(박·석·김)이 왕위를 번갈아 이어받았던 것은 이러한 것을 잘 말해준다. \\n그러나 부족 연맹장의 세력은 점차 증대되고 부족장의 권한은 점차 약화되었을 뿐만 아니라, 지방의 부족장을 중앙으로 끌어올려 적당한 지위를 주어 귀족으로 편제시켰다. 신라의 골품제에서 나타난 진골을 비롯한 각 두품이나 17개의 관등, 또 고구려와 백제에서의 관등의 성립 등은 이러한 것을 잘 말해주고 있다. 이를 통해 단순한 부족 연맹의 군장이었던 왕은 종래의 부족장이 선출하던 연약한 왕권의 소유자에서 부자 상속이 가능한 절대적인 군주로 군림할 수 있었다.\\n또 하나, 고대 왕권의 구축과 고대 국가 체제의 정비에는 제도적인 면에 앞서서 사상 통일이 요청되었다. 과거의 지방 분권적이고 부족적인 사상 체계를 고대 국가적인 사상 체계로 승화시키는 데에는 보다 포괄적이고 고차원적인 이념과 윤리 강령이 필요하였다. 한국의 고대에서 고구려 (372년), 백제 (384년), 신라 (527년)가 각각 불교를 수입, 혹은 공인하는 것이 바로 이 시기였다는 것은 불교가 고대 국가 체제의 정비에서 관념 체계적인 역할을 감당했다는 것을 의미한다.\\n고구려에서 고대 국가 체제를 정비한 소수림왕과 고국양왕의 뒤를 이어 즉위한 광개토왕과 장수왕이 요동',\n",
       "   'url': 'https://ko.wikipedia.org/wiki/%EC%82%BC%EA%B5%AD_%EC%8B%9C%EB%8C%80',\n",
       "   'title': '삼국 시대'}]}"
      ]
     },
     "execution_count": 10,
     "metadata": {},
     "output_type": "execute_result"
    }
   ],
   "source": [
    "search_wiki.invoke({\"query\":\"삼국시대\"})"
   ]
  },
  {
   "cell_type": "code",
   "execution_count": 2,
   "metadata": {},
   "outputs": [
    {
     "data": {
      "text/plain": [
       "{'result': [{'content': '삼국 시대(三國時代)는 기원전 1세기부터 7세기까지 고구려, 백제, 신라 삼국이 남만주와 한반도 일대에서 중앙집권적 국가로 발전한 시기를 일컫는다. 신라와 당나라 연합군에 의해 백제(660년), 고구려(668년) 차례로 멸망하면서 한반도 중남부에는 통일신라 북부에는 발해가 들어서 남북국 시대로 넘어간다. 각국의 전성기로 평가되는 시기는 백제 4세기, 고구려 5세기, 신라 6세기 순이다.\\n일부 사학자들은 실질적으로 삼국이 정립되어 삼국 시대가 전개된 것은 고구려, 백제의 기원인 부여가 멸망하고(494년), 또, 가야가 멸망한 562년 이후부터 신라가 백제를 정복한 660년까지 약 100년 동안의 기간 뿐이므로 부여, 가야를 포함하여 오국 시대 혹은 사국 시대라는 용어를 사용하기도 한다.\\n\\n\\n== 역사 ==\\n\\n\\n=== 삼국 시대의 배경과 원삼국 시대 ===\\n기원전 108년 왕검성(王儉城)을 함락시키고 고조선을 멸망시킨 한나라는 옛 고조선 지역에 네 개의 군을 설치했다. 한사군(낙랑군, 임둔군, 진번군, 현도군)의 지배 시기에 고조선 사회의 기존 상급 통합조직은 해체되었다. 중국계 주민들은 군현 내의 주요 지점에 설치된 토성에 주로 거주하면서 지배 족속으로 군림하였고, 고조선인은 촌락 단위로 군현 조직에 예속되었다. 또한 8조의 법금이 갑자기 60여 조로 늘어난 데서 알 수 있듯이, 고조선 사회의 전통적인 사회질서와 문화에 큰 혼란이 일어났다. 경제적으로도 군현의 공적인 수취 외에 한나라인들에 의한 수탈적인 상거래가 성행하였다. 이러한 결과를 강요한 한군현의 지배에 대한 저항이 곧이어 일어났고, 그 결과 2개 군이 폐지되고 1개 군이 축소되는 변동이 잇따랐다.\\n그러나 고조선 사회의 중심부였던 한반도 서북 지방에 설치된 낙랑군은 점차 지배 영역이 축소되긴 했지만 기원후 4세기 초까지 유지되었다. 3세기 초에는 낙랑군의 남부 지역에 대방군이 설치되었다. 낙랑군 관할에 있었던 조선현(朝鮮縣), 즉 평양 지역은 비단 한반도 서북부의 문화와 정치의 중심지였을 뿐 아니라, 한반도 남부와 일본 열도 지역의 주민과 중국 사이의 무역 중계지로서 번영하였다. 이 지역에는 상당수의 중국계 주민이 이주해 와 정착하였다.\\n이들이 남긴 무덤들에선 한나라에서 반입된 고급품과 낙랑군 현지에서 생산한 물품들이 출토되어 당시 번성한 낙랑군의 면모를 보여준다. 그러나 이런 높은 수준의 문물은 토성을 중심으로 거주하던 중국계 주민들과 낙랑군의 지배 조직의 말단에 편입된 일부 고조선계의 수장층에 한정되어 보급되었으며, 다수의 고조선인의 생활과는 무관한 것이었다. 나아가 이런 한나라의 군현들과 그 세력의 원천인 한나라는 군현의 외곽 지역에 거주하던 예·맥·한민족 사회의 정치적인 성장을 압박하는 외적 요소로 작용하였다. 한편 한나라 군현을 통해 유입되는 선진문물은 토착사회의 변화를 자극하였다.\\n이러한 상황에서 한편으로는 한나라 군현의 세력에 대항하고, 다른 한편으로는 그 선진 문물을 수용하면서, 예·맥·한민족 사회에서 삼한(마한, 변한, 진한), 고구려, 옥저, 동예, 부여 등 여러 국가들이 차례로 등장하였다. 이 국가들이 오랜 기간에 걸친 상호 통합의 과정을 거쳐, 고구려·백제·신라 등의 국가로 정립하게 되었다.\\n\\n\\n=== 삼국의 정립 ===\\n\\n\\n==== 고구려 ====\\n한족과의 투쟁 과정 속에서 점차 세력을 확대한 고구려는 유리왕 때에 이르러 전한의 뒤를 이어 일어난 신나라와 충돌할 정도로 그 세력이 성장하였다. 이어 태조왕 때부터는 강력한 대외 발전을 꾀하여 옥저를 복속시키고 요동군과 현도군을 자주 공격하였다. 또 고구려는 요하 지역을 차지하고 있던 공손씨를 축출하고, 중국이 삼국의 대치로 혼란에 빠진 틈을 타 위나라를 공격하는 등 정복 국가로서의 면모를 과시하며 집권 체제를 가다듬었다.\\n이후 고국천왕 대에 이르러 을파소 등의 유능한 대신이 등장하고, 진대법 등을 통해 내정의 안정을 꾀하였지만, 고국천왕 사후에 고발기를 비롯한 고국천왕의 형제들 간에 일어난 싸움으로 혼란이 일어나기도 하였다. 그러나 발기의 난에서 고발기를 진압하고 왕이 된 산상왕에 이어 동천왕이 즉위하면서부터는 다시 대륙과의 관계를 다양하게 전개, 위나라에는 능동적으로 대처하고 신라를 지속적으로 침범하였다.\\n이러한 정복전쟁 결과 고구려는 막대한 토지와 인간을 점유하였고, 왕실을 고정하고 부자상속을 확립하였으며, 또 5부를 개편하는 등 국가체제의 정비를 꾀하여 4세기에는 율령제가 갖추어진 고대 국가로서 발전하였다.\\n\\n\\n==== 신라와 가야 ====\\n지금의 경주를 중심으로 성장한 사로국은 중국의 금속 문화와 접촉할 기회가 적어서 고구려·백제보다 사회 발전이 늦었다. 그러나 점차적으로 동부 해안에서 정착해 온 석씨와 연합하여 연맹체를 이루어 갔다. 그리하여 탈해 이사금 때는 국호를 계림(鷄林)으로 고치고, 6촌을 개편하여 6부의 행정 구역으로 하였다. 이 시대에는 부족장의 칭호도 군장이라는 의미로 해석되는 ‘거서간’에서 무당 또는 제사장을 의미하는 ‘차차웅(次次雄)’으로, 그리고 다시 부족장 권한의 ‘계승자’라는 의미의 ‘이사금(尼師今)’으로 변했다. 그 후 미추왕의 즉위를 기점으로 김알지의 후손 김씨가 왕위를 차지하였다.\\n한편 금속문화의 전파가 늦었던 변한의 여러 부족 국가들도 3세기 이후에는 가야라는 연맹체를 형성하기 시작했다.\\n\\n\\n==== 백제 ====\\n백제의 경우 고구려 계통에서 시작했을 것이라고 추측된다. 고구려에서 도주한 온조 집단이 처음에 정착한 곳은 미추홀과 위례성이었고, 비류가 자살하면서 위례로 합쳐졌다. 고조선 멸망 후부터 파상적으로 피난해 온조왕·초고왕의 재위 기간을 거치는 동안 토착 부족 세력을 결합하면서 점차\\n낙랑·대방의 침략을 받은 한강 유역의 부족 국가들은 이에 대항하기 위하여, 보다 큰 연맹체가 요구되자 백제를 맹주로 공고히 단결함으로써 백제는 부족국가로 성장할 수 있었다.\\n\\n\\n=== 삼국의 발전 ===\\n대륙에서 후한(後漢)이 망하고 위(魏)·촉(蜀)·오(吳)의 세 나라가 각축을 벌이는 가운데, 반도에 대한 영향력이 점차 감소되고 있던 4세기에서 6세기에 이르는 시기에 삼국은 정치적으로 큰 발전을 이룩하였다. 그 중 하나는 고대 국가로의 발돋움을 위한 체제 정비이고, 다른 하나는 정복 국가로의 변모다.\\n한국의 고대 국가 체제 정비는 부족 국가 체제의 약화에서 시작되었다. 원래 부족장의 권한이 강대한 상태에서는 지방 분권적인 사회 조직이 유지될 뿐 강력한 왕권이 존재할 수 없었다. 부족 연맹 사회의 우두머리라 할 부족 연맹장으로서의 왕도 각 부족장의 통치권을 인정한 바탕 위에서 성립된 것이기 때문에 강력한 전제 왕권의 행사가 불가능하였다. 따라서 왕권의 세습이나 왕권의 부자상속 같은 것도 기대할 수 없었고, 다만 선거로써 왕좌(王座)가 변동되었다. 부여에서 가뭄과 장마의 책임을 왕에게 돌려 왕을 폐위하거나 죽인 사례나 고구려의 오부(五部) 사이에서 왕권의 이동이 있었던 사실, 신라의 세 성(박·석·김)이 왕위를 번갈아 이어받았던 것은 이러한 것을 잘 말해준다. \\n그러나 부족 연맹장의 세력은 점차 증대되고 부족장의 권한은 점차 약화되었을 뿐만 아니라, 지방의 부족장을 중앙으로 끌어올려 적당한 지위를 주어 귀족으로 편제시켰다. 신라의 골품제에서 나타난 진골을 비롯한 각 두품이나 17개의 관등, 또 고구려와 백제에서의 관등의 성립 등은 이러한 것을 잘 말해주고 있다. 이를 통해 단순한 부족 연맹의 군장이었던 왕은 종래의 부족장이 선출하던 연약한 왕권의 소유자에서 부자 상속이 가능한 절대적인 군주로 군림할 수 있었다.\\n또 하나, 고대 왕권의 구축과 고대 국가 체제의 정비에는 제도적인 면에 앞서서 사상 통일이 요청되었다. 과거의 지방 분권적이고 부족적인 사상 체계를 고대 국가적인 사상 체계로 승화시키는 데에는 보다 포괄적이고 고차원적인 이념과 윤리 강령이 필요하였다. 한국의 고대에서 고구려 (372년), 백제 (384년), 신라 (527년)가 각각 불교를 수입, 혹은 공인하는 것이 바로 이 시기였다는 것은 불교가 고대 국가 체제의 정비에서 관념 체계적인 역할을 감당했다는 것을 의미한다.\\n고구려에서 고대 국가 체제를 정비한 소수림왕과 고국양왕의 뒤를 이어 즉위한 광개토왕과 장수왕이 요동',\n",
       "   'url': 'https://ko.wikipedia.org/wiki/%EC%82%BC%EA%B5%AD_%EC%8B%9C%EB%8C%80',\n",
       "   'title': '삼국 시대'}]}"
      ]
     },
     "execution_count": 2,
     "metadata": {},
     "output_type": "execute_result"
    }
   ],
   "source": [
    "from tools import search_wiki as s_wiki\n",
    "\n",
    "s_wiki.invoke({\"query\":\"삼국시대\"})"
   ]
  },
  {
   "cell_type": "markdown",
   "metadata": {},
   "source": [
    "## Vector Store(Vector 저장소) tool\n",
    "\n",
    "### text loading -> Document 생성\n",
    "- 레스토랑 메뉴를 vector store에 저장한다.\n",
    "1. 메뉴 text 를 로딩한다.\n",
    "2. 각 메뉴의 내용(음식이름, 메뉴설명, 파일명)을 넣어 Document를 생성한다."
   ]
  },
  {
   "cell_type": "code",
   "execution_count": null,
   "metadata": {},
   "outputs": [],
   "source": []
  },
  {
   "cell_type": "code",
   "execution_count": null,
   "metadata": {},
   "outputs": [],
   "source": []
  },
  {
   "cell_type": "code",
   "execution_count": null,
   "metadata": {},
   "outputs": [],
   "source": []
  },
  {
   "cell_type": "markdown",
   "metadata": {},
   "source": [
    "# Agent 구현\n",
    "\n",
    "- `create_tool_calling_agent()` 를 이용해 Agent 생성\n",
    "    - 파라미터\n",
    "        - llm: 에이전트로 사용할 LLM.\n",
    "        - tools: 에이전트가 접근할 수 있는 도구들의 목록.\n",
    "        - prompt_template: 에이전트의 동작을 안내하는 프롬프트 템플릿.\n",
    "            - 이름이 `agent_scratchpad` 인 MessagesPlaceholder 추가\n",
    "                - Agent 가 tool을 호출해서 받은 정보를 prompt에 추가하는 placeholder.\n",
    "- AgentExecutor를 이용해 Agent 실행\n",
    "    - Agent의 동작을 관리하는 클래스.\n",
    "    - AgentExecutor는 사용자 요청을 처리할 때 까지 적절한 tool들을 호출하고 최종 결과를 생성해 반환하는 작업을 처리한다.\n",
    "    - 파라미터\n",
    "        - agent: 실행할 Agent.\n",
    "        - tools: Agent가 사용할 tool들 목록."
   ]
  },
  {
   "cell_type": "code",
   "execution_count": null,
   "metadata": {},
   "outputs": [],
   "source": []
  },
  {
   "cell_type": "code",
   "execution_count": null,
   "metadata": {},
   "outputs": [],
   "source": []
  },
  {
   "cell_type": "code",
   "execution_count": null,
   "metadata": {},
   "outputs": [],
   "source": []
  }
 ],
 "metadata": {
  "kernelspec": {
   "display_name": "lang_env",
   "language": "python",
   "name": "python3"
  },
  "language_info": {
   "codemirror_mode": {
    "name": "ipython",
    "version": 3
   },
   "file_extension": ".py",
   "mimetype": "text/x-python",
   "name": "python",
   "nbconvert_exporter": "python",
   "pygments_lexer": "ipython3",
   "version": "3.12.11"
  }
 },
 "nbformat": 4,
 "nbformat_minor": 4
}
