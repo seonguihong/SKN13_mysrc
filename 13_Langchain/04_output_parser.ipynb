{
 "cells": [
  {
   "cell_type": "markdown",
   "id": "b8e37759-3e94-4abc-bac5-334a0c0adc1f",
   "metadata": {},
   "source": [
    "# Output Parser\n",
    "**Output Parser**는 대규모 언어 모델(LLM, Large Language Model)의 출력 결과를 **애플리케이션에서 활용할 수 있도록 적절한 형식으로 변환**하는 도구이다.\n",
    "- LLM은 일반적으로 텍스트 형태로 응답을 생성하지만, 이 텍스트는 그대로 활용하기 어려운 경우가 많다.\n",
    "- Output Parser는 이러한 **비구조적 텍스트 데이터를 구조화된 데이터로 변환**하여 프로그램에서 활용 가능하도록 만든다.\n",
    "- 예를 들어, 키워드 리스트를 뽑거나 JSON 형식으로 정보를 변환하는 데 사용된다.\n",
    "\n",
    "## 주요 Output Parser 종류\n",
    "\n",
    "1. **CommaSeparatedListOutputParser**\n",
    "   - 쉼표로 구분된 텍스트를 파싱하여 리스트 형태로 변환한다.\n",
    "   - 예: `\"사과, 바나나, 포도\"` → `[\"사과\", \"바나나\", \"포도\"]`\n",
    "2. **JsonOutputParser**\n",
    "   - LLM의 출력이 JSON 형식일 때 이를 Python의 `dict` 객체로 변환한다.\n",
    "   - JSON(JavaScript Object Notation)은 데이터 구조를 표현하기 위한 경량 포맷이다.\n",
    "3. **PydanticOutputParser**\n",
    "   - JSON 데이터를 Python의 [Pydantic](https://docs.pydantic.dev) 모델로 변환한다.\n",
    "   - Pydantic은 데이터 유효성 검사와 설정 관리에 널리 사용되는 Python 라이브러리이다.\n",
    "4. **StrOutputParser**\n",
    "   - 모델의 출력 결과를 단순 문자열로 반환한다.\n",
    "   - Chat 기반 모델은 Message 객체의 속성으로 LLM 결과를 반환한다. 거기에서 응답 문자열만 추출해서 반환한다.\n",
    "> `JsonOutputParser`, `PydanticOutputParser` 는 모두 Pydantic을 사용해 데이터 구조(schema)를 정의하고, 해당 구조에 따라 출력을 검증하고 변환한다.\n",
    "\n",
    "## 주요 메소드\n",
    "- `parse(text: str)`\n",
    "  - LLM이 생성한 문자열 응답을 받아 정해진 구조로 변환하여 반환한다.\n",
    "- `get_format_instructions() -> str`\n",
    "  - 각 OutputParer가 변환할 수있는 형식으로 LLM이 응답하도록 하는 프롬프트 텍스트를 반환한다.\n",
    "  - 이 내용을 프롬프트에 넣어서 LLM이 정확한 포맷으로 응답하도록 유도한다.\n",
    "  \n",
    "## 참고\n",
    "- Output Parser는 일반적으로 [`Runnable`](05_chaing_LECL.ipynb#Runnable) 인터페이스를 상속하여 구현되며, `invoke()` 메서드를 통해 실행할 수 있다.\n",
    "- `invoke()`는 내부적으로 `parse()`를 호출하여 동작한다.\n",
    "- 필요한 경우 Output Parser를 직접 구현하여 사용자 정의 출력 포맷을 처리할 수도 있다. \n"
   ]
  },
  {
   "cell_type": "code",
   "execution_count": 1,
   "id": "fb27467a-c221-4464-8d63-9cd5c390c7db",
   "metadata": {},
   "outputs": [
    {
     "data": {
      "text/plain": [
       "True"
      ]
     },
     "execution_count": 1,
     "metadata": {},
     "output_type": "execute_result"
    }
   ],
   "source": [
    "from dotenv import load_dotenv\n",
    "\n",
    "load_dotenv()"
   ]
  },
  {
   "cell_type": "markdown",
   "id": "f08d0e64-7c94-45fc-8070-b76965ed0943",
   "metadata": {},
   "source": [
    "## StrOutputParser\n",
    "- 모델(LLM)의 출력 결과를 string으로 변환하여 반환하는 output parser.\n",
    "- Chat Model은  Message 객체에서 content 속성값을 추출하여 문자열로 반환한다."
   ]
  },
  {
   "cell_type": "code",
   "execution_count": 6,
   "id": "8a12c88d-3b3c-48e2-8137-8e25a49075db",
   "metadata": {},
   "outputs": [],
   "source": [
    "from langchain.prompts import ChatPromptTemplate\n",
    "from langchain_openai import ChatOpenAI\n",
    "from langchain_core.output_parsers import StrOutputParser\n",
    "\n",
    "# 프롬프트 생성\n",
    "prompt_template = ChatPromptTemplate.from_template(\n",
    "    \"한국의 {topic} 관련된 속담을 {count}개 알려줘.\"\n",
    ")\n",
    "\n",
    "prompt = prompt_template.format(topic = \"호랑이\", count = 2)\n",
    "prompt # 'Human: 한국의 호랑이 관련된 속담을 2개 알려줘.' -> human : 사용자\n",
    "\n",
    "# LLM 모델 생성.\n",
    "model = ChatOpenAI(model_name=\"gpt-4o-mini\")\n",
    "\n",
    "# LLM 모델에 prompt 전달하고 응답 받기.\n",
    "# prompt -> llm model -> response\n",
    "response = model.invoke(prompt)"
   ]
  },
  {
   "cell_type": "code",
   "execution_count": 7,
   "id": "acc69603-8a16-4980-bd0d-3b8a2e112b1a",
   "metadata": {},
   "outputs": [
    {
     "name": "stdout",
     "output_type": "stream",
     "text": [
      "응답결과 :  한국에서 호랑이에 관련된 속담으로는 다음과 같은 것들이 있습니다.\n",
      "\n",
      "1. **호랑이 굴에 가야 호랑이를 잡는다.**  \n",
      "   의미: 위험을 감수해야 원하는 것을 얻을 수 있다는 의미입니다.\n",
      "\n",
      "2. **호랑이보다 무섭다는 소리도 있다.**  \n",
      "   의미: 어떤 것이 호랑이보다도 더 무섭거나 두려운 상황이 있을 수 있다는 것을 강조하는 말입니다. \n",
      "\n",
      "이 속담들은 호랑이를 통해 인간의 삶의 교훈을 담고 있습니다.\n"
     ]
    }
   ],
   "source": [
    "print(\"응답결과 : \", response.content)"
   ]
  },
  {
   "cell_type": "code",
   "execution_count": 8,
   "id": "a2c3d245-ff2f-4587-bf2c-9815f6878030",
   "metadata": {},
   "outputs": [
    {
     "data": {
      "text/plain": [
       "{'token_usage': {'completion_tokens': 119,\n",
       "  'prompt_tokens': 25,\n",
       "  'total_tokens': 144,\n",
       "  'completion_tokens_details': {'accepted_prediction_tokens': 0,\n",
       "   'audio_tokens': 0,\n",
       "   'reasoning_tokens': 0,\n",
       "   'rejected_prediction_tokens': 0},\n",
       "  'prompt_tokens_details': {'audio_tokens': 0, 'cached_tokens': 0}},\n",
       " 'model_name': 'gpt-4o-mini-2024-07-18',\n",
       " 'system_fingerprint': 'fp_62a23a81ef',\n",
       " 'id': 'chatcmpl-BgLUZuUqbepDPzZczawiK1AOCulhI',\n",
       " 'service_tier': 'default',\n",
       " 'finish_reason': 'stop',\n",
       " 'logprobs': None}"
      ]
     },
     "execution_count": 8,
     "metadata": {},
     "output_type": "execute_result"
    }
   ],
   "source": [
    "response.response_metadata"
   ]
  },
  {
   "cell_type": "code",
   "execution_count": 9,
   "id": "930a9811",
   "metadata": {},
   "outputs": [
    {
     "name": "stdout",
     "output_type": "stream",
     "text": [
      "한국에서 호랑이에 관련된 속담으로는 다음과 같은 것들이 있습니다.\n",
      "\n",
      "1. **호랑이 굴에 가야 호랑이를 잡는다.**  \n",
      "   의미: 위험을 감수해야 원하는 것을 얻을 수 있다는 의미입니다.\n",
      "\n",
      "2. **호랑이보다 무섭다는 소리도 있다.**  \n",
      "   의미: 어떤 것이 호랑이보다도 더 무섭거나 두려운 상황이 있을 수 있다는 것을 강조하는 말입니다. \n",
      "\n",
      "이 속담들은 호랑이를 통해 인간의 삶의 교훈을 담고 있습니다.\n"
     ]
    }
   ],
   "source": [
    "parser = StrOutputParser() # Message 객체에서 content 속성(메세지)의 값만 추출. -> 객체.content\n",
    "res = parser.invoke(response) # 모델의 응답 결과\n",
    "print(res)"
   ]
  },
  {
   "cell_type": "code",
   "execution_count": 17,
   "id": "42a48528",
   "metadata": {},
   "outputs": [],
   "source": [
    "# prompt_template -> model -> output parser\n",
    "\n",
    "chain = prompt_template | model | parser\n",
    "\n",
    "res = chain.invoke({\"topic\":\"사람의 정신력\", \"count\":3})"
   ]
  },
  {
   "cell_type": "code",
   "execution_count": 15,
   "id": "19ec2125",
   "metadata": {},
   "outputs": [
    {
     "name": "stdout",
     "output_type": "stream",
     "text": [
      "한국에는 사람의 정신력과 관련된 여러 속담이 있습니다. 그중 세 가지를 소개합니다.\n",
      "\n",
      "1. **\"고생 끝에 낙이 온다\"** - 힘든 시기를 잘 이겨내면 결국 좋은 결과가 온다는 뜻으로, 인내와 정신력을 강조합니다.\n",
      "\n",
      "2. **\"우물 안 개구리\"** - 한정된 환경에서만 살아온 사람은 넓은 세상을 알지 못한다는 의미로, 새로운 도전과 경험이 중요함을 시사합니다. 이는 정신적으로 성장하고 극복해 나가는 힘을 나타낼 수 있습니다.\n",
      "\n",
      "3. **\"백 번 듣는 것이 한 번 보는 것만 못하다\"** - 직접 경험하는 것이 얼마나 중요한지를 강조하는 속담으로, 이를 통해 얻는 통찰력과 정신력의 중요성을 나타냅니다.\n",
      "\n",
      "이 속담들은 모두 어려움을 극복하고 성장해 나가는 정신적 힘에 대한 메시지를 담고 있습니다.\n"
     ]
    }
   ],
   "source": [
    "print(res)"
   ]
  },
  {
   "cell_type": "markdown",
   "id": "85c38dec-0141-468f-9145-96c7062db100",
   "metadata": {},
   "source": [
    "## CommaSeparatedListOutputParser\n",
    "\n",
    "- 쉼표로 구분된 텍스트를 파싱하여 리스트 형태로 변환한다.\n",
    "  - \"a,b,c\" => ['a','b','c']"
   ]
  },
  {
   "cell_type": "code",
   "execution_count": 18,
   "id": "e7676198-380d-44e9-90a5-1e400244add8",
   "metadata": {},
   "outputs": [
    {
     "name": "stdout",
     "output_type": "stream",
     "text": [
      "['사과', '배', '귤', '수박', '오렌지']\n"
     ]
    }
   ],
   "source": [
    "from langchain_core.output_parsers import CommaSeparatedListOutputParser\n",
    "\n",
    "parser = CommaSeparatedListOutputParser()\n",
    "\n",
    "res_txt = \"사과,배,귤,수박,오렌지\"\n",
    "\n",
    "print(parser.invoke(res_txt))"
   ]
  },
  {
   "cell_type": "code",
   "execution_count": 20,
   "id": "4b93df61-56af-450b-9255-d5c5026cd2a2",
   "metadata": {},
   "outputs": [
    {
     "name": "stdout",
     "output_type": "stream",
     "text": [
      "Your response should be a list of comma separated values, eg: `foo, bar, baz` or `foo,bar,baz`\n"
     ]
    }
   ],
   "source": [
    "# 출력 형식을 지정하는 프롬프트를 조회\n",
    "\n",
    "format_string = parser.get_format_instructions()\n",
    "print(format_string)"
   ]
  },
  {
   "cell_type": "code",
   "execution_count": 23,
   "id": "dfdc3bb2-ff64-4be7-87d0-f0445babad33",
   "metadata": {},
   "outputs": [],
   "source": [
    "from textwrap import dedent\n",
    "# dedent -> 들여쓰기 사용할시 공백이 그대로 입력되기 때문에 없애주기 위해 사용\n",
    "\n",
    "prompt_template = ChatPromptTemplate.from_template(\n",
    "    dedent(\"\"\"\n",
    "    # instruction\n",
    "    {subject}의 이름 다섯개를 나열해주세요.\n",
    "    \n",
    "    # output indecator\n",
    "    {format_instructions}\n",
    "    \"\"\"),\n",
    "    partial_variables = {\"format_instructions\" : parser.get_format_instructions()}\n",
    ")\n",
    "# partial_variables = {변수명:넣을값,...} : 템플릿의 placehoder 변수에 넣을값을 PromptTemplate객체를 생성할 때 넣겠다.\n",
    "# plasceholder에 넣을 값이 있는데 함수나 메서드호출을 통해 그 값을 가져와야 하는 경우 사용.\n",
    "\n",
    "model = ChatOpenAI(model_name=\"gpt-4o-mini\")\n",
    "\n",
    "#prompt 객체 생성\n",
    "prompt = prompt_template.invoke({\"subject\":\"동물\"})\n",
    "#LLM에 요청\n",
    "response = model.invoke(prompt)"
   ]
  },
  {
   "cell_type": "code",
   "execution_count": 30,
   "id": "605aa936",
   "metadata": {},
   "outputs": [
    {
     "name": "stdout",
     "output_type": "stream",
     "text": [
      "호랑이, 사자, 코끼리, 원숭이, 기린\n",
      "<class 'list'>\n",
      "['호랑이', '사자', '코끼리', '원숭이', '기린']\n"
     ]
    }
   ],
   "source": [
    "# 응답 확인\n",
    "print(response.content)\n",
    "# parser를 이용해 List로 변환.\n",
    "res = parser.invoke(response)\n",
    "print(type(res))\n",
    "print(res)"
   ]
  },
  {
   "cell_type": "code",
   "execution_count": 31,
   "id": "4a381487",
   "metadata": {},
   "outputs": [
    {
     "data": {
      "text/plain": [
       "['소나타', '아반떼', '모닝', '싼타페', '쏘렌토']"
      ]
     },
     "execution_count": 31,
     "metadata": {},
     "output_type": "execute_result"
    }
   ],
   "source": [
    "# chain으로 구성\n",
    "chain = prompt_template | model | parser\n",
    "\n",
    "res = chain.invoke({\"subject\":\"한국산 자동차\"})\n",
    "res"
   ]
  },
  {
   "cell_type": "markdown",
   "id": "abe378b6-26db-4218-a0b1-64ff93fa044d",
   "metadata": {},
   "source": [
    "## JsonOutputParser\n",
    "\n",
    "- JSON 형식의 응답을 dictionary로 반환한다.\n",
    "- JSON 형식을 정하려는 경우 [Pydantic](Ref_typing_Pydantic.ipynb)을 이용해 JSON 스키마를 정의하여 JsonOutputParser 생성시 전달한다.\n",
    "  - Pydantic 모델클래스를 이용해 LLM 모델이 응답할 때 json의 어떤 key에 어떤 응답을 작성할 지 Field로 정의한다.\n",
    "  - Schema 지정은 필수는 아니다. \n",
    "- LLM이 JSON Schema를 따르는 형태로 응답을 하면 JsonOutputParser는 Dictionary로 변환한다."
   ]
  },
  {
   "cell_type": "code",
   "execution_count": 33,
   "id": "d0274a4d-c883-4473-b0d3-f9ac3f3e13fd",
   "metadata": {},
   "outputs": [
    {
     "name": "stdout",
     "output_type": "stream",
     "text": [
      "<class 'dict'>\n",
      "{'name': '홍길동', 'age': 20, 'address': '서울', 'hobby': ['독서', '게임']}\n"
     ]
    },
    {
     "data": {
      "text/plain": [
       "('홍길동', '서울')"
      ]
     },
     "execution_count": 33,
     "metadata": {},
     "output_type": "execute_result"
    }
   ],
   "source": [
    "from langchain_core.output_parsers import JsonOutputParser\n",
    "\n",
    "parser = JsonOutputParser()\n",
    "\n",
    "res_text = \"\"\"\n",
    "{\n",
    "    \"name\":\"홍길동\",\n",
    "    \"age\":20,\n",
    "    \"address\":\"서울\",\n",
    "    \"hobby\": [\"독서\",\"게임\"]\n",
    "}\n",
    "\"\"\"\n",
    "\n",
    "res_dict = parser.invoke(res_text)\n",
    "print(type(res_dict))\n",
    "print(res_dict)\n",
    "res_dict[\"name\"], res_dict[\"address\"]"
   ]
  },
  {
   "cell_type": "code",
   "execution_count": 34,
   "id": "15f82523-783e-41ea-99c1-798157a296a1",
   "metadata": {},
   "outputs": [
    {
     "data": {
      "text/plain": [
       "'Return a JSON object.'"
      ]
     },
     "execution_count": 34,
     "metadata": {},
     "output_type": "execute_result"
    }
   ],
   "source": [
    "parser.get_format_instructions()"
   ]
  },
  {
   "cell_type": "code",
   "execution_count": 35,
   "id": "74aeb5b0-bc53-4129-a728-0a1d3252cefc",
   "metadata": {},
   "outputs": [],
   "source": [
    "prompt_template = ChatPromptTemplate.from_template(\n",
    "    \"{name}에 대해서 설명해줘.\\n{format_instructions}\",\n",
    "    partial_variables = {\"format_instructions\" : parser.get_format_instructions()}\n",
    ")\n",
    "\n",
    "model = ChatOpenAI(model_name=\"gpt-4o-mini\")\n",
    "\n",
    "prompt = prompt_template.invoke({\"name\":\"아이폰\"})\n",
    "\n",
    "res = model.invoke(prompt)"
   ]
  },
  {
   "cell_type": "code",
   "execution_count": 47,
   "id": "a9d2ae03",
   "metadata": {},
   "outputs": [
    {
     "name": "stdout",
     "output_type": "stream",
     "text": [
      "```json\n",
      "{\n",
      "  \"제품명\": \"아이폰\",\n",
      "  \"제조사\": \"애플(Apple Inc.)\",\n",
      "  \"첫 출시\": \"2007년 6월 29일\",\n",
      "  \"현재 모델\": [\n",
      "    {\n",
      "      \"모델명\": \"아이폰 15\",\n",
      "      \"출시일\": \"2023년 9월 22일\",\n",
      "      \"특징\": [\n",
      "        \"향상된 카메라 성능\",\n",
      "        \"A17 칩 탑재\",\n",
      "        \"USB-C 포트 지원\"\n",
      "      ]\n",
      "    },\n",
      "    {\n",
      "      \"모델명\": \"아이폰 15 프로\",\n",
      "      \"출시일\": \"2023년 9월 22일\",\n",
      "      \"특징\": [\n",
      "        \"타이타늄 디자인\",\n",
      "        \"프로Motion 디스플레이\",\n",
      "        \"향상된 배터리 수명\"\n",
      "      ]\n",
      "    }\n",
      "  ],\n",
      "  \"운영체제\": \"iOS\",\n",
      "  \"주요 기능\": [\n",
      "    \"터치 스크린\",\n",
      "    \"Face ID/Touch ID\",\n",
      "    \"앱 스토어\",\n",
      "    \"아이클라우드(iCloud) 서비스\",\n",
      "    \"영상 통화(페이스타임)\"\n",
      "  ],\n",
      "  \"사용자베이스\": \"전 세계 수억 명 이상의 사용자\"\n",
      "}\n",
      "```\n"
     ]
    }
   ],
   "source": [
    "# print(res.content)\n",
    "\n",
    "res_dict = parser.invoke(res)\n",
    "\n",
    "print(res.content)"
   ]
  },
  {
   "cell_type": "code",
   "execution_count": 56,
   "id": "d25b17a1",
   "metadata": {},
   "outputs": [
    {
     "name": "stdout",
     "output_type": "stream",
     "text": [
      "The output should be formatted as a JSON instance that conforms to the JSON schema below.\n",
      "\n",
      "As an example, for the schema {\"properties\": {\"foo\": {\"title\": \"Foo\", \"description\": \"a list of strings\", \"type\": \"array\", \"items\": {\"type\": \"string\"}}}, \"required\": [\"foo\"]}\n",
      "the object {\"foo\": [\"bar\", \"baz\"]} is a well-formatted instance of the schema. The object {\"properties\": {\"foo\": [\"bar\", \"baz\"]}} is not well-formatted.\n",
      "\n",
      "Here is the output schema:\n",
      "```\n",
      "{\"properties\": {\"name\": {\"description\": \"제품의 이름\", \"title\": \"Name\", \"type\": \"string\"}, \"info\": {\"description\": \"제품의 대한 정보\", \"title\": \"Info\", \"type\": \"string\"}, \"release_date\": {\"description\": \"제품이 출시된 일시. yyyy-mm-dd 형식\", \"title\": \"Release Date\", \"type\": \"string\"}, \"price\": {\"description\": \"제품의 한국 가격\", \"title\": \"Price\", \"type\": \"integer\"}}, \"required\": [\"name\", \"info\", \"release_date\", \"price\"]}\n",
      "```\n"
     ]
    }
   ],
   "source": [
    "# 출력 스키마를 정의\n",
    "# json 형식을 설계\n",
    "\n",
    "from pydantic import BaseModel, Field\n",
    "\n",
    "class ItemSchema(BaseModel):\n",
    "    # Json에 포함될 항목들을 class변수로 정의. / 변수명 : 타입 = Field(설명)\n",
    "    name : str = Field(description=\"제품의 이름\")\n",
    "    info : str = Field(description=\"제품의 대한 정보\")\n",
    "    release_date : str = Field(description=\"제품이 출시된 일시. yyyy-mm-dd 형식\")\n",
    "    price : int = Field(description=\"제품의 한국 가격\")\n",
    "\n",
    "parser = JsonOutputParser(pydantic_object=ItemSchema)\n",
    "print(parser.get_format_instructions())\n",
    "\n",
    "prompt_template = ChatPromptTemplate.from_template(\n",
    "    dedent(\"\"\"\n",
    "    # instruction\n",
    "    {name}에 대해서 설명해주세요.\n",
    "           \n",
    "    # output indicator\n",
    "    {format_instructions}\n",
    "    \"\"\"),\n",
    "    partial_variables={\"format_instructions\":parser.get_format_instructions()}\n",
    ")\n",
    "\n",
    "model = ChatOpenAI(model_name=\"gpt-4o-mini\")"
   ]
  },
  {
   "cell_type": "code",
   "execution_count": 58,
   "id": "99d9d94d",
   "metadata": {},
   "outputs": [
    {
     "name": "stdout",
     "output_type": "stream",
     "text": [
      "{\n",
      "  \"name\": \"갤럭시 S23\",\n",
      "  \"info\": \"갤럭시 S23는 삼성의 최신 스마트폰으로, 뛰어난 카메라 성능과 고속 프로세서를 탑재하여 사용자에게 최상의 경험을 제공합니다. 또한 AMOLED 디스플레이와 5G 연결을 지원하여 매끄러운 사용자 경험을 제공합니다.\",\n",
      "  \"release_date\": \"2023-02-01\",\n",
      "  \"price\": 999000\n",
      "}\n"
     ]
    }
   ],
   "source": [
    "p = prompt_template.invoke({\"name\":\"갤럭시폰\"})\n",
    "\n",
    "res = model.invoke(p)\n",
    "print(res.content)\n",
    "\n",
    "response = parser.invoke(res)"
   ]
  },
  {
   "cell_type": "code",
   "execution_count": 59,
   "id": "97d32bf9",
   "metadata": {},
   "outputs": [
    {
     "data": {
      "text/plain": [
       "{'name': '갤럭시 S23',\n",
       " 'info': '갤럭시 S23는 삼성의 최신 스마트폰으로, 뛰어난 카메라 성능과 고속 프로세서를 탑재하여 사용자에게 최상의 경험을 제공합니다. 또한 AMOLED 디스플레이와 5G 연결을 지원하여 매끄러운 사용자 경험을 제공합니다.',\n",
       " 'release_date': '2023-02-01',\n",
       " 'price': 999000}"
      ]
     },
     "execution_count": 59,
     "metadata": {},
     "output_type": "execute_result"
    }
   ],
   "source": [
    "response"
   ]
  },
  {
   "cell_type": "markdown",
   "id": "6c47de9c-f028-45e0-adf7-f31239afaf2f",
   "metadata": {},
   "source": [
    "## PydanticOutputParser\n",
    "\n",
    "- JSON 형태로 받은 응답을 Pydantic 모델로 변환하여 반환한다.\n",
    "- 구현은 JsonOutputParser와 동일한데 parsing 결과를 pydantic 모델타입으로 반환한다."
   ]
  },
  {
   "cell_type": "code",
   "execution_count": 62,
   "id": "4474a71b-61aa-4877-b1ae-8d54cfc51bbe",
   "metadata": {},
   "outputs": [
    {
     "name": "stdout",
     "output_type": "stream",
     "text": [
      "The output should be formatted as a JSON instance that conforms to the JSON schema below.\n",
      "\n",
      "As an example, for the schema {\"properties\": {\"foo\": {\"title\": \"Foo\", \"description\": \"a list of strings\", \"type\": \"array\", \"items\": {\"type\": \"string\"}}}, \"required\": [\"foo\"]}\n",
      "the object {\"foo\": [\"bar\", \"baz\"]} is a well-formatted instance of the schema. The object {\"properties\": {\"foo\": [\"bar\", \"baz\"]}} is not well-formatted.\n",
      "\n",
      "Here is the output schema:\n",
      "```\n",
      "{\"properties\": {\"name\": {\"description\": \"제품의 이름\", \"title\": \"Name\", \"type\": \"string\"}, \"info\": {\"description\": \"제품의 대한 정보\", \"title\": \"Info\", \"type\": \"string\"}, \"release_date\": {\"description\": \"제품이 출시된 일시. yyyy-mm-dd 형식\", \"title\": \"Release Date\", \"type\": \"string\"}, \"price\": {\"description\": \"제품의 한국 가격\", \"title\": \"Price\", \"type\": \"integer\"}}, \"required\": [\"name\", \"info\", \"release_date\", \"price\"]}\n",
      "```\n"
     ]
    }
   ],
   "source": [
    "from langchain_core.output_parsers import PydanticOutputParser\n",
    "\n",
    "parser = PydanticOutputParser(pydantic_object=ItemSchema)\n",
    "# JsonOutputParser와 동일한 format instruction을 생성.\n",
    "# 응답 : Json -> Parser : Pydantic Model 객체로 변환.\n",
    "print(parser.get_format_instructions())"
   ]
  },
  {
   "cell_type": "code",
   "execution_count": 63,
   "id": "1b95da11-4334-4d01-a33f-b48148659f57",
   "metadata": {},
   "outputs": [],
   "source": [
    "prompt_template = ChatPromptTemplate.from_template(\n",
    "    dedent(\"\"\"\n",
    "    # instruction\n",
    "    {name}에 대해서 설명해주세요.\n",
    "           \n",
    "    # output indicator\n",
    "    {format_instructions}\n",
    "    \"\"\"),\n",
    "    partial_variables={\"format_instructions\":parser.get_format_instructions()}\n",
    ")\n",
    "\n",
    "model = ChatOpenAI(model_name=\"gpt-4o-mini\")"
   ]
  },
  {
   "cell_type": "code",
   "execution_count": 65,
   "id": "38662eb2-a7c2-473b-bdb0-a5054048458a",
   "metadata": {},
   "outputs": [],
   "source": [
    "prompt = prompt_template.invoke({\"name\":\"Mac Book\"})\n",
    "res = model.invoke(prompt)\n",
    "response = parser.invoke(res)"
   ]
  },
  {
   "cell_type": "code",
   "execution_count": null,
   "id": "f2977085-d5bc-438f-91d4-14227e66761b",
   "metadata": {},
   "outputs": [
    {
     "data": {
      "text/plain": [
       "__main__.ItemSchema"
      ]
     },
     "execution_count": 66,
     "metadata": {},
     "output_type": "execute_result"
    }
   ],
   "source": [
    "type(response)"
   ]
  },
  {
   "cell_type": "code",
   "execution_count": 70,
   "id": "3fe21886",
   "metadata": {},
   "outputs": [
    {
     "name": "stdout",
     "output_type": "stream",
     "text": [
      "제품이름 MacBook\n",
      "정보: MacBook은 애플(Apple)에서 개발한 노트북 컴퓨터로, 뛰어난 성능과 디자인을 자랑합니다. 고해상도 Retina 디스플레이, 강력한 배터리 수명, 그리고 macOS 운영체제를 기반으로 합니다.\n",
      "2006-05-16 1500000\n"
     ]
    }
   ],
   "source": [
    "print(\"제품이름\", response.name)\n",
    "print(\"정보:\", response.info)\n",
    "print(response.release_date, response.price)"
   ]
  },
  {
   "cell_type": "code",
   "execution_count": 71,
   "id": "e167dd3d",
   "metadata": {},
   "outputs": [
    {
     "data": {
      "text/plain": [
       "ItemSchema(name='아이폰 14', info='아이폰 14는 애플이 제조한 스마트폰으로, 첨단 기능과 향상된 카메라 성능을 제공합니다. iOS 운영 체제를 기반으로 하며, 사용자가 쉽고 직관적으로 사용할 수 있도록 설계되었습니다.', release_date='2022-09-16', price=1099000)"
      ]
     },
     "execution_count": 71,
     "metadata": {},
     "output_type": "execute_result"
    }
   ],
   "source": [
    "chain = prompt_template | model | parser\n",
    "\n",
    "response = chain.invoke({\"name\":\"아이폰\"})\n",
    "response"
   ]
  }
 ],
 "metadata": {
  "kernelspec": {
   "display_name": "lang_env",
   "language": "python",
   "name": "python3"
  },
  "language_info": {
   "codemirror_mode": {
    "name": "ipython",
    "version": 3
   },
   "file_extension": ".py",
   "mimetype": "text/x-python",
   "name": "python",
   "nbconvert_exporter": "python",
   "pygments_lexer": "ipython3",
   "version": "3.12.11"
  }
 },
 "nbformat": 4,
 "nbformat_minor": 5
}
