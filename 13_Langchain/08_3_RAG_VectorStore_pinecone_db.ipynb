{
 "cells": [
  {
   "cell_type": "markdown",
   "id": "bfa57b58-f9a5-4c3c-95e5-d8e44daace77",
   "metadata": {},
   "source": [
    "# Pinecone(파인콘)\n",
    "- https://www.pinecone.io/\n",
    "- Pinecone은 AI 및 머신러닝 애플리케이션을 지원하기 위해 설계된 클라우드 기반 벡터 데이터베이스다. \n",
    "- 고차원 벡터 임베딩을 효율적으로 저장하고 검색할 수 있는 플랫폼을 제공하며, 사용자가 의미 기반 검색, 추천 시스템, 이미지 유사성 검색 등 다양한 기능을 애플리케이션에 손쉽게 통합할 수 있도록 돕는다.\n",
    "-  현재 Milvus, Weaviate, Chroma 등 다른 벡터 데이터베이스들과 비교했을 때 가장 선호되는 솔루션이다.\n",
    "- Vector Database 순위: https://db-engines.com/en/ranking/vector+dbms\n",
    "\n",
    "## 장점\n",
    "- **유사성 검색 지원**\n",
    "  -  Pinecone은 데이터 간의 유사성을 기반으로 가장 가까운 결과를 제공하는 유사성 검색 기능을 지원한다. \n",
    "- **초저 지연 속도** \n",
    "  - 초당 수십억 개의 항목을 검색할 수 있으며, 지연 속도는 50ms 미만으로 매우 빠르다. \n",
    "- **실시간 데이터 처리**\n",
    "  - 새로운 데이터의 즉각적인 추가 및 인덱싱 지원.\n",
    "  - 다운타임(downtime-시스템을 이용할 수 없는 시간) 없이 최신 데이터에 지속적으로 접근 가능.\n",
    "- **확장성** \n",
    "  - AI 응용 프로그램이 확장됨에 따라 데이터 용량이 커질 경우에도 안정적인 성능을 제공한다. \n",
    "- **클라우드 기반 완전 관리형 인프라 제공** \n",
    "  - Pinecone은 클라우드에서 벡터 데이터를 저장하고 관리하기 때문에 개발자가 직접 인프라를 관리할 필요가 없다. \n",
    "  - 데이터 백업, 복구, 보안, 스케일링, 장애 복구등과 같은 인프라 운영을 pinecone이 담당하므로 개발자는 데이터에 집중할 수 있다.\n",
    "- **개발자 친화성**\n",
    "  -  API와 Python 클라이언트를 제공하여 쉽게 시작하고 사용할 수 있으며, 다양한 프로그래밍 언어와 프레임워크와의 통합이 원활하다. \n"
   ]
  },
  {
   "cell_type": "markdown",
   "id": "b2f32d71-f03d-42c6-a24b-e4a796bbbf54",
   "metadata": {},
   "source": [
    "## package 설치\n",
    "  - `pip install pinecone-client -qU`\n",
    "  - `pip install langchain-pinecone -qU`\n",
    "\n",
    "## Pinecone API Key 생성\n",
    "- **로그인 후 API Key를 생성하고 복사한다.**\n",
    "  \n",
    "![pinecone_apikey.png](figures/pinecone_apikey.png)\n",
    "- **복사한 API Key를 환경변수에 등록한다.**\n",
    "    - 변수명: `PINECONE_API_KEY` \n",
    "    - `.env`에 등록한 뒤 `dotenv` 모듈을 이용해 Loading."
   ]
  },
  {
   "cell_type": "markdown",
   "id": "0b6b413c-d1c8-4e7f-b74e-c3fd70eef940",
   "metadata": {},
   "source": [
    "## Index 생성\n",
    "- **Index**는 RDMBS에서의 Database 역할을 한다.\n",
    "- Main -> Database -> Indexes -> Create Index\n",
    "\n",
    "![pinecone_index_create.png](figures/pinecone_index_create.png)\n",
    "\n",
    "- **Index 이름, Dimensions, Metric** 을 넣고 생성한다. (Create Index)\n",
    "    - 나머지 항목은 유료 Plan에서만 변경할 수있다.\n",
    "    - **Dimensions**\n",
    "        -  Vector 차원 수\n",
    "        -  아래 Pretrained Embedding 모델을 선택하면 그것에 맞춰 dimension을 잡아준다. \n",
    "    - **Metric**: 유사도 확인시 사용할 방법\n",
    "\n",
    "![pinecone_index_create2](figures/pinecone_index_create2.png)"
   ]
  },
  {
   "cell_type": "markdown",
   "id": "1a06c75f-7ab4-426d-864b-91b3db413ae8",
   "metadata": {},
   "source": [
    "# Pinecone API 이용해 연동\n",
    "\n",
    "## Pinecone Client 초기화(생성)"
   ]
  },
  {
   "cell_type": "code",
   "execution_count": 7,
   "id": "0d5935d4",
   "metadata": {},
   "outputs": [],
   "source": [
    "from dotenv import load_dotenv\n",
    "import os\n",
    "\n",
    "load_dotenv()\n",
    "\n",
    "PINECORN_API_KEY = os.getenv(\"PINECORN_API_KEY\")"
   ]
  },
  {
   "cell_type": "code",
   "execution_count": 5,
   "id": "23f729dc-1793-44d5-a9c3-6a7f3d5e04a5",
   "metadata": {},
   "outputs": [],
   "source": [
    "from pinecone import Pinecone\n",
    "\n",
    "# PINECORN 서비스와 연결 (client 초기화)\n",
    "\n",
    "pc = Pinecone(api_key=PINECORN_API_KEY)"
   ]
  },
  {
   "cell_type": "code",
   "execution_count": 9,
   "id": "e41fa29f-a15e-458d-929e-281ede971bfa",
   "metadata": {},
   "outputs": [
    {
     "data": {
      "text/plain": [
       "{'dimension': 3,\n",
       " 'index_fullness': 0.0,\n",
       " 'metric': 'cosine',\n",
       " 'namespaces': {},\n",
       " 'total_vector_count': 0,\n",
       " 'vector_type': 'dense'}"
      ]
     },
     "execution_count": 9,
     "metadata": {},
     "output_type": "execute_result"
    }
   ],
   "source": [
    "INDEX_NAME = \"example\"\n",
    "NAME_SPACE = \"embedding_3d\"\n",
    "# index : DB, namespace : Table -> Index 안에 namespace라는 분할 공간 존재 / DB -> Table느낌\n",
    "\n",
    "# Index와 연결(DB와 연결)\n",
    "index = pc.Index(INDEX_NAME)\n",
    "\n",
    "# index정보를 조회\n",
    "index_info = index.describe_index_stats()\n",
    "index_info"
   ]
  },
  {
   "cell_type": "markdown",
   "id": "a558d61b-6bc0-4dc8-946f-0909ff4d5282",
   "metadata": {},
   "source": [
    "## Record Upsert\n",
    "- **Upsert**: index에 vector data를 저장.\n",
    "- `Index.upsert()`: Index에 vector data를 저장 및 수정.\n",
    "  - **vectors**: upsert할 Record들을 List에 담아서 전달한다.\n",
    "    - 개별 데이터는 dict 형태로 전달한다. **key는 id, values, metadata**로 구성된다.\n",
    "      - **\"id\"**: Record의 고유 ID. 같은 id로 upsert하면 기존 데이터를 수정한다.\n",
    "        - 문자열(string) 타입 사용.\n",
    "        - 각 벡터의 ID는 인덱스 내에서 고유해야 한다.\n",
    "        - 최대 길이는 **512바이트** 이다.\n",
    "        - 사용 가능한 문자는 영숫자, `-`, `_`, `#`, `:` 이다.\n",
    "        - 대소문자를 구분한다.\n",
    "      - **\"values\"**: Record의 의미를 나타내는 Embedding Vector. Record 조회할 때 유사도 계산에 사용된다.\n",
    "      - **\"metadata\"**: Record의 추가 정보. 보통 실제 조회결과로 사용할 데이터를 key-value 쌍의 dictionary로 저장한다. 조회할 때 조회조건으로도 사용할 수 있다. (optional)\n",
    "        - value에는 **문자열, 정수, 실수, boolean, 문자열리스트**가 가능하다. value에 null은 올 수 없다. 이 경우 해당 key를 제거한다.\n",
    "  - **namespace**: Record들을 저장할 Index 내의 namespace 이름\n",
    "\n",
    "> - **Namespace**\n",
    ">     - Index 내의 데이터들을 분리하기 위한 이름 공간. Index 내에 여러 개의 namespace를 생성할 수 있다.\n",
    ">    - namespace를 사용하면 Index 내에 여러 개의 데이터 집합을 저장하고, 각 데이터 집합을 분리하여 관리할 수 있다.\n",
    ">    - 관계형 데이터베이스 기준에서 **Index는 Database, namespace는 Table**로 볼 수 있다. "
   ]
  },
  {
   "cell_type": "code",
   "execution_count": 10,
   "id": "4f80360c-033f-4621-96d1-4b2679ddaa86",
   "metadata": {},
   "outputs": [],
   "source": [
    "# Index가 3차원 Embedding vector를 value로 입력 받로고 생성했기 때문에 value에 Embedding vector를 전달\n",
    "# Raw text를 입력받을 경우 value에 text를 입력.\n",
    "upsert_dats=[\n",
    "        {\n",
    "            \"id\": \"vec1\",  \n",
    "            \"values\": [1.0, 1.5, 2.0],\n",
    "            \"metadata\": {\"genre\": \"drama\"}\n",
    "        }, {\n",
    "            \"id\": \"vec2\",\n",
    "            \"values\": [2.0, 1.0, 0.5],\n",
    "            \"metadata\": {\"genre\": \"action\"}\n",
    "        }, {\n",
    "            \"id\": \"vec3\",\n",
    "            \"values\": [0.1, 0.3, 0.5],\n",
    "            \"metadata\": {\"genre\": \"drama\"}\n",
    "        }, {\n",
    "            \"id\": \"vec4\",\n",
    "            \"values\": [1.0, 2.5, 3.5],\n",
    "            \"metadata\": {\"genre\": \"action\"}\n",
    "        }, {\n",
    "            \"id\": \"vec5\",\n",
    "            \"values\": [3.0, 1.2, 1.3],\n",
    "            \"metadata\": {\"genre\": \"action\"}\n",
    "        }, {\n",
    "            \"id\": \"vec6\",\n",
    "            \"values\": [0.3, 1.1, 2.5],\n",
    "            \"metadata\": {\"genre\": \"코메디\"}\n",
    "        }\n",
    "    ]"
   ]
  },
  {
   "cell_type": "code",
   "execution_count": 11,
   "id": "e1697089-5281-4cb7-b3b0-06bb64bbb663",
   "metadata": {},
   "outputs": [
    {
     "data": {
      "text/plain": [
       "{'upserted_count': 6}"
      ]
     },
     "execution_count": 11,
     "metadata": {},
     "output_type": "execute_result"
    }
   ],
   "source": [
    "index.upsert(\n",
    "    vectors=upsert_dats,\n",
    "    namespace=NAME_SPACE, # 데이터를 저장할 namespace 지정. 생략 -> default : 기본 namespace에 저장.\n",
    ")"
   ]
  },
  {
   "cell_type": "code",
   "execution_count": 13,
   "id": "5fac2d32-165c-479e-ade3-970af3ace25d",
   "metadata": {},
   "outputs": [
    {
     "data": {
      "text/plain": [
       "{'dimension': 3,\n",
       " 'index_fullness': 0.0,\n",
       " 'metric': 'cosine',\n",
       " 'namespaces': {'embedding_3d': {'vector_count': 6}},\n",
       " 'total_vector_count': 6,\n",
       " 'vector_type': 'dense'}"
      ]
     },
     "execution_count": 13,
     "metadata": {},
     "output_type": "execute_result"
    }
   ],
   "source": [
    "index.describe_index_stats()"
   ]
  },
  {
   "cell_type": "markdown",
   "id": "f02f881a-c114-483b-9ec2-d15a8c3d4894",
   "metadata": {},
   "source": [
    "### 파인콘 Home에서 확인\n",
    "- Main -> Database -> Indexes 에서 **index**를 선택한다.\n",
    "- Upsert된 데이터를 확인할 수있다.\n",
    "- 직접 값을 넣어 저장된 데이터 중 유사도 높은 K개 조회를 할 수있다.\n",
    "![pinecone_index_search.png](figures/pinecone_index_search.png)"
   ]
  },
  {
   "cell_type": "markdown",
   "id": "4444d324-e0c0-456c-b32b-220c61f4818b",
   "metadata": {},
   "source": [
    "## Query(조회하기)\n",
    "- `Index.list(namespace)`\n",
    "    -  namespace에 있는 모든 record 의 id들 조회\n",
    "-  `Index.fetch(ids, namespace)`\n",
    "    -  namespace의 지정한 id의 recored들을 조회\n",
    "    -  ids: list - 조회하려는 id들을 리스트로 묶어 전달\n",
    "- `Index.query()`\n",
    "    - query vector(조회하려는 vector)와 유사도가 높은 record들 조회 \n",
    "    - namespace: 대상 namespace\n",
    "    - vector: query vector\n",
    "    - top_k: query vector와 유사한 것 몇개를 조회할 지 설정\n",
    "    - include_values: value 조회결과에 포함 여부\n",
    "    - include_metadata: metadata 조회결과에 포함 여부\n",
    "    - filter: Meta data 값을 이용해 추가 조회조건을 지정한다.\n",
    "- filter에서 사용하는 연산자.\n",
    "    - `$eq`: 지정된 값과 동일한 메타데이터 값을 가진 벡터를 찾습니다.\n",
    "    - `$ne`: 지정된 값과 다른 메타데이터 값을 가진 벡터를 찾습니다.\n",
    "    - `$gt`: 지정된 값보다 큰 메타데이터 값을 가진 벡터를 찾습니다.\n",
    "    - `$gte`: 지정된 값보다 크거나 같은 메타데이터 값을 가진 벡터를 찾습니다.\n",
    "    - `$lt`: 지정된 값보다 작은 메타데이터 값을 가진 벡터를 찾습니다.\n",
    "    - `$lte`: 지정된 값보다 작거나 같은 메타데이터 값을 가진 벡터를 찾습니다.\n",
    "    - `$in`: 지정된 배열 내의 값 중 하나를 가진 메타데이터 값을 가진 벡터를 찾습니다.\n",
    "    - `$nin`: 지정된 배열 내의 값과 다른 메타데이터 값을 가진 벡터를 찾습니다.\n",
    "    - `$exists`: 특정 메타데이터 필드가 존재하는 벡터를 찾습니다. "
   ]
  },
  {
   "cell_type": "code",
   "execution_count": 21,
   "id": "90f5fe95-59c2-420f-a30c-a45c28c571bd",
   "metadata": {},
   "outputs": [],
   "source": [
    "response = index.query(\n",
    "    vector=[0.1,0.3,0.1], # query 임베딩 벡터값\n",
    "    namespace=NAME_SPACE,\n",
    "    top_k=3,\n",
    "    include_values=True,\n",
    "    include_metadata=True,\n",
    "    filter={\n",
    "        # \"genre\":\"drama\"\n",
    "        # \"genre\":{\"$ne\":\"drama\"}\n",
    "        \"genre\":{\"$in\":[\"drama\", \"코메디\"]}\n",
    "    }\n",
    ")"
   ]
  },
  {
   "cell_type": "code",
   "execution_count": 22,
   "id": "e7a47bdd-d762-4552-8396-fca83b904d00",
   "metadata": {},
   "outputs": [
    {
     "data": {
      "text/plain": [
       "{'matches': [{'id': 'vec1',\n",
       "              'metadata': {'genre': 'drama'},\n",
       "              'score': 0.840156496,\n",
       "              'values': [1.0, 1.5, 2.0]},\n",
       "             {'id': 'vec3',\n",
       "              'metadata': {'genre': 'drama'},\n",
       "              'score': 0.765155077,\n",
       "              'values': [0.1, 0.3, 0.5]},\n",
       "             {'id': 'vec6',\n",
       "              'metadata': {'genre': '코메디'},\n",
       "              'score': 0.669905186,\n",
       "              'values': [0.3, 1.1, 2.5]}],\n",
       " 'namespace': 'embedding_3d',\n",
       " 'usage': {'read_units': 6}}"
      ]
     },
     "execution_count": 22,
     "metadata": {},
     "output_type": "execute_result"
    }
   ],
   "source": [
    "response"
   ]
  },
  {
   "cell_type": "markdown",
   "id": "6f553d0c-7bba-4bcc-944a-877b76112928",
   "metadata": {},
   "source": [
    "## ServerLess Index 생성\n",
    "- 코드로 Index 생성"
   ]
  },
  {
   "cell_type": "code",
   "execution_count": 23,
   "id": "0439f8d6-d693-462d-a6dc-5eee24b664e8",
   "metadata": {},
   "outputs": [],
   "source": [
    "from pinecone import Pinecone\n",
    "\n",
    "\n",
    "pc = Pinecone(api_key=PINECORN_API_KEY)"
   ]
  },
  {
   "cell_type": "markdown",
   "id": "87365b49-dc20-4d9b-afb7-31d021ccf737",
   "metadata": {},
   "source": [
    "### Index들 조회\n",
    "- `Pinecone.list_indexes()`"
   ]
  },
  {
   "cell_type": "code",
   "execution_count": 25,
   "id": "daa1a960-29c1-4ff8-9168-18b36fa9769e",
   "metadata": {},
   "outputs": [
    {
     "data": {
      "text/plain": [
       "[\n",
       "    {\n",
       "        \"name\": \"example\",\n",
       "        \"metric\": \"cosine\",\n",
       "        \"host\": \"example-6zex4vj.svc.aped-4627-b74a.pinecone.io\",\n",
       "        \"spec\": {\n",
       "            \"serverless\": {\n",
       "                \"cloud\": \"aws\",\n",
       "                \"region\": \"us-east-1\"\n",
       "            }\n",
       "        },\n",
       "        \"status\": {\n",
       "            \"ready\": true,\n",
       "            \"state\": \"Ready\"\n",
       "        },\n",
       "        \"vector_type\": \"dense\",\n",
       "        \"dimension\": 3,\n",
       "        \"deletion_protection\": \"disabled\",\n",
       "        \"tags\": null\n",
       "    }\n",
       "]"
      ]
     },
     "execution_count": 25,
     "metadata": {},
     "output_type": "execute_result"
    }
   ],
   "source": [
    "pc.list_indexes()"
   ]
  },
  {
   "cell_type": "markdown",
   "id": "e0b829eb-245c-4dc1-bc18-21f8f84eeb68",
   "metadata": {},
   "source": [
    "### index 삭제\n",
    "- `Pinecone.delete_index(\"index 이름\")`"
   ]
  },
  {
   "cell_type": "code",
   "execution_count": 26,
   "id": "793d45e3-2836-4fbf-b8d5-5d327713c711",
   "metadata": {},
   "outputs": [],
   "source": [
    "pc.delete_index(\"example\")"
   ]
  },
  {
   "cell_type": "code",
   "execution_count": 28,
   "id": "feb3f26d-f9fb-4efb-80a2-452e346d5eb7",
   "metadata": {},
   "outputs": [
    {
     "data": {
      "text/plain": [
       "[]"
      ]
     },
     "execution_count": 28,
     "metadata": {},
     "output_type": "execute_result"
    }
   ],
   "source": [
    "pc.list_indexes()"
   ]
  },
  {
   "cell_type": "code",
   "execution_count": 29,
   "id": "28a8e421-7f43-473a-8d30-928a7778fbb2",
   "metadata": {},
   "outputs": [
    {
     "ename": "NotFoundException",
     "evalue": "(404)\nReason: Not Found\nHTTP response headers: HTTPHeaderDict({'content-type': 'text/plain; charset=utf-8', 'access-control-allow-origin': '*', 'vary': 'origin,access-control-request-method,access-control-request-headers', 'access-control-expose-headers': '*', 'x-pinecone-api-version': '2025-04', 'x-cloud-trace-context': 'bb23d9b330f38c6f4313bb6c0f3e5fa0', 'date': 'Mon, 16 Jun 2025 07:14:10 GMT', 'server': 'Google Frontend', 'Content-Length': '82', 'Via': '1.1 google', 'Alt-Svc': 'h3=\":443\"; ma=2592000,h3-29=\":443\"; ma=2592000'})\nHTTP response body: {\"error\":{\"code\":\"NOT_FOUND\",\"message\":\"Resource example not found\"},\"status\":404}\n",
     "output_type": "error",
     "traceback": [
      "\u001b[31m---------------------------------------------------------------------------\u001b[39m",
      "\u001b[31mNotFoundException\u001b[39m                         Traceback (most recent call last)",
      "\u001b[36mCell\u001b[39m\u001b[36m \u001b[39m\u001b[32mIn[29]\u001b[39m\u001b[32m, line 1\u001b[39m\n\u001b[32m----> \u001b[39m\u001b[32m1\u001b[39m \u001b[43mpc\u001b[49m\u001b[43m.\u001b[49m\u001b[43mdelete_index\u001b[49m\u001b[43m(\u001b[49m\u001b[33;43m\"\u001b[39;49m\u001b[33;43mexample\u001b[39;49m\u001b[33;43m\"\u001b[39;49m\u001b[43m)\u001b[49m \u001b[38;5;66;03m# 없는것 삭제 할시 Exception 발생.\u001b[39;00m\n",
      "\u001b[36mFile \u001b[39m\u001b[32mc:\\Users\\tjddm\\miniconda3\\envs\\lang_env\\Lib\\site-packages\\pinecone\\pinecone.py:238\u001b[39m, in \u001b[36mPinecone.delete_index\u001b[39m\u001b[34m(self, name, timeout)\u001b[39m\n\u001b[32m    237\u001b[39m \u001b[38;5;28;01mdef\u001b[39;00m\u001b[38;5;250m \u001b[39m\u001b[34mdelete_index\u001b[39m(\u001b[38;5;28mself\u001b[39m, name: \u001b[38;5;28mstr\u001b[39m, timeout: Optional[\u001b[38;5;28mint\u001b[39m] = \u001b[38;5;28;01mNone\u001b[39;00m):\n\u001b[32m--> \u001b[39m\u001b[32m238\u001b[39m     \u001b[38;5;28;01mreturn\u001b[39;00m \u001b[38;5;28;43mself\u001b[39;49m\u001b[43m.\u001b[49m\u001b[43mdb\u001b[49m\u001b[43m.\u001b[49m\u001b[43mindex\u001b[49m\u001b[43m.\u001b[49m\u001b[43mdelete\u001b[49m\u001b[43m(\u001b[49m\u001b[43mname\u001b[49m\u001b[43m=\u001b[49m\u001b[43mname\u001b[49m\u001b[43m,\u001b[49m\u001b[43m \u001b[49m\u001b[43mtimeout\u001b[49m\u001b[43m=\u001b[49m\u001b[43mtimeout\u001b[49m\u001b[43m)\u001b[49m\n",
      "\u001b[36mFile \u001b[39m\u001b[32mc:\\Users\\tjddm\\miniconda3\\envs\\lang_env\\Lib\\site-packages\\pinecone\\utils\\require_kwargs.py:14\u001b[39m, in \u001b[36mrequire_kwargs.<locals>.wrapper\u001b[39m\u001b[34m(*args, **kwargs)\u001b[39m\n\u001b[32m      9\u001b[39m     param_names = \u001b[38;5;28mlist\u001b[39m(inspect.signature(func).parameters.keys())[\u001b[32m1\u001b[39m:]  \u001b[38;5;66;03m# Skip self\u001b[39;00m\n\u001b[32m     10\u001b[39m     \u001b[38;5;28;01mraise\u001b[39;00m \u001b[38;5;167;01mTypeError\u001b[39;00m(\n\u001b[32m     11\u001b[39m         \u001b[33mf\u001b[39m\u001b[33m\"\u001b[39m\u001b[38;5;132;01m{\u001b[39;00mfunc.\u001b[34m__name__\u001b[39m\u001b[38;5;132;01m}\u001b[39;00m\u001b[33m() requires keyword arguments. \u001b[39m\u001b[33m\"\u001b[39m\n\u001b[32m     12\u001b[39m         \u001b[33mf\u001b[39m\u001b[33m\"\u001b[39m\u001b[33mPlease use \u001b[39m\u001b[38;5;132;01m{\u001b[39;00mfunc.\u001b[34m__name__\u001b[39m\u001b[38;5;132;01m}\u001b[39;00m\u001b[33m(\u001b[39m\u001b[38;5;132;01m{\u001b[39;00m\u001b[33m'\u001b[39m\u001b[33m, \u001b[39m\u001b[33m'\u001b[39m.join(\u001b[33mf\u001b[39m\u001b[33m'\u001b[39m\u001b[38;5;132;01m{\u001b[39;00mname\u001b[38;5;132;01m}\u001b[39;00m\u001b[33m=value\u001b[39m\u001b[33m'\u001b[39m\u001b[38;5;250m \u001b[39m\u001b[38;5;28;01mfor\u001b[39;00m\u001b[38;5;250m \u001b[39mname\u001b[38;5;250m \u001b[39m\u001b[38;5;129;01min\u001b[39;00m\u001b[38;5;250m \u001b[39mparam_names)\u001b[38;5;132;01m}\u001b[39;00m\u001b[33m)\u001b[39m\u001b[33m\"\u001b[39m\n\u001b[32m     13\u001b[39m     )\n\u001b[32m---> \u001b[39m\u001b[32m14\u001b[39m \u001b[38;5;28;01mreturn\u001b[39;00m \u001b[43mfunc\u001b[49m\u001b[43m(\u001b[49m\u001b[43m*\u001b[49m\u001b[43margs\u001b[49m\u001b[43m,\u001b[49m\u001b[43m \u001b[49m\u001b[43m*\u001b[49m\u001b[43m*\u001b[49m\u001b[43mkwargs\u001b[49m\u001b[43m)\u001b[49m\n",
      "\u001b[36mFile \u001b[39m\u001b[32mc:\\Users\\tjddm\\miniconda3\\envs\\lang_env\\Lib\\site-packages\\pinecone\\db_control\\resources\\sync\\index.py:175\u001b[39m, in \u001b[36mIndexResource.delete\u001b[39m\u001b[34m(self, name, timeout)\u001b[39m\n\u001b[32m    173\u001b[39m \u001b[38;5;129m@require_kwargs\u001b[39m\n\u001b[32m    174\u001b[39m \u001b[38;5;28;01mdef\u001b[39;00m\u001b[38;5;250m \u001b[39m\u001b[34mdelete\u001b[39m(\u001b[38;5;28mself\u001b[39m, *, name: \u001b[38;5;28mstr\u001b[39m, timeout: Optional[\u001b[38;5;28mint\u001b[39m] = \u001b[38;5;28;01mNone\u001b[39;00m) -> \u001b[38;5;28;01mNone\u001b[39;00m:\n\u001b[32m--> \u001b[39m\u001b[32m175\u001b[39m     \u001b[38;5;28;43mself\u001b[39;49m\u001b[43m.\u001b[49m\u001b[43m_index_api\u001b[49m\u001b[43m.\u001b[49m\u001b[43mdelete_index\u001b[49m\u001b[43m(\u001b[49m\u001b[43mname\u001b[49m\u001b[43m)\u001b[49m\n\u001b[32m    176\u001b[39m     \u001b[38;5;28mself\u001b[39m._index_host_store.delete_host(\u001b[38;5;28mself\u001b[39m.config, name)\n\u001b[32m    178\u001b[39m     \u001b[38;5;28;01mif\u001b[39;00m timeout == -\u001b[32m1\u001b[39m:\n",
      "\u001b[36mFile \u001b[39m\u001b[32mc:\\Users\\tjddm\\miniconda3\\envs\\lang_env\\Lib\\site-packages\\pinecone\\openapi_support\\endpoint.py:102\u001b[39m, in \u001b[36mEndpoint.__call__\u001b[39m\u001b[34m(self, *args, **kwargs)\u001b[39m\n\u001b[32m     91\u001b[39m \u001b[38;5;28;01mdef\u001b[39;00m\u001b[38;5;250m \u001b[39m\u001b[34m__call__\u001b[39m(\u001b[38;5;28mself\u001b[39m, *args, **kwargs):\n\u001b[32m     92\u001b[39m \u001b[38;5;250m    \u001b[39m\u001b[33;03m\"\"\"This method is invoked when endpoints are called\u001b[39;00m\n\u001b[32m     93\u001b[39m \u001b[33;03m    Example:\u001b[39;00m\n\u001b[32m     94\u001b[39m \n\u001b[32m   (...)\u001b[39m\u001b[32m    100\u001b[39m \n\u001b[32m    101\u001b[39m \u001b[33;03m    \"\"\"\u001b[39;00m\n\u001b[32m--> \u001b[39m\u001b[32m102\u001b[39m     \u001b[38;5;28;01mreturn\u001b[39;00m \u001b[38;5;28;43mself\u001b[39;49m\u001b[43m.\u001b[49m\u001b[43mcallable\u001b[49m\u001b[43m(\u001b[49m\u001b[38;5;28;43mself\u001b[39;49m\u001b[43m,\u001b[49m\u001b[43m \u001b[49m\u001b[43m*\u001b[49m\u001b[43margs\u001b[49m\u001b[43m,\u001b[49m\u001b[43m \u001b[49m\u001b[43m*\u001b[49m\u001b[43m*\u001b[49m\u001b[43mkwargs\u001b[49m\u001b[43m)\u001b[49m\n",
      "\u001b[36mFile \u001b[39m\u001b[32mc:\\Users\\tjddm\\miniconda3\\envs\\lang_env\\Lib\\site-packages\\pinecone\\core\\openapi\\db_control\\api\\manage_indexes_api.py:676\u001b[39m, in \u001b[36mManageIndexesApi.__init__.<locals>.__delete_index\u001b[39m\u001b[34m(self, index_name, **kwargs)\u001b[39m\n\u001b[32m    674\u001b[39m kwargs = \u001b[38;5;28mself\u001b[39m._process_openapi_kwargs(kwargs)\n\u001b[32m    675\u001b[39m kwargs[\u001b[33m\"\u001b[39m\u001b[33mindex_name\u001b[39m\u001b[33m\"\u001b[39m] = index_name\n\u001b[32m--> \u001b[39m\u001b[32m676\u001b[39m \u001b[38;5;28;01mreturn\u001b[39;00m \u001b[38;5;28;43mself\u001b[39;49m\u001b[43m.\u001b[49m\u001b[43mcall_with_http_info\u001b[49m\u001b[43m(\u001b[49m\u001b[43m*\u001b[49m\u001b[43m*\u001b[49m\u001b[43mkwargs\u001b[49m\u001b[43m)\u001b[49m\n",
      "\u001b[36mFile \u001b[39m\u001b[32mc:\\Users\\tjddm\\miniconda3\\envs\\lang_env\\Lib\\site-packages\\pinecone\\openapi_support\\endpoint.py:134\u001b[39m, in \u001b[36mEndpoint.call_with_http_info\u001b[39m\u001b[34m(self, **kwargs)\u001b[39m\n\u001b[32m    124\u001b[39m params = EndpointUtils.gather_params(\n\u001b[32m    125\u001b[39m     attribute_map=\u001b[38;5;28mself\u001b[39m.attribute_map,\n\u001b[32m    126\u001b[39m     location_map=\u001b[38;5;28mself\u001b[39m.location_map,\n\u001b[32m   (...)\u001b[39m\u001b[32m    129\u001b[39m     kwargs=kwargs,\n\u001b[32m    130\u001b[39m )\n\u001b[32m    132\u001b[39m HeaderUtil.prepare_headers(headers_map=\u001b[38;5;28mself\u001b[39m.headers_map, params=params)\n\u001b[32m--> \u001b[39m\u001b[32m134\u001b[39m \u001b[38;5;28;01mreturn\u001b[39;00m \u001b[38;5;28;43mself\u001b[39;49m\u001b[43m.\u001b[49m\u001b[43mapi_client\u001b[49m\u001b[43m.\u001b[49m\u001b[43mcall_api\u001b[49m\u001b[43m(\u001b[49m\n\u001b[32m    135\u001b[39m \u001b[43m    \u001b[49m\u001b[38;5;28;43mself\u001b[39;49m\u001b[43m.\u001b[49m\u001b[43msettings\u001b[49m\u001b[43m[\u001b[49m\u001b[33;43m\"\u001b[39;49m\u001b[33;43mendpoint_path\u001b[39;49m\u001b[33;43m\"\u001b[39;49m\u001b[43m]\u001b[49m\u001b[43m,\u001b[49m\n\u001b[32m    136\u001b[39m \u001b[43m    \u001b[49m\u001b[38;5;28;43mself\u001b[39;49m\u001b[43m.\u001b[49m\u001b[43msettings\u001b[49m\u001b[43m[\u001b[49m\u001b[33;43m\"\u001b[39;49m\u001b[33;43mhttp_method\u001b[39;49m\u001b[33;43m\"\u001b[39;49m\u001b[43m]\u001b[49m\u001b[43m,\u001b[49m\n\u001b[32m    137\u001b[39m \u001b[43m    \u001b[49m\u001b[43mpath_params\u001b[49m\u001b[43m=\u001b[49m\u001b[43mparams\u001b[49m\u001b[43m[\u001b[49m\u001b[33;43m\"\u001b[39;49m\u001b[33;43mpath\u001b[39;49m\u001b[33;43m\"\u001b[39;49m\u001b[43m]\u001b[49m\u001b[43m,\u001b[49m\n\u001b[32m    138\u001b[39m \u001b[43m    \u001b[49m\u001b[43mquery_params\u001b[49m\u001b[43m=\u001b[49m\u001b[43mparams\u001b[49m\u001b[43m[\u001b[49m\u001b[33;43m\"\u001b[39;49m\u001b[33;43mquery\u001b[39;49m\u001b[33;43m\"\u001b[39;49m\u001b[43m]\u001b[49m\u001b[43m,\u001b[49m\n\u001b[32m    139\u001b[39m \u001b[43m    \u001b[49m\u001b[43mheader_params\u001b[49m\u001b[43m=\u001b[49m\u001b[43mparams\u001b[49m\u001b[43m[\u001b[49m\u001b[33;43m\"\u001b[39;49m\u001b[33;43mheader\u001b[39;49m\u001b[33;43m\"\u001b[39;49m\u001b[43m]\u001b[49m\u001b[43m,\u001b[49m\n\u001b[32m    140\u001b[39m \u001b[43m    \u001b[49m\u001b[43mbody\u001b[49m\u001b[43m=\u001b[49m\u001b[43mparams\u001b[49m\u001b[43m[\u001b[49m\u001b[33;43m\"\u001b[39;49m\u001b[33;43mbody\u001b[39;49m\u001b[33;43m\"\u001b[39;49m\u001b[43m]\u001b[49m\u001b[43m,\u001b[49m\n\u001b[32m    141\u001b[39m \u001b[43m    \u001b[49m\u001b[43mpost_params\u001b[49m\u001b[43m=\u001b[49m\u001b[43mparams\u001b[49m\u001b[43m[\u001b[49m\u001b[33;43m\"\u001b[39;49m\u001b[33;43mform\u001b[39;49m\u001b[33;43m\"\u001b[39;49m\u001b[43m]\u001b[49m\u001b[43m,\u001b[49m\n\u001b[32m    142\u001b[39m \u001b[43m    \u001b[49m\u001b[43mfiles\u001b[49m\u001b[43m=\u001b[49m\u001b[43mparams\u001b[49m\u001b[43m[\u001b[49m\u001b[33;43m\"\u001b[39;49m\u001b[33;43mfile\u001b[39;49m\u001b[33;43m\"\u001b[39;49m\u001b[43m]\u001b[49m\u001b[43m,\u001b[49m\n\u001b[32m    143\u001b[39m \u001b[43m    \u001b[49m\u001b[43mresponse_type\u001b[49m\u001b[43m=\u001b[49m\u001b[38;5;28;43mself\u001b[39;49m\u001b[43m.\u001b[49m\u001b[43msettings\u001b[49m\u001b[43m[\u001b[49m\u001b[33;43m\"\u001b[39;49m\u001b[33;43mresponse_type\u001b[39;49m\u001b[33;43m\"\u001b[39;49m\u001b[43m]\u001b[49m\u001b[43m,\u001b[49m\n\u001b[32m    144\u001b[39m \u001b[43m    \u001b[49m\u001b[43mauth_settings\u001b[49m\u001b[43m=\u001b[49m\u001b[38;5;28;43mself\u001b[39;49m\u001b[43m.\u001b[49m\u001b[43msettings\u001b[49m\u001b[43m[\u001b[49m\u001b[33;43m\"\u001b[39;49m\u001b[33;43mauth\u001b[39;49m\u001b[33;43m\"\u001b[39;49m\u001b[43m]\u001b[49m\u001b[43m,\u001b[49m\n\u001b[32m    145\u001b[39m \u001b[43m    \u001b[49m\u001b[43masync_req\u001b[49m\u001b[43m=\u001b[49m\u001b[43mkwargs\u001b[49m\u001b[43m[\u001b[49m\u001b[33;43m\"\u001b[39;49m\u001b[33;43masync_req\u001b[39;49m\u001b[33;43m\"\u001b[39;49m\u001b[43m]\u001b[49m\u001b[43m,\u001b[49m\n\u001b[32m    146\u001b[39m \u001b[43m    \u001b[49m\u001b[43masync_threadpool_executor\u001b[49m\u001b[43m=\u001b[49m\u001b[43mkwargs\u001b[49m\u001b[43m.\u001b[49m\u001b[43mget\u001b[49m\u001b[43m(\u001b[49m\u001b[33;43m\"\u001b[39;49m\u001b[33;43masync_threadpool_executor\u001b[39;49m\u001b[33;43m\"\u001b[39;49m\u001b[43m,\u001b[49m\u001b[43m \u001b[49m\u001b[38;5;28;43;01mNone\u001b[39;49;00m\u001b[43m)\u001b[49m\u001b[43m,\u001b[49m\n\u001b[32m    147\u001b[39m \u001b[43m    \u001b[49m\u001b[43m_check_type\u001b[49m\u001b[43m=\u001b[49m\u001b[43mkwargs\u001b[49m\u001b[43m[\u001b[49m\u001b[33;43m\"\u001b[39;49m\u001b[33;43m_check_return_type\u001b[39;49m\u001b[33;43m\"\u001b[39;49m\u001b[43m]\u001b[49m\u001b[43m,\u001b[49m\n\u001b[32m    148\u001b[39m \u001b[43m    \u001b[49m\u001b[43m_return_http_data_only\u001b[49m\u001b[43m=\u001b[49m\u001b[43mkwargs\u001b[49m\u001b[43m[\u001b[49m\u001b[33;43m\"\u001b[39;49m\u001b[33;43m_return_http_data_only\u001b[39;49m\u001b[33;43m\"\u001b[39;49m\u001b[43m]\u001b[49m\u001b[43m,\u001b[49m\n\u001b[32m    149\u001b[39m \u001b[43m    \u001b[49m\u001b[43m_preload_content\u001b[49m\u001b[43m=\u001b[49m\u001b[43mkwargs\u001b[49m\u001b[43m[\u001b[49m\u001b[33;43m\"\u001b[39;49m\u001b[33;43m_preload_content\u001b[39;49m\u001b[33;43m\"\u001b[39;49m\u001b[43m]\u001b[49m\u001b[43m,\u001b[49m\n\u001b[32m    150\u001b[39m \u001b[43m    \u001b[49m\u001b[43m_request_timeout\u001b[49m\u001b[43m=\u001b[49m\u001b[43mkwargs\u001b[49m\u001b[43m[\u001b[49m\u001b[33;43m\"\u001b[39;49m\u001b[33;43m_request_timeout\u001b[39;49m\u001b[33;43m\"\u001b[39;49m\u001b[43m]\u001b[49m\u001b[43m,\u001b[49m\n\u001b[32m    151\u001b[39m \u001b[43m    \u001b[49m\u001b[43m_host\u001b[49m\u001b[43m=\u001b[49m\u001b[43m_host\u001b[49m\u001b[43m,\u001b[49m\n\u001b[32m    152\u001b[39m \u001b[43m    \u001b[49m\u001b[43mcollection_formats\u001b[49m\u001b[43m=\u001b[49m\u001b[43mparams\u001b[49m\u001b[43m[\u001b[49m\u001b[33;43m\"\u001b[39;49m\u001b[33;43mcollection_format\u001b[39;49m\u001b[33;43m\"\u001b[39;49m\u001b[43m]\u001b[49m\u001b[43m,\u001b[49m\n\u001b[32m    153\u001b[39m \u001b[43m\u001b[49m\u001b[43m)\u001b[49m\n",
      "\u001b[36mFile \u001b[39m\u001b[32mc:\\Users\\tjddm\\miniconda3\\envs\\lang_env\\Lib\\site-packages\\pinecone\\openapi_support\\api_client.py:306\u001b[39m, in \u001b[36mApiClient.call_api\u001b[39m\u001b[34m(self, resource_path, method, path_params, query_params, header_params, body, post_params, files, response_type, auth_settings, async_req, async_threadpool_executor, _return_http_data_only, collection_formats, _preload_content, _request_timeout, _host, _check_type)\u001b[39m\n\u001b[32m    285\u001b[39m     \u001b[38;5;28;01mreturn\u001b[39;00m \u001b[38;5;28mself\u001b[39m.threadpool_executor.submit(\n\u001b[32m    286\u001b[39m         \u001b[38;5;28mself\u001b[39m.__call_api,\n\u001b[32m    287\u001b[39m         resource_path,\n\u001b[32m   (...)\u001b[39m\u001b[32m    302\u001b[39m         _check_type,\n\u001b[32m    303\u001b[39m     )\n\u001b[32m    305\u001b[39m \u001b[38;5;28;01mif\u001b[39;00m \u001b[38;5;129;01mnot\u001b[39;00m async_req:\n\u001b[32m--> \u001b[39m\u001b[32m306\u001b[39m     \u001b[38;5;28;01mreturn\u001b[39;00m \u001b[38;5;28;43mself\u001b[39;49m\u001b[43m.\u001b[49m\u001b[43m__call_api\u001b[49m\u001b[43m(\u001b[49m\n\u001b[32m    307\u001b[39m \u001b[43m        \u001b[49m\u001b[43mresource_path\u001b[49m\u001b[43m,\u001b[49m\n\u001b[32m    308\u001b[39m \u001b[43m        \u001b[49m\u001b[43mmethod\u001b[49m\u001b[43m,\u001b[49m\n\u001b[32m    309\u001b[39m \u001b[43m        \u001b[49m\u001b[43mpath_params\u001b[49m\u001b[43m,\u001b[49m\n\u001b[32m    310\u001b[39m \u001b[43m        \u001b[49m\u001b[43mquery_params\u001b[49m\u001b[43m,\u001b[49m\n\u001b[32m    311\u001b[39m \u001b[43m        \u001b[49m\u001b[43mheader_params\u001b[49m\u001b[43m,\u001b[49m\n\u001b[32m    312\u001b[39m \u001b[43m        \u001b[49m\u001b[43mbody\u001b[49m\u001b[43m,\u001b[49m\n\u001b[32m    313\u001b[39m \u001b[43m        \u001b[49m\u001b[43mpost_params\u001b[49m\u001b[43m,\u001b[49m\n\u001b[32m    314\u001b[39m \u001b[43m        \u001b[49m\u001b[43mfiles\u001b[49m\u001b[43m,\u001b[49m\n\u001b[32m    315\u001b[39m \u001b[43m        \u001b[49m\u001b[43mresponse_type\u001b[49m\u001b[43m,\u001b[49m\n\u001b[32m    316\u001b[39m \u001b[43m        \u001b[49m\u001b[43mauth_settings\u001b[49m\u001b[43m,\u001b[49m\n\u001b[32m    317\u001b[39m \u001b[43m        \u001b[49m\u001b[43m_return_http_data_only\u001b[49m\u001b[43m,\u001b[49m\n\u001b[32m    318\u001b[39m \u001b[43m        \u001b[49m\u001b[43mcollection_formats\u001b[49m\u001b[43m,\u001b[49m\n\u001b[32m    319\u001b[39m \u001b[43m        \u001b[49m\u001b[43m_preload_content\u001b[49m\u001b[43m,\u001b[49m\n\u001b[32m    320\u001b[39m \u001b[43m        \u001b[49m\u001b[43m_request_timeout\u001b[49m\u001b[43m,\u001b[49m\n\u001b[32m    321\u001b[39m \u001b[43m        \u001b[49m\u001b[43m_host\u001b[49m\u001b[43m,\u001b[49m\n\u001b[32m    322\u001b[39m \u001b[43m        \u001b[49m\u001b[43m_check_type\u001b[49m\u001b[43m,\u001b[49m\n\u001b[32m    323\u001b[39m \u001b[43m    \u001b[49m\u001b[43m)\u001b[49m\n\u001b[32m    325\u001b[39m \u001b[38;5;28;01mreturn\u001b[39;00m \u001b[38;5;28mself\u001b[39m.pool.apply_async(\n\u001b[32m    326\u001b[39m     \u001b[38;5;28mself\u001b[39m.__call_api,\n\u001b[32m    327\u001b[39m     (\n\u001b[32m   (...)\u001b[39m\u001b[32m    344\u001b[39m     ),\n\u001b[32m    345\u001b[39m )\n",
      "\u001b[36mFile \u001b[39m\u001b[32mc:\\Users\\tjddm\\miniconda3\\envs\\lang_env\\Lib\\site-packages\\pinecone\\openapi_support\\api_client.py:182\u001b[39m, in \u001b[36mApiClient.__call_api\u001b[39m\u001b[34m(self, resource_path, method, path_params, query_params, header_params, body, post_params, files, response_type, auth_settings, _return_http_data_only, collection_formats, _preload_content, _request_timeout, _host, _check_type)\u001b[39m\n\u001b[32m    180\u001b[39m \u001b[38;5;28;01mexcept\u001b[39;00m PineconeApiException \u001b[38;5;28;01mas\u001b[39;00m e:\n\u001b[32m    181\u001b[39m     e.body = e.body.decode(\u001b[33m\"\u001b[39m\u001b[33mutf-8\u001b[39m\u001b[33m\"\u001b[39m)\n\u001b[32m--> \u001b[39m\u001b[32m182\u001b[39m     \u001b[38;5;28;01mraise\u001b[39;00m e\n\u001b[32m    184\u001b[39m \u001b[38;5;28mself\u001b[39m.last_response = response_data\n\u001b[32m    186\u001b[39m return_data = response_data\n",
      "\u001b[36mFile \u001b[39m\u001b[32mc:\\Users\\tjddm\\miniconda3\\envs\\lang_env\\Lib\\site-packages\\pinecone\\openapi_support\\api_client.py:170\u001b[39m, in \u001b[36mApiClient.__call_api\u001b[39m\u001b[34m(self, resource_path, method, path_params, query_params, header_params, body, post_params, files, response_type, auth_settings, _return_http_data_only, collection_formats, _preload_content, _request_timeout, _host, _check_type)\u001b[39m\n\u001b[32m    161\u001b[39m url = build_request_url(\n\u001b[32m    162\u001b[39m     config=config,\n\u001b[32m    163\u001b[39m     processed_path_params=path_params_tuple,\n\u001b[32m    164\u001b[39m     resource_path=resource_path,\n\u001b[32m    165\u001b[39m     _host=_host,\n\u001b[32m    166\u001b[39m )\n\u001b[32m    168\u001b[39m \u001b[38;5;28;01mtry\u001b[39;00m:\n\u001b[32m    169\u001b[39m     \u001b[38;5;66;03m# perform request and return response\u001b[39;00m\n\u001b[32m--> \u001b[39m\u001b[32m170\u001b[39m     response_data = \u001b[38;5;28;43mself\u001b[39;49m\u001b[43m.\u001b[49m\u001b[43mrequest\u001b[49m\u001b[43m(\u001b[49m\n\u001b[32m    171\u001b[39m \u001b[43m        \u001b[49m\u001b[43mmethod\u001b[49m\u001b[43m,\u001b[49m\n\u001b[32m    172\u001b[39m \u001b[43m        \u001b[49m\u001b[43murl\u001b[49m\u001b[43m,\u001b[49m\n\u001b[32m    173\u001b[39m \u001b[43m        \u001b[49m\u001b[43mquery_params\u001b[49m\u001b[43m=\u001b[49m\u001b[43mprocessed_query_params\u001b[49m\u001b[43m,\u001b[49m\n\u001b[32m    174\u001b[39m \u001b[43m        \u001b[49m\u001b[43mheaders\u001b[49m\u001b[43m=\u001b[49m\u001b[43mheaders_tuple\u001b[49m\u001b[43m,\u001b[49m\n\u001b[32m    175\u001b[39m \u001b[43m        \u001b[49m\u001b[43mpost_params\u001b[49m\u001b[43m=\u001b[49m\u001b[43mprocessed_post_params\u001b[49m\u001b[43m,\u001b[49m\n\u001b[32m    176\u001b[39m \u001b[43m        \u001b[49m\u001b[43mbody\u001b[49m\u001b[43m=\u001b[49m\u001b[43mbody\u001b[49m\u001b[43m,\u001b[49m\n\u001b[32m    177\u001b[39m \u001b[43m        \u001b[49m\u001b[43m_preload_content\u001b[49m\u001b[43m=\u001b[49m\u001b[43m_preload_content\u001b[49m\u001b[43m,\u001b[49m\n\u001b[32m    178\u001b[39m \u001b[43m        \u001b[49m\u001b[43m_request_timeout\u001b[49m\u001b[43m=\u001b[49m\u001b[43m_request_timeout\u001b[49m\u001b[43m,\u001b[49m\n\u001b[32m    179\u001b[39m \u001b[43m    \u001b[49m\u001b[43m)\u001b[49m\n\u001b[32m    180\u001b[39m \u001b[38;5;28;01mexcept\u001b[39;00m PineconeApiException \u001b[38;5;28;01mas\u001b[39;00m e:\n\u001b[32m    181\u001b[39m     e.body = e.body.decode(\u001b[33m\"\u001b[39m\u001b[33mutf-8\u001b[39m\u001b[33m\"\u001b[39m)\n",
      "\u001b[36mFile \u001b[39m\u001b[32mc:\\Users\\tjddm\\miniconda3\\envs\\lang_env\\Lib\\site-packages\\pinecone\\openapi_support\\api_client.py:416\u001b[39m, in \u001b[36mApiClient.request\u001b[39m\u001b[34m(self, method, url, query_params, headers, post_params, body, _preload_content, _request_timeout)\u001b[39m\n\u001b[32m    406\u001b[39m     \u001b[38;5;28;01mreturn\u001b[39;00m \u001b[38;5;28mself\u001b[39m.rest_client.PATCH(\n\u001b[32m    407\u001b[39m         url,\n\u001b[32m    408\u001b[39m         query_params=query_params,\n\u001b[32m   (...)\u001b[39m\u001b[32m    413\u001b[39m         body=body,\n\u001b[32m    414\u001b[39m     )\n\u001b[32m    415\u001b[39m \u001b[38;5;28;01melif\u001b[39;00m method == \u001b[33m\"\u001b[39m\u001b[33mDELETE\u001b[39m\u001b[33m\"\u001b[39m:\n\u001b[32m--> \u001b[39m\u001b[32m416\u001b[39m     \u001b[38;5;28;01mreturn\u001b[39;00m \u001b[38;5;28;43mself\u001b[39;49m\u001b[43m.\u001b[49m\u001b[43mrest_client\u001b[49m\u001b[43m.\u001b[49m\u001b[43mDELETE\u001b[49m\u001b[43m(\u001b[49m\n\u001b[32m    417\u001b[39m \u001b[43m        \u001b[49m\u001b[43murl\u001b[49m\u001b[43m,\u001b[49m\n\u001b[32m    418\u001b[39m \u001b[43m        \u001b[49m\u001b[43mquery_params\u001b[49m\u001b[43m=\u001b[49m\u001b[43mquery_params\u001b[49m\u001b[43m,\u001b[49m\n\u001b[32m    419\u001b[39m \u001b[43m        \u001b[49m\u001b[43mheaders\u001b[49m\u001b[43m=\u001b[49m\u001b[43mheaders\u001b[49m\u001b[43m,\u001b[49m\n\u001b[32m    420\u001b[39m \u001b[43m        \u001b[49m\u001b[43m_preload_content\u001b[49m\u001b[43m=\u001b[49m\u001b[43m_preload_content\u001b[49m\u001b[43m,\u001b[49m\n\u001b[32m    421\u001b[39m \u001b[43m        \u001b[49m\u001b[43m_request_timeout\u001b[49m\u001b[43m=\u001b[49m\u001b[43m_request_timeout\u001b[49m\u001b[43m,\u001b[49m\n\u001b[32m    422\u001b[39m \u001b[43m        \u001b[49m\u001b[43mbody\u001b[49m\u001b[43m=\u001b[49m\u001b[43mbody\u001b[49m\u001b[43m,\u001b[49m\n\u001b[32m    423\u001b[39m \u001b[43m    \u001b[49m\u001b[43m)\u001b[49m\n\u001b[32m    424\u001b[39m \u001b[38;5;28;01melse\u001b[39;00m:\n\u001b[32m    425\u001b[39m     \u001b[38;5;28;01mraise\u001b[39;00m PineconeApiValueError(\n\u001b[32m    426\u001b[39m         \u001b[33m\"\u001b[39m\u001b[33mhttp method must be `GET`, `HEAD`, `OPTIONS`, `POST`, `PATCH`, `PUT` or `DELETE`.\u001b[39m\u001b[33m\"\u001b[39m\n\u001b[32m    427\u001b[39m     )\n",
      "\u001b[36mFile \u001b[39m\u001b[32mc:\\Users\\tjddm\\miniconda3\\envs\\lang_env\\Lib\\site-packages\\pinecone\\openapi_support\\rest_utils.py:126\u001b[39m, in \u001b[36mRestClientInterface.DELETE\u001b[39m\u001b[34m(self, url, headers, query_params, body, _preload_content, _request_timeout)\u001b[39m\n\u001b[32m    117\u001b[39m \u001b[38;5;28;01mdef\u001b[39;00m\u001b[38;5;250m \u001b[39m\u001b[34mDELETE\u001b[39m(\n\u001b[32m    118\u001b[39m     \u001b[38;5;28mself\u001b[39m,\n\u001b[32m    119\u001b[39m     url,\n\u001b[32m   (...)\u001b[39m\u001b[32m    124\u001b[39m     _request_timeout=\u001b[38;5;28;01mNone\u001b[39;00m,\n\u001b[32m    125\u001b[39m ):\n\u001b[32m--> \u001b[39m\u001b[32m126\u001b[39m     \u001b[38;5;28;01mreturn\u001b[39;00m \u001b[38;5;28;43mself\u001b[39;49m\u001b[43m.\u001b[49m\u001b[43mrequest\u001b[49m\u001b[43m(\u001b[49m\n\u001b[32m    127\u001b[39m \u001b[43m        \u001b[49m\u001b[33;43m\"\u001b[39;49m\u001b[33;43mDELETE\u001b[39;49m\u001b[33;43m\"\u001b[39;49m\u001b[43m,\u001b[49m\n\u001b[32m    128\u001b[39m \u001b[43m        \u001b[49m\u001b[43murl\u001b[49m\u001b[43m,\u001b[49m\n\u001b[32m    129\u001b[39m \u001b[43m        \u001b[49m\u001b[43mheaders\u001b[49m\u001b[43m=\u001b[49m\u001b[43mheaders\u001b[49m\u001b[43m,\u001b[49m\n\u001b[32m    130\u001b[39m \u001b[43m        \u001b[49m\u001b[43mquery_params\u001b[49m\u001b[43m=\u001b[49m\u001b[43mquery_params\u001b[49m\u001b[43m,\u001b[49m\n\u001b[32m    131\u001b[39m \u001b[43m        \u001b[49m\u001b[43m_preload_content\u001b[49m\u001b[43m=\u001b[49m\u001b[43m_preload_content\u001b[49m\u001b[43m,\u001b[49m\n\u001b[32m    132\u001b[39m \u001b[43m        \u001b[49m\u001b[43m_request_timeout\u001b[49m\u001b[43m=\u001b[49m\u001b[43m_request_timeout\u001b[49m\u001b[43m,\u001b[49m\n\u001b[32m    133\u001b[39m \u001b[43m        \u001b[49m\u001b[43mbody\u001b[49m\u001b[43m=\u001b[49m\u001b[43mbody\u001b[49m\u001b[43m,\u001b[49m\n\u001b[32m    134\u001b[39m \u001b[43m    \u001b[49m\u001b[43m)\u001b[49m\n",
      "\u001b[36mFile \u001b[39m\u001b[32mc:\\Users\\tjddm\\miniconda3\\envs\\lang_env\\Lib\\site-packages\\pinecone\\openapi_support\\rest_urllib3.py:267\u001b[39m, in \u001b[36mUrllib3RestClient.request\u001b[39m\u001b[34m(self, method, url, query_params, headers, body, post_params, _preload_content, _request_timeout)\u001b[39m\n\u001b[32m    264\u001b[39m     \u001b[38;5;66;03m# log response body\u001b[39;00m\n\u001b[32m    265\u001b[39m     logger.debug(\u001b[33m\"\u001b[39m\u001b[33mresponse body: \u001b[39m\u001b[38;5;132;01m%s\u001b[39;00m\u001b[33m\"\u001b[39m, r.data)\n\u001b[32m--> \u001b[39m\u001b[32m267\u001b[39m \u001b[38;5;28;01mreturn\u001b[39;00m \u001b[43mraise_exceptions_or_return\u001b[49m\u001b[43m(\u001b[49m\u001b[43mr\u001b[49m\u001b[43m)\u001b[49m\n",
      "\u001b[36mFile \u001b[39m\u001b[32mc:\\Users\\tjddm\\miniconda3\\envs\\lang_env\\Lib\\site-packages\\pinecone\\openapi_support\\rest_utils.py:44\u001b[39m, in \u001b[36mraise_exceptions_or_return\u001b[39m\u001b[34m(r)\u001b[39m\n\u001b[32m     41\u001b[39m     \u001b[38;5;28;01mraise\u001b[39;00m ForbiddenException(http_resp=r)\n\u001b[32m     43\u001b[39m \u001b[38;5;28;01mif\u001b[39;00m r.status == \u001b[32m404\u001b[39m:\n\u001b[32m---> \u001b[39m\u001b[32m44\u001b[39m     \u001b[38;5;28;01mraise\u001b[39;00m NotFoundException(http_resp=r)\n\u001b[32m     46\u001b[39m \u001b[38;5;28;01mif\u001b[39;00m \u001b[32m500\u001b[39m <= r.status <= \u001b[32m599\u001b[39m:\n\u001b[32m     47\u001b[39m     \u001b[38;5;28;01mraise\u001b[39;00m ServiceException(http_resp=r)\n",
      "\u001b[31mNotFoundException\u001b[39m: (404)\nReason: Not Found\nHTTP response headers: HTTPHeaderDict({'content-type': 'text/plain; charset=utf-8', 'access-control-allow-origin': '*', 'vary': 'origin,access-control-request-method,access-control-request-headers', 'access-control-expose-headers': '*', 'x-pinecone-api-version': '2025-04', 'x-cloud-trace-context': 'bb23d9b330f38c6f4313bb6c0f3e5fa0', 'date': 'Mon, 16 Jun 2025 07:14:10 GMT', 'server': 'Google Frontend', 'Content-Length': '82', 'Via': '1.1 google', 'Alt-Svc': 'h3=\":443\"; ma=2592000,h3-29=\":443\"; ma=2592000'})\nHTTP response body: {\"error\":{\"code\":\"NOT_FOUND\",\"message\":\"Resource example not found\"},\"status\":404}\n"
     ]
    }
   ],
   "source": [
    "pc.delete_index(\"example\") # 없는것 삭제 할시 Exception 발생."
   ]
  },
  {
   "cell_type": "markdown",
   "id": "d95baa89-a0d6-4ec8-93fb-0fdea6403435",
   "metadata": {},
   "source": [
    "### Index 생성\n",
    "- `Pinecone.create_index()`\n",
    "  - **name**: Index 이름\n",
    "  - **dimension**: Embedding vector 차원 수\n",
    "  - **metric**: 유사도 계산 방법\n",
    "  - **spec**: ServerlessSpec - 추가설정"
   ]
  },
  {
   "cell_type": "code",
   "execution_count": 30,
   "id": "8f4bf778-9700-4ce5-9126-c55cd2029565",
   "metadata": {},
   "outputs": [
    {
     "data": {
      "text/plain": [
       "{\n",
       "    \"name\": \"example-index\",\n",
       "    \"metric\": \"cosine\",\n",
       "    \"host\": \"example-index-6zex4vj.svc.aped-4627-b74a.pinecone.io\",\n",
       "    \"spec\": {\n",
       "        \"serverless\": {\n",
       "            \"cloud\": \"aws\",\n",
       "            \"region\": \"us-east-1\"\n",
       "        }\n",
       "    },\n",
       "    \"status\": {\n",
       "        \"ready\": true,\n",
       "        \"state\": \"Ready\"\n",
       "    },\n",
       "    \"vector_type\": \"dense\",\n",
       "    \"dimension\": 1024,\n",
       "    \"deletion_protection\": \"disabled\",\n",
       "    \"tags\": null\n",
       "}"
      ]
     },
     "execution_count": 30,
     "metadata": {},
     "output_type": "execute_result"
    }
   ],
   "source": [
    "from pinecone import ServerlessSpec\n",
    "\n",
    "INDEX_NAME = \"example-index\" #이름 : 소문자, -, 숫자 (_ : 불가능)\n",
    "pc.create_index(\n",
    "    name=INDEX_NAME,\n",
    "    dimension=1024,\n",
    "    metric=\"cosine\",\n",
    "    spec=ServerlessSpec(\n",
    "        cloud=\"aws\",\n",
    "        region=\"us-east-1\"\n",
    "    )\n",
    ")"
   ]
  },
  {
   "cell_type": "code",
   "execution_count": 31,
   "id": "3cda8f87-3a36-4aa7-b5c6-f6defb1fc5d1",
   "metadata": {},
   "outputs": [],
   "source": [
    "data = [\n",
    "    {\"id\": \"rec01\", \"text\": \"사과는 건강에 좋은 과일로 아침에 먹기 좋아요.\"},\n",
    "    {\"id\": \"rec02\", \"text\": \"애플은 전 세계적으로 인기 있는 기술 회사입니다.\"},\n",
    "    {\"id\": \"rec03\", \"text\": \"가을에 수확한 사과는 달콤하고 영향소가 풍부합니다.\"},\n",
    "    {\"id\": \"rec04\", \"text\": \"애플의 아이폰은 많은 사람들이 선호하는 스마트폰이에요.\"},\n",
    "    {\"id\": \"rec05\", \"text\": \"사과를 갈아 만든 주스는 아침에 마시기 좋습니다.\"},\n",
    "    {\"id\": \"rec06\", \"text\": \"애플은 혁신적인 제품으로 기술 산업을 이끌고 있습니다.\"},\n",
    "    {\"id\": \"rec07\", \"text\": \"빨간 사과와 초록 사과 중 어떤 것을 좋아하세요?\"},\n",
    "    {\"id\": \"rec08\", \"text\": \"애플의 맥북은 디자인과 성능 면에서 뛰어난 평가를 받습니다.\"},\n",
    "    {\"id\": \"rec09\", \"text\": \"사과는 다이어트와 건강 관리에 효과적인 과일이에요.\"},\n",
    "    {\"id\": \"rec10\", \"text\": \"애플은 환경을 고려한 지속 가능한 제품을 생산하려고 합니다.\"},\n",
    "    {\"id\": \"rec11\", \"text\": \"하루에 사과 하나면 의사를 멀리할 수 있다는 속담이 있습니다.\"},\n",
    "    {\"id\": \"rec12\", \"text\": \"애플은 1976년 4월 1일 스티브 잡스, 스티브 워즈니악, 로널드 웨인에 의해 파트너십으로 설립되었습니다.\"}\n",
    "]"
   ]
  },
  {
   "cell_type": "markdown",
   "id": "e1ef57c9-b07b-45a1-8c2f-e3c432578c05",
   "metadata": {},
   "source": [
    "### Embedding Vector로 변환\n",
    "- `Pinecone.inference.embed()`  \n",
    "  - 텍스트 데이터를 임베딩 벡터로 변환\n",
    "  - **`inputs`**:  \n",
    "    - 임베딩할 텍스트 데이터를 지정.  \n",
    "-  **`parameters`**:  \n",
    "   - 추가적인 파라미터를 dictionary에 넣어 설정.\n",
    "   - **`input_type`**:  \n",
    "       - 입력 데이터 유형 지정.  \n",
    "         - `\"passage\"`: 문단 또는 긴 텍스트임을 알려준다..  \n",
    "         - `\"query\"`: 검색 쿼리 임을 알려준다.  \n",
    "       - 모델이 입력 데이터를 어떻게 처리할 지 방식 결정하는데 사용된다.\n",
    "\n",
    "     - **`truncate`**:  \n",
    "       - 입력 데이터가 모델의 최대 길이(embedding 모델이 학습할 때 사용한 문장의 최대길이)를 초과할 경우 처리 방법 지정.\n",
    "       - **옵션**:  \n",
    "         - `\"NONE\"`: 입력 텍스트를 자르지 않음.  \n",
    "         - `\"START\"`: 텍스트 시작 부분 기준으로 잘림. (앞을 자름.) \n",
    "         - `\"END\"`: 텍스트 끝 부분 기준으로 잘림. (뒤를 자름)\n",
    "       - **특징**:  \n",
    "         - 설정된 방향에서 자동으로 자름.\n",
    "\n"
   ]
  },
  {
   "cell_type": "code",
   "execution_count": 34,
   "id": "dc3a4b3a-0a65-47d2-93e6-25b0c1a4fb74",
   "metadata": {},
   "outputs": [],
   "source": [
    "embedding_vector_list = pc.inference.embed(\n",
    "    model=\"multilingual-e5-large\", # pinecorn에서 제공하는 임베딩 모델(이름)\n",
    "    # 사용 안할 시에 직접 embedding해서 넣으면 됨.\n",
    "    inputs =[d['text'] for d in data],  #임베딩할 text들을 list에 넣으면 됨.\n",
    "    parameters={\"input_type\":\"passage\",\"truncate\":\"END\"}\n",
    ")\n",
    "\n",
    "# parameters : input_type(\"passage\":(문서들), \"query\":(질문))\n",
    "# truncate : 입력 문서가 최대 길이를 초과할 경우 잘라내는지 여부 / 어느방향으로 자를지.\n",
    "# None : 안자른다. / \"Start\" : 문서의 앞. / \"END\" : 문서의 뒤"
   ]
  },
  {
   "cell_type": "code",
   "execution_count": 37,
   "id": "9e2ea41d-f541-4276-91aa-724f8b422aa6",
   "metadata": {},
   "outputs": [
    {
     "data": {
      "text/plain": [
       "{'vector_type': dense, 'values': [0.033782958984375, -0.016357421875, ..., -0.01471710205078125, 0.016693115234375]}"
      ]
     },
     "execution_count": 37,
     "metadata": {},
     "output_type": "execute_result"
    }
   ],
   "source": [
    "embedding_vector_list[0]"
   ]
  },
  {
   "cell_type": "markdown",
   "id": "a94c2a5d-dbb3-4adc-8c2e-320f7b55fe85",
   "metadata": {},
   "source": [
    "#### Record Upsert\n",
    "\n",
    "##### Upsert 할 Record set 만들기\n",
    "- 아래 구조로 만든다\n",
    "```\n",
    "{\"id\": id, \n",
    " \"values\": 변환된 embedding vector,\n",
    " \"metadata\": {\"text\": 원문텍스트}}\n",
    "```"
   ]
  },
  {
   "cell_type": "code",
   "execution_count": null,
   "id": "f01c37fc-9ce7-4ca4-a8f1-39353848bb20",
   "metadata": {},
   "outputs": [],
   "source": [
    "vectors = [] # pinecorn에 upsert를 할 형식으로 변환된 리스트\n",
    "for d, embed in zip(data, embedding_vector_list):\n",
    "    vectors.append({\n",
    "        \"id\":d[\"id\"],\n",
    "        \"values\":embed[\"values\"],\n",
    "        \"metadata\":{\"text\":d[\"text\"]}\n",
    "    })"
   ]
  },
  {
   "cell_type": "code",
   "execution_count": null,
   "id": "47716b4d",
   "metadata": {},
   "outputs": [],
   "source": [
    "# Index 연결.\n",
    "\n",
    "index = pc.Index(INDEX_NAME)"
   ]
  },
  {
   "cell_type": "code",
   "execution_count": null,
   "id": "c27bc902",
   "metadata": {},
   "outputs": [
    {
     "data": {
      "text/plain": [
       "{'upserted_count': 12}"
      ]
     },
     "execution_count": 41,
     "metadata": {},
     "output_type": "execute_result"
    }
   ],
   "source": [
    "# upsert\n",
    "\n",
    "index.upsert(vectors=vectors)"
   ]
  },
  {
   "cell_type": "code",
   "execution_count": 43,
   "id": "26a123d1",
   "metadata": {},
   "outputs": [
    {
     "name": "stdout",
     "output_type": "stream",
     "text": [
      "{'dimension': 1024,\n",
      " 'index_fullness': 0.0,\n",
      " 'metric': 'cosine',\n",
      " 'namespaces': {'': {'vector_count': 12}},\n",
      " 'total_vector_count': 12,\n",
      " 'vector_type': 'dense'}\n"
     ]
    }
   ],
   "source": [
    "print(index.describe_index_stats())"
   ]
  },
  {
   "cell_type": "markdown",
   "id": "97531788-17f3-4f1b-b2a8-55ff8092c1e9",
   "metadata": {},
   "source": [
    "### Query\n",
    "\n",
    "#### Query를 Vector로 변환 "
   ]
  },
  {
   "cell_type": "code",
   "execution_count": 44,
   "id": "2db4a461-80c2-490f-becf-bbca66d0dc9b",
   "metadata": {},
   "outputs": [],
   "source": [
    "query = \"사과에 대해서 설명해줘.\"\n",
    "\n",
    "query_vector = pc.inference.embed(\n",
    "    model=\"multilingual-e5-large\",\n",
    "    inputs = [query],  \n",
    "    parameters={\"input_type\":\"query\"}\n",
    ")"
   ]
  },
  {
   "cell_type": "code",
   "execution_count": 46,
   "id": "990b68ee-7659-4e70-b8bc-ff4c77b9b40e",
   "metadata": {},
   "outputs": [
    {
     "data": {
      "text/plain": [
       "EmbeddingsList(\n",
       "  model='multilingual-e5-large',\n",
       "  vector_type='dense',\n",
       "  data=[\n",
       "    {'vector_type': dense, 'values': [0.003726959228515625, -0.0225982666015625, ..., -0.0225830078125, -0.006191253662109375]}\n",
       "  ],\n",
       "  usage={'total_tokens': 13}\n",
       ")"
      ]
     },
     "execution_count": 46,
     "metadata": {},
     "output_type": "execute_result"
    }
   ],
   "source": [
    "query_vector"
   ]
  },
  {
   "cell_type": "code",
   "execution_count": 49,
   "id": "50c18f09-528b-424a-8657-b216196f4829",
   "metadata": {},
   "outputs": [],
   "source": [
    "result = index.query(\n",
    "    top_k=3,\n",
    "    vector=query_vector[0].values, # embedding vector만 입력.\n",
    "    include_metadata=True\n",
    ")"
   ]
  },
  {
   "cell_type": "code",
   "execution_count": 50,
   "id": "54b36ec4",
   "metadata": {},
   "outputs": [
    {
     "data": {
      "text/plain": [
       "{'matches': [{'id': 'rec09',\n",
       "              'metadata': {'text': '사과는 다이어트와 건강 관리에 효과적인 과일이에요.'},\n",
       "              'score': 0.850839794,\n",
       "              'values': []},\n",
       "             {'id': 'rec11',\n",
       "              'metadata': {'text': '하루에 사과 하나면 의사를 멀리할 수 있다는 속담이 있습니다.'},\n",
       "              'score': 0.848891139,\n",
       "              'values': []},\n",
       "             {'id': 'rec07',\n",
       "              'metadata': {'text': '빨간 사과와 초록 사과 중 어떤 것을 좋아하세요?'},\n",
       "              'score': 0.844006062,\n",
       "              'values': []}],\n",
       " 'namespace': '',\n",
       " 'usage': {'read_units': 6}}"
      ]
     },
     "execution_count": 50,
     "metadata": {},
     "output_type": "execute_result"
    }
   ],
   "source": [
    "result"
   ]
  },
  {
   "cell_type": "markdown",
   "id": "62a4021c-6745-4a77-9297-9d058b27cf57",
   "metadata": {},
   "source": [
    "# Langchain 을 이용해 Pinecone 연동"
   ]
  },
  {
   "cell_type": "code",
   "execution_count": 37,
   "id": "79ff4650-882b-4ee0-99d5-caa321a3cac8",
   "metadata": {},
   "outputs": [],
   "source": [
    "from pinecone import Pinecone, ServerlessSpec\n",
    "from dotenv import load_dotenv\n",
    "import os\n",
    "\n",
    "load_dotenv()\n",
    "\n",
    "PINECONE_API_KEY = os.getenv(\"PINECONE_API_KEY\")\n"
   ]
  },
  {
   "cell_type": "markdown",
   "id": "adef8684-ec48-40d0-8eae-87f11f42f4b7",
   "metadata": {},
   "source": [
    "## pipnecone 에 Index 만들기\n",
    "- 주의: embedding vector 차원을 사용하는 embedding model의 차원에 맞춰야 한다.\n",
    "- openai embedding 모델 output 차원 확인\n",
    "  - https://platform.openai.com/docs/models#embeddings "
   ]
  },
  {
   "cell_type": "code",
   "execution_count": 38,
   "id": "b0ce36dd-49e8-4f40-b83f-cfb21bfb3503",
   "metadata": {},
   "outputs": [],
   "source": [
    "INDEX_NAME = \"langchain-example\"\n",
    "pc = Pinecone(api_key=PINECONE_API_KEY)\n",
    "\n",
    "# index이름 조회\n",
    "index_names = [idx['name'] for idx in pc.list_indexes()]\n",
    "if INDEX_NAME not in index_names:    \n",
    "    pc.create_index(\n",
    "        name=INDEX_NAME,\n",
    "        dimension=1536,\n",
    "        metric=\"cosine\",\n",
    "        spec=ServerlessSpec(cloud=\"aws\", region=\"us-east-1\")\n",
    "    )\n",
    "# INDEX와 연결.\n",
    "# index = pc.Index(INDEX_NAME)"
   ]
  },
  {
   "cell_type": "markdown",
   "id": "d0acb6cb-ca42-418b-a6a9-702af0ffb374",
   "metadata": {},
   "source": [
    "## Dataset 만들기"
   ]
  },
  {
   "cell_type": "code",
   "execution_count": 14,
   "id": "588d3fe0-d003-4d15-8af9-9386c88d99f9",
   "metadata": {},
   "outputs": [],
   "source": [
    "dataset = [\n",
    "    {\"id\": \"rec01\", \"text\": \"사과는 건강에 좋은 과일로 아침에 먹기 좋아요.\", \"metadata\": {\"category\": \"fruit\"}},\n",
    "    {\"id\": \"rec02\", \"text\": \"애플은 전 세계적으로 인기 있는 기술 회사입니다.\", \"metadata\": {\"category\": \"it\"}},\n",
    "    {\"id\": \"rec03\", \"text\": \"가을에 수확한 사과는 달콤하고 영향소가 풍부합니다.\", \"metadata\": {\"category\": \"fruit\"}},\n",
    "    {\"id\": \"rec04\", \"text\": \"애플의 아이폰은 많은 사람들이 선호하는 스마트폰이에요.\", \"metadata\": {\"category\": \"it\"}},\n",
    "    {\"id\": \"rec05\", \"text\": \"사과를 갈아 만든 주스는 아침에 마시기 좋습니다.\", \"metadata\": {\"category\": \"fruit\"}},\n",
    "    {\"id\": \"rec06\", \"text\": \"애플은 혁신적인 제품으로 기술 산업을 이끌고 있습니다.\", \"metadata\": {\"category\": \"it\"}},\n",
    "    {\"id\": \"rec07\", \"text\": \"빨간 사과와 초록 사과 중 어떤 것을 좋아하세요?\", \"metadata\": {\"category\": \"fruit\"}},\n",
    "    {\"id\": \"rec08\", \"text\": \"애플의 맥북은 디자인과 성능 면에서 뛰어난 평가를 받습니다.\", \"metadata\": {\"category\": \"it\"}},\n",
    "    {\"id\": \"rec09\", \"text\": \"사과는 다이어트와 건강 관리에 효과적인 과일이에요.\", \"metadata\": {\"category\": \"fruit\"}},\n",
    "    {\"id\": \"rec10\", \"text\": \"애플은 환경을 고려한 지속 가능한 제품을 생산하려고 합니다.\", \"metadata\": {\"category\": \"it\"}},\n",
    "    {\"id\": \"rec11\", \"text\": \"하루에 사과 하나면 의사를 멀리할 수 있다는 속담이 있습니다.\", \"metadata\": {\"category\": \"fruit\"}},\n",
    "    {\"id\": \"rec12\", \"text\": \"애플은 1976년 4월 1일 스티브 잡스, 스티브 워즈니악, 로널드 웨인에 의해 파트너십으로 설립되었습니다.\", \"metadata\": {\"category\": \"it\"}}\n",
    "]"
   ]
  },
  {
   "cell_type": "code",
   "execution_count": 39,
   "id": "bd42a9c4-4bfc-49b7-ae78-a0a69374cad6",
   "metadata": {},
   "outputs": [],
   "source": [
    "# Document\n",
    "from langchain_core.documents import Document\n",
    "\n",
    "document_list = []\n",
    "\n",
    "for data in dataset:\n",
    "    doc = Document(page_content=data['text'], id = data['id'], metadata = data['metadata'])\n",
    "    document_list.append(doc)"
   ]
  },
  {
   "cell_type": "markdown",
   "id": "03384a20-7dd2-4f9c-b592-1b469d7c2ab9",
   "metadata": {},
   "source": [
    "## Vector Store 생성 및 초기화\n",
    "\n",
    "- PineconeVectorStore.from_documents()\n",
    "  - VectorStore를 초기화(생성)하고 문서를 추가한다. "
   ]
  },
  {
   "cell_type": "code",
   "execution_count": 40,
   "id": "505cf2dc-f6a4-46b9-96cc-9302fa5688ab",
   "metadata": {},
   "outputs": [],
   "source": [
    "from langchain_pinecone import PineconeVectorStore\n",
    "from langchain_openai import OpenAIEmbeddings\n",
    "\n",
    "embedding_model = OpenAIEmbeddings(model=\"text-embedding-3-small\")\n",
    "vector_store = PineconeVectorStore.from_documents(\n",
    "    documents=document_list,\n",
    "    embedding=embedding_model,\n",
    "    index_name=INDEX_NAME, # 연결할 index의 이름\n",
    ")"
   ]
  },
  {
   "cell_type": "markdown",
   "id": "81327329-b190-49fb-a610-7ed9e1a8af6d",
   "metadata": {},
   "source": [
    "## Vector Store 연결\n",
    "- 문서 추가 없이 연결만 한다.\n",
    "- PineconeVectorStore(index=\"Index이름\", namespace=\"Namespace\", embedding=embedding_model)"
   ]
  },
  {
   "cell_type": "code",
   "execution_count": 41,
   "id": "21ea1f3e-4e0e-4a24-ad43-bdf08c5bf9fa",
   "metadata": {},
   "outputs": [],
   "source": [
    "vector_store2 = PineconeVectorStore(\n",
    "    embedding=embedding_model,\n",
    "    index_name=INDEX_NAME,\n",
    ")"
   ]
  },
  {
   "cell_type": "code",
   "execution_count": 42,
   "id": "e43eb19e-29b8-433e-9386-342c50fb7120",
   "metadata": {},
   "outputs": [
    {
     "data": {
      "text/plain": [
       "{'dimension': 1536,\n",
       " 'index_fullness': 0.0,\n",
       " 'metric': 'cosine',\n",
       " 'namespaces': {},\n",
       " 'total_vector_count': 0,\n",
       " 'vector_type': 'dense'}"
      ]
     },
     "execution_count": 42,
     "metadata": {},
     "output_type": "execute_result"
    }
   ],
   "source": [
    "# index 정보 조회.\n",
    "vector_store.index.describe_index_stats()"
   ]
  },
  {
   "cell_type": "markdown",
   "id": "db16c9fd-290f-470a-b812-43dfcb5b27b0",
   "metadata": {},
   "source": [
    "## 추가, 수정\n",
    "- `vectorStore.add_documents(documents:list, ids:list)`\n",
    "  - documents: 추가할 문서들\n",
    "  - ids: 추가, 수정할 문서들의 id. 없으면 추가, 있으면 수정한다."
   ]
  },
  {
   "cell_type": "code",
   "execution_count": 43,
   "id": "908ac61c-85a4-4cf7-937d-337fd7ddd5cc",
   "metadata": {},
   "outputs": [
    {
     "name": "stdout",
     "output_type": "stream",
     "text": [
      "['764e9d00-0df9-4181-803c-1f372ec0eb37']\n"
     ]
    }
   ],
   "source": [
    "insert_doc = Document(page_content=\"사과 맛있어요.\", metadata={\"category\":\"fruit\"})\n",
    "insert_id = vector_store.add_documents([insert_doc])\n",
    "\n",
    "print(insert_id)"
   ]
  },
  {
   "cell_type": "code",
   "execution_count": 44,
   "id": "8fff6814-9459-42a1-b37f-8388230a993c",
   "metadata": {},
   "outputs": [
    {
     "name": "stdout",
     "output_type": "stream",
     "text": [
      "['764e9d00-0df9-4181-803c-1f372ec0eb37']\n"
     ]
    }
   ],
   "source": [
    "insert_doc = Document(\n",
    "    page_content=\"사과 진짜 진짜 맛있어요.\",\n",
    "    metadata={\"catagory\":\"fruit\"},\n",
    "    id = '764e9d00-0df9-4181-803c-1f372ec0eb37'\n",
    ")\n",
    "\n",
    "\n",
    "insert_id = vector_store.add_documents([insert_doc])\n",
    "\n",
    "print(insert_id)"
   ]
  },
  {
   "cell_type": "markdown",
   "id": "42457af6-7fc4-489e-988c-87f1cf428d71",
   "metadata": {},
   "source": [
    "## 삭제\n",
    "- `vectorStore.delete(ids:str)`\n",
    "  - ids: 삭제할 문서들의 id"
   ]
  },
  {
   "cell_type": "code",
   "execution_count": 45,
   "id": "eaa1475a-72b4-422a-8a38-69e21a0e17d8",
   "metadata": {},
   "outputs": [],
   "source": [
    "vector_store.delete(['764e9d00-0df9-4181-803c-1f372ec0eb37'])"
   ]
  },
  {
   "cell_type": "markdown",
   "id": "ee4a21e9-6c6f-48dc-8906-5180f81a4d2b",
   "metadata": {},
   "source": [
    "## Query\n",
    "- 유사도 검색을 통해 유사도가 높은 record를 조회\n",
    "- `vectorStore.similarity_search(query: str, k: int, filter: dict)`\n",
    "  - query: 검색할 문서\n",
    "  - k: 유사도가 높은 record의 개수\n",
    "  - filter: metadata를 이용한 추가 조회 조건 설정\n",
    "  - namespace: index의 namespace\n",
    "- `vectorStore.similarity_search_with_score()`\n",
    "  - similarity_search()와 동일한 기능을 하지만, 유사도 점수를 함께 반환한다."
   ]
  },
  {
   "cell_type": "code",
   "execution_count": 46,
   "id": "c256e75d-d172-4c5e-b961-4f4fe9d8f8b0",
   "metadata": {},
   "outputs": [
    {
     "data": {
      "text/plain": [
       "[Document(id='rec02', metadata={'category': 'it'}, page_content='애플은 전 세계적으로 인기 있는 기술 회사입니다.'),\n",
       " Document(id='rec06', metadata={'category': 'it'}, page_content='애플은 혁신적인 제품으로 기술 산업을 이끌고 있습니다.'),\n",
       " Document(id='rec10', metadata={'category': 'it'}, page_content='애플은 환경을 고려한 지속 가능한 제품을 생산하려고 합니다.')]"
      ]
     },
     "execution_count": 46,
     "metadata": {},
     "output_type": "execute_result"
    }
   ],
   "source": [
    "res = vector_store.similarity_search(query=\"애플은 누가 만들었어?\", k=3)\n",
    "res"
   ]
  },
  {
   "cell_type": "code",
   "execution_count": 47,
   "id": "fd187bde-389f-4df2-a411-1dd327b9b599",
   "metadata": {},
   "outputs": [
    {
     "ename": "TypeError",
     "evalue": "PineconeVectorStore.similarity_search_by_vector_with_score() got an unexpected keyword argument 'query'",
     "output_type": "error",
     "traceback": [
      "\u001b[31m---------------------------------------------------------------------------\u001b[39m",
      "\u001b[31mTypeError\u001b[39m                                 Traceback (most recent call last)",
      "\u001b[36mCell\u001b[39m\u001b[36m \u001b[39m\u001b[32mIn[47]\u001b[39m\u001b[32m, line 1\u001b[39m\n\u001b[32m----> \u001b[39m\u001b[32m1\u001b[39m res = \u001b[43mvector_store\u001b[49m\u001b[43m.\u001b[49m\u001b[43msimilarity_search_by_vector_with_score\u001b[49m\u001b[43m(\u001b[49m\n\u001b[32m      2\u001b[39m \u001b[43m    \u001b[49m\u001b[43mquery\u001b[49m\u001b[43m=\u001b[49m\u001b[33;43m\"\u001b[39;49m\u001b[33;43m사과에 대해서 설명해줘.\u001b[39;49m\u001b[33;43m\"\u001b[39;49m\u001b[43m,\u001b[49m\n\u001b[32m      3\u001b[39m \u001b[43m    \u001b[49m\u001b[43mk\u001b[49m\u001b[43m=\u001b[49m\u001b[32;43m3\u001b[39;49m\u001b[43m,\u001b[49m\n\u001b[32m      4\u001b[39m \u001b[43m    \u001b[49m\u001b[38;5;28;43mfilter\u001b[39;49m\u001b[43m=\u001b[49m\u001b[43m{\u001b[49m\u001b[33;43m\"\u001b[39;49m\u001b[33;43mcategory\u001b[39;49m\u001b[33;43m\"\u001b[39;49m\u001b[43m:\u001b[49m\u001b[33;43m\"\u001b[39;49m\u001b[33;43mit\u001b[39;49m\u001b[33;43m\"\u001b[39;49m\u001b[43m}\u001b[49m\n\u001b[32m      5\u001b[39m \u001b[43m)\u001b[49m\n\u001b[32m      7\u001b[39m res\n",
      "\u001b[31mTypeError\u001b[39m: PineconeVectorStore.similarity_search_by_vector_with_score() got an unexpected keyword argument 'query'"
     ]
    }
   ],
   "source": [
    "res = vector_store.similarity_search_by_vector_with_score(\n",
    "    query=\"사과에 대해서 설명해줘.\",\n",
    "    k=3,\n",
    "    filter={\"category\":\"it\"}\n",
    ")\n",
    "\n",
    "res"
   ]
  }
 ],
 "metadata": {
  "kernelspec": {
   "display_name": "lang_env",
   "language": "python",
   "name": "python3"
  },
  "language_info": {
   "codemirror_mode": {
    "name": "ipython",
    "version": 3
   },
   "file_extension": ".py",
   "mimetype": "text/x-python",
   "name": "python",
   "nbconvert_exporter": "python",
   "pygments_lexer": "ipython3",
   "version": "3.12.11"
  }
 },
 "nbformat": 4,
 "nbformat_minor": 5
}
