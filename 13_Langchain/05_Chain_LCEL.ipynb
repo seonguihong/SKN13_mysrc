{
 "cells": [
  {
   "cell_type": "markdown",
   "id": "35ee8245-0329-4185-971d-21bf20cc780e",
   "metadata": {},
   "source": [
    "# Chain\n",
    "\n",
    "**Chain**(체인)은 여러 컴포넌트(요소)를 정해진 순서대로 연결하여 **복잡한 AI 작업을 단계별로 자동화**할 수 있도록 돕는 구조이다.\n",
    "\n",
    "- 각 컴포넌트는 입력을 받아 특정 처리를 수행한 후 다음 단계로 결과를 전달한다.\n",
    "- 복잡한 작업을 여러 개의 단순한 단계로 나누고, 각 단계를 순차적으로 실행함으로써 전체 작업을 체계적으로 구성할 수 있다.\n",
    "\n",
    "## 기본 개념\n",
    "\n",
    "- 체인은 하나의 LLM 호출에 그치지 않고 **여러 LLM 호출이나 도구 실행을 순차적으로 연결**할 수 있다.\n",
    "- 예를 들어, 사용자의 질문 → 검색 → 요약 → 응답 생성 같은 일련의 작업을 체인으로 구성할 수 있다.\n",
    "- 체인을 사용하면 코드의 재사용성과 유지 보수성이 향상된다.\n",
    "\n",
    "## LangChain에서의 Chain 구성 방식\n",
    "\n",
    "LangChain은 다음 두 가지 방식을 통해 체인을 구성할 수 있다.\n",
    "\n",
    "### 1. Off-the-shelf Chains 방식 (클래식 방식)\n",
    "\n",
    "- LangChain에서 제공하는 **미리 정의된 Chain 클래스**(예: `LLMChain`, `SequentialChain`, `SimpleSequentialChain`)를 활용하는 방식이다.\n",
    "- 이 방식은 LangChain의 **초기 구조**이며, 대부분의 클래스는 현재 **더 이상 사용되지 않음(deprecated)** 상태이다.\n",
    "\n",
    "> 현재 LangChain에서는 이 방식을 권장하지 않는다.\n",
    "\n",
    "### 2. LCEL (LangChain Expression Language) 방식\n",
    "\n",
    "- 체인을 함수형 방식으로 선언할 수 있는 **표현식 기반의 체인 구성 언어**이다.\n",
    "- LCEL 방식은 간결하고 선언적인 문법을 제공하여 **직관적이고 확장성 있는 체인 구성**이 가능하다.\n",
    "- `Runnable`이라는 공통 인터페이스를 기반으로 다양한 요소를 조합하여 체인을 구성한다.\n",
    "- 체인의 각 구성 요소는 `invoke()` 메서드로 실행된다."
   ]
  },
  {
   "cell_type": "code",
   "execution_count": 2,
   "id": "04b39b40",
   "metadata": {},
   "outputs": [],
   "source": [
    "# off-the-shelf 방식\n",
    "\n",
    "from dotenv import load_dotenv\n",
    "from langchain.prompts import PromptTemplate\n",
    "from langchain_openai import ChatOpenAI\n",
    "from langchain_core.output_parsers import StrOutputParser\n",
    "\n",
    "load_dotenv()\n",
    "\n",
    "prompt_template = PromptTemplate(template=\"{item}에 어울리는 이름 {count}개 만들어 주세요.\")\n",
    "\n",
    "model = ChatOpenAI(model_name=\"gpt-4o-mini\")\n",
    "parser = StrOutputParser()"
   ]
  },
  {
   "cell_type": "code",
   "execution_count": 4,
   "id": "17512d20",
   "metadata": {},
   "outputs": [
    {
     "name": "stderr",
     "output_type": "stream",
     "text": [
      "C:\\Users\\tjddm\\AppData\\Local\\Temp\\ipykernel_7012\\1148074225.py:3: LangChainDeprecationWarning: The class `LLMChain` was deprecated in LangChain 0.1.17 and will be removed in 1.0. Use :meth:`~RunnableSequence, e.g., `prompt | llm`` instead.\n",
      "  chain = LLMChain(\n"
     ]
    }
   ],
   "source": [
    "from langchain import LLMChain\n",
    "\n",
    "chain = LLMChain(\n",
    "    prompt = prompt_template,\n",
    "    llm =model,\n",
    "    output_parser = parser\n",
    ")\n",
    "\n",
    "response = chain.invoke({\"item\":\"가방\",\"count\":5})"
   ]
  },
  {
   "cell_type": "code",
   "execution_count": 5,
   "id": "659bf223",
   "metadata": {},
   "outputs": [
    {
     "data": {
      "text/plain": [
       "{'item': '가방',\n",
       " 'count': 5,\n",
       " 'text': '물론이죠! 가방에 어울리는 이름 5개를 제안합니다.\\n\\n1. **루비백** - 고급스럽고 세련된 느낌을 주는 이름\\n2. **테라코타** - 따뜻한 색감을 연상시키는 자연 친화적인 이름\\n3. **모멘트백** - 특별한 순간을 담아내는 의미의 이름\\n4. **에코백스** - 환경을 생각하는 친환경 가방에 적합한 이름\\n5. **시크릿 포켓** - 숨겨진 공간이 많은 가방에 어울리는 미스터리한 이름\\n\\n이름들이 마음에 드시길 바랍니다!'}"
      ]
     },
     "execution_count": 5,
     "metadata": {},
     "output_type": "execute_result"
    }
   ],
   "source": [
    "response"
   ]
  },
  {
   "cell_type": "markdown",
   "id": "59ba00ec-6c7c-496e-b31f-f3978b74bdba",
   "metadata": {},
   "source": [
    "# [LCEL](https://python.langchain.com/docs/how_to/#langchain-expression-language-lcel) (LangChain Expression Language)\n",
    "- LCEL은 LangChain의 핵심 기능인 체인(Chain)을 더욱 간결하고 유연하게 구성할 수 있도록 고안된 **선언형 체인(chain) 구성 언어**이다.\n",
    "- 파이프 연산자 `|`를 사용해 선언적 방법으로 여러 작업을 연결한다.\n",
    "- 체인을 구성하는 각 요소는 `Runnable` 타입으로, 체인 내에서 실행 가능한 단위이다.\n",
    "- 각 단계는 invoke() 메서드를 통해 실행되며, 앞 단계의 출력이 다음 단계의 입력으로 자동 전달된다.\n",
    "    - [Runnable 컴포넌트별 입출력 타입](https://python.langchain.com/docs/concepts/runnables/#input-and-output-types)\n",
    "    - 각 컴포넌트의 input과 output 타입에 맞춰 값이 전달되도록 한다.\n",
    "- https://python.langchain.com/v0.2/docs/concepts/#langchain-expression-language-lcel"
   ]
  },
  {
   "cell_type": "markdown",
   "id": "b3f0d52c-23da-4ec6-87cc-925e3d6259ea",
   "metadata": {},
   "source": [
    "## [Runnable](https://python.langchain.com/api_reference/core/runnables/langchain_core.runnables.base.Runnable.html)\n",
    "- LangChain의 Runnable은 실행 가능한 작업 단위를 캡슐화한 개념으로, 데이터 흐름의 각 단계를 정의하고 **체인(chain) 에 포함 되어**  복잡한 작업의 각 단계를 수행 한다.\n",
    "- Chain을 구성하는 class들은 Runnable의 상속 받아 구현한다.\n",
    "- **Prompt Template클래스**, **Chat 모델, LLM 모델 클래스**, **Output Parser 클래스** 등 다양한 컴포넌트가 Runnable을 상속받아 구현된다.\n",
    "\n",
    "### 주요 특징\n",
    "- 작업 단위의 캡슐화:\n",
    "    - Runnable은 특정 작업(예: 프롬프트 생성, LLM 호출, 출력 파싱 등)을 수행하는 독립적인 컴포넌트이다.\n",
    "    - 각 컴포넌트는 독립적으로 테스트 및 재사용이 가능하며, 조합하여 복잡한 체인을 구성할 수 있다.\n",
    "- 체인 연결 및 작업 흐름 관리:\n",
    "    - Runnable은 체인(chain, 일련의 연결된 작업 흐름)을 구성하는 기본 단위로 사용된다.\n",
    "    - LangChain Expression Language(LCEL)를 사용하면 | 연산자를 통해 여러 Runnable을 쉽게 연결할 수 있다.\n",
    "    - 입력과 출력의 형식을 일관되게 유지하여 각 단계가 자연스럽게 연결된다.\n",
    "- 모듈화 및 디버깅 용이성:\n",
    "    - 각 단계가 명확히 분리되어 문제 발생 시 어느 단계에서 오류가 발생했는지 쉽게 확인할 수 있다.\n",
    "    - 복잡한 작업을 작은 단위로 나누어 체계적으로 관리할 수 있다.\n",
    "      \n",
    "### Runnable의 표준 메소드\n",
    "- 모든 Runnable이 구현하는 공통 메소드\n",
    "    - `invoke()`: 단일 입력을 처리하여 결과를 반환.\n",
    "    - `batch()`: 여러 입력 데이터들을 한 번에 처리.\n",
    "    - `stream()`: 입력에 대해 스트리밍 방식으로 응답을 반환.\n",
    "    - `ainvoke()`: 비동기 방식으로 입력을 처리하여 결과를 반환.\n",
    "\n",
    "### Runnable의 주요 구현체(하위 클래스)\n",
    "\n",
    "- `RunnableSequence`\n",
    "    - 여러 `Runnable`을 순차적으로 연결하여 실행하는 구성이다.\n",
    "    - 각 단계의 출력이 다음 단계의 입력으로 전달된다.\n",
    "    - LCEL을 사용하여 체인을 구성할 경우 자동으로 `RunnableSequence`로 변환된다.\n",
    "-  `RunnablePassThrough`\n",
    "    - 입력 데이터를 가공하지 않고 그대로 다음 단계로 전달하는 `Runnable`이다.\n",
    "    - 선택적으로 미리 정의된 키-값 쌍을 함께 전달할 수 있다.\n",
    "\n",
    "- `RunnableParallel`\n",
    "    - 여러 `Runnable`을 병렬로 실행한 후, 결과를 결합하여 다음 단계로 전달한다.\n",
    "    - 병렬 처리를 통해 처리 속도를 개선할 수 있다.\n",
    "\n",
    "- `RunnableLambda`\n",
    "    - 일반 함수 또는 `lambda` 함수를 `Runnable`로 변환하여 체인에 포함할 수 있다.\n",
    "    - 사용자 정의 함수로 동작을 확장할 때 유용하다."
   ]
  },
  {
   "cell_type": "markdown",
   "id": "ad98816c-6666-4d36-a91d-4b4f64519de4",
   "metadata": {},
   "source": [
    "#### Runnable 예제"
   ]
  },
  {
   "cell_type": "code",
   "execution_count": 9,
   "id": "6f4040f4-b373-4f15-9c34-9026541ad755",
   "metadata": {},
   "outputs": [],
   "source": [
    "from langchain_core.runnables import Runnable # 모든 Runnable의 최상위\n",
    "\n",
    "# 사용자 정의 Runnable\n",
    "class MyRunnable(Runnable):\n",
    "\n",
    "    def invoke(self, input_data:str, config:dict=None):\n",
    "        # invoke() : 구현하는 Runnable이 해야하는 작업을 구현하는 메소드.\n",
    "        # input_data : 입력값\n",
    "        # config : 필요한 설정 값들.\n",
    "        if config is not None and config.get(\"lang\") == \"en\":\n",
    "            return f\"Explain {input_data} in one sentence.\"\n",
    "\n",
    "        return f\"{input_data}에 대해서 한 문장으로 설명해줘.\""
   ]
  },
  {
   "cell_type": "code",
   "execution_count": 10,
   "id": "df76db46",
   "metadata": {},
   "outputs": [
    {
     "data": {
      "text/plain": [
       "'Explain Apple in one sentence.'"
      ]
     },
     "execution_count": 10,
     "metadata": {},
     "output_type": "execute_result"
    }
   ],
   "source": [
    "my_runnabel = MyRunnable()\n",
    "my_runnabel.invoke(\"사과\")\n",
    "my_runnabel.invoke(\"컴퓨터\")\n",
    "my_runnabel.invoke(\"Apple\", {\"lang\":\"en\"})"
   ]
  },
  {
   "cell_type": "code",
   "execution_count": 14,
   "id": "7f17b4ff",
   "metadata": {},
   "outputs": [
    {
     "name": "stdout",
     "output_type": "stream",
     "text": [
      "content='An apple is a round fruit produced by the apple tree, typically characterized by its sweet, crisp flesh and a smooth skin, often available in various colors such as red, green, and yellow.' additional_kwargs={'refusal': None} response_metadata={'token_usage': {'completion_tokens': 39, 'prompt_tokens': 13, 'total_tokens': 52, 'completion_tokens_details': {'accepted_prediction_tokens': 0, 'audio_tokens': 0, 'reasoning_tokens': 0, 'rejected_prediction_tokens': 0}, 'prompt_tokens_details': {'audio_tokens': 0, 'cached_tokens': 0}}, 'model_name': 'gpt-4o-mini-2024-07-18', 'system_fingerprint': 'fp_34a54ae93c', 'id': 'chatcmpl-BgjcJD04Zhm3RbSvyj30dr7YmRxh1', 'service_tier': 'default', 'finish_reason': 'stop', 'logprobs': None} id='run--4304588d-1506-4d9e-aef2-4f2b986dd166-0' usage_metadata={'input_tokens': 13, 'output_tokens': 39, 'total_tokens': 52, 'input_token_details': {'audio': 0, 'cache_read': 0}, 'output_token_details': {'audio': 0, 'reasoning': 0}}\n"
     ]
    }
   ],
   "source": [
    "from langchain_openai import ChatOpenAI\n",
    "from langchain_core.output_parsers import StrOutputParser\n",
    "\n",
    "my_runnabel = MyRunnable()\n",
    "model = ChatOpenAI(model_name=\"gpt-4o-mini\")\n",
    "parser = StrOutputParser()\n",
    "\n",
    "prompt = my_runnabel.invoke(\"apple\", {\"lang\":\"en\"})\n",
    "\n",
    "response = model.invoke(prompt)\n",
    "\n",
    "print(response)"
   ]
  },
  {
   "cell_type": "code",
   "execution_count": 15,
   "id": "86e7e84e",
   "metadata": {},
   "outputs": [
    {
     "name": "stdout",
     "output_type": "stream",
     "text": [
      "과일 배는 달콤하고 아삭한 식감이 특징인 과일로, 주로 수확 후 생으로 소비되거나 다양한 요리에 활용됩니다.\n"
     ]
    }
   ],
   "source": [
    "chain = my_runnabel | model | parser\n",
    "\n",
    "res = chain.invoke(\"과일 배\")\n",
    "print(res)"
   ]
  },
  {
   "cell_type": "code",
   "execution_count": 25,
   "id": "1ec8ed2f",
   "metadata": {},
   "outputs": [
    {
     "name": "stdout",
     "output_type": "stream",
     "text": [
      "<class 'langchain_core.runnables.base.RunnableSequence'>\n"
     ]
    }
   ],
   "source": [
    "# 기본 체인 구성 : prompt_template -> model -> output parser\n",
    "\n",
    "from langchain_openai import ChatOpenAI\n",
    "from langchain.prompts import ChatPromptTemplate\n",
    "from langchain_core.output_parsers import CommaSeparatedListOutputParser, StrOutputParser\n",
    "\n",
    "# role : system, user/human, ai/assistant\n",
    "#        system : 채팅 전체에 적용되는 공통 지침을 지정하는 role\n",
    "\n",
    "prompt_template = ChatPromptTemplate(\n",
    "    messages = [\n",
    "        (\"system\", \"당신은 오랜 경력의 한국 관광 가이드입니다. 여행객들에게 설명하듯이 답변을 해주세요.\"),\n",
    "        (\"human\", \"{query}\")\n",
    "    ]\n",
    ")\n",
    "\n",
    "model = ChatOpenAI(model_name = \"gpt-4o-mini\")\n",
    "\n",
    "guide_chain = prompt_template | model | StrOutputParser()\n",
    "\n",
    "print(type(guide_chain)) # RunnableSequence : Runnable 타입 -> chain도 다른 chain에 구성요소로 포함 될수있다.\n",
    "\n"
   ]
  },
  {
   "cell_type": "code",
   "execution_count": 26,
   "id": "d17c55b6",
   "metadata": {},
   "outputs": [],
   "source": [
    "query = \"서울에서 꼭 가봐야되는 여행지를 세 곳만 알려줘.\"\n",
    "response = guide_chain.invoke({\"query\":query})"
   ]
  },
  {
   "cell_type": "code",
   "execution_count": 28,
   "id": "037f750b",
   "metadata": {},
   "outputs": [
    {
     "name": "stdout",
     "output_type": "stream",
     "text": [
      "User: \n",
      "AI: 안녕하세요! 한국의 매력적인 관광지와 문화에 대해 궁금한 점이 있으신가요? 전통과 현대가 공존하는 아름다운 나라, 한국에 대해 자세히 설명해 드리겠습니다. 예를 들어, 서울에서는 경복궁과 같은 역사적인 장소를 방문하실 수 있고, 현대적인 매력이 넘치는 명동이나 동대문 디자인 플라자도 즐기실 수 있습니다. 또는 부산의 해운대와 같은 멋진 해변에서 휴식을 취해보세요. 어떤 주제에 대해 이야기해 볼까요?\n",
      "--------------------------------------------------\n"
     ]
    }
   ],
   "source": [
    "while True:\n",
    "    query = input(\"질문:\")\n",
    "    if query == \"!quit\":\n",
    "        break\n",
    "    resp = guide_chain.invoke({\"query\":query})\n",
    "    print(\"User:\", query)\n",
    "    print(\"AI:\", resp)\n",
    "    print(\"-\"*50)"
   ]
  },
  {
   "cell_type": "markdown",
   "id": "9d6c137e-35bb-4e4d-8561-859b0650b62f",
   "metadata": {},
   "source": [
    "#### RunnableLambda 예제"
   ]
  },
  {
   "cell_type": "code",
   "execution_count": 32,
   "id": "7a5ac9fd-2616-4031-a079-a1822d784e93",
   "metadata": {},
   "outputs": [
    {
     "data": {
      "text/plain": [
       "'LLM를 한 문장으로 설명해줘.'"
      ]
     },
     "execution_count": 32,
     "metadata": {},
     "output_type": "execute_result"
    }
   ],
   "source": [
    "from langchain_core.runnables import RunnableLambda\n",
    "\n",
    "lambda input_data : f\"{input_data}를 한 문장으로 설명해줘.\"\n",
    "\n",
    "# RunnableLamda(함수) -> 함수를 실행하는 Runnable을 생성.\n",
    "my_runnabel2 = RunnableLambda(lambda input_data : f\"{input_data}를 한 문장으로 설명해줘.\")\n",
    "\n",
    "my_runnabel2.invoke(\"LLM\")"
   ]
  },
  {
   "cell_type": "code",
   "execution_count": null,
   "id": "642549cf",
   "metadata": {},
   "outputs": [
    {
     "data": {
      "text/plain": [
       "3"
      ]
     },
     "execution_count": 33,
     "metadata": {},
     "output_type": "execute_result"
    }
   ],
   "source": [
    "def sum(nums):\n",
    "    return nums[0] + nums[1]\n",
    "\n",
    "my_runnabel2 = RunnableLambda(sum)\n",
    "\n",
    "my_runnabel2.invoke([1,2])\n",
    "\n",
    "# invoke(입력데이터 : str | dict, 설정정보 : dict)\n",
    "# 입력데이터가 여러개일 경우 dict등의 자료구조를 이용해서 받음."
   ]
  },
  {
   "cell_type": "markdown",
   "id": "b884fd4c-feaa-46f1-af21-c5779900e502",
   "metadata": {},
   "source": [
    "#### RunnablePassThrough 예제"
   ]
  },
  {
   "cell_type": "code",
   "execution_count": 36,
   "id": "6e43fcf5-e5c7-4502-830f-b722b832f3bf",
   "metadata": {},
   "outputs": [
    {
     "data": {
      "text/plain": [
       "{'key': 'value'}"
      ]
     },
     "execution_count": 36,
     "metadata": {},
     "output_type": "execute_result"
    }
   ],
   "source": [
    "# 앞 Runnable이 처리한 결과를 다음 Runnable에 그대로 전달.\n",
    "from langchain_core.runnables import RunnablePassthrough\n",
    "\n",
    "RunnablePassthrough().invoke(\"안녕하세요\")\n",
    "RunnablePassthrough().invoke({\"key\":\"value\"})"
   ]
  },
  {
   "cell_type": "code",
   "execution_count": 37,
   "id": "ce92eb07",
   "metadata": {},
   "outputs": [
    {
     "data": {
      "text/plain": [
       "{'name': '홍길동', 'address': '서울시 금천구', 'phone': '010-1111-2222'}"
      ]
     },
     "execution_count": 37,
     "metadata": {},
     "output_type": "execute_result"
    }
   ],
   "source": [
    "# 앞 Runnable이 처리한 결과에 Item을 추가해서 다음 Runnable에 그대로 전달.\n",
    "# -> 입력받은 dict에 item을 추가.\n",
    "\n",
    "#RunnablePassthrough.assign(key=Runnable, key=Runnable, key=Runnable, ...)\n",
    "# -> 받은 dict에 \"key1\" : Runnable 반환값, \"key2\" : Runnable 반환값,  ... 추가해서 다음으로 전달.\n",
    "\n",
    "address_runnable = RunnableLambda(lambda x : \"서울시 금천구\")\n",
    "phone_runnable = RunnableLambda(lambda x : \"010-1111-2222\")\n",
    "\n",
    "RunnablePassthrough.assign(address = address_runnable, phone = phone_runnable).invoke({\"name\":\"홍길동\"})"
   ]
  },
  {
   "cell_type": "markdown",
   "id": "6e3ba482-5dab-41df-96d1-c6649ecb8cee",
   "metadata": {},
   "source": [
    "#### RunnableSequence 예제"
   ]
  },
  {
   "cell_type": "code",
   "execution_count": null,
   "id": "afd2c247-a4e3-4b1b-a494-400b077eba54",
   "metadata": {},
   "outputs": [
    {
     "data": {
      "text/plain": [
       "62"
      ]
     },
     "execution_count": 39,
     "metadata": {},
     "output_type": "execute_result"
    }
   ],
   "source": [
    "from langchain_core.runnables import RunnableSequence\n",
    "\n",
    "run1 = RunnableLambda(lambda x : x+1)\n",
    "run2 = RunnableLambda(lambda x : x*2)\n",
    "\n",
    "chain = run1 | run2\n",
    "\n",
    "chain.invoke(30)"
   ]
  },
  {
   "cell_type": "code",
   "execution_count": 40,
   "id": "9c7c0218",
   "metadata": {},
   "outputs": [
    {
     "data": {
      "text/plain": [
       "62"
      ]
     },
     "execution_count": 40,
     "metadata": {},
     "output_type": "execute_result"
    }
   ],
   "source": [
    "chain2 = RunnableSequence(run1,run2)\n",
    "\n",
    "chain2.invoke(30)"
   ]
  },
  {
   "cell_type": "markdown",
   "id": "4c1531bb-ad33-4d1b-a59b-62cf08cb4457",
   "metadata": {},
   "source": [
    "#### RunnableParallel 예제"
   ]
  },
  {
   "cell_type": "code",
   "execution_count": 45,
   "id": "cce6992c-85e1-4a2f-b16f-e294c50a3c1a",
   "metadata": {},
   "outputs": [
    {
     "data": {
      "text/plain": [
       "{'result1': 7, 'result2': 12, 'result3': 2, 'result4': 6}"
      ]
     },
     "execution_count": 45,
     "metadata": {},
     "output_type": "execute_result"
    }
   ],
   "source": [
    "from langchain_core.runnables import RunnableParallel\n",
    "\n",
    "run1 = RunnableLambda(lambda x : x+1)\n",
    "run2 = RunnableLambda(lambda x : x*2)\n",
    "run3 = RunnableLambda(lambda x : x//3)\n",
    "\n",
    "chain = RunnableParallel(\n",
    "    {\n",
    "        \"result1\" : run1,\n",
    "        \"result2\" : run2,\n",
    "        \"result3\" : run3,\n",
    "        \"result4\" : RunnablePassthrough()\n",
    "    }\n",
    ")\n",
    "# 각 Runnable들을 각각 실행하고 그 결과를 key에 할당한 Dictionary에 반환.\n",
    "\n",
    "chain.invoke(6)\n"
   ]
  },
  {
   "cell_type": "code",
   "execution_count": 63,
   "id": "4dffeae2",
   "metadata": {},
   "outputs": [
    {
     "name": "stdout",
     "output_type": "stream",
     "text": [
      "dict_values(['pasta'])\n"
     ]
    }
   ],
   "source": [
    "a = {\"food\":\"pasta\"}\n",
    "\n",
    "print(a.values())"
   ]
  },
  {
   "cell_type": "markdown",
   "id": "1fe6327f-591c-4d0b-87b2-796d41ad6b98",
   "metadata": {},
   "source": [
    "#### LCEL Chain 예제"
   ]
  },
  {
   "cell_type": "code",
   "execution_count": 71,
   "id": "db89a684",
   "metadata": {},
   "outputs": [],
   "source": [
    "# 음식 이름을 받아서 레시피를 영어로 출력하는 chain을 구성\n",
    "# prompt template -> model -> output parser\n",
    "\n",
    "from langchain_core.output_parsers import StrOutputParser\n",
    "from langchain_openai import ChatOpenAI\n",
    "from langchain.prompts import PromptTemplate\n",
    "from textwrap import dedent\n",
    "\n",
    "prompt_template = PromptTemplate(\n",
    "    template = dedent(\"\"\"\n",
    "    # instruction\n",
    "    당신은 숙련된 요리 연구가입니다 요청된 음식의 레시피를 작성해 주세요.\n",
    "                      \n",
    "    # Input data\n",
    "    음식이름 : {food}\n",
    "                      \n",
    "    # Output indicator\n",
    "    - 레시피는 영어로 작성해 주세요.                \n",
    "    \"\"\")\n",
    ")\n",
    "\n",
    "model = ChatOpenAI(model_name=\"gpt-4o-mini\")\n",
    "\n",
    "food_chain = prompt_template | model | StrOutputParser()"
   ]
  },
  {
   "cell_type": "code",
   "execution_count": 74,
   "id": "744400d8",
   "metadata": {},
   "outputs": [],
   "source": [
    "response = food_chain.invoke({\"food\":\"pasta\"})"
   ]
  },
  {
   "cell_type": "code",
   "execution_count": 75,
   "id": "283950bf",
   "metadata": {},
   "outputs": [
    {
     "name": "stdout",
     "output_type": "stream",
     "text": [
      "## Pasta Recipe\n",
      "\n",
      "### Ingredients:\n",
      "- 300g pasta (spaghetti, penne, or your choice)\n",
      "- 4 liters water\n",
      "- 2 tablespoons salt\n",
      "- 2 tablespoons olive oil\n",
      "- 3 cloves garlic, minced\n",
      "- 400g canned tomatoes (crushed or diced)\n",
      "- 1 teaspoon dried oregano\n",
      "- 1 teaspoon dried basil (or a handful of fresh basil)\n",
      "- Salt and pepper to taste\n",
      "- Grated Parmesan cheese (for serving)\n",
      "- Fresh basil leaves (for garnish, optional)\n",
      "\n",
      "### Instructions:\n",
      "\n",
      "1. **Cook the Pasta:**\n",
      "   - In a large pot, bring 4 liters of water to a rolling boil.\n",
      "   - Add 2 tablespoons of salt to the boiling water.\n",
      "   - Add the pasta to the pot and cook according to the package directions until al dente (usually about 8-12 minutes).\n",
      "   - Once cooked, reserve about 1 cup of pasta water, then drain the pasta and set aside.\n",
      "\n",
      "2. **Prepare the Sauce:**\n",
      "   - In a large skillet, heat 2 tablespoons of olive oil over medium heat.\n",
      "   - Add the minced garlic and sauté for about 1 minute, or until fragrant (be careful not to burn it).\n",
      "   - Add the canned tomatoes to the skillet, along with the dried oregano and dried basil. Stir to combine.\n",
      "   - Let the sauce simmer for about 10-15 minutes, allowing it to thicken. Stir occasionally.\n",
      "   - Season with salt and pepper to taste.\n",
      "\n",
      "3. **Combine Pasta and Sauce:**\n",
      "   - Once the sauce has thickened, add the drained pasta to the skillet. Toss to coat the pasta evenly with the sauce.\n",
      "   - If the sauce seems too thick, gradually add some of the reserved pasta water until you reach your desired consistency.\n",
      "\n",
      "4. **Serve:**\n",
      "   - Divide the pasta into serving bowls.\n",
      "   - Top with grated Parmesan cheese and fresh basil leaves, if desired.\n",
      "   - Enjoy your delicious homemade pasta!\n",
      "\n",
      "### Tips:\n",
      "- You can customize this recipe by adding vegetables (like spinach or bell peppers) or protein (like grilled chicken or shrimp) to the sauce.\n",
      "- For a spicy kick, add red pepper flakes when sautéing the garlic.\n"
     ]
    }
   ],
   "source": [
    "print(response)"
   ]
  },
  {
   "cell_type": "code",
   "execution_count": 85,
   "id": "f0e9a72a",
   "metadata": {},
   "outputs": [],
   "source": [
    "from langchain_core.output_parsers import StrOutputParser\n",
    "from langchain_openai import ChatOpenAI\n",
    "from langchain.prompts import PromptTemplate\n",
    "from textwrap import dedent\n",
    "\n",
    "prompt_template_trans = PromptTemplate(\n",
    "    template = dedent(\"\"\"\n",
    "    # instruction\n",
    "    당신은 번역 전문가 입니다. \n",
    "    문장과 입력받아 문장을 해당 {language}로 번역해주세요.\n",
    "                      \n",
    "    # Input data\n",
    "    문장 : {content}\n",
    "                      \n",
    "    # Output indicator\n",
    "    - 번역한 내용만 출력해 주세요.      \n",
    "    \"\"\")\n",
    ")\n",
    "\n",
    "translate_chain = prompt_template_trans | model | StrOutputParser()\n"
   ]
  },
  {
   "cell_type": "code",
   "execution_count": 83,
   "id": "f2ea7a39",
   "metadata": {},
   "outputs": [],
   "source": [
    "response_kor = translate_chain.invoke({\"content\":response,\"language\":\"한국어\"})\n",
    "# 안녕하세요 -> 독일어로 번역한 응답"
   ]
  },
  {
   "cell_type": "code",
   "execution_count": 84,
   "id": "55f20281",
   "metadata": {},
   "outputs": [
    {
     "name": "stdout",
     "output_type": "stream",
     "text": [
      "## 파스타 레시피\n",
      "\n",
      "### 재료:\n",
      "- 파스타 300g (스파게티, 펜네 또는 원하는 종류)\n",
      "- 물 4리터\n",
      "- 소금 2큰술\n",
      "- 올리브 오일 2큰술\n",
      "- 다진 마늘 3쪽\n",
      "- 통조림 토마토 400g (부서진 것 또는 깍둑썰기 한 것)\n",
      "- 마른 오레가노 1작은술\n",
      "- 마른 바질 1작은술 (또는 신선한 바질 한 줌)\n",
      "- 소금과 후추는 기호에 맞게\n",
      "- 파르메산 치즈 (제공용)\n",
      "- 신선한 바질 잎 (장식용, 선택 사항)\n",
      "\n",
      "### 조리법:\n",
      "\n",
      "1. **파스타 조리하기:**\n",
      "   - 큰 냄비에 물 4리터를 끓입니다.\n",
      "   - 끓는 물에 소금 2큰술을 넣습니다.\n",
      "   - 파스타를 냄비에 넣고 패키지 지침에 따라 알 덴테(보통 8-12분 정도)로 조리합니다.\n",
      "   - 조리가 끝나면 약 1컵의 파스타 물을 남겨두고, 나머지는 체에 밭쳐 놓습니다.\n",
      "\n",
      "2. **소스 준비하기:**\n",
      "   - 큰 팬에 올리브 오일 2큰술을 중불에서 가열합니다.\n",
      "   - 다진 마늘을 넣고 약 1분간 볶아 향이 나도록 합니다(타지 않도록 주의).\n",
      "   - 팬에 통조림 토마토와 마른 오레가노, 마른 바질을 넣고 섞습니다.\n",
      "   - 소스를 약 10-15분 동안 끓여 농도가 진해지도록 합니다. 가끔 저어줍니다.\n",
      "   - 기호에 맞게 소금과 후추로 간을 합니다.\n",
      "\n",
      "3. **파스타와 소스 결합하기:**\n",
      "   - 소스가 진해지면 drained 파스타를 팬에 넣습니다. 소스와 고르게 섞이도록 버무립니다.\n",
      "   - 소스가 너무 뻑뻑하게 느껴지면 남겨둔 파스타 물을 조금씩 추가해 원하는 농도로 조절합니다.\n",
      "\n",
      "4. **서빙하기:**\n",
      "   - 파스타를 서빙용 그릇에 나눕니다.\n",
      "   - 기호에 따라 간 파르메산 치즈와 신선한 바질 잎으로 토핑합니다.\n",
      "   - 맛있는 홈메이드 파스타를 즐기세요!\n",
      "\n",
      "### 팁:\n",
      "- 이 레시피는 채소(시금치나 피망)나 단백질(구운 치킨이나 새우)을 추가하여 맞춤형으로 만들 수 있습니다.\n",
      "- 매콤한 맛을 원하신다면 마늘을 볶을 때 붉은 고추 조각을 추가하세요.\n"
     ]
    }
   ],
   "source": [
    "print(response_kor)"
   ]
  },
  {
   "cell_type": "markdown",
   "id": "1890e5c0",
   "metadata": {},
   "source": [
    "------------------------------------------------------------------------------------------------------------------------------------"
   ]
  },
  {
   "cell_type": "code",
   "execution_count": null,
   "id": "e916435d-e288-4ca3-9e32-b3c17e95d5ad",
   "metadata": {},
   "outputs": [],
   "source": [
    "# 음식 이름을 받아서 레시피를 영어로 출력하는 chain을 구성\n",
    "# prompt template -> model -> output parser\n",
    "\n",
    "from langchain_core.runnables import Runnable\n",
    "\n",
    "# 사용자 정의 Runnable\n",
    "class MyRunnable(Runnable):\n",
    "\n",
    "    def invoke(self, input_data:dict, config:dict=None):\n",
    "        \n",
    "        return f\"Explain {input_data.values()} how to make this food in English.\"\n",
    "\n",
    "food_chain = MyRunnable() | model | parser\n",
    "\n"
   ]
  },
  {
   "cell_type": "code",
   "execution_count": 68,
   "id": "047be191-28eb-4674-af53-9ac2a0d0ab97",
   "metadata": {},
   "outputs": [],
   "source": [
    "response = food_chain.invoke({\"food\":\"햄버거\"}) # 음식이름은 아무거나 넣고 결과값은 영어로 나오게"
   ]
  },
  {
   "cell_type": "code",
   "execution_count": 69,
   "id": "653ccabc",
   "metadata": {},
   "outputs": [
    {
     "name": "stdout",
     "output_type": "stream",
     "text": [
      "To make a hamburger, you'll need the following ingredients and follow these steps:\n",
      "\n",
      "### Ingredients:\n",
      "- Ground beef (80/20 lean-to-fat ratio is ideal)\n",
      "- Salt and pepper\n",
      "- Burger buns\n",
      "- Cheese (optional, e.g., cheddar, American)\n",
      "- Toppings (lettuce, tomato, onion, pickles)\n",
      "- Condiments (ketchup, mustard, mayonnaise)\n",
      "\n",
      "### Instructions:\n",
      "\n",
      "1. **Prepare the Patties:**\n",
      "   - Take about ¼ pound (113g) of ground beef for each patty. \n",
      "   - Gently shape the meat into a round patty about ¾ inch thick. Try not to overwork the meat to keep it tender.\n",
      "   - Use your thumb to create a slight indent in the center of the patty; this helps it cook evenly.\n",
      "   - Season both sides with salt and pepper.\n",
      "\n",
      "2. **Cook the Patties:**\n",
      "   - Preheat a grill or skillet over medium-high heat. If using a skillet, add a small amount of oil to prevent sticking.\n",
      "   - Place the patties on the grill or skillet and cook for about 3-4 minutes on one side.\n",
      "   - Flip the patties and cook for another 3-4 minutes for medium-rare. Add a slice of cheese on top during the last minute of cooking if you want a cheeseburger.\n",
      "\n",
      "3. **Toast the Buns (optional):**\n",
      "   - While the patties are cooking, you can toast the burger buns on the grill or in a separate skillet for about 1-2 minutes until they’re golden brown.\n",
      "\n",
      "4. **Assemble the Burger:**\n",
      "   - Start with the bottom half of the bun.\n",
      "   - Place the cooked patty on the bun.\n",
      "   - Add your desired toppings: lettuce, tomato slices, onion rings, pickles, etc.\n",
      "   - Spread your favorite condiments on the top half of the bun.\n",
      "   - Place the top half of the bun on top of the assembled ingredients.\n",
      "\n",
      "5. **Serve:**\n",
      "   - Serve the hamburgers immediately with sides such as fries or a salad.\n",
      "\n",
      "Enjoy your homemade hamburger!\n"
     ]
    }
   ],
   "source": [
    "print(response)"
   ]
  },
  {
   "cell_type": "markdown",
   "id": "70cfbc5c-6c03-48fc-9e4d-ddf8f34893f5",
   "metadata": {},
   "source": [
    "## Chain과 Chain간의 연결"
   ]
  },
  {
   "cell_type": "code",
   "execution_count": 102,
   "id": "98e306d3-430f-4bfa-982c-a806e1910f23",
   "metadata": {},
   "outputs": [],
   "source": [
    "# food_chain + translate_chain\n",
    "# food_chain : 변수 - food\n",
    "# translate_chain - 변수 - content, language\n",
    "\n",
    "# RunnableParallel({\"key\":Runnable,\"key\":Runnable})\n",
    "# LCEL에서 RunnableParallel -> {\"key\":Runnable,\"key\":Runnable} |\n",
    "\n",
    "chain = {\"content\":food_chain,\n",
    "          \"language\":RunnableLambda(lambda x: x[\"language\"])} | translate_chain"
   ]
  },
  {
   "cell_type": "code",
   "execution_count": 103,
   "id": "7d1ab4d0-0f9f-4227-a821-5d9751d49942",
   "metadata": {},
   "outputs": [],
   "source": [
    "res = chain.invoke({\"food\":\"파스타\",\"language\":\"한국어\"})\n",
    "# food -> food_chain, language -> translate_chain\n",
    "# food_chain 최종결과(레시피) -> {\"content\":\"레시피\"} -> translate_chain"
   ]
  },
  {
   "cell_type": "code",
   "execution_count": 104,
   "id": "49bd6cca",
   "metadata": {},
   "outputs": [
    {
     "name": "stdout",
     "output_type": "stream",
     "text": [
      "## 파스타 레시피\n",
      "\n",
      "### 재료:\n",
      "- 스파게티 200g (또는 선호하는 파스타)\n",
      "- 올리브 오일 2큰술\n",
      "- 다진 마늘 3쪽\n",
      "- 붉은 고추 조각 1/2 티스푼 (선택 사항)\n",
      "- 다진 토마토 400g (통조림)\n",
      "- 소금과 후추, 기호에 따라\n",
      "- 신선한 바질 잎, 장식용\n",
      "- 파마산 치즈, 제공용\n",
      "\n",
      "### 조리 방법:\n",
      "\n",
      "1. **파스타 삶기:**\n",
      "   - 큰 냄비에 소금물 끓이기. 스파게티를 넣고 포장지에 안내된 대로 알 덴테가 될 때까지 요리합니다. 약 1컵의 파스타 물을 남기고, 나머지는 물기를 빼고 따로 둡니다.\n",
      "\n",
      "2. **소스 준비:**\n",
      "   - 큰 팬이나 소스팬에 중불로 올리브 오일을 가열합니다. 다진 마늘과 붉은 고추 조각을 넣고 향이 날 때까지 약 1-2분간 볶습니다.\n",
      "\n",
      "3. **토마토 추가:**\n",
      "   - 다진 토마토(국물이 포함된)를 붓고 끓입니다. 소금과 후추로 간을 합니다. 약 10-15분 동안 조리하여 맛이 섞이고 소스가 약간 걸쭉해질 때까지 끓입니다.\n",
      "\n",
      "4. **파스타와 소스 결합:**\n",
      "   - 삶은 스파게티를 소스에 추가합니다. 섞이도록 버무리고, 원하는 소스 농도가 될 때까지 남겨두었던 파스타 물을 조금씩 추가합니다.\n",
      "\n",
      "5. **서빙:**\n",
      "   - 파스타를 접시에 담고 신선한 바질 잎으로 장식합니다. 원한다면 갈은 파마산 치즈와 추가 후추를 뿌립니다.\n",
      "\n",
      "6. **맛있게 드세요!**\n",
      "\n",
      "### 팁:\n",
      "- 이 레시피는 시금치, 피망, 호박과 같은 채소나 구운 닭고기나 새우와 같은 단백질을 추가하여 맞춤 설정할 수 있습니다.\n",
      "- 더 크리미한 소스를 원하면 요리 마지막에 생크림이나 크림치즈를 한 덩어리 넣어 저어주세요.\n",
      "\n",
      "맛있는 홈메이드 파스타를 즐기세요!\n"
     ]
    }
   ],
   "source": [
    "print(res)"
   ]
  },
  {
   "cell_type": "markdown",
   "id": "c6b59505-5ef9-4bc5-9a32-9e359d3bf0a1",
   "metadata": {},
   "source": [
    "# 사용자 함수를 Chain에 적용하기\n",
    "\n",
    "## 사용자 함수를 Runnable로 정의 (RunnableLambda)\n",
    "- 임의의 함수를 Runnable로 정의 할 수있다.\n",
    "  - chain에 포함할 기능을 함수로 정의할 때 주로 사용. \n",
    "- `RunnableLambda(함수)` 사용\n",
    "  - 함수는 invoke() 메소드를 통해 입력받은 값을 받을 **한개의 파라미터**를 선언해야 한다.\n",
    "\n",
    "## 사용자 함수를 Chain으로 정의\n",
    "- Chain 을 구성하는 작업 사이에 추가 작업이 필요할 경우, 중간 결과를 모두 사용해야 하는 경우 함수로 구현한다.\n",
    "- `@chain` 데코레이터를 사용해 함수에 선언한다.\n",
    "\n",
    "### Runnable 에 사용할 **사용자 정의 함수** 구문\n",
    "- 이전 Chain의 출력을 입력 받는 **파라미터를 한개** 선언한다. (첫번째 파라미터)\n",
    "- `invoke()`로 호출 할때 전달 하는 추가 설정을 입력받는 파라미터를 선언한다.(두번째 파라미터 - Optional)\n",
    "  - RunnableConfig 타입의 값을 받는데 Dictionary 형식으로 `{\"configuable\": {\"설정이름\":\"설정값\"}}` 형식으로 받는다.\n",
    "- 만약 함수가 여러개의 인자를 받는 경우 단일 입력을 받아들이고 이를 여러 인수로 풀어내는 래퍼 함수를 작성하여 Runnable로 만든다.\n",
    "  ```python\n",
    "  def plus(num1, num2):\n",
    "      ...\n",
    "\n",
    "  def wrapper_plus(nums:dict|list):\n",
    "      return plus(nums['num1'], nums['num2'])\n",
    "  ```"
   ]
  },
  {
   "cell_type": "code",
   "execution_count": null,
   "id": "2c0de6e8-4bcf-412c-8983-9be3d7679ae5",
   "metadata": {},
   "outputs": [],
   "source": []
  },
  {
   "cell_type": "code",
   "execution_count": null,
   "id": "69710192-a281-43a2-b944-ccd3705d3b1b",
   "metadata": {},
   "outputs": [],
   "source": []
  },
  {
   "cell_type": "code",
   "execution_count": null,
   "id": "370c44ce-3e5b-4992-9ddf-cb2835c361be",
   "metadata": {},
   "outputs": [],
   "source": []
  },
  {
   "cell_type": "markdown",
   "id": "1c8b48ae-b4b2-412f-a7b5-17e9c1ebc1a4",
   "metadata": {},
   "source": [
    "# Cache\n",
    "\n",
    "- 응답 결과를 저장해서 같은 질문이 들어오면 LLM에 요청하지 않고 저장된 결과를 보여주도록 한다.\n",
    "    - 처리속도와 비용을 절감할 수 있다.\n",
    "    - 특히 chatbot같이 비슷한 질문을 하는 경우 유용하다.\n",
    "- 저장 방식은 `메모리`, `sqlite` 등 다양한 방식을 지원한다.\n",
    "  \n",
    "    ```python\n",
    "    set_llm_cache(Cache객체)\n",
    "    ```"
   ]
  },
  {
   "cell_type": "code",
   "execution_count": null,
   "id": "3e8c002f-7f0c-4357-b3ae-efe8569f04cf",
   "metadata": {},
   "outputs": [],
   "source": []
  },
  {
   "cell_type": "code",
   "execution_count": null,
   "id": "b74a46a8-703c-452b-9d57-e80749c3f528",
   "metadata": {},
   "outputs": [],
   "source": []
  },
  {
   "cell_type": "code",
   "execution_count": null,
   "id": "520effd5-677c-46e3-9068-553e973bfea4",
   "metadata": {},
   "outputs": [],
   "source": []
  }
 ],
 "metadata": {
  "kernelspec": {
   "display_name": "lang_env",
   "language": "python",
   "name": "python3"
  },
  "language_info": {
   "codemirror_mode": {
    "name": "ipython",
    "version": 3
   },
   "file_extension": ".py",
   "mimetype": "text/x-python",
   "name": "python",
   "nbconvert_exporter": "python",
   "pygments_lexer": "ipython3",
   "version": "3.12.11"
  }
 },
 "nbformat": 4,
 "nbformat_minor": 5
}
