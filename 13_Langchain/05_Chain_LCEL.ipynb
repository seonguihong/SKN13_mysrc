{
 "cells": [
  {
   "cell_type": "markdown",
   "id": "35ee8245-0329-4185-971d-21bf20cc780e",
   "metadata": {},
   "source": [
    "# Chain\n",
    "\n",
    "**Chain**(체인)은 여러 컴포넌트(요소)를 정해진 순서대로 연결하여 **복잡한 AI 작업을 단계별로 자동화**할 수 있도록 돕는 구조이다.\n",
    "\n",
    "- 각 컴포넌트는 입력을 받아 특정 처리를 수행한 후 다음 단계로 결과를 전달한다.\n",
    "- 복잡한 작업을 여러 개의 단순한 단계로 나누고, 각 단계를 순차적으로 실행함으로써 전체 작업을 체계적으로 구성할 수 있다.\n",
    "\n",
    "## 기본 개념\n",
    "\n",
    "- 체인은 하나의 LLM 호출에 그치지 않고 **여러 LLM 호출이나 도구 실행을 순차적으로 연결**할 수 있다.\n",
    "- 예를 들어, 사용자의 질문 → 검색 → 요약 → 응답 생성 같은 일련의 작업을 체인으로 구성할 수 있다.\n",
    "- 체인을 사용하면 코드의 재사용성과 유지 보수성이 향상된다.\n",
    "\n",
    "## LangChain에서의 Chain 구성 방식\n",
    "\n",
    "LangChain은 다음 두 가지 방식을 통해 체인을 구성할 수 있다.\n",
    "\n",
    "### 1. Off-the-shelf Chains 방식 (클래식 방식)\n",
    "\n",
    "- LangChain에서 제공하는 **미리 정의된 Chain 클래스**(예: `LLMChain`, `SequentialChain`, `SimpleSequentialChain`)를 활용하는 방식이다.\n",
    "- 이 방식은 LangChain의 **초기 구조**이며, 대부분의 클래스는 현재 **더 이상 사용되지 않음(deprecated)** 상태이다.\n",
    "\n",
    "> 현재 LangChain에서는 이 방식을 권장하지 않는다.\n",
    "\n",
    "### 2. LCEL (LangChain Expression Language) 방식\n",
    "\n",
    "- 체인을 함수형 방식으로 선언할 수 있는 **표현식 기반의 체인 구성 언어**이다.\n",
    "- LCEL 방식은 간결하고 선언적인 문법을 제공하여 **직관적이고 확장성 있는 체인 구성**이 가능하다.\n",
    "- `Runnable`이라는 공통 인터페이스를 기반으로 다양한 요소를 조합하여 체인을 구성한다.\n",
    "- 체인의 각 구성 요소는 `invoke()` 메서드로 실행된다."
   ]
  },
  {
   "cell_type": "markdown",
   "id": "59ba00ec-6c7c-496e-b31f-f3978b74bdba",
   "metadata": {},
   "source": [
    "# [LCEL](https://python.langchain.com/docs/how_to/#langchain-expression-language-lcel) (LangChain Expression Language)\n",
    "- LCEL은 LangChain의 핵심 기능인 체인(Chain)을 더욱 간결하고 유연하게 구성할 수 있도록 고안된 **선언형 체인(chain) 구성 언어**이다.\n",
    "- 파이프 연산자 `|`를 사용해 선언적 방법으로 여러 작업을 연결한다.\n",
    "- 체인을 구성하는 각 요소는 `Runnable` 타입으로, 체인 내에서 실행 가능한 단위이다.\n",
    "- 각 단계는 invoke() 메서드를 통해 실행되며, 앞 단계의 출력이 다음 단계의 입력으로 자동 전달된다.\n",
    "    - [Runnable 컴포넌트별 입출력 타입](https://python.langchain.com/docs/concepts/runnables/#input-and-output-types)\n",
    "    - 각 컴포넌트의 input과 output 타입에 맞춰 값이 전달되도록 한다.\n",
    "- https://python.langchain.com/v0.2/docs/concepts/#langchain-expression-language-lcel"
   ]
  },
  {
   "cell_type": "markdown",
   "id": "b3f0d52c-23da-4ec6-87cc-925e3d6259ea",
   "metadata": {},
   "source": [
    "## [Runnable](https://python.langchain.com/api_reference/core/runnables/langchain_core.runnables.base.Runnable.html)\n",
    "- LangChain의 Runnable은 실행 가능한 작업 단위를 캡슐화한 개념으로, 데이터 흐름의 각 단계를 정의하고 **체인(chain) 에 포함 되어**  복잡한 작업의 각 단계를 수행 한다.\n",
    "- Chain을 구성하는 class들은 Runnable의 상속 받아 구현한다.\n",
    "- **Prompt Template클래스**, **Chat 모델, LLM 모델 클래스**, **Output Parser 클래스** 등 다양한 컴포넌트가 Runnable을 상속받아 구현된다.\n",
    "\n",
    "### 주요 특징\n",
    "- 작업 단위의 캡슐화:\n",
    "    - Runnable은 특정 작업(예: 프롬프트 생성, LLM 호출, 출력 파싱 등)을 수행하는 독립적인 컴포넌트이다.\n",
    "    - 각 컴포넌트는 독립적으로 테스트 및 재사용이 가능하며, 조합하여 복잡한 체인을 구성할 수 있다.\n",
    "- 체인 연결 및 작업 흐름 관리:\n",
    "    - Runnable은 체인(chain, 일련의 연결된 작업 흐름)을 구성하는 기본 단위로 사용된다.\n",
    "    - LangChain Expression Language(LCEL)를 사용하면 | 연산자를 통해 여러 Runnable을 쉽게 연결할 수 있다.\n",
    "    - 력과 출력의 형식을 일관되게 유지하여 각 단계가 자연스럽게 연결된다.\n",
    "- 모듈화 및 디버깅 용이성:\n",
    "    - 각 단계가 명확히 분리되어 문제 발생 시 어느 단계에서 오류가 발생했는지 쉽게 확인할 수 있다.\n",
    "    - 복잡한 작업을 작은 단위로 나누어 체계적으로 관리할 수 있다.\n",
    "      \n",
    "### Runnable의 표준 메소드\n",
    "- 모든 Runnable이 구현하는 공통 메소드\n",
    "    - `invoke()`: 단일 입력을 처리하여 결과를 반환.\n",
    "    - `batch()`: 여러 입력 데이터들을 한 번에 처리.\n",
    "    - `stream()`: 입력에 대해 스트리밍 방식으로 응답을 반환.\n",
    "    - `ainvoke()`: 비동기 방식으로 입력을 처리하여 결과를 반환.\n",
    "\n",
    "### Runnable의 주요 구현체(하위 클래스)\n",
    "\n",
    "- `RunnableSequence`\n",
    "    - 여러 `Runnable`을 순차적으로 연결하여 실행하는 구성이다.\n",
    "    - 각 단계의 출력이 다음 단계의 입력으로 전달된다.\n",
    "    - LCEL을 사용하여 체인을 구성할 경우 자동으로 `RunnableSequence`로 변환된다.\n",
    "-  `RunnablePassThrough`\n",
    "    - 입력 데이터를 가공하지 않고 그대로 다음 단계로 전달하는 `Runnable`이다.\n",
    "    - 선택적으로 미리 정의된 키-값 쌍을 함께 전달할 수 있다.\n",
    "\n",
    "- `RunnableParallel`\n",
    "    - 여러 `Runnable`을 병렬로 실행한 후, 결과를 결합하여 다음 단계로 전달한다.\n",
    "    - 병렬 처리를 통해 처리 속도를 개선할 수 있다.\n",
    "\n",
    "- `RunnableLambda`\n",
    "    - 일반 함수 또는 `lambda` 함수를 `Runnable`로 변환하여 체인에 포함할 수 있다.\n",
    "    - 사용자 정의 함수로 동작을 확장할 때 유용하다."
   ]
  },
  {
   "cell_type": "markdown",
   "id": "ad98816c-6666-4d36-a91d-4b4f64519de4",
   "metadata": {},
   "source": [
    "#### Runnable 예제"
   ]
  },
  {
   "cell_type": "code",
   "execution_count": null,
   "id": "6f4040f4-b373-4f15-9c34-9026541ad755",
   "metadata": {},
   "outputs": [],
   "source": []
  },
  {
   "cell_type": "markdown",
   "id": "9d6c137e-35bb-4e4d-8561-859b0650b62f",
   "metadata": {},
   "source": [
    "#### RunnableLambda 예제"
   ]
  },
  {
   "cell_type": "code",
   "execution_count": null,
   "id": "7a5ac9fd-2616-4031-a079-a1822d784e93",
   "metadata": {},
   "outputs": [],
   "source": []
  },
  {
   "cell_type": "markdown",
   "id": "b884fd4c-feaa-46f1-af21-c5779900e502",
   "metadata": {},
   "source": [
    "#### RunnablePassThrough 예제"
   ]
  },
  {
   "cell_type": "code",
   "execution_count": null,
   "id": "6e43fcf5-e5c7-4502-830f-b722b832f3bf",
   "metadata": {},
   "outputs": [],
   "source": []
  },
  {
   "cell_type": "markdown",
   "id": "6e3ba482-5dab-41df-96d1-c6649ecb8cee",
   "metadata": {},
   "source": [
    "#### RunnableSequence 예제"
   ]
  },
  {
   "cell_type": "code",
   "execution_count": null,
   "id": "afd2c247-a4e3-4b1b-a494-400b077eba54",
   "metadata": {},
   "outputs": [],
   "source": []
  },
  {
   "cell_type": "markdown",
   "id": "4c1531bb-ad33-4d1b-a59b-62cf08cb4457",
   "metadata": {},
   "source": [
    "#### RunnableParallel 예제"
   ]
  },
  {
   "cell_type": "code",
   "execution_count": null,
   "id": "cce6992c-85e1-4a2f-b16f-e294c50a3c1a",
   "metadata": {},
   "outputs": [],
   "source": []
  },
  {
   "cell_type": "code",
   "execution_count": null,
   "id": "af622cf3-8627-4136-80cd-2c87b31f743a",
   "metadata": {},
   "outputs": [],
   "source": []
  },
  {
   "cell_type": "markdown",
   "id": "1fe6327f-591c-4d0b-87b2-796d41ad6b98",
   "metadata": {},
   "source": [
    "#### LCEL Chain 예제"
   ]
  },
  {
   "cell_type": "code",
   "execution_count": null,
   "id": "e916435d-e288-4ca3-9e32-b3c17e95d5ad",
   "metadata": {},
   "outputs": [],
   "source": []
  },
  {
   "cell_type": "code",
   "execution_count": null,
   "id": "047be191-28eb-4674-af53-9ac2a0d0ab97",
   "metadata": {},
   "outputs": [],
   "source": []
  },
  {
   "cell_type": "markdown",
   "id": "70cfbc5c-6c03-48fc-9e4d-ddf8f34893f5",
   "metadata": {},
   "source": [
    "## Chain과 Chain간의 연결"
   ]
  },
  {
   "cell_type": "code",
   "execution_count": null,
   "id": "98e306d3-430f-4bfa-982c-a806e1910f23",
   "metadata": {},
   "outputs": [],
   "source": []
  },
  {
   "cell_type": "code",
   "execution_count": null,
   "id": "7d1ab4d0-0f9f-4227-a821-5d9751d49942",
   "metadata": {},
   "outputs": [],
   "source": []
  },
  {
   "cell_type": "markdown",
   "id": "c6b59505-5ef9-4bc5-9a32-9e359d3bf0a1",
   "metadata": {},
   "source": [
    "# 사용자 함수를 Chain에 적용하기\n",
    "\n",
    "## 사용자 함수를 Runnable로 정의 (RunnableLambda)\n",
    "- 임의의 함수를 Runnable로 정의 할 수있다.\n",
    "  - chain에 포함할 기능을 함수로 정의할 때 주로 사용. \n",
    "- `RunnableLambda(함수)` 사용\n",
    "  - 함수는 invoke() 메소드를 통해 입력받은 값을 받을 **한개의 파라미터**를 선언해야 한다.\n",
    "\n",
    "## 사용자 함수를 Chain으로 정의\n",
    "- Chain 을 구성하는 작업 사이에 추가 작업이 필요할 경우, 중간 결과를 모두 사용해야 하는 경우 함수로 구현한다.\n",
    "- `@chain` 데코레이터를 사용해 함수에 선언한다.\n",
    "\n",
    "### Runnable 에 사용할 **사용자 정의 함수** 구문\n",
    "- 이전 Chain의 출력을 입력 받는 **파라미터를 한개** 선언한다. (첫번째 파라미터)\n",
    "- `invoke()`로 호출 할때 전달 하는 추가 설정을 입력받는 파라미터를 선언한다.(두번째 파라미터 - Optional)\n",
    "  - RunnableConfig 타입의 값을 받는데 Dictionary 형식으로 `{\"configuable\": {\"설정이름\":\"설정값\"}}` 형식으로 받는다.\n",
    "- 만약 함수가 여러개의 인자를 받는 경우 단일 입력을 받아들이고 이를 여러 인수로 풀어내는 래퍼 함수를 작성하여 Runnable로 만든다.\n",
    "  ```python\n",
    "  def plus(num1, num2):\n",
    "      ...\n",
    "\n",
    "  def wrapper_plus(nums:dict|list):\n",
    "      return plus(nums['num1'], nums['num2'])\n",
    "  ```"
   ]
  },
  {
   "cell_type": "code",
   "execution_count": null,
   "id": "2c0de6e8-4bcf-412c-8983-9be3d7679ae5",
   "metadata": {},
   "outputs": [],
   "source": []
  },
  {
   "cell_type": "code",
   "execution_count": null,
   "id": "69710192-a281-43a2-b944-ccd3705d3b1b",
   "metadata": {},
   "outputs": [],
   "source": []
  },
  {
   "cell_type": "code",
   "execution_count": null,
   "id": "370c44ce-3e5b-4992-9ddf-cb2835c361be",
   "metadata": {},
   "outputs": [],
   "source": []
  },
  {
   "cell_type": "markdown",
   "id": "1c8b48ae-b4b2-412f-a7b5-17e9c1ebc1a4",
   "metadata": {},
   "source": [
    "# Cache\n",
    "\n",
    "- 응답 결과를 저장해서 같은 질문이 들어오면 LLM에 요청하지 않고 저장된 결과를 보여주도록 한다.\n",
    "    - 처리속도와 비용을 절감할 수 있다.\n",
    "    - 특히 chatbot같이 비슷한 질문을 하는 경우 유용하다.\n",
    "- 저장 방식은 `메모리`, `sqlite` 등 다양한 방식을 지원한다.\n",
    "  \n",
    "    ```python\n",
    "    set_llm_cache(Cache객체)\n",
    "    ```"
   ]
  },
  {
   "cell_type": "code",
   "execution_count": null,
   "id": "3e8c002f-7f0c-4357-b3ae-efe8569f04cf",
   "metadata": {},
   "outputs": [],
   "source": []
  },
  {
   "cell_type": "code",
   "execution_count": null,
   "id": "b74a46a8-703c-452b-9d57-e80749c3f528",
   "metadata": {},
   "outputs": [],
   "source": []
  },
  {
   "cell_type": "code",
   "execution_count": null,
   "id": "520effd5-677c-46e3-9068-553e973bfea4",
   "metadata": {},
   "outputs": [],
   "source": []
  }
 ],
 "metadata": {
  "kernelspec": {
   "display_name": "Python 3 (ipykernel)",
   "language": "python",
   "name": "python3"
  },
  "language_info": {
   "codemirror_mode": {
    "name": "ipython",
    "version": 3
   },
   "file_extension": ".py",
   "mimetype": "text/x-python",
   "name": "python",
   "nbconvert_exporter": "python",
   "pygments_lexer": "ipython3",
   "version": "3.12.2"
  }
 },
 "nbformat": 4,
 "nbformat_minor": 5
}
