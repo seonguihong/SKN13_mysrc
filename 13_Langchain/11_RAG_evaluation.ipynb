{
 "cells": [
  {
   "cell_type": "markdown",
   "metadata": {},
   "source": [
    "# RAG 평가 개요\n",
    "- RAG 평가란 RAG 시스템이 주어진 입력에 대해 얼마나 효과적으로 관련 정보를 검색하고, 이를 기반으로 정확하고 유의미한 응답을 생성하는지를 측정하는 과정이다. \n",
    "- **평가 요소**\n",
    "    - **검색 단계 평가**\n",
    "        - 입력 질문에 대해 검색된 문서나 정보의 관련성과 정확성을 평가.\n",
    "    - **생성 단계 평가**\n",
    "        - 검색된 정보를 기반으로 생성된 응답의 품질, 정확성등을 평가.\n",
    "- **평가 방법**\n",
    "    - 온/오프라인 평가\n",
    "        1. **오프라인 평가**\n",
    "            - 미리 준비된 데이터셋을 활용하여 RAG 시스템의 성능을 측정한다.\n",
    "        2. **온라인 평가**\n",
    "            - 실제 사용자 트래픽과 피드백을 기반으로 시스템의 실시간 성능을 평가한다.\n",
    "    - 정량적/정성적 평가\n",
    "        1. 정량적 평가\n",
    "            - 자동화된 지표를 사용하여 생성된 텍스트의 품질을 평가한다.\n",
    "        2. 정성적 평가\n",
    "            - 전문가나 일반 사용자가 직접 생성된 응답의 품질을 평가하여 주관적인 지표를 평가한다."
   ]
  },
  {
   "cell_type": "markdown",
   "metadata": {},
   "source": [
    "# [RAGAS](https://www.ragas.io/)\n",
    "- RAGAS는 RAG 파이프라인을 **정량적 으로 평가하는** 오픈소스 프레임 워크이다. \n",
    "- RAGAS 문서: https://docs.ragas.io/en/stable/\n",
    "## 설치\n",
    "- `pip install ragas`"
   ]
  },
  {
   "cell_type": "code",
   "execution_count": 3,
   "metadata": {},
   "outputs": [
    {
     "data": {
      "text/plain": [
       "'0.2.15'"
      ]
     },
     "execution_count": 3,
     "metadata": {},
     "output_type": "execute_result"
    }
   ],
   "source": [
    "import ragas\n",
    "\n",
    "ragas.__version__"
   ]
  },
  {
   "cell_type": "markdown",
   "metadata": {},
   "source": [
    "## RAGAS 평가 지표 개요\n",
    "![ragas_score](figures/ragas_score.png)\n",
    "- **Generation**\n",
    "    - llm 모델이 생성한 답변에 대한 평가 지표들.\n",
    "    - **Faithfulness(신뢰성)**\n",
    "        -  생성된 답변과 검색된 문서(context)간의 관련성을 평가하는 지표\n",
    "        -  생성된 답변이 주어진 문맥(context)에 얼마나 충실한지를 평가하는 지표로 할루시네이션에 대한 평가로 볼 수있다.\n",
    "    - **Answer relevancy(답변 적합성)**\n",
    "        - 생성된 답변과 사용자의 질문간의 관련성을 평가하는 지표\n",
    "        - 생성된 답변이 사용자의 질문과 얼마나 관련성이 있는지를 평가하는 지표.\n",
    "- **Retrieval**\n",
    "    -  질문에 대해 검색한 문서(context)들에 대한 평가\n",
    "    -  **Context Precision(문맥 정밀도)**\n",
    "        -  검색된 문서(context)들 중 질문과 관련 있는 것들이 **얼마나 상위 순위에 위치하는지** 평가하는 지표.\n",
    "    -  **Context Recall(문맥 재현률)**\n",
    "        -  검색된 문서(context)가 정답(ground-truth)의 정보를 얼마나 포함하고 있는지 평가하는 지표.\n",
    "- 이러한 지표들은 RAG 파이프라인의 성능을 다각도로 평가하는 데 활용된다.\n",
    "![RAGAS_score2](figures/RAGAS_score2.png)"
   ]
  },
  {
   "cell_type": "markdown",
   "metadata": {},
   "source": [
    "## 주요 평가지표\n",
    "### Generation 평가\n",
    "- LLM이 생성한 답변에 대한 평가\n",
    "  \n",
    "#### Faithfulness (신뢰성)\n",
    "- 생성된 답변이 얼마나 주어진 검색 문서들(context)를 잘 반영해서 생성되었는지 평가한다. 할루시네이션에 대한 평가라고 할 수 있다. \n",
    "- 점수범위: **0 ~ 1** (1에 가까울수록 좋음)\n",
    "- 답변에 포함된 모든 주장이 context에서 얼마나 추출 가능한지를 확인한다.\n",
    "\n",
    "##### 평가 방법\n",
    "1. Answer에서 주장 구문(claim statement)들을 생성(추출)한다. (주장이란, 질문(user input)과 관련된 내용)\n",
    "    - 예) \n",
    "        - **질문**: 한국의 수도는 어디이고 인구는 얼마나 되나요? \n",
    "        - **LLM 답변**: 한국의 수도는 서울이고 인구수는 3000만명이다. \n",
    "        - **주장(claim)**: \n",
    "            1. 한국의 수도는 서울이다.\n",
    "            2. 인구수는 3000만명이다.\n",
    "2. 각 주장들을 context로 부터 추론 가능한지 판단한다. 이를 바탕으로 faithfulness 점수를 계산한다.\n",
    "    - 예)\n",
    "        - context: 한국은 동아시아에 위치하고 있는 나라다. 한국의 수도는 서울이다. .... 한국의 인구는 5000만명이고 서울에 1000만이 살고 있다.\n",
    "        - 위 context에서 추론 가능한 주장: \n",
    "            - 한국의 수도는 서울이다. -> context에서 추론가능한 주장.\n",
    "            - 한국의 인구는 3000만명이다. -> context에서 추론 불가능한 주장.\n",
    "3. **Faithfulness score** 를 계산한다. 총 주장 수 중에서 context로 부터 추론가능한 주장의 개수.    \n",
    "    - 예)\n",
    "        - Faithfulness Score = $\\cfrac{1}{2} = 0.5$ (두 개의 주장 중 한 개의 주장만 context에서 유추할 수있다.)\n",
    "    - LLM 답변에서 주장을 추출 하는 것과 각 주장이 context에서 추론 가능한 지를 판단하는 것은 LLM 을 활용한다.\n",
    "- 공식\n",
    "    $$\n",
    "    \\text{Faithfulness Score}\\;=\\;\\cfrac{\\text{주어진\\;context\\;에서\\;추론할\\;수\\;있는\\;주장의\\;개수}}{\\text{총\\;주장\\;개수}}\n",
    "    $$"
   ]
  },
  {
   "cell_type": "markdown",
   "metadata": {},
   "source": [
    "#### Answer relevancy (답변 적합성)\n",
    "- 생성된 답변이 질문(user input)에 얼마나 잘 부합하는 지를 평가한다.\n",
    "- 점수 범위: -1~1 (1에 가까울수록 좋음)\n",
    "- LLM이 생성한 답변을 기반으로 질문들을 생성한다. 이렇게 생성한 질문들과 실제 질문(user input)의 embedding vector 간의 **코사인 유사도**를 측정한다.\n",
    "\n",
    "##### 평가방법\n",
    "1. LLM이 생성한 답변을 기반으로 질문들을 생성한다.\n",
    "    - 예) \n",
    "        - **LLM** 답변: 한국의 수도는 서울이고 인구수는 3000만명이다. \n",
    "        - **생성된 질문**: \n",
    "            1. 한국의 수도는 어디이고 인구는 얼마나 되나요?\n",
    "            2. 한국의 수도는 어디인가요?\n",
    "            3. 한국의 인구는 얼마나 되나요?\n",
    "2. 실제 질문과 생성한 질문간의 코사인 유사도를 측정한다. 그 평균이 최종 점수가 된다.\n",
    "    - 예)\n",
    "        - **실제 질문**: 한국의 수도는 어디이고 인구는 얼마나 되나요?\n",
    "        - **생성된 질문**: \n",
    "            1. 한국의 수도는 어디이고 인구는 얼마나 되나요?\n",
    "            2. 한국의 수도는 어디인가요?\n",
    "            3. 한국의 인구는 얼마나 되나요?\n",
    "- 공식\n",
    "  $$\n",
    "    \\cfrac{1}{N} \\sum_{i=1}^{N} \\text{cosine\\_similarity}(q_{\\text{user}_{_i}}, q_{\\text{generated}})\n",
    "  $$"
   ]
  },
  {
   "cell_type": "markdown",
   "metadata": {},
   "source": [
    "### Retrieval 평가\n",
    "User input에 대해 Vector store에서 검색한 context에 대한 평가\n",
    "\n",
    "#### Context Precision\n",
    "- 사용자가 질문(query)에 대해 검색된 문서들이 답변 생성에 얼마나 유용한지를 평가한다.\n",
    "- 검색된 K개의 문서(context)들 중 **질문과 관련 있는 문서들이 얼마나 상위 순위**에 있는 지로 평가.\n",
    "- 점수 범위: 0~1 (1에 가까울수록 좋음)\n",
    "\n",
    "\n",
    "##### 평가방법\n",
    "\n",
    "- 공식\n",
    "$$\n",
    " \\text{Context\\;Precision@K} = \\frac{\\sum_{k=1}^{K} \\left( \\text{Precision@k} \\times v_k \\right)}{\\ 상위\\;K개\\;결과에서의\\;관련\\;항목\\;수}\n",
    "$$\n",
    "$$\n",
    " \\text{Precision@k} = \\frac{\\text{True\\;positive@k}}{(\\text{True\\;positive@k} + \\text{False\\;positive@k})} \\\\\n",
    "$$\n",
    "- $\\text{True Positive@k}$: 상위 k개의 문서 중 질문과 관련있는 문서의 개수\n",
    "- $\\text{False Positive@k}$: 상위 k개의 문서 중 질문과 관련없는 문서의 개수\n",
    "- $\\text{Precision@k}$: 상위 k개의 문서 중 질문과 관련된 문서들이 차지하는 비율\n",
    "- K: 검색한 context(문서)의 개수(chuck 수)\n",
    "- $v_k$: 질문과의 context간의 관련성 여부로 0 또는 1. (0: 관련 없음, 1: 관련 있음)\n",
    "\n",
    "##### 예시\n",
    "- 질문과 context 관련성 예\n",
    "    - 질문: 한국의 수도는 어디이고 인구는 얼마나 되나요?\n",
    "    - 높은 정밀도 context(관련성 높은 문서의 예)\n",
    "        - 한국의 수도는 서울이고 인구는 5000명 입니다. \n",
    "        - 한국의 수도는 서울입니다.\n",
    "        - 한국은 동아시아에 위치해 있는 국가로 수도는 서울입니다.\n",
    "        - 한국의 인구는 5000만명 입니다.\n",
    "    - 낮은 정밀도 context(관련성 낮은 문서의 예)\n",
    "        - 한국은 동아시아에 위치한 국가입니다.\n",
    "        - 한국의 K-pop은 전 세계적으로 유명합니다.\n",
    "        - 비빔밥, 불고기는 한국의 대표적인 음식입니다.\n",
    "    - **높은 정밀도의 context이 상위 순위에 위치했으면 높은 점수를 받는다.**\n",
    "- 점수 계산의 예\n",
    "  - 상위 5개의 검색 결과 중 1번째, 3번째, 4번째 문서가 관련이 있다고 가정\n",
    "    ```bash\n",
    "    Precision@1 = 1/1 = 1.0    # True positive@1/(True positive@1 + False positive@1).  1/1(1번 문서 계산 시에는 1개 문서만 있으므로 분모가 1이 된다.)\n",
    "    Precision@2 = 1/2 = 0.5     \n",
    "    Precision@3 = 2/3 ≈ 0.67    \n",
    "    Precision@4 = 3/4 = 0.75\n",
    "    Precision@5 = 3/5 = 0.6\n",
    "    ```\n",
    "- vk의 값\n",
    "    - 1번째: $v_1 = 1$\n",
    "    - 2번째: $v_2 = 0$\n",
    "    - 3번째: $v_3 = 1$\n",
    "    - 4번째: $v_4 = 1$\n",
    "    - 5번째: $v_5 = 0$\n",
    "\n",
    "- Context Precision@5\n",
    "$$\n",
    "\\text{Context\\;Precision@5} = \\frac{(1.0 \\times 1) + (0.5 \\times 0) + (0.67 \\times 1) + (0.75 \\times 1) + (0.6 \\times 0)}{3} = \\frac{1.0 + 0 + 0.67 + 0.75 + 0}{3} ≈ 0.807\n",
    "$$"
   ]
  },
  {
   "cell_type": "markdown",
   "metadata": {},
   "source": [
    "#### Context Recall (문맥 재현률)\n",
    "- 검색된 문서(context)가 얼마나 정답(ground-truth)의 정보를 포함있는 지 평가하는 지표\n",
    "- 점수 범위: 0~1 (1에 가까울수록 좋음)\n",
    "- **정답(ground truth)의 각 주장(claim)이 검색된 context와 얼마나 일치**하는지 계산함.\n",
    "\n",
    "##### 평가방법\n",
    "1. **정답**에서 주장 문장(claim statement)들을 생성(추출)한다.\n",
    "    - 예) \n",
    "        - **정답**: 한국의 수도는 서울이고 인구수는 5000만명이다. \n",
    "        - **주장(claim)**: \n",
    "            1. 한국의 수도는 서울이다.\n",
    "            2. 인구수는 5000만명이다.\n",
    "2. 각 주장 문장(claim statement)의 정보를 검색된 context들에서 찾을 수 있는지 판별한다. 이를 바탕으로 context recall 점수를 계산한다.\n",
    "    - 예)\n",
    "        - context: 한국은 동아시아에 위치하고 있는 나라다. 한국의 수도는 서울이다.\n",
    "        - 위 context에서 추론 가능한 주장: \n",
    "            - 한국의 수도는 서울이다. -> context에서 찾을 수 있다.\n",
    "            - 한국의 인구는 5000만명이다. -> context에서 찾을 수 없다.\n",
    "3. **Context Recall Score** 를 계산한다. 총 주장 수 중에서 context로 부터 찾을 수 있는 주장의 개수.\n",
    "    - 예)\n",
    "        - Context Recall Score = $\\cfrac{1}{2} = 0.5$ (두 개의 주장 중 한 개의 주장만 context에서 찾을 수 있다.)\n",
    "\n",
    "- 공식\n",
    "    $$\n",
    "    \\text{Context Recall Score}\\;=\\;\\cfrac{\\text{GT의\\;주장\\;중\\;주어진\\;context\\;에서\\;찾을\\;수\\;있는\\;주장의\\;개수}}{\\text{GT의\\;총\\;주장\\;개수}}\n",
    "    $$ "
   ]
  },
  {
   "cell_type": "markdown",
   "metadata": {},
   "source": [
    "# RAGAS 평가 실습"
   ]
  },
  {
   "cell_type": "code",
   "execution_count": 2,
   "metadata": {},
   "outputs": [],
   "source": [
    "# %pip install ragas"
   ]
  },
  {
   "cell_type": "code",
   "execution_count": 3,
   "metadata": {},
   "outputs": [],
   "source": [
    "from langchain_openai import ChatOpenAI, OpenAIEmbeddings\n",
    "from dotenv import load_dotenv\n",
    "\n",
    "load_dotenv()\n",
    "\n",
    "model = ChatOpenAI(model=\"gpt-4.1-mini\")\n",
    "embedding_model = OpenAIEmbeddings(\n",
    "    model=\"text-embedding-3-large\"\n",
    ")\n"
   ]
  },
  {
   "cell_type": "code",
   "execution_count": 4,
   "metadata": {},
   "outputs": [
    {
     "name": "stdout",
     "output_type": "stream",
     "text": [
      "61\n"
     ]
    }
   ],
   "source": [
    "## ChromaDB와 연결 하고 vector store 생성\n",
    "from langchain_chroma import Chroma\n",
    "\n",
    "COLLECTION_NAME = 'olympic_info'\n",
    "PERSIST_DIRECTORY = 'vector_store/chroma/olympic_info'\n",
    "\n",
    "vector_store = Chroma(\n",
    "    embedding_function=embedding_model,\n",
    "    collection_name=COLLECTION_NAME,\n",
    "    persist_directory=PERSIST_DIRECTORY\n",
    ")\n",
    "print(vector_store._collection.count())"
   ]
  },
  {
   "cell_type": "code",
   "execution_count": 5,
   "metadata": {},
   "outputs": [],
   "source": [
    "from langchain_community.document_loaders import TextLoader\n",
    "from langchain.text_splitter import RecursiveCharacterTextSplitter\n",
    "\n",
    "loader = TextLoader(\"data/olympic.txt\", encoding=\"utf-8\")\n",
    "splitter = RecursiveCharacterTextSplitter(chunk_size=500, chunk_overlap=50)\n",
    "\n",
    "docs = loader.load_and_split(splitter)\n",
    "# vector_store.add_documents(docs)"
   ]
  },
  {
   "cell_type": "code",
   "execution_count": 6,
   "metadata": {},
   "outputs": [
    {
     "name": "stdout",
     "output_type": "stream",
     "text": [
      "61\n"
     ]
    }
   ],
   "source": [
    "print(vector_store._collection.count())"
   ]
  },
  {
   "cell_type": "markdown",
   "metadata": {},
   "source": [
    "## RAG Chain 구성\n",
    "- Vector Store 연결\n",
    "- Chain 응답 결과\n",
    "    - 평가를 위해 **Vector Store에서 검색한 context**들과 **LLM 응답**이 출력되도록 chain을 구성한다."
   ]
  },
  {
   "cell_type": "code",
   "execution_count": 7,
   "metadata": {},
   "outputs": [],
   "source": [
    "from langchain.prompts import PromptTemplate\n",
    "from langchain_core.runnables import RunnablePassthrough, RunnableLambda\n",
    "from langchain_core.output_parsers import StrOutputParser\n",
    "from langchain_core.documents import Document\n",
    "\n",
    "retriever = vector_store.as_retriever()\n",
    "\n",
    "template = \"\"\"# Instruction:\n",
    "당신은 정확한 정보 제공을 우선시하는 인공지능 어시스턴트입니다.\n",
    "주어진 Context에 포함된 정보만 사용해서 질문에 답변하세요.\n",
    "Context에 질문에 대한 명확한 정보가 있는 경우 그 내용을 바탕으로 답변하세요.\n",
    "Context에 질문에 대한 명확한 정보없을 경우 \"정보가 부족해서 답을 알 수 없습니다.\" 라고 대답합니다.\n",
    "절대 Context에 없는 내용을 추측하거나 일반 상식을 이용해 답을 만들어서 대답하지 않습니다.\n",
    "\n",
    "# Context:\n",
    "{context}\n",
    "\n",
    "# 질문:\n",
    "{query}\n",
    "\"\"\"\n",
    "prompt_template = PromptTemplate(template=template)"
   ]
  },
  {
   "cell_type": "code",
   "execution_count": 8,
   "metadata": {},
   "outputs": [],
   "source": [
    "def format_docs(src_dict:dict)->str:\n",
    "    \"\"\"\n",
    "    Vector_store에 조회한 문서들에서 내용(page_content)만 추출해서 str으로 합쳐서 반환.\n",
    "    \n",
    "    Args:\n",
    "        src_dict(dict): {\"context\":list[Document],  \"query\":\"사용자질문\"}\n",
    "    Returns:\n",
    "        str: 각 문서의 내용을 \"\\n\\n\"으로 연결한 string\n",
    "    \"\"\"\n",
    "    docs = src_dict[\"context\"]\n",
    "    return \"\\n\\n\".join(doc.page_content for doc in docs)\n",
    "\n",
    "def format_docs_list(src_dict:dict)->list[str]:\n",
    "    \"\"\"\n",
    "    Vector_store에 조회한 문서들에서 내용(page_content)만 추출해서 list로 묶어서 반환.\n",
    "    \n",
    "    Args:\n",
    "        src_dict(dict): {\"context\":list[Document],  \"query\":\"사용자질문\"}\n",
    "    Returns:\n",
    "        list[str]: 각 문서의 내용을 담은 list\n",
    "    \"\"\"\n",
    "    return [doc.page_content for doc in src_dict[\"context\"]]"
   ]
  },
  {
   "cell_type": "code",
   "execution_count": 9,
   "metadata": {},
   "outputs": [],
   "source": [
    "# docs = retriever.invoke(\"올림픽 논란\")\n",
    "# docs\n",
    "# format_docs({\"context\":docs})\n",
    "# format_docs_list({\"context\":docs})"
   ]
  },
  {
   "cell_type": "code",
   "execution_count": 10,
   "metadata": {},
   "outputs": [],
   "source": [
    "# 평가를 위한 Rag Chain을 구성\n",
    "## chain의 응답: LLM 응답, Retriever가 검색한 context들 \n",
    "rag_chain = (\n",
    "    RunnablePassthrough()  # dict | dict 를 LCEL로 연결하기 위해 하는일 없는 Runnable(RunnablePassthrough) 을 추가\n",
    "    | {\"context\":retriever, \"query\":RunnablePassthrough()} # retrieve\n",
    "    | {\n",
    "        \"source_context\":format_docs_list, # list[Document] -> list[str]\n",
    "        \"llm_answer\": {\n",
    "                        \"context\":format_docs, # list[Document] -> str(문서\\n\\n문서\\n\\n...)\n",
    "                        \"query\": lambda x : x[\"query\"]    # query만 추출\n",
    "                    } | prompt_template | model | StrOutputParser()\n",
    "    } # 응답처리 - 입력: {\"context\":검색문서들, \"query\":\"사용자질문\"} \n",
    "      #          - 출력: {\"source_context\":검색한 문서들(list[str]), \"llm_answer\":LLM응답(str)}\n",
    "      #             -> 응답처리 출력이 chain의 최종 출력\n",
    "    \n",
    ")"
   ]
  },
  {
   "cell_type": "code",
   "execution_count": 11,
   "metadata": {},
   "outputs": [],
   "source": [
    "user_input = \"국제 올림픽 위원회에 대해서 설명해주세요.\"\n",
    "response = rag_chain.invoke(user_input)"
   ]
  },
  {
   "cell_type": "code",
   "execution_count": 12,
   "metadata": {},
   "outputs": [
    {
     "name": "stdout",
     "output_type": "stream",
     "text": [
      "<class 'dict'> dict_keys(['source_context', 'llm_answer'])\n"
     ]
    }
   ],
   "source": [
    "print(type(response), response.keys())"
   ]
  },
  {
   "cell_type": "code",
   "execution_count": 13,
   "metadata": {},
   "outputs": [
    {
     "name": "stdout",
     "output_type": "stream",
     "text": [
      "국제 올림픽 위원회(IOC)는 올림픽 활동을 통솔하는 단체로서, 올림픽 개최 도시 선정, 계획 감독, 종목 변경, 스폰서 및 방송권 계약 체결 등의 권리가 있습니다. 올림픽 활동은 많은 국가, 국제 경기 연맹과 협회, 미디어 파트너, 선수, 직원, 심판 등 모든 관련자가 올림픽 헌장을 지키는 것을 말하며, 크게 국제경기연맹(IF), 국가 올림픽 위원회(NOC), 올림픽 조직 위원회(OCOG)로 구성됩니다.\n",
      "\n",
      "IOC가 의사 결정 기구로서 올림픽 개최 도시를 선정하고, 각 올림픽 대회에서 열리는 종목도 결정합니다. 또한 IOC는 올림픽과 관련된 여러 권한을 가지고 있습니다. IOC 위원장 중에는 에이버리 브런디지와 후안 안토니오 사마란치가 있으며, 이들은 각각 정치적 문제 및 부패와 관련해 비판을 받은 바 있습니다.\n"
     ]
    }
   ],
   "source": [
    "llm_answer = response['llm_answer']\n",
    "print(llm_answer)"
   ]
  },
  {
   "cell_type": "code",
   "execution_count": 14,
   "metadata": {},
   "outputs": [
    {
     "data": {
      "text/plain": [
       "['국제 올림픽 위원회\\n올림픽 활동이란 많은 수의 국가, 국제 경기 연맹과 협회 • 미디어 파트너를 맺기 • 선수, 직원, 심판, 모든 사람과 기관이 올림픽 헌장을 지키는 것을 말한다. 국제올림픽위원회(IOC)는 모든 올림픽 활동을 통솔하는 단체로서, 올림픽 개최 도시 선정, 계획 감독, 종목 변경, 스폰서 및 방송권 계약 체결 등의 권리가 있다. 올림픽 활동은 크게 세 가지로 구성된다.\\n- 국제경기연맹(IF)은 국제적인 규모의 경기를 관리, 감독하는 기구이다. 예를 들어서 국제 축구 연맹(FIFA)는 축구를 주관하며, 국제 배구 연맹(FIVB)은 배구를 주관하는 기구이다. 올림픽에는 현재 35개의 국제경기연맹이 있고 각 종목을 대표한다. (이 중에는 올림픽 종목은 아니지만 IOC의 승인을 받은 연맹도 있다.)',\n",
       " '올림픽은 국제경기연맹(IF), 국가 올림픽 위원회(NOC), 각 올림픽의 위원회(예-벤쿠버동계올림픽조직위원회)로 구성된다. 의사 결정 기구인 IOC는 올림픽 개최 도시를 선정하며, 각 올림픽 대회마다 열리는 올림픽 종목도 IOC에서 결정한다. 올림픽 경기 개최 도시는 경기 축하 의식이 올림픽 헌장에 부합하도록 조직하고 기금을 마련해야 한다. 올림픽 축하 행사로는 여러 의식과 상징을 들 수 있는데 올림픽기나 성화가 그 예이다.',\n",
       " '- 국가 올림픽 위원회(NOC)는 각국의 올림픽 활동을 감독하는 기구이다. 예를 들어서 대한 올림픽 위원회(KOC)는 대한민국의 국가 올림픽 위원회이다. 현재 IOC에 소속된 국가 올림픽 위원회는 205개이다.\\n- 올림픽 조직 위원회(OCOG)는 임시적인 조직으로 올림픽의 총체적인 것(개막식, 페막식 등)을 책임지기 위해 구성된 조직이다. 올림픽 조직 위원회는 올림픽이 끝나면 해산되며 최종보고서를 IOC에 제출한다.\\n올림픽의 공식언어는 프랑스어와 영어와 개최국의 공용어이다. 모든 선언(예를 들어서 개막식 때 각국 소개를 할 때)들은 세 언어가 모두 나오거나 영어나 프랑스어 중에서 한 언어로만 말하기도 한다. 개최국의 공용어가 영어나 프랑스어가 아닐 때는 당연히 그 나라의 공용어도 함께 나온다.',\n",
       " '국제 올림픽 위원회(이하 IOC로 지칭)는 몇몇 위원들이 한 행위에 대해서 비판을 받고 있다. 그 예로 IOC 위원장이었던 에이버리 브런디지와 후안 안토니오 사마란치가 대표적인 사람이다. 브런디지는 20년 넘게 IOC 위원장직을 맡았고 임기 중에 올림픽을 정치적으로 휘말려들지 않게 하기 위해 보호했다. 그러나 그는 남아프리카 공화국 대표단에게 아파르트헤이트와 관련된 이슈를 건드리고 반유대정책을 함으로써 비난을 받았다. 사마란치 위원장 시기 때는 족벌 정치와 부패로 비난받았다. 사마란치가 스페인에서 프랑코 정권에 협력했다는 것도 비판의 이유가 되었다.']"
      ]
     },
     "execution_count": 14,
     "metadata": {},
     "output_type": "execute_result"
    }
   ],
   "source": [
    "context = response[\"source_context\"]\n",
    "context"
   ]
  },
  {
   "cell_type": "markdown",
   "metadata": {},
   "source": [
    "## 평가"
   ]
  },
  {
   "cell_type": "code",
   "execution_count": 15,
   "metadata": {},
   "outputs": [],
   "source": [
    "# 평가데이터셋: user_input, response(정답)\n",
    "user_input = \"국제 올림픽 위원회에 대해 설명해주세요.\"\n",
    "reference = \"국제올림픽위원회(IOC)는 올림픽 활동을 통솔하는 기구로, 올림픽 개최 도시 선정, 계획 감독, 종목 변경, 스폰서 및 방송권 계약 체결 등의 역할을 수행한다.\"\n",
    "\n",
    "resp = rag_chain.invoke(user_input)\n",
    "retrieved_context = resp['source_context']  # RAG에서 검색된 문서\n",
    "response = resp['llm_answer']  # RAG의 답변"
   ]
  },
  {
   "cell_type": "code",
   "execution_count": 16,
   "metadata": {},
   "outputs": [],
   "source": [
    "from ragas import SingleTurnSample, EvaluationDataset\n",
    "\n",
    "# RAGAS의 평가 데이터셋의 구성\n",
    "# - user_input: 사용자 입력(질문)\n",
    "# - retrieved_context: RAG에서 검색한 context(문서)들\n",
    "# - response: llm의 출력(응답)\n",
    "# - reference: 정답.\n",
    "\n",
    "eval_sample1 = SingleTurnSample(  # 1개의 평가 데이터을 생성할 때 사용.\n",
    "    user_input=user_input,\n",
    "    retrieved_contexts=retrieved_context,\n",
    "    response=response,\n",
    "    reference=reference\n",
    ")\n",
    "# 평가용 Dataset을 생성\n",
    "eval_dataset = EvaluationDataset(samples=[eval_sample1])"
   ]
  },
  {
   "cell_type": "code",
   "execution_count": 17,
   "metadata": {},
   "outputs": [
    {
     "data": {
      "text/plain": [
       "EvaluationDataset(features=['user_input', 'retrieved_contexts', 'response', 'reference'], len=1)"
      ]
     },
     "execution_count": 17,
     "metadata": {},
     "output_type": "execute_result"
    }
   ],
   "source": [
    "eval_dataset"
   ]
  },
  {
   "cell_type": "code",
   "execution_count": 21,
   "metadata": {},
   "outputs": [
    {
     "data": {
      "text/html": [
       "<div>\n",
       "<style scoped>\n",
       "    .dataframe tbody tr th:only-of-type {\n",
       "        vertical-align: middle;\n",
       "    }\n",
       "\n",
       "    .dataframe tbody tr th {\n",
       "        vertical-align: top;\n",
       "    }\n",
       "\n",
       "    .dataframe thead th {\n",
       "        text-align: right;\n",
       "    }\n",
       "</style>\n",
       "<table border=\"1\" class=\"dataframe\">\n",
       "  <thead>\n",
       "    <tr style=\"text-align: right;\">\n",
       "      <th></th>\n",
       "      <th>user_input</th>\n",
       "      <th>retrieved_contexts</th>\n",
       "      <th>response</th>\n",
       "      <th>reference</th>\n",
       "    </tr>\n",
       "  </thead>\n",
       "  <tbody>\n",
       "    <tr>\n",
       "      <th>0</th>\n",
       "      <td>국제 올림픽 위원회에 대해 설명해주세요.</td>\n",
       "      <td>[국제 올림픽 위원회\\n올림픽 활동이란 많은 수의 국가, 국제 경기 연맹과 협회 •...</td>\n",
       "      <td>국제 올림픽 위원회(IOC)는 올림픽 활동을 통솔하는 단체로서, 올림픽 개최 도시 ...</td>\n",
       "      <td>국제올림픽위원회(IOC)는 올림픽 활동을 통솔하는 기구로, 올림픽 개최 도시 선정,...</td>\n",
       "    </tr>\n",
       "  </tbody>\n",
       "</table>\n",
       "</div>"
      ],
      "text/plain": [
       "               user_input                                 retrieved_contexts  \\\n",
       "0  국제 올림픽 위원회에 대해 설명해주세요.  [국제 올림픽 위원회\\n올림픽 활동이란 많은 수의 국가, 국제 경기 연맹과 협회 •...   \n",
       "\n",
       "                                            response  \\\n",
       "0  국제 올림픽 위원회(IOC)는 올림픽 활동을 통솔하는 단체로서, 올림픽 개최 도시 ...   \n",
       "\n",
       "                                           reference  \n",
       "0  국제올림픽위원회(IOC)는 올림픽 활동을 통솔하는 기구로, 올림픽 개최 도시 선정,...  "
      ]
     },
     "execution_count": 21,
     "metadata": {},
     "output_type": "execute_result"
    }
   ],
   "source": [
    "# eval_dataset을 DataFrame으로 변환\n",
    "eval_dataset.to_pandas()"
   ]
  },
  {
   "cell_type": "code",
   "execution_count": 22,
   "metadata": {},
   "outputs": [
    {
     "data": {
      "text/plain": [
       "True"
      ]
     },
     "execution_count": 22,
     "metadata": {},
     "output_type": "execute_result"
    }
   ],
   "source": [
    "##########################\n",
    "# 평가\n",
    "from ragas.metrics import (\n",
    "    LLMContextRecall, # Context recall을 계산하는 **평가함수**\n",
    "    LLMContextPrecisionWithReference, # Context Precision\n",
    "    Faithfulness,     # Faithfulness \n",
    "    AnswerRelevancy,  # AnswerRelevancy\n",
    ")\n",
    "from ragas import evaluate\n",
    "from ragas.llms import LangchainLLMWrapper\n",
    "from ragas.embeddings import LangchainEmbeddingsWrapper\n",
    "# Langchain으로 생성된 LLM 모델, 임베딩모델 객체를 RAGAS에서 사용할 있도록 wrapping하는 클래스.\n",
    "# 모든 평가 지표들이 LLM 모델을 사용한다. \n",
    "\n",
    "from langchain_openai import ChatOpenAI, OpenAIEmbeddings\n",
    "from dotenv import load_dotenv\n",
    "load_dotenv()"
   ]
  },
  {
   "cell_type": "code",
   "execution_count": null,
   "metadata": {},
   "outputs": [
    {
     "data": {
      "application/vnd.jupyter.widget-view+json": {
       "model_id": "476ef5ddee7c4c40ae5138543944ff16",
       "version_major": 2,
       "version_minor": 0
      },
      "text/plain": [
       "Evaluating:   0%|          | 0/2 [00:00<?, ?it/s]"
      ]
     },
     "metadata": {},
     "output_type": "display_data"
    }
   ],
   "source": [
    "# 평가 함수(객체)에 넣어줄 LLM 모델, Embedding 모델 생성.\n",
    "llm_model = ChatOpenAI(model=\"gpt-4.1-mini\")\n",
    "e_model = OpenAIEmbeddings(model=\"text-embedding-3-large\")\n",
    "\n",
    "eval_model = LangchainLLMWrapper(llm_model)\n",
    "eval_embedding_model = LangchainEmbeddingsWrapper(e_model)\n",
    "\n",
    "## 평가지표 객체를 생성 -> 리스트에 묶어준다.\n",
    "metrics = [\n",
    "    LLMContextRecall(llm=eval_model),\n",
    "    LLMContextPrecisionWithReference(llm=eval_model),\n",
    "    Faithfulness(llm=eval_model),\n",
    "    AnswerRelevancy(llm=eval_model)\n",
    "]\n",
    "\n",
    "# 평가지표 객체를 이용해서 평가\n",
    "eval_result = evaluate(dataset=eval_dataset, metrics=metrics)"
   ]
  },
  {
   "cell_type": "code",
   "execution_count": 28,
   "metadata": {},
   "outputs": [
    {
     "name": "stdout",
     "output_type": "stream",
     "text": [
      "<class 'ragas.dataset_schema.EvaluationResult'>\n"
     ]
    },
    {
     "data": {
      "text/plain": [
       "{'context_recall': 1.0000, 'llm_context_precision_with_reference': 0.8333}"
      ]
     },
     "execution_count": 28,
     "metadata": {},
     "output_type": "execute_result"
    }
   ],
   "source": [
    "# context recall: 검색 context와 정답간의 연관성\n",
    "# context precision: 검색 context와 사용자 질문간의 연관성\n",
    "# faithfulness: LLM 답변과 검색 context간의 연관성\n",
    "# answer relevancy: LLM 답변과 사용자 질문간의 연관성.\n",
    "print(type(eval_result))\n",
    "eval_result"
   ]
  },
  {
   "cell_type": "code",
   "execution_count": 25,
   "metadata": {},
   "outputs": [
    {
     "data": {
      "text/html": [
       "<div>\n",
       "<style scoped>\n",
       "    .dataframe tbody tr th:only-of-type {\n",
       "        vertical-align: middle;\n",
       "    }\n",
       "\n",
       "    .dataframe tbody tr th {\n",
       "        vertical-align: top;\n",
       "    }\n",
       "\n",
       "    .dataframe thead th {\n",
       "        text-align: right;\n",
       "    }\n",
       "</style>\n",
       "<table border=\"1\" class=\"dataframe\">\n",
       "  <thead>\n",
       "    <tr style=\"text-align: right;\">\n",
       "      <th></th>\n",
       "      <th>user_input</th>\n",
       "      <th>retrieved_contexts</th>\n",
       "      <th>response</th>\n",
       "      <th>reference</th>\n",
       "      <th>context_recall</th>\n",
       "      <th>llm_context_precision_with_reference</th>\n",
       "      <th>faithfulness</th>\n",
       "      <th>answer_relevancy</th>\n",
       "    </tr>\n",
       "  </thead>\n",
       "  <tbody>\n",
       "    <tr>\n",
       "      <th>0</th>\n",
       "      <td>국제 올림픽 위원회에 대해 설명해주세요.</td>\n",
       "      <td>[국제 올림픽 위원회\\n올림픽 활동이란 많은 수의 국가, 국제 경기 연맹과 협회 •...</td>\n",
       "      <td>국제 올림픽 위원회(IOC)는 올림픽 활동을 통솔하는 단체로서, 올림픽 개최 도시 ...</td>\n",
       "      <td>국제올림픽위원회(IOC)는 올림픽 활동을 통솔하는 기구로, 올림픽 개최 도시 선정,...</td>\n",
       "      <td>1.0</td>\n",
       "      <td>0.833333</td>\n",
       "      <td>0.666667</td>\n",
       "      <td>0.830367</td>\n",
       "    </tr>\n",
       "  </tbody>\n",
       "</table>\n",
       "</div>"
      ],
      "text/plain": [
       "               user_input                                 retrieved_contexts  \\\n",
       "0  국제 올림픽 위원회에 대해 설명해주세요.  [국제 올림픽 위원회\\n올림픽 활동이란 많은 수의 국가, 국제 경기 연맹과 협회 •...   \n",
       "\n",
       "                                            response  \\\n",
       "0  국제 올림픽 위원회(IOC)는 올림픽 활동을 통솔하는 단체로서, 올림픽 개최 도시 ...   \n",
       "\n",
       "                                           reference  context_recall  \\\n",
       "0  국제올림픽위원회(IOC)는 올림픽 활동을 통솔하는 기구로, 올림픽 개최 도시 선정,...             1.0   \n",
       "\n",
       "   llm_context_precision_with_reference  faithfulness  answer_relevancy  \n",
       "0                              0.833333      0.666667          0.830367  "
      ]
     },
     "execution_count": 25,
     "metadata": {},
     "output_type": "execute_result"
    }
   ],
   "source": [
    "eval_result.to_pandas()"
   ]
  },
  {
   "cell_type": "markdown",
   "metadata": {},
   "source": [
    "# 평가 데이터 셋 만들기\n",
    "\n",
    "1. 문서를 Loading하고 split하여 Context 들을 만든다.\n",
    "2. Context들 중 평가에 사용할 것을 Random하게 선택한다.\n",
    "3. 선택된 context를 기반으로 LLM 모델을 이용해서 질문과 답변을 생성한다. \n",
    "4. 생성된 질문과 답변을 검토하여 품질을 높인다. \n",
    "   - 질문과 답변 자체가 맞는지 검사한다.\n",
    "   - 나올만한 질문인 지 확인한다.\n",
    "\n",
    "- **생성된 질문-답변의 질이 낮으면 좋은 평가를 할 수 없다.**\n",
    "    - 질문-답변 생성시 사용하는 LLM 모델은 성능이 좋은 것을 사용해야 한다. \n",
    "    - 생성된 질문-답변을 사람이 검토해서 품질을 더 높여야 한다.\n",
    "\n",
    "## 데이터셋에 포함될 내용\n",
    "- Dataset을 생성할 때는 다음 항목이 들어가야 한다.\n",
    "    -  **user_input**: 질문. `string`\n",
    "    -  **reference**: 정답. `string`\n",
    "    -  qa_context : context. `str` - QA를 만들 때 어떤 context를 사용했는지 값. 생성된 데이터셋을 확인하기 위한 것으로 **평가시에는 사용하지 않는다.**\n",
    "-  평가할 때 추가할 것\n",
    "    - **response**: RAG 시스템에서 질문에 대해 LLM 모델이 생성한 답변. `string`\n",
    "    - **retrieved_contexts**: RAG 시스템에서 질문에 대해 Vector DB에서 검색한 context들. `list(string)`"
   ]
  },
  {
   "cell_type": "code",
   "execution_count": 29,
   "metadata": {},
   "outputs": [
    {
     "data": {
      "text/plain": [
       "True"
      ]
     },
     "execution_count": 29,
     "metadata": {},
     "output_type": "execute_result"
    }
   ],
   "source": [
    "from langchain_community.document_loaders import TextLoader\n",
    "from langchain_text_splitters import RecursiveCharacterTextSplitter\n",
    "from langchain_chroma import Chroma\n",
    "\n",
    "from langchain_openai import ChatOpenAI, OpenAIEmbeddings\n",
    "from langchain.prompts import PromptTemplate\n",
    "from langchain_core.output_parsers import JsonOutputParser,StrOutputParser\n",
    "\n",
    "# from langchain import hub\n",
    "from langchain_core.runnables import RunnablePassthrough, RunnableLambda\n",
    "from langchain_core.documents import Document\n",
    "\n",
    "from ragas import EvaluationDataset, RunConfig, evaluate\n",
    "from ragas.metrics import (\n",
    "    LLMContextRecall, Faithfulness, LLMContextPrecisionWithReference, AnswerRelevancy\n",
    ")\n",
    "from ragas.llms import LangchainLLMWrapper\n",
    "from ragas.embeddings import LangchainEmbeddingsWrapper\n",
    "\n",
    "from pydantic import BaseModel, Field\n",
    "\n",
    "import random\n",
    "import pandas as pd\n",
    "\n",
    "from dotenv import load_dotenv\n",
    "\n",
    "load_dotenv()"
   ]
  },
  {
   "cell_type": "code",
   "execution_count": null,
   "metadata": {},
   "outputs": [],
   "source": [
    "# Context 를 바탕으로 질문과 답변을 생성\n",
    "# 생성된 질문을 rag_chain에 넣어서 context와 llm 응답을 생성."
   ]
  },
  {
   "cell_type": "code",
   "execution_count": null,
   "metadata": {},
   "outputs": [
    {
     "data": {
      "text/plain": [
       "61"
      ]
     },
     "execution_count": 30,
     "metadata": {},
     "output_type": "execute_result"
    }
   ],
   "source": [
    "# context 생성\n",
    "DOC_PATH = \"data/olympic.txt\"\n",
    "\n",
    "loader = TextLoader(DOC_PATH, encoding='utf-8')\n",
    "# Vector DB에 저장한 context와 동일하게 chunking(split)을 한다.\n",
    "splitter = RecursiveCharacterTextSplitter(chunk_size=500, chunk_overlap=50)\n",
    "\n",
    "docs = loader.load_and_split(splitter)\n",
    "len(docs) #list[Document]"
   ]
  },
  {
   "cell_type": "code",
   "execution_count": 36,
   "metadata": {},
   "outputs": [
    {
     "data": {
      "text/plain": [
       "[\"2004년 10월과 11월에 IOC는 '올림픽 프로그램 위원회'(Olympic Programme Commission)를 설립했다. 여기서는 올림픽 종목과 올림픽 종목이 아닌 스포츠를 모두 재검토하는 일을 한다. 이 위원회의 목표는 올림픽 종목에 더 체계적으로 다가가는 것이다. 위원회에서는 우선적으로 올림픽 종목으로 포함되기 위해서는 7개의 기준을 충족시켜야 한다고 말한다. 이 7개의 기준은 역사, 전통, 보편성, 인기도와 잠재성, 선수의 건강, 연맹의 스포츠를 관리할만한 능력, 스포츠를 여는 데에 필요한 비용이다. 예를 들면 2012년 하계 올림픽의 정식종목 후보에 7개 조건을 포함한 비(非)올림픽 스포츠가 올랐고 그 내용은, 골프, 가라테, 럭비, 인라인 스케이팅, 스쿼시였다. 이 스포츠들은 IOC 상임이사회에서 재검토되어 2005년 7월에 열린 싱가포르 총회에서 최종 결정하기로 했다. 결국 5개 중 2개(가라테와 스쿼시) 가 최종 후보로 올라왔으나 가라테와 스쿼시 둘 다\",\n",
       " '현재 이란 정부는 이스라엘과의 어떤 경기 경쟁이든 피하고 있다. 2008년 하계 올림픽 때 이란의 수영 선수는 이스라엘 수영 선수와 같이 경기한다는 이유로 경기를 포기했으며, 2004년 하계 올림픽에서도 이란의 유도 선수는 이스라엘 선수와 경기한다는 일정이 잡혔을 때 경기를 포기했다. 이 선수는 공식적으로는 시합전에 계체량을 재서 체중이 초과되어 실격 되었으나 이란정부로부터 125,000달러나 되는 돈을 받았다고 한다.',\n",
       " '2016년까지 올림픽은 23개국 44개 도시에서 열렸으며 유럽과 북아메리카대륙 이외의 대륙에서는 고작 8번 밖에 개최하지 못했다. 1988년 하계 올림픽이 대한민국의 서울에서 열린것을 시작으로 그 후 아시아와 오세아니아 대륙에서 올림픽이 4번이나 열렸으며, 이는 그 이전의 현대 올림픽사와 비교해보면 엄청나게 늘어난 수치였다. 2016년 하계 올림픽이 개최된 브라질의 리우데자네이루는 남미에서 열리는 첫 번째 올림픽이다. 아직 아프리카에서는 올림픽이 한 번도 개최되지 않았다. 2008년 하계 올림픽 때 가장 많은 선수가 참여한 나라는 중국으로 639명이 참가했으며 그 다음은 미국과 러시아로 각각 596명과 455명이 참가했다.',\n",
       " '\"미국에서 광적인 애국심과 반소련 세력이 점점 늘어나고 있다.\"\\n동구권에서 보이콧을 한 국가들은 올림픽을 대신할 대회로 프렌드십 게임을 7월과 8월에 했다.\\n2008년에는 티베트와 다르푸르에 관한 중국의 인권문제를 두고 그에 대한 항의 표시로 중국산 물품의 불매운동과 2008 올림픽 불참에 대한 요구가 컸으나 보이콧을 한 나라는 없었다. 2008년 8월, 조지아 정부는 러시아가 2008년 남오세티야 전쟁에 참전한 것과 관련하여 러시아의 소치에서 열릴 2014년 동계 올림픽을 보이콧하자고 요청했다. 이에 대해 국제 올림픽 위원회는 \"앞으로 개최될 때까지 6년이나 남았는데 시작하기도 전에 섣불리 이른 판단을 하는 것은 옳지 않다.\"라고 말했다.',\n",
       " '1859년 자파스 올림픽에 참가한 선수의 수는 250명을 넘지 못했다. 에방겔리스 자파스는 \"지난 자파스 올림픽을 포함, 1896년에 개최될 2번째 올림픽을 위해 파나티네코 경기장을 보수해야 한다.\"라는 충고를 하지만, 그리스 정부는 그의 말을 듣지 않았고 결국 1896년 아테네 올림픽 준비를 위해 파나티네코 경기장은 두 번이나 정비해야 했다. 1회 대회 정식종목으로는 9종목이 있었는데 육상, 사이클, 펜싱, 체조, 사격, 수영, 테니스, 역도, 레슬링이 있었으며, 조정도 정식종목이었으나 매우 나쁜 날씨로 인해 조정 경기는 취소되었다. 펜싱 경기는 역사적 건물인 자피온(에반젤리스 자파스의 이름을 딴 것이다)에서 열렸다. 그리스의 관리들과 국민들은 올림픽 경기 개최에 열광적이었다. 많은 선수들이 이에 동감하면서 앞으로도 올림픽 대회를 아테네에서 영구히 개최해야 한다고 요구하기까지 하였다. 그러나 국제올림픽위원회(IOC)는 근대 올림픽은 순환 개최로 열리는 세계적인 행사가 되어야']"
      ]
     },
     "execution_count": 36,
     "metadata": {},
     "output_type": "execute_result"
    }
   ],
   "source": [
    "# docs 중에서 평가데이터를 생성할 때 사용할 문서 K개를 추출\n",
    "#### 실제 평가 데이터셋을 생성할 때는 모든 문서를 다 사용. \n",
    "total_samples = 5 # 5개 context만 사용\n",
    "\n",
    "index_list = list(range(len(docs)))\n",
    "random.shuffle(index_list)\n",
    "\n",
    "eval_context = [] # 추출한 context들을 담을 리스트\n",
    "while len(eval_context) < total_samples:\n",
    "    index = index_list.pop()\n",
    "    context = docs[index].page_content\n",
    "    if len(context) > 200: # 200글자 이상인 것만 사용.\n",
    "        eval_context.append(context)\n",
    "\n",
    "eval_context"
   ]
  },
  {
   "cell_type": "code",
   "execution_count": 40,
   "metadata": {},
   "outputs": [],
   "source": [
    "# Context -> 질문과 답변을 생성하는 Chain\n",
    "# JsonOutputParser를 사용.\n",
    "## 스키마 생성.\n",
    "### LLM으로 부터 응답받을 값들을 설계.\n",
    "class EvalSchema(BaseModel):\n",
    "    user_input: str = Field(..., description=\"사용자 질문\") # 스키마 변수에 대한 설정. `...` 시작: 필수\n",
    "    reference: str = Field(..., description=\"user_input(사용자 질문)에 대한 정답\")\n",
    "    qa_context: str = Field(..., description=\"질문, 답변 쌍을 만들때 참조한 context. 입력된 context를 수정하지 않고 그대로 넣는다.\")\n",
    "\n",
    "parser = JsonOutputParser(pydantic_object=EvalSchema)\n",
    "\n",
    "template = \"\"\"# Instruction:\n",
    "당신은 RAG 평가를 위해 질문과 정답 쌍을 생성하는 인공지능 비서입니다.\n",
    "다음 [Context] 에 문서가 주어지면 해당 문서를 기반으로 {num_questions}개 질문-정답 쌍을 생성하세요. \n",
    "\n",
    "질문과 정답을 생성한 후 Output Indicator의 format으로 출력합니다.\n",
    "질문은 반드시 Context 문서에 있는 정보를 바탕으로 생성해야 합니다. Context에 없는 내용을 가지고 질문-정답을 절대 만들면 안됩니다.\n",
    "올림픽에 관심있는 일반 사용자 관점의 자연스러운 질문을 작성합니다.\n",
    "질문은 간결하게 작성합니다.\n",
    "하나의 질문에는 한 가지씩만 내용만 작성합니다.\n",
    "질문을 만들 때 \"제공된 문맥에서\", \"문서에 설명된 대로\", \"주어진 문서에 따라\" 또는 이와 유사한 말을 하지 마세요.\n",
    "정답은 반드시 Context에 있는 정보를 바탕으로 작성합니다. 없는 내용을 추가하지 않습니다.\n",
    "질문과 정답을 만들고 그 내용이 Context에 있는 항목인지 다시 한번 확인합니다.\n",
    "생성된 질문-답변 쌍은 반드시 dictionary 형태로 정의하고 list로 묶어서 반환해야 합니다.\n",
    "질문-답변 쌍은 반드시 {num_questions}개를 만들어야 합니다.\n",
    "\n",
    "#Context:\n",
    "{context}\n",
    "\n",
    "Output Indicator:\n",
    "{format_instructions}\n",
    "\"\"\"\n",
    "\n",
    "prompt_template = PromptTemplate(\n",
    "    template=template, \n",
    "    partial_variables={\"format_instructions\": parser.get_format_instructions()}\n",
    ")\n",
    "eval_model = ChatOpenAI(model=\"gpt-4.1\")\n",
    "eval_dataset_chain = prompt_template | eval_model | parser"
   ]
  },
  {
   "cell_type": "code",
   "execution_count": 43,
   "metadata": {},
   "outputs": [
    {
     "data": {
      "text/plain": [
       "[{'user_input': 'IOC가 올림픽 종목 선정 시 고려하는 기준은 무엇인가요?',\n",
       "  'reference': '역사, 전통, 보편성, 인기도와 잠재성, 선수의 건강, 연맹의 스포츠를 관리할만한 능력, 스포츠를 여는 데에 필요한 비용의 7가지 기준이 있습니다.',\n",
       "  'qa_context': \"2004년 10월과 11월에 IOC는 '올림픽 프로그램 위원회'(Olympic Programme Commission)를 설립했다. 여기서는 올림픽 종목과 올림픽 종목이 아닌 스포츠를 모두 재검토하는 일을 한다. 이 위원회의 목표는 올림픽 종목에 더 체계적으로 다가가는 것이다. 위원회에서는 우선적으로 올림픽 종목으로 포함되기 위해서는 7개의 기준을 충족시켜야 한다고 말한다. 이 7개의 기준은 역사, 전통, 보편성, 인기도와 잠재성, 선수의 건강, 연맹의 스포츠를 관리할만한 능력, 스포츠를 여는 데에 필요한 비용이다. 예를 들면 2012년 하계 올림픽의 정식종목 후보에 7개 조건을 포함한 비(非)올림픽 스포츠가 올랐고 그 내용은, 골프, 가라테, 럭비, 인라인 스케이팅, 스쿼시였다. 이 스포츠들은 IOC 상임이사회에서 재검토되어 2005년 7월에 열린 싱가포르 총회에서 최종 결정하기로 했다. 결국 5개 중 2개(가라테와 스쿼시) 가 최종 후보로 올라왔으나 가라테와 스쿼시 둘 다\"},\n",
       " {'user_input': '2012년 하계 올림픽 정식 종목 후보에 올랐던 비올림픽 스포츠는 어떤 종목이었나요?',\n",
       "  'reference': '골프, 가라테, 럭비, 인라인 스케이팅, 스쿼시가 있었습니다.',\n",
       "  'qa_context': \"2004년 10월과 11월에 IOC는 '올림픽 프로그램 위원회'(Olympic Programme Commission)를 설립했다. 여기서는 올림픽 종목과 올림픽 종목이 아닌 스포츠를 모두 재검토하는 일을 한다. 이 위원회의 목표는 올림픽 종목에 더 체계적으로 다가가는 것이다. 위원회에서는 우선적으로 올림픽 종목으로 포함되기 위해서는 7개의 기준을 충족시켜야 한다고 말한다. 이 7개의 기준은 역사, 전통, 보편성, 인기도와 잠재성, 선수의 건강, 연맹의 스포츠를 관리할만한 능력, 스포츠를 여는 데에 필요한 비용이다. 예를 들면 2012년 하계 올림픽의 정식종목 후보에 7개 조건을 포함한 비(非)올림픽 스포츠가 올랐고 그 내용은, 골프, 가라테, 럭비, 인라인 스케이팅, 스쿼시였다. 이 스포츠들은 IOC 상임이사회에서 재검토되어 2005년 7월에 열린 싱가포르 총회에서 최종 결정하기로 했다. 결국 5개 중 2개(가라테와 스쿼시) 가 최종 후보로 올라왔으나 가라테와 스쿼시 둘 다\"},\n",
       " {'user_input': '2005년 싱가포르 총회에서 최종 후보로 선정된 종목은 무엇이었나요?',\n",
       "  'reference': '가라테와 스쿼시가 최종 후보로 선정되었습니다.',\n",
       "  'qa_context': \"2004년 10월과 11월에 IOC는 '올림픽 프로그램 위원회'(Olympic Programme Commission)를 설립했다. 여기서는 올림픽 종목과 올림픽 종목이 아닌 스포츠를 모두 재검토하는 일을 한다. 이 위원회의 목표는 올림픽 종목에 더 체계적으로 다가가는 것이다. 위원회에서는 우선적으로 올림픽 종목으로 포함되기 위해서는 7개의 기준을 충족시켜야 한다고 말한다. 이 7개의 기준은 역사, 전통, 보편성, 인기도와 잠재성, 선수의 건강, 연맹의 스포츠를 관리할만한 능력, 스포츠를 여는 데에 필요한 비용이다. 예를 들면 2012년 하계 올림픽의 정식종목 후보에 7개 조건을 포함한 비(非)올림픽 스포츠가 올랐고 그 내용은, 골프, 가라테, 럭비, 인라인 스케이팅, 스쿼시였다. 이 스포츠들은 IOC 상임이사회에서 재검토되어 2005년 7월에 열린 싱가포르 총회에서 최종 결정하기로 했다. 결국 5개 중 2개(가라테와 스쿼시) 가 최종 후보로 올라왔으나 가라테와 스쿼시 둘 다\"}]"
      ]
     },
     "execution_count": 43,
     "metadata": {},
     "output_type": "execute_result"
    }
   ],
   "source": [
    "eval_dataset_chain.invoke({\"context\":eval_context[0], \"num_questions\":3})"
   ]
  },
  {
   "cell_type": "code",
   "execution_count": null,
   "metadata": {},
   "outputs": [],
   "source": [
    "# context당 5개씩 질문을 생성\n",
    "eval_dataset_list = []\n",
    "num_questions = 5\n",
    "for context in eval_context:\n",
    "    eval_data = eval_dataset_chain.invoke({\"context\":context, \"num_questions\":num_questions})\n",
    "    eval_dataset_list.extend(eval_data)"
   ]
  },
  {
   "cell_type": "code",
   "execution_count": 69,
   "metadata": {},
   "outputs": [
    {
     "data": {
      "text/plain": [
       "25"
      ]
     },
     "execution_count": 69,
     "metadata": {},
     "output_type": "execute_result"
    }
   ],
   "source": [
    "len(eval_dataset_list)"
   ]
  },
  {
   "cell_type": "code",
   "execution_count": 68,
   "metadata": {},
   "outputs": [
    {
     "data": {
      "text/plain": [
       "{'user_input': '올림픽 종목 포함 기준 중 하나로 언급된 선수 관련 사항은 무엇인가요?',\n",
       " 'reference': '선수의 건강이 기준 중 하나입니다.',\n",
       " 'qa_context': \"2004년 10월과 11월에 IOC는 '올림픽 프로그램 위원회'(Olympic Programme Commission)를 설립했다. 여기서는 올림픽 종목과 올림픽 종목이 아닌 스포츠를 모두 재검토하는 일을 한다. 이 위원회의 목표는 올림픽 종목에 더 체계적으로 다가가는 것이다. 위원회에서는 우선적으로 올림픽 종목으로 포함되기 위해서는 7개의 기준을 충족시켜야 한다고 말한다. 이 7개의 기준은 역사, 전통, 보편성, 인기도와 잠재성, 선수의 건강, 연맹의 스포츠를 관리할만한 능력, 스포츠를 여는 데에 필요한 비용이다. 예를 들면 2012년 하계 올림픽의 정식종목 후보에 7개 조건을 포함한 비(非)올림픽 스포츠가 올랐고 그 내용은, 골프, 가라테, 럭비, 인라인 스케이팅, 스쿼시였다. 이 스포츠들은 IOC 상임이사회에서 재검토되어 2005년 7월에 열린 싱가포르 총회에서 최종 결정하기로 했다. 결국 5개 중 2개(가라테와 스쿼시) 가 최종 후보로 올라왔으나 가라테와 스쿼시 둘 다\"}"
      ]
     },
     "execution_count": 68,
     "metadata": {},
     "output_type": "execute_result"
    }
   ],
   "source": [
    "################# 생성된 질문 쌍을 반드시 검토 해야 한다.#################\n",
    "eval_dataset_list[3]"
   ]
  },
  {
   "cell_type": "code",
   "execution_count": 70,
   "metadata": {},
   "outputs": [
    {
     "data": {
      "text/html": [
       "<div>\n",
       "<style scoped>\n",
       "    .dataframe tbody tr th:only-of-type {\n",
       "        vertical-align: middle;\n",
       "    }\n",
       "\n",
       "    .dataframe tbody tr th {\n",
       "        vertical-align: top;\n",
       "    }\n",
       "\n",
       "    .dataframe thead th {\n",
       "        text-align: right;\n",
       "    }\n",
       "</style>\n",
       "<table border=\"1\" class=\"dataframe\">\n",
       "  <thead>\n",
       "    <tr style=\"text-align: right;\">\n",
       "      <th></th>\n",
       "      <th>user_input</th>\n",
       "      <th>reference</th>\n",
       "      <th>qa_context</th>\n",
       "    </tr>\n",
       "  </thead>\n",
       "  <tbody>\n",
       "    <tr>\n",
       "      <th>0</th>\n",
       "      <td>올림픽 프로그램 위원회는 언제 설립되었나요?</td>\n",
       "      <td>2004년 10월과 11월에 설립되었습니다.</td>\n",
       "      <td>2004년 10월과 11월에 IOC는 '올림픽 프로그램 위원회'(Olympic Pr...</td>\n",
       "    </tr>\n",
       "    <tr>\n",
       "      <th>1</th>\n",
       "      <td>올림픽 종목으로 선정되기 위해 필요한 기준은 몇 가지인가요?</td>\n",
       "      <td>7가지 기준이 필요합니다.</td>\n",
       "      <td>2004년 10월과 11월에 IOC는 '올림픽 프로그램 위원회'(Olympic Pr...</td>\n",
       "    </tr>\n",
       "    <tr>\n",
       "      <th>2</th>\n",
       "      <td>2012년 하계 올림픽 정식종목 후보로 올랐던 비올림픽 스포츠에는 어떤 것들이 있었나요?</td>\n",
       "      <td>골프, 가라테, 럭비, 인라인 스케이팅, 스쿼시 등이 있었습니다.</td>\n",
       "      <td>2004년 10월과 11월에 IOC는 '올림픽 프로그램 위원회'(Olympic Pr...</td>\n",
       "    </tr>\n",
       "    <tr>\n",
       "      <th>3</th>\n",
       "      <td>올림픽 종목 포함 기준 중 하나로 언급된 선수 관련 사항은 무엇인가요?</td>\n",
       "      <td>선수의 건강이 기준 중 하나입니다.</td>\n",
       "      <td>2004년 10월과 11월에 IOC는 '올림픽 프로그램 위원회'(Olympic Pr...</td>\n",
       "    </tr>\n",
       "    <tr>\n",
       "      <th>4</th>\n",
       "      <td>2012년 하계 올림픽 종목 최종 후보로 남았던 스포츠는 무엇인가요?</td>\n",
       "      <td>가라테와 스쿼시가 최종 후보로 남았습니다.</td>\n",
       "      <td>2004년 10월과 11월에 IOC는 '올림픽 프로그램 위원회'(Olympic Pr...</td>\n",
       "    </tr>\n",
       "  </tbody>\n",
       "</table>\n",
       "</div>"
      ],
      "text/plain": [
       "                                          user_input  \\\n",
       "0                           올림픽 프로그램 위원회는 언제 설립되었나요?   \n",
       "1                  올림픽 종목으로 선정되기 위해 필요한 기준은 몇 가지인가요?   \n",
       "2  2012년 하계 올림픽 정식종목 후보로 올랐던 비올림픽 스포츠에는 어떤 것들이 있었나요?   \n",
       "3            올림픽 종목 포함 기준 중 하나로 언급된 선수 관련 사항은 무엇인가요?   \n",
       "4             2012년 하계 올림픽 종목 최종 후보로 남았던 스포츠는 무엇인가요?   \n",
       "\n",
       "                              reference  \\\n",
       "0              2004년 10월과 11월에 설립되었습니다.   \n",
       "1                        7가지 기준이 필요합니다.   \n",
       "2  골프, 가라테, 럭비, 인라인 스케이팅, 스쿼시 등이 있었습니다.   \n",
       "3                   선수의 건강이 기준 중 하나입니다.   \n",
       "4               가라테와 스쿼시가 최종 후보로 남았습니다.   \n",
       "\n",
       "                                          qa_context  \n",
       "0  2004년 10월과 11월에 IOC는 '올림픽 프로그램 위원회'(Olympic Pr...  \n",
       "1  2004년 10월과 11월에 IOC는 '올림픽 프로그램 위원회'(Olympic Pr...  \n",
       "2  2004년 10월과 11월에 IOC는 '올림픽 프로그램 위원회'(Olympic Pr...  \n",
       "3  2004년 10월과 11월에 IOC는 '올림픽 프로그램 위원회'(Olympic Pr...  \n",
       "4  2004년 10월과 11월에 IOC는 '올림픽 프로그램 위원회'(Olympic Pr...  "
      ]
     },
     "execution_count": 70,
     "metadata": {},
     "output_type": "execute_result"
    }
   ],
   "source": [
    "# DataFrame으로 생성\n",
    "import pandas as pd\n",
    "eval_df = pd.DataFrame(eval_dataset_list)\n",
    "eval_df.head()"
   ]
  },
  {
   "cell_type": "code",
   "execution_count": 72,
   "metadata": {},
   "outputs": [
    {
     "name": "stdout",
     "output_type": "stream",
     "text": [
      "<class 'pandas.core.frame.DataFrame'>\n",
      "RangeIndex: 25 entries, 0 to 24\n",
      "Data columns (total 3 columns):\n",
      " #   Column      Non-Null Count  Dtype \n",
      "---  ------      --------------  ----- \n",
      " 0   user_input  25 non-null     object\n",
      " 1   reference   25 non-null     object\n",
      " 2   qa_context  25 non-null     object\n",
      "dtypes: object(3)\n",
      "memory usage: 732.0+ bytes\n"
     ]
    }
   ],
   "source": [
    "eval_df.info()"
   ]
  },
  {
   "cell_type": "code",
   "execution_count": 75,
   "metadata": {},
   "outputs": [],
   "source": [
    "#### 평가할 RAG chain(rag_chain)을 이용해서 context 문서들과 llm 응답을 받아서 \n",
    "##        평가 데이터셋을 완성.\n",
    "# user_input -> (rag_chain) -> {llm_answer, source_context}\n",
    "context_list = []  # source_context들을 저장할 리스트\n",
    "response_list = [] # llm_answer드을 저장할 리스트\n",
    "\n",
    "for user_input in eval_df['user_input']:\n",
    "    resp = rag_chain.invoke(user_input)\n",
    "    context_list.append(resp['source_context'])\n",
    "    response_list.append(resp['llm_answer'])"
   ]
  },
  {
   "cell_type": "code",
   "execution_count": 76,
   "metadata": {},
   "outputs": [
    {
     "data": {
      "text/plain": [
       "(25, 25)"
      ]
     },
     "execution_count": 76,
     "metadata": {},
     "output_type": "execute_result"
    }
   ],
   "source": [
    "len(context_list), len(response_list)"
   ]
  },
  {
   "cell_type": "code",
   "execution_count": 77,
   "metadata": {},
   "outputs": [
    {
     "data": {
      "text/plain": [
       "'올림픽 프로그램 위원회는 언제 설립되었나요?'"
      ]
     },
     "execution_count": 77,
     "metadata": {},
     "output_type": "execute_result"
    }
   ],
   "source": [
    "eval_df.loc[0, 'user_input']"
   ]
  },
  {
   "cell_type": "code",
   "execution_count": 78,
   "metadata": {},
   "outputs": [
    {
     "data": {
      "text/plain": [
       "'올림픽 프로그램 위원회는 2004년 10월과 11월에 설립되었습니다.'"
      ]
     },
     "execution_count": 78,
     "metadata": {},
     "output_type": "execute_result"
    }
   ],
   "source": [
    "response_list[0]"
   ]
  },
  {
   "cell_type": "code",
   "execution_count": 79,
   "metadata": {},
   "outputs": [
    {
     "data": {
      "text/plain": [
       "[\"2004년 10월과 11월에 IOC는 '올림픽 프로그램 위원회'(Olympic Programme Commission)를 설립했다. 여기서는 올림픽 종목과 올림픽 종목이 아닌 스포츠를 모두 재검토하는 일을 한다. 이 위원회의 목표는 올림픽 종목에 더 체계적으로 다가가는 것이다. 위원회에서는 우선적으로 올림픽 종목으로 포함되기 위해서는 7개의 기준을 충족시켜야 한다고 말한다. 이 7개의 기준은 역사, 전통, 보편성, 인기도와 잠재성, 선수의 건강, 연맹의 스포츠를 관리할만한 능력, 스포츠를 여는 데에 필요한 비용이다. 예를 들면 2012년 하계 올림픽의 정식종목 후보에 7개 조건을 포함한 비(非)올림픽 스포츠가 올랐고 그 내용은, 골프, 가라테, 럭비, 인라인 스케이팅, 스쿼시였다. 이 스포츠들은 IOC 상임이사회에서 재검토되어 2005년 7월에 열린 싱가포르 총회에서 최종 결정하기로 했다. 결국 5개 중 2개(가라테와 스쿼시) 가 최종 후보로 올라왔으나 가라테와 스쿼시 둘 다\",\n",
       " '올림픽은 국제경기연맹(IF), 국가 올림픽 위원회(NOC), 각 올림픽의 위원회(예-벤쿠버동계올림픽조직위원회)로 구성된다. 의사 결정 기구인 IOC는 올림픽 개최 도시를 선정하며, 각 올림픽 대회마다 열리는 올림픽 종목도 IOC에서 결정한다. 올림픽 경기 개최 도시는 경기 축하 의식이 올림픽 헌장에 부합하도록 조직하고 기금을 마련해야 한다. 올림픽 축하 행사로는 여러 의식과 상징을 들 수 있는데 올림픽기나 성화가 그 예이다.',\n",
       " '올림픽(영어: Olympic Games, 프랑스어: Jeux olympiques)은 전 세계 각 대륙 각국에서 모인 수천 명의 선수가 참가해 여름과 겨울에 스포츠 경기를 하는 국제적인 대회이다. 전 세계에서 가장 큰 지구촌 최대의 스포츠 축제인 올림픽은 세계에서 가장 인지도있는 국제 행사이다. 올림픽은 2년마다 하계 올림픽과 동계 올림픽이 번갈아 열리며, 국제 올림픽 위원회(IOC)가 감독하고 있다. 또한 오늘날의 올림픽은 기원전 8세기부터 서기 5세기에 이르기까지 고대 그리스 올림피아에서 열렸던 올림피아 제전에서 비롯되었다. 그리고 19세기 말에 피에르 드 쿠베르탱 남작이 고대 올림피아 제전에서 영감을 얻어, 근대 올림픽을 부활시켰다. 이를 위해 쿠베르탱 남작은 1894년에 IOC를 창설했으며, 2년 뒤인 1896년에 그리스 아테네에서 제 1회 올림픽이 열렸다. 이때부터 IOC는 올림픽 운동의 감독 기구가 되었으며, 조직과 활동은 올림픽 헌장을 따른다. 오늘날 전 세계 대부분의',\n",
       " '국제올림픽위원회(IOC)는 근대 올림픽은 순환 개최로 열리는 세계적인 행사가 되어야 한다고 생각했다. 결국 2회 올림픽은 프랑스 파리에서 열기로 결정되었다.']"
      ]
     },
     "execution_count": 79,
     "metadata": {},
     "output_type": "execute_result"
    }
   ],
   "source": [
    "context_list[0]"
   ]
  },
  {
   "cell_type": "code",
   "execution_count": 81,
   "metadata": {},
   "outputs": [],
   "source": [
    "eval_df['response'] = response_list\n",
    "eval_df['retrieved_contexts'] = context_list"
   ]
  },
  {
   "cell_type": "code",
   "execution_count": 82,
   "metadata": {},
   "outputs": [
    {
     "data": {
      "text/html": [
       "<div>\n",
       "<style scoped>\n",
       "    .dataframe tbody tr th:only-of-type {\n",
       "        vertical-align: middle;\n",
       "    }\n",
       "\n",
       "    .dataframe tbody tr th {\n",
       "        vertical-align: top;\n",
       "    }\n",
       "\n",
       "    .dataframe thead th {\n",
       "        text-align: right;\n",
       "    }\n",
       "</style>\n",
       "<table border=\"1\" class=\"dataframe\">\n",
       "  <thead>\n",
       "    <tr style=\"text-align: right;\">\n",
       "      <th></th>\n",
       "      <th>user_input</th>\n",
       "      <th>reference</th>\n",
       "      <th>qa_context</th>\n",
       "      <th>response</th>\n",
       "      <th>retrieved_contexts</th>\n",
       "    </tr>\n",
       "  </thead>\n",
       "  <tbody>\n",
       "    <tr>\n",
       "      <th>0</th>\n",
       "      <td>올림픽 프로그램 위원회는 언제 설립되었나요?</td>\n",
       "      <td>2004년 10월과 11월에 설립되었습니다.</td>\n",
       "      <td>2004년 10월과 11월에 IOC는 '올림픽 프로그램 위원회'(Olympic Pr...</td>\n",
       "      <td>올림픽 프로그램 위원회는 2004년 10월과 11월에 설립되었습니다.</td>\n",
       "      <td>[2004년 10월과 11월에 IOC는 '올림픽 프로그램 위원회'(Olympic P...</td>\n",
       "    </tr>\n",
       "    <tr>\n",
       "      <th>1</th>\n",
       "      <td>올림픽 종목으로 선정되기 위해 필요한 기준은 몇 가지인가요?</td>\n",
       "      <td>7가지 기준이 필요합니다.</td>\n",
       "      <td>2004년 10월과 11월에 IOC는 '올림픽 프로그램 위원회'(Olympic Pr...</td>\n",
       "      <td>올림픽 종목으로 선정되기 위해 필요한 기준은 7가지입니다.</td>\n",
       "      <td>[2004년 10월과 11월에 IOC는 '올림픽 프로그램 위원회'(Olympic P...</td>\n",
       "    </tr>\n",
       "    <tr>\n",
       "      <th>2</th>\n",
       "      <td>2012년 하계 올림픽 정식종목 후보로 올랐던 비올림픽 스포츠에는 어떤 것들이 있었나요?</td>\n",
       "      <td>골프, 가라테, 럭비, 인라인 스케이팅, 스쿼시 등이 있었습니다.</td>\n",
       "      <td>2004년 10월과 11월에 IOC는 '올림픽 프로그램 위원회'(Olympic Pr...</td>\n",
       "      <td>2012년 하계 올림픽 정식종목 후보로 올랐던 비올림픽 스포츠는 골프, 가라테, 럭...</td>\n",
       "      <td>[결국 5개 중 2개(가라테와 스쿼시) 가 최종 후보로 올라왔으나 가라테와 스쿼시 ...</td>\n",
       "    </tr>\n",
       "    <tr>\n",
       "      <th>3</th>\n",
       "      <td>올림픽 종목 포함 기준 중 하나로 언급된 선수 관련 사항은 무엇인가요?</td>\n",
       "      <td>선수의 건강이 기준 중 하나입니다.</td>\n",
       "      <td>2004년 10월과 11월에 IOC는 '올림픽 프로그램 위원회'(Olympic Pr...</td>\n",
       "      <td>올림픽 종목 포함 기준 중 하나로 언급된 선수 관련 사항은 \"프로 선수의 참가 불허...</td>\n",
       "      <td>[올림픽 경기 종목\\n올림픽 경기 종목은 총 33개부문 52개 종목에서 약 400개...</td>\n",
       "    </tr>\n",
       "    <tr>\n",
       "      <th>4</th>\n",
       "      <td>2012년 하계 올림픽 종목 최종 후보로 남았던 스포츠는 무엇인가요?</td>\n",
       "      <td>가라테와 스쿼시가 최종 후보로 남았습니다.</td>\n",
       "      <td>2004년 10월과 11월에 IOC는 '올림픽 프로그램 위원회'(Olympic Pr...</td>\n",
       "      <td>2012년 하계 올림픽 종목 최종 후보로 남았던 스포츠는 가라테와 스쿼시입니다.</td>\n",
       "      <td>[결국 5개 중 2개(가라테와 스쿼시) 가 최종 후보로 올라왔으나 가라테와 스쿼시 ...</td>\n",
       "    </tr>\n",
       "  </tbody>\n",
       "</table>\n",
       "</div>"
      ],
      "text/plain": [
       "                                          user_input  \\\n",
       "0                           올림픽 프로그램 위원회는 언제 설립되었나요?   \n",
       "1                  올림픽 종목으로 선정되기 위해 필요한 기준은 몇 가지인가요?   \n",
       "2  2012년 하계 올림픽 정식종목 후보로 올랐던 비올림픽 스포츠에는 어떤 것들이 있었나요?   \n",
       "3            올림픽 종목 포함 기준 중 하나로 언급된 선수 관련 사항은 무엇인가요?   \n",
       "4             2012년 하계 올림픽 종목 최종 후보로 남았던 스포츠는 무엇인가요?   \n",
       "\n",
       "                              reference  \\\n",
       "0              2004년 10월과 11월에 설립되었습니다.   \n",
       "1                        7가지 기준이 필요합니다.   \n",
       "2  골프, 가라테, 럭비, 인라인 스케이팅, 스쿼시 등이 있었습니다.   \n",
       "3                   선수의 건강이 기준 중 하나입니다.   \n",
       "4               가라테와 스쿼시가 최종 후보로 남았습니다.   \n",
       "\n",
       "                                          qa_context  \\\n",
       "0  2004년 10월과 11월에 IOC는 '올림픽 프로그램 위원회'(Olympic Pr...   \n",
       "1  2004년 10월과 11월에 IOC는 '올림픽 프로그램 위원회'(Olympic Pr...   \n",
       "2  2004년 10월과 11월에 IOC는 '올림픽 프로그램 위원회'(Olympic Pr...   \n",
       "3  2004년 10월과 11월에 IOC는 '올림픽 프로그램 위원회'(Olympic Pr...   \n",
       "4  2004년 10월과 11월에 IOC는 '올림픽 프로그램 위원회'(Olympic Pr...   \n",
       "\n",
       "                                            response  \\\n",
       "0             올림픽 프로그램 위원회는 2004년 10월과 11월에 설립되었습니다.   \n",
       "1                   올림픽 종목으로 선정되기 위해 필요한 기준은 7가지입니다.   \n",
       "2  2012년 하계 올림픽 정식종목 후보로 올랐던 비올림픽 스포츠는 골프, 가라테, 럭...   \n",
       "3  올림픽 종목 포함 기준 중 하나로 언급된 선수 관련 사항은 \"프로 선수의 참가 불허...   \n",
       "4       2012년 하계 올림픽 종목 최종 후보로 남았던 스포츠는 가라테와 스쿼시입니다.   \n",
       "\n",
       "                                  retrieved_contexts  \n",
       "0  [2004년 10월과 11월에 IOC는 '올림픽 프로그램 위원회'(Olympic P...  \n",
       "1  [2004년 10월과 11월에 IOC는 '올림픽 프로그램 위원회'(Olympic P...  \n",
       "2  [결국 5개 중 2개(가라테와 스쿼시) 가 최종 후보로 올라왔으나 가라테와 스쿼시 ...  \n",
       "3  [올림픽 경기 종목\\n올림픽 경기 종목은 총 33개부문 52개 종목에서 약 400개...  \n",
       "4  [결국 5개 중 2개(가라테와 스쿼시) 가 최종 후보로 올라왔으나 가라테와 스쿼시 ...  "
      ]
     },
     "execution_count": 82,
     "metadata": {},
     "output_type": "execute_result"
    }
   ],
   "source": [
    "eval_df.head()"
   ]
  },
  {
   "cell_type": "code",
   "execution_count": null,
   "metadata": {},
   "outputs": [
    {
     "data": {
      "text/plain": [
       "EvaluationDataset(features=['user_input', 'retrieved_contexts', 'response', 'reference'], len=25)"
      ]
     },
     "execution_count": 83,
     "metadata": {},
     "output_type": "execute_result"
    }
   ],
   "source": [
    "###################################\n",
    "#  RAGAS 의 EvaluationDataset 생성\n",
    "###################################\n",
    "# feature로 \"user_input\", \"response\", \"retrieved_contexts\", \"referece\"를 가진 DataFrame으로부터\n",
    "#     EvaluationDataset생성\n",
    "evaludation_dataset = EvaluationDataset.from_pandas(eval_df)\n",
    "evaludation_dataset"
   ]
  },
  {
   "cell_type": "code",
   "execution_count": 84,
   "metadata": {},
   "outputs": [
    {
     "data": {
      "application/vnd.jupyter.widget-view+json": {
       "model_id": "e9047a0ed0394893908f8adfdc0a0075",
       "version_major": 2,
       "version_minor": 0
      },
      "text/plain": [
       "Evaluating:   0%|          | 0/100 [00:00<?, ?it/s]"
      ]
     },
     "metadata": {},
     "output_type": "display_data"
    }
   ],
   "source": [
    "#################################\n",
    "# 평가\n",
    "#################################\n",
    "eval_llm = LangchainLLMWrapper(ChatOpenAI(model=\"gpt-4.1-mini\"))\n",
    "eval_embedding = LangchainEmbeddingsWrapper(OpenAIEmbeddings(model=\"text-embedding-3-large\"))\n",
    "metrics = [\n",
    "    LLMContextPrecisionWithReference(llm=eval_llm),\n",
    "    LLMContextRecall(llm=eval_llm),\n",
    "    Faithfulness(llm=eval_llm),\n",
    "    AnswerRelevancy(llm=eval_llm, embeddings=eval_embedding)\n",
    "]\n",
    "\n",
    "eval_result = evaluate(dataset=evaludation_dataset, metrics=metrics)"
   ]
  },
  {
   "cell_type": "code",
   "execution_count": 85,
   "metadata": {},
   "outputs": [
    {
     "data": {
      "text/plain": [
       "{'llm_context_precision_with_reference': 0.8300, 'context_recall': 0.9600, 'faithfulness': 1.0000, 'answer_relevancy': 0.6754}"
      ]
     },
     "execution_count": 85,
     "metadata": {},
     "output_type": "execute_result"
    }
   ],
   "source": [
    "eval_result"
   ]
  },
  {
   "cell_type": "code",
   "execution_count": 86,
   "metadata": {},
   "outputs": [
    {
     "data": {
      "text/html": [
       "<div>\n",
       "<style scoped>\n",
       "    .dataframe tbody tr th:only-of-type {\n",
       "        vertical-align: middle;\n",
       "    }\n",
       "\n",
       "    .dataframe tbody tr th {\n",
       "        vertical-align: top;\n",
       "    }\n",
       "\n",
       "    .dataframe thead th {\n",
       "        text-align: right;\n",
       "    }\n",
       "</style>\n",
       "<table border=\"1\" class=\"dataframe\">\n",
       "  <thead>\n",
       "    <tr style=\"text-align: right;\">\n",
       "      <th></th>\n",
       "      <th>user_input</th>\n",
       "      <th>retrieved_contexts</th>\n",
       "      <th>response</th>\n",
       "      <th>reference</th>\n",
       "      <th>llm_context_precision_with_reference</th>\n",
       "      <th>context_recall</th>\n",
       "      <th>faithfulness</th>\n",
       "      <th>answer_relevancy</th>\n",
       "    </tr>\n",
       "  </thead>\n",
       "  <tbody>\n",
       "    <tr>\n",
       "      <th>0</th>\n",
       "      <td>올림픽 프로그램 위원회는 언제 설립되었나요?</td>\n",
       "      <td>[2004년 10월과 11월에 IOC는 '올림픽 프로그램 위원회'(Olympic P...</td>\n",
       "      <td>올림픽 프로그램 위원회는 2004년 10월과 11월에 설립되었습니다.</td>\n",
       "      <td>2004년 10월과 11월에 설립되었습니다.</td>\n",
       "      <td>1.000000</td>\n",
       "      <td>1.0</td>\n",
       "      <td>1.0</td>\n",
       "      <td>0.798414</td>\n",
       "    </tr>\n",
       "    <tr>\n",
       "      <th>1</th>\n",
       "      <td>올림픽 종목으로 선정되기 위해 필요한 기준은 몇 가지인가요?</td>\n",
       "      <td>[2004년 10월과 11월에 IOC는 '올림픽 프로그램 위원회'(Olympic P...</td>\n",
       "      <td>올림픽 종목으로 선정되기 위해 필요한 기준은 7가지입니다.</td>\n",
       "      <td>7가지 기준이 필요합니다.</td>\n",
       "      <td>1.000000</td>\n",
       "      <td>1.0</td>\n",
       "      <td>1.0</td>\n",
       "      <td>0.805069</td>\n",
       "    </tr>\n",
       "    <tr>\n",
       "      <th>2</th>\n",
       "      <td>2012년 하계 올림픽 정식종목 후보로 올랐던 비올림픽 스포츠에는 어떤 것들이 있었나요?</td>\n",
       "      <td>[결국 5개 중 2개(가라테와 스쿼시) 가 최종 후보로 올라왔으나 가라테와 스쿼시 ...</td>\n",
       "      <td>2012년 하계 올림픽 정식종목 후보로 올랐던 비올림픽 스포츠는 골프, 가라테, 럭...</td>\n",
       "      <td>골프, 가라테, 럭비, 인라인 스케이팅, 스쿼시 등이 있었습니다.</td>\n",
       "      <td>1.000000</td>\n",
       "      <td>1.0</td>\n",
       "      <td>1.0</td>\n",
       "      <td>0.666502</td>\n",
       "    </tr>\n",
       "    <tr>\n",
       "      <th>3</th>\n",
       "      <td>올림픽 종목 포함 기준 중 하나로 언급된 선수 관련 사항은 무엇인가요?</td>\n",
       "      <td>[올림픽 경기 종목\\n올림픽 경기 종목은 총 33개부문 52개 종목에서 약 400개...</td>\n",
       "      <td>올림픽 종목 포함 기준 중 하나로 언급된 선수 관련 사항은 \"프로 선수의 참가 불허...</td>\n",
       "      <td>선수의 건강이 기준 중 하나입니다.</td>\n",
       "      <td>0.000000</td>\n",
       "      <td>0.0</td>\n",
       "      <td>1.0</td>\n",
       "      <td>0.577669</td>\n",
       "    </tr>\n",
       "    <tr>\n",
       "      <th>4</th>\n",
       "      <td>2012년 하계 올림픽 종목 최종 후보로 남았던 스포츠는 무엇인가요?</td>\n",
       "      <td>[결국 5개 중 2개(가라테와 스쿼시) 가 최종 후보로 올라왔으나 가라테와 스쿼시 ...</td>\n",
       "      <td>2012년 하계 올림픽 종목 최종 후보로 남았던 스포츠는 가라테와 스쿼시입니다.</td>\n",
       "      <td>가라테와 스쿼시가 최종 후보로 남았습니다.</td>\n",
       "      <td>1.000000</td>\n",
       "      <td>1.0</td>\n",
       "      <td>1.0</td>\n",
       "      <td>0.757519</td>\n",
       "    </tr>\n",
       "    <tr>\n",
       "      <th>5</th>\n",
       "      <td>이란 정부는 이스라엘과의 경기에서 어떤 입장을 취하고 있나요?</td>\n",
       "      <td>[현재 이란 정부는 이스라엘과의 어떤 경기 경쟁이든 피하고 있다. 2008년 하계 ...</td>\n",
       "      <td>이란 정부는 이스라엘과의 어떤 경기 경쟁이든 피하고 있습니다.</td>\n",
       "      <td>이란 정부는 이스라엘과의 어떤 경기 경쟁이든 피하고 있습니다.</td>\n",
       "      <td>1.000000</td>\n",
       "      <td>1.0</td>\n",
       "      <td>1.0</td>\n",
       "      <td>0.719376</td>\n",
       "    </tr>\n",
       "    <tr>\n",
       "      <th>6</th>\n",
       "      <td>2008년 하계 올림픽에서 이란의 수영 선수는 왜 경기를 포기했나요?</td>\n",
       "      <td>[현재 이란 정부는 이스라엘과의 어떤 경기 경쟁이든 피하고 있다. 2008년 하계 ...</td>\n",
       "      <td>2008년 하계 올림픽에서 이란의 수영 선수는 이스라엘 수영 선수와 같이 경기한다는...</td>\n",
       "      <td>이란의 수영 선수는 이스라엘 수영 선수와 같이 경기한다는 이유로 경기를 포기했습니다.</td>\n",
       "      <td>1.000000</td>\n",
       "      <td>1.0</td>\n",
       "      <td>1.0</td>\n",
       "      <td>0.788715</td>\n",
       "    </tr>\n",
       "    <tr>\n",
       "      <th>7</th>\n",
       "      <td>2004년 하계 올림픽에서 이란의 유도 선수는 어떤 이유로 경기를 포기했나요?</td>\n",
       "      <td>[현재 이란 정부는 이스라엘과의 어떤 경기 경쟁이든 피하고 있다. 2008년 하계 ...</td>\n",
       "      <td>2004년 하계 올림픽에서 이란의 유도 선수는 이스라엘 선수와 경기한다는 일정이 잡...</td>\n",
       "      <td>이스라엘 선수와 경기하는 일정이 잡혔을 때 경기를 포기했습니다.</td>\n",
       "      <td>1.000000</td>\n",
       "      <td>1.0</td>\n",
       "      <td>1.0</td>\n",
       "      <td>0.681521</td>\n",
       "    </tr>\n",
       "    <tr>\n",
       "      <th>8</th>\n",
       "      <td>2004년 하계 올림픽에서 이란의 유도 선수에게 공식적으로 적용된 실격 사유는 무엇...</td>\n",
       "      <td>[현재 이란 정부는 이스라엘과의 어떤 경기 경쟁이든 피하고 있다. 2008년 하계 ...</td>\n",
       "      <td>2004년 하계 올림픽에서 이란의 유도 선수에게 공식적으로 적용된 실격 사유는 시합...</td>\n",
       "      <td>공식적으로는 시합 전에 계체량을 재서 체중이 초과되어 실격되었습니다.</td>\n",
       "      <td>1.000000</td>\n",
       "      <td>1.0</td>\n",
       "      <td>1.0</td>\n",
       "      <td>0.673546</td>\n",
       "    </tr>\n",
       "    <tr>\n",
       "      <th>9</th>\n",
       "      <td>2004년 하계 올림픽 당시 이란의 유도 선수가 이란정부로부터 받은 금전적 보상은 ...</td>\n",
       "      <td>[현재 이란 정부는 이스라엘과의 어떤 경기 경쟁이든 피하고 있다. 2008년 하계 ...</td>\n",
       "      <td>2004년 하계 올림픽 당시 이란의 유도 선수는 이란정부로부터 125,000달러를 ...</td>\n",
       "      <td>이란정부로부터 125,000달러를 받았습니다.</td>\n",
       "      <td>1.000000</td>\n",
       "      <td>1.0</td>\n",
       "      <td>1.0</td>\n",
       "      <td>0.806618</td>\n",
       "    </tr>\n",
       "    <tr>\n",
       "      <th>10</th>\n",
       "      <td>2016년까지 올림픽이 열린 국가는 몇 개국인가요?</td>\n",
       "      <td>[2016년까지 올림픽은 23개국 44개 도시에서 열렸으며 유럽과 북아메리카대륙 이...</td>\n",
       "      <td>2016년까지 올림픽은 23개국에서 열렸습니다.</td>\n",
       "      <td>2016년까지 올림픽은 23개국에서 열렸습니다.</td>\n",
       "      <td>1.000000</td>\n",
       "      <td>1.0</td>\n",
       "      <td>1.0</td>\n",
       "      <td>0.692014</td>\n",
       "    </tr>\n",
       "    <tr>\n",
       "      <th>11</th>\n",
       "      <td>올림픽이 유럽과 북아메리카를 제외한 대륙에서 개최된 횟수는 몇 번인가요?</td>\n",
       "      <td>[2016년까지 올림픽은 23개국 44개 도시에서 열렸으며 유럽과 북아메리카대륙 이...</td>\n",
       "      <td>올림픽은 2016년까지 유럽과 북아메리카 대륙 이외의 대륙에서 고작 8번 개최되었습니다.</td>\n",
       "      <td>유럽과 북아메리카 대륙 이외의 대륙에서는 8번 개최되었습니다.</td>\n",
       "      <td>0.833333</td>\n",
       "      <td>1.0</td>\n",
       "      <td>1.0</td>\n",
       "      <td>0.661092</td>\n",
       "    </tr>\n",
       "    <tr>\n",
       "      <th>12</th>\n",
       "      <td>아프리카 대륙에서 올림픽이 개최된 적이 있나요?</td>\n",
       "      <td>[2016년까지 올림픽은 23개국 44개 도시에서 열렸으며 유럽과 북아메리카대륙 이...</td>\n",
       "      <td>아니요, 아프리카 대륙에서는 아직 올림픽이 한 번도 개최된 적이 없습니다.</td>\n",
       "      <td>아프리카에서는 올림픽이 한 번도 개최되지 않았습니다.</td>\n",
       "      <td>1.000000</td>\n",
       "      <td>1.0</td>\n",
       "      <td>1.0</td>\n",
       "      <td>0.791565</td>\n",
       "    </tr>\n",
       "    <tr>\n",
       "      <th>13</th>\n",
       "      <td>리우데자네이루 올림픽은 어떤 점에서 특별했나요?</td>\n",
       "      <td>[각각 동메달과 은메달을 땄을 때 이 일은 베이징 올림픽의 유명한 사건 중 하나로 ...</td>\n",
       "      <td>리우데자네이루 올림픽은 남미에서 열리는 첫 번째 올림픽이라는 점에서 특별했습니다.</td>\n",
       "      <td>리우데자네이루는 남미에서 열린 첫 번째 올림픽이었습니다.</td>\n",
       "      <td>0.500000</td>\n",
       "      <td>1.0</td>\n",
       "      <td>1.0</td>\n",
       "      <td>0.629009</td>\n",
       "    </tr>\n",
       "    <tr>\n",
       "      <th>14</th>\n",
       "      <td>2008년 하계 올림픽에서 가장 많은 선수를 파견한 나라는 어디인가요?</td>\n",
       "      <td>[2016년까지 올림픽은 23개국 44개 도시에서 열렸으며 유럽과 북아메리카대륙 이...</td>\n",
       "      <td>2008년 하계 올림픽에서 가장 많은 선수를 파견한 나라는 중국으로 639명이 참가...</td>\n",
       "      <td>2008년 하계 올림픽에서 가장 많은 선수를 파견한 나라는 중국으로 639명이 참가...</td>\n",
       "      <td>1.000000</td>\n",
       "      <td>1.0</td>\n",
       "      <td>1.0</td>\n",
       "      <td>0.710600</td>\n",
       "    </tr>\n",
       "    <tr>\n",
       "      <th>15</th>\n",
       "      <td>2008년 올림픽에서 티베트와 다르푸르 문제로 인해 실제로 보이콧한 나라는 있었나요?</td>\n",
       "      <td>[\"미국에서 광적인 애국심과 반소련 세력이 점점 늘어나고 있다.\"\\n동구권에서 보이...</td>\n",
       "      <td>2008년 올림픽에서 티베트와 다르푸르 문제로 인해 실제로 보이콧한 나라는 없었습니다.</td>\n",
       "      <td>보이콧을 한 나라는 없었다.</td>\n",
       "      <td>1.000000</td>\n",
       "      <td>1.0</td>\n",
       "      <td>1.0</td>\n",
       "      <td>0.570850</td>\n",
       "    </tr>\n",
       "    <tr>\n",
       "      <th>16</th>\n",
       "      <td>동구권에서 올림픽을 대신한 대회는 무엇이었나요?</td>\n",
       "      <td>[쿠베르탱의 생각과는 달리, 올림픽이 세계에 완벽한 평화를 가져다주지는 못했다. 실...</td>\n",
       "      <td>동구권에서 올림픽을 대신한 대회는 프렌드십 게임입니다.</td>\n",
       "      <td>동구권에서 보이콧을 한 국가들은 올림픽을 대신할 대회로 프렌드십 게임을 7월과 8월...</td>\n",
       "      <td>0.250000</td>\n",
       "      <td>1.0</td>\n",
       "      <td>1.0</td>\n",
       "      <td>0.982428</td>\n",
       "    </tr>\n",
       "    <tr>\n",
       "      <th>17</th>\n",
       "      <td>조지아 정부는 2014년 동계 올림픽과 관련해서 어떤 요청을 했나요?</td>\n",
       "      <td>[\"미국에서 광적인 애국심과 반소련 세력이 점점 늘어나고 있다.\"\\n동구권에서 보이...</td>\n",
       "      <td>조지아 정부는 러시아가 2008년 남오세티야 전쟁에 참전한 것과 관련하여 러시아의 ...</td>\n",
       "      <td>조지아 정부는 러시아가 2008년 남오세티야 전쟁에 참전한 것과 관련하여 러시아의 ...</td>\n",
       "      <td>1.000000</td>\n",
       "      <td>1.0</td>\n",
       "      <td>1.0</td>\n",
       "      <td>0.688155</td>\n",
       "    </tr>\n",
       "    <tr>\n",
       "      <th>18</th>\n",
       "      <td>국제 올림픽 위원회는 2014년 동계 올림픽 보이콧 요청에 대해 어떻게 답했나요?</td>\n",
       "      <td>[\"미국에서 광적인 애국심과 반소련 세력이 점점 늘어나고 있다.\"\\n동구권에서 보이...</td>\n",
       "      <td>국제 올림픽 위원회는 2014년 동계 올림픽 보이콧 요청에 대해 \"앞으로 개최될 때...</td>\n",
       "      <td>국제 올림픽 위원회는 \"앞으로 개최될 때까지 6년이나 남았는데 시작하기도 전에 섣불...</td>\n",
       "      <td>1.000000</td>\n",
       "      <td>1.0</td>\n",
       "      <td>1.0</td>\n",
       "      <td>0.000000</td>\n",
       "    </tr>\n",
       "    <tr>\n",
       "      <th>19</th>\n",
       "      <td>2008년 올림픽을 둘러싼 중국의 인권문제와 관련해 어떤 항의가 있었나요?</td>\n",
       "      <td>[\"미국에서 광적인 애국심과 반소련 세력이 점점 늘어나고 있다.\"\\n동구권에서 보이...</td>\n",
       "      <td>2008년에는 티베트와 다르푸르에 관한 중국의 인권문제를 두고 그에 대한 항의 표시...</td>\n",
       "      <td>티베트와 다르푸르에 관한 중국의 인권문제를 두고 중국산 물품의 불매운동과 2008 ...</td>\n",
       "      <td>1.000000</td>\n",
       "      <td>1.0</td>\n",
       "      <td>1.0</td>\n",
       "      <td>0.656564</td>\n",
       "    </tr>\n",
       "    <tr>\n",
       "      <th>20</th>\n",
       "      <td>1859년 자파스 올림픽에 참가한 선수 수는 얼마였나요?</td>\n",
       "      <td>[1859년 자파스 올림픽에 참가한 선수의 수는 250명을 넘지 못했다. 에방겔리스...</td>\n",
       "      <td>1859년 자파스 올림픽에 참가한 선수의 수는 250명을 넘지 못했습니다.</td>\n",
       "      <td>250명을 넘지 못했다.</td>\n",
       "      <td>1.000000</td>\n",
       "      <td>1.0</td>\n",
       "      <td>1.0</td>\n",
       "      <td>0.612461</td>\n",
       "    </tr>\n",
       "    <tr>\n",
       "      <th>21</th>\n",
       "      <td>1896년 아테네 올림픽 준비를 위해 몇 번이나 파나티네코 경기장이 정비되었나요?</td>\n",
       "      <td>[1859년 자파스 올림픽에 참가한 선수의 수는 250명을 넘지 못했다. 에방겔리스...</td>\n",
       "      <td>1896년 아테네 올림픽 준비를 위해 파나티네코 경기장은 두 번이나 정비되었습니다.</td>\n",
       "      <td>두 번 정비했다.</td>\n",
       "      <td>0.833333</td>\n",
       "      <td>1.0</td>\n",
       "      <td>1.0</td>\n",
       "      <td>0.761537</td>\n",
       "    </tr>\n",
       "    <tr>\n",
       "      <th>22</th>\n",
       "      <td>1896년 아테네 올림픽 1회 대회 정식종목에는 어떤 종목들이 있었나요?</td>\n",
       "      <td>[고대 올림피아 경기가 처음 열린 시점은 보통 기원전 776년으로 인정되고 있는데,...</td>\n",
       "      <td>1896년 아테네 올림픽 1회 대회 정식종목으로는 육상, 사이클, 펜싱, 체조, 사...</td>\n",
       "      <td>육상, 사이클, 펜싱, 체조, 사격, 수영, 테니스, 역도, 레슬링이 있었다.</td>\n",
       "      <td>0.500000</td>\n",
       "      <td>1.0</td>\n",
       "      <td>1.0</td>\n",
       "      <td>0.670790</td>\n",
       "    </tr>\n",
       "    <tr>\n",
       "      <th>23</th>\n",
       "      <td>1896년 올림픽에서 조정 경기가 취소된 이유는 무엇인가요?</td>\n",
       "      <td>[쿠베르탱의 생각과는 달리, 올림픽이 세계에 완벽한 평화를 가져다주지는 못했다. 실...</td>\n",
       "      <td>1896년 올림픽에서 조정 경기는 매우 나쁜 날씨로 인해 취소되었습니다.</td>\n",
       "      <td>매우 나쁜 날씨로 인해 조정 경기는 취소되었다.</td>\n",
       "      <td>0.333333</td>\n",
       "      <td>1.0</td>\n",
       "      <td>1.0</td>\n",
       "      <td>0.574531</td>\n",
       "    </tr>\n",
       "    <tr>\n",
       "      <th>24</th>\n",
       "      <td>1896년 올림픽의 펜싱 경기는 어디에서 열렸나요?</td>\n",
       "      <td>[1896년 올림픽 대회의 성공을 이어서 개최된 두 번째 올림픽인 1900년 올림픽...</td>\n",
       "      <td>1896년 올림픽의 펜싱 경기는 역사적 건물인 자피온(에반젤리스 자파스의 이름을 딴...</td>\n",
       "      <td>자피온에서 열렸다.</td>\n",
       "      <td>0.500000</td>\n",
       "      <td>1.0</td>\n",
       "      <td>1.0</td>\n",
       "      <td>0.609489</td>\n",
       "    </tr>\n",
       "  </tbody>\n",
       "</table>\n",
       "</div>"
      ],
      "text/plain": [
       "                                           user_input  \\\n",
       "0                            올림픽 프로그램 위원회는 언제 설립되었나요?   \n",
       "1                   올림픽 종목으로 선정되기 위해 필요한 기준은 몇 가지인가요?   \n",
       "2   2012년 하계 올림픽 정식종목 후보로 올랐던 비올림픽 스포츠에는 어떤 것들이 있었나요?   \n",
       "3             올림픽 종목 포함 기준 중 하나로 언급된 선수 관련 사항은 무엇인가요?   \n",
       "4              2012년 하계 올림픽 종목 최종 후보로 남았던 스포츠는 무엇인가요?   \n",
       "5                  이란 정부는 이스라엘과의 경기에서 어떤 입장을 취하고 있나요?   \n",
       "6              2008년 하계 올림픽에서 이란의 수영 선수는 왜 경기를 포기했나요?   \n",
       "7         2004년 하계 올림픽에서 이란의 유도 선수는 어떤 이유로 경기를 포기했나요?   \n",
       "8   2004년 하계 올림픽에서 이란의 유도 선수에게 공식적으로 적용된 실격 사유는 무엇...   \n",
       "9   2004년 하계 올림픽 당시 이란의 유도 선수가 이란정부로부터 받은 금전적 보상은 ...   \n",
       "10                       2016년까지 올림픽이 열린 국가는 몇 개국인가요?   \n",
       "11           올림픽이 유럽과 북아메리카를 제외한 대륙에서 개최된 횟수는 몇 번인가요?   \n",
       "12                         아프리카 대륙에서 올림픽이 개최된 적이 있나요?   \n",
       "13                         리우데자네이루 올림픽은 어떤 점에서 특별했나요?   \n",
       "14            2008년 하계 올림픽에서 가장 많은 선수를 파견한 나라는 어디인가요?   \n",
       "15    2008년 올림픽에서 티베트와 다르푸르 문제로 인해 실제로 보이콧한 나라는 있었나요?   \n",
       "16                         동구권에서 올림픽을 대신한 대회는 무엇이었나요?   \n",
       "17             조지아 정부는 2014년 동계 올림픽과 관련해서 어떤 요청을 했나요?   \n",
       "18      국제 올림픽 위원회는 2014년 동계 올림픽 보이콧 요청에 대해 어떻게 답했나요?   \n",
       "19          2008년 올림픽을 둘러싼 중국의 인권문제와 관련해 어떤 항의가 있었나요?   \n",
       "20                    1859년 자파스 올림픽에 참가한 선수 수는 얼마였나요?   \n",
       "21      1896년 아테네 올림픽 준비를 위해 몇 번이나 파나티네코 경기장이 정비되었나요?   \n",
       "22           1896년 아테네 올림픽 1회 대회 정식종목에는 어떤 종목들이 있었나요?   \n",
       "23                  1896년 올림픽에서 조정 경기가 취소된 이유는 무엇인가요?   \n",
       "24                       1896년 올림픽의 펜싱 경기는 어디에서 열렸나요?   \n",
       "\n",
       "                                   retrieved_contexts  \\\n",
       "0   [2004년 10월과 11월에 IOC는 '올림픽 프로그램 위원회'(Olympic P...   \n",
       "1   [2004년 10월과 11월에 IOC는 '올림픽 프로그램 위원회'(Olympic P...   \n",
       "2   [결국 5개 중 2개(가라테와 스쿼시) 가 최종 후보로 올라왔으나 가라테와 스쿼시 ...   \n",
       "3   [올림픽 경기 종목\\n올림픽 경기 종목은 총 33개부문 52개 종목에서 약 400개...   \n",
       "4   [결국 5개 중 2개(가라테와 스쿼시) 가 최종 후보로 올라왔으나 가라테와 스쿼시 ...   \n",
       "5   [현재 이란 정부는 이스라엘과의 어떤 경기 경쟁이든 피하고 있다. 2008년 하계 ...   \n",
       "6   [현재 이란 정부는 이스라엘과의 어떤 경기 경쟁이든 피하고 있다. 2008년 하계 ...   \n",
       "7   [현재 이란 정부는 이스라엘과의 어떤 경기 경쟁이든 피하고 있다. 2008년 하계 ...   \n",
       "8   [현재 이란 정부는 이스라엘과의 어떤 경기 경쟁이든 피하고 있다. 2008년 하계 ...   \n",
       "9   [현재 이란 정부는 이스라엘과의 어떤 경기 경쟁이든 피하고 있다. 2008년 하계 ...   \n",
       "10  [2016년까지 올림픽은 23개국 44개 도시에서 열렸으며 유럽과 북아메리카대륙 이...   \n",
       "11  [2016년까지 올림픽은 23개국 44개 도시에서 열렸으며 유럽과 북아메리카대륙 이...   \n",
       "12  [2016년까지 올림픽은 23개국 44개 도시에서 열렸으며 유럽과 북아메리카대륙 이...   \n",
       "13  [각각 동메달과 은메달을 땄을 때 이 일은 베이징 올림픽의 유명한 사건 중 하나로 ...   \n",
       "14  [2016년까지 올림픽은 23개국 44개 도시에서 열렸으며 유럽과 북아메리카대륙 이...   \n",
       "15  [\"미국에서 광적인 애국심과 반소련 세력이 점점 늘어나고 있다.\"\\n동구권에서 보이...   \n",
       "16  [쿠베르탱의 생각과는 달리, 올림픽이 세계에 완벽한 평화를 가져다주지는 못했다. 실...   \n",
       "17  [\"미국에서 광적인 애국심과 반소련 세력이 점점 늘어나고 있다.\"\\n동구권에서 보이...   \n",
       "18  [\"미국에서 광적인 애국심과 반소련 세력이 점점 늘어나고 있다.\"\\n동구권에서 보이...   \n",
       "19  [\"미국에서 광적인 애국심과 반소련 세력이 점점 늘어나고 있다.\"\\n동구권에서 보이...   \n",
       "20  [1859년 자파스 올림픽에 참가한 선수의 수는 250명을 넘지 못했다. 에방겔리스...   \n",
       "21  [1859년 자파스 올림픽에 참가한 선수의 수는 250명을 넘지 못했다. 에방겔리스...   \n",
       "22  [고대 올림피아 경기가 처음 열린 시점은 보통 기원전 776년으로 인정되고 있는데,...   \n",
       "23  [쿠베르탱의 생각과는 달리, 올림픽이 세계에 완벽한 평화를 가져다주지는 못했다. 실...   \n",
       "24  [1896년 올림픽 대회의 성공을 이어서 개최된 두 번째 올림픽인 1900년 올림픽...   \n",
       "\n",
       "                                             response  \\\n",
       "0              올림픽 프로그램 위원회는 2004년 10월과 11월에 설립되었습니다.   \n",
       "1                    올림픽 종목으로 선정되기 위해 필요한 기준은 7가지입니다.   \n",
       "2   2012년 하계 올림픽 정식종목 후보로 올랐던 비올림픽 스포츠는 골프, 가라테, 럭...   \n",
       "3   올림픽 종목 포함 기준 중 하나로 언급된 선수 관련 사항은 \"프로 선수의 참가 불허...   \n",
       "4        2012년 하계 올림픽 종목 최종 후보로 남았던 스포츠는 가라테와 스쿼시입니다.   \n",
       "5                  이란 정부는 이스라엘과의 어떤 경기 경쟁이든 피하고 있습니다.   \n",
       "6   2008년 하계 올림픽에서 이란의 수영 선수는 이스라엘 수영 선수와 같이 경기한다는...   \n",
       "7   2004년 하계 올림픽에서 이란의 유도 선수는 이스라엘 선수와 경기한다는 일정이 잡...   \n",
       "8   2004년 하계 올림픽에서 이란의 유도 선수에게 공식적으로 적용된 실격 사유는 시합...   \n",
       "9   2004년 하계 올림픽 당시 이란의 유도 선수는 이란정부로부터 125,000달러를 ...   \n",
       "10                         2016년까지 올림픽은 23개국에서 열렸습니다.   \n",
       "11  올림픽은 2016년까지 유럽과 북아메리카 대륙 이외의 대륙에서 고작 8번 개최되었습니다.   \n",
       "12          아니요, 아프리카 대륙에서는 아직 올림픽이 한 번도 개최된 적이 없습니다.   \n",
       "13      리우데자네이루 올림픽은 남미에서 열리는 첫 번째 올림픽이라는 점에서 특별했습니다.   \n",
       "14  2008년 하계 올림픽에서 가장 많은 선수를 파견한 나라는 중국으로 639명이 참가...   \n",
       "15   2008년 올림픽에서 티베트와 다르푸르 문제로 인해 실제로 보이콧한 나라는 없었습니다.   \n",
       "16                     동구권에서 올림픽을 대신한 대회는 프렌드십 게임입니다.   \n",
       "17  조지아 정부는 러시아가 2008년 남오세티야 전쟁에 참전한 것과 관련하여 러시아의 ...   \n",
       "18  국제 올림픽 위원회는 2014년 동계 올림픽 보이콧 요청에 대해 \"앞으로 개최될 때...   \n",
       "19  2008년에는 티베트와 다르푸르에 관한 중국의 인권문제를 두고 그에 대한 항의 표시...   \n",
       "20          1859년 자파스 올림픽에 참가한 선수의 수는 250명을 넘지 못했습니다.   \n",
       "21     1896년 아테네 올림픽 준비를 위해 파나티네코 경기장은 두 번이나 정비되었습니다.   \n",
       "22  1896년 아테네 올림픽 1회 대회 정식종목으로는 육상, 사이클, 펜싱, 체조, 사...   \n",
       "23           1896년 올림픽에서 조정 경기는 매우 나쁜 날씨로 인해 취소되었습니다.   \n",
       "24  1896년 올림픽의 펜싱 경기는 역사적 건물인 자피온(에반젤리스 자파스의 이름을 딴...   \n",
       "\n",
       "                                            reference  \\\n",
       "0                            2004년 10월과 11월에 설립되었습니다.   \n",
       "1                                      7가지 기준이 필요합니다.   \n",
       "2                골프, 가라테, 럭비, 인라인 스케이팅, 스쿼시 등이 있었습니다.   \n",
       "3                                 선수의 건강이 기준 중 하나입니다.   \n",
       "4                             가라테와 스쿼시가 최종 후보로 남았습니다.   \n",
       "5                  이란 정부는 이스라엘과의 어떤 경기 경쟁이든 피하고 있습니다.   \n",
       "6     이란의 수영 선수는 이스라엘 수영 선수와 같이 경기한다는 이유로 경기를 포기했습니다.   \n",
       "7                 이스라엘 선수와 경기하는 일정이 잡혔을 때 경기를 포기했습니다.   \n",
       "8              공식적으로는 시합 전에 계체량을 재서 체중이 초과되어 실격되었습니다.   \n",
       "9                           이란정부로부터 125,000달러를 받았습니다.   \n",
       "10                         2016년까지 올림픽은 23개국에서 열렸습니다.   \n",
       "11                 유럽과 북아메리카 대륙 이외의 대륙에서는 8번 개최되었습니다.   \n",
       "12                      아프리카에서는 올림픽이 한 번도 개최되지 않았습니다.   \n",
       "13                    리우데자네이루는 남미에서 열린 첫 번째 올림픽이었습니다.   \n",
       "14  2008년 하계 올림픽에서 가장 많은 선수를 파견한 나라는 중국으로 639명이 참가...   \n",
       "15                                    보이콧을 한 나라는 없었다.   \n",
       "16  동구권에서 보이콧을 한 국가들은 올림픽을 대신할 대회로 프렌드십 게임을 7월과 8월...   \n",
       "17  조지아 정부는 러시아가 2008년 남오세티야 전쟁에 참전한 것과 관련하여 러시아의 ...   \n",
       "18  국제 올림픽 위원회는 \"앞으로 개최될 때까지 6년이나 남았는데 시작하기도 전에 섣불...   \n",
       "19  티베트와 다르푸르에 관한 중국의 인권문제를 두고 중국산 물품의 불매운동과 2008 ...   \n",
       "20                                      250명을 넘지 못했다.   \n",
       "21                                          두 번 정비했다.   \n",
       "22        육상, 사이클, 펜싱, 체조, 사격, 수영, 테니스, 역도, 레슬링이 있었다.   \n",
       "23                         매우 나쁜 날씨로 인해 조정 경기는 취소되었다.   \n",
       "24                                         자피온에서 열렸다.   \n",
       "\n",
       "    llm_context_precision_with_reference  context_recall  faithfulness  \\\n",
       "0                               1.000000             1.0           1.0   \n",
       "1                               1.000000             1.0           1.0   \n",
       "2                               1.000000             1.0           1.0   \n",
       "3                               0.000000             0.0           1.0   \n",
       "4                               1.000000             1.0           1.0   \n",
       "5                               1.000000             1.0           1.0   \n",
       "6                               1.000000             1.0           1.0   \n",
       "7                               1.000000             1.0           1.0   \n",
       "8                               1.000000             1.0           1.0   \n",
       "9                               1.000000             1.0           1.0   \n",
       "10                              1.000000             1.0           1.0   \n",
       "11                              0.833333             1.0           1.0   \n",
       "12                              1.000000             1.0           1.0   \n",
       "13                              0.500000             1.0           1.0   \n",
       "14                              1.000000             1.0           1.0   \n",
       "15                              1.000000             1.0           1.0   \n",
       "16                              0.250000             1.0           1.0   \n",
       "17                              1.000000             1.0           1.0   \n",
       "18                              1.000000             1.0           1.0   \n",
       "19                              1.000000             1.0           1.0   \n",
       "20                              1.000000             1.0           1.0   \n",
       "21                              0.833333             1.0           1.0   \n",
       "22                              0.500000             1.0           1.0   \n",
       "23                              0.333333             1.0           1.0   \n",
       "24                              0.500000             1.0           1.0   \n",
       "\n",
       "    answer_relevancy  \n",
       "0           0.798414  \n",
       "1           0.805069  \n",
       "2           0.666502  \n",
       "3           0.577669  \n",
       "4           0.757519  \n",
       "5           0.719376  \n",
       "6           0.788715  \n",
       "7           0.681521  \n",
       "8           0.673546  \n",
       "9           0.806618  \n",
       "10          0.692014  \n",
       "11          0.661092  \n",
       "12          0.791565  \n",
       "13          0.629009  \n",
       "14          0.710600  \n",
       "15          0.570850  \n",
       "16          0.982428  \n",
       "17          0.688155  \n",
       "18          0.000000  \n",
       "19          0.656564  \n",
       "20          0.612461  \n",
       "21          0.761537  \n",
       "22          0.670790  \n",
       "23          0.574531  \n",
       "24          0.609489  "
      ]
     },
     "execution_count": 86,
     "metadata": {},
     "output_type": "execute_result"
    }
   ],
   "source": [
    "eval_result.to_pandas()"
   ]
  },
  {
   "cell_type": "markdown",
   "metadata": {},
   "source": [
    "# 생성한 평가 데이터셋을 Huggingface에 저장/로드"
   ]
  },
  {
   "cell_type": "code",
   "execution_count": null,
   "metadata": {},
   "outputs": [],
   "source": [
    "# %pip install transformers"
   ]
  },
  {
   "cell_type": "code",
   "execution_count": 89,
   "metadata": {},
   "outputs": [],
   "source": [
    "from huggingface_hub import login\n",
    "import os\n",
    "HF_KEY = os.getenv(\"HUGGINGFACE_API_KEY\")\n",
    "login(HF_KEY)"
   ]
  },
  {
   "cell_type": "code",
   "execution_count": 91,
   "metadata": {},
   "outputs": [
    {
     "data": {
      "text/plain": [
       "Dataset({\n",
       "    features: ['user_input', 'reference', 'qa_context', 'response', 'retrieved_contexts'],\n",
       "    num_rows: 25\n",
       "})"
      ]
     },
     "execution_count": 91,
     "metadata": {},
     "output_type": "execute_result"
    }
   ],
   "source": [
    "# %pip install datasets\n",
    "from datasets import Dataset\n",
    "eval_dataset = Dataset.from_pandas(eval_df)\n",
    "eval_dataset"
   ]
  },
  {
   "cell_type": "code",
   "execution_count": 93,
   "metadata": {},
   "outputs": [
    {
     "data": {
      "application/vnd.jupyter.widget-view+json": {
       "model_id": "ddfa75b2b4fa43dca0aaae9ec015c572",
       "version_major": 2,
       "version_minor": 0
      },
      "text/plain": [
       "Uploading the dataset shards:   0%|          | 0/1 [00:00<?, ?it/s]"
      ]
     },
     "metadata": {},
     "output_type": "display_data"
    },
    {
     "data": {
      "application/vnd.jupyter.widget-view+json": {
       "model_id": "50093836b3b844f6a225421738d17821",
       "version_major": 2,
       "version_minor": 0
      },
      "text/plain": [
       "Creating parquet from Arrow format:   0%|          | 0/1 [00:00<?, ?ba/s]"
      ]
     },
     "metadata": {},
     "output_type": "display_data"
    },
    {
     "data": {
      "text/plain": [
       "CommitInfo(commit_url='https://huggingface.co/datasets/kgmyh/wiki_olympic_rag_eval_dataset/commit/87324ab3471274908e541e12644214b2792d7dcf', commit_message='Upload dataset', commit_description='', oid='87324ab3471274908e541e12644214b2792d7dcf', pr_url=None, repo_url=RepoUrl('https://huggingface.co/datasets/kgmyh/wiki_olympic_rag_eval_dataset', endpoint='https://huggingface.co', repo_type='dataset', repo_id='kgmyh/wiki_olympic_rag_eval_dataset'), pr_revision=None, pr_num=None)"
      ]
     },
     "execution_count": 93,
     "metadata": {},
     "output_type": "execute_result"
    }
   ],
   "source": [
    "# huggingface에  upload\n",
    "eval_dataset.push_to_hub(\"wiki_olympic_rag_eval_dataset\") # dataset_id : 계정/id"
   ]
  },
  {
   "cell_type": "code",
   "execution_count": 94,
   "metadata": {},
   "outputs": [
    {
     "data": {
      "application/vnd.jupyter.widget-view+json": {
       "model_id": "86b7fe22c04341d49a7be3b1f6d8e737",
       "version_major": 2,
       "version_minor": 0
      },
      "text/plain": [
       "README.md:   0%|          | 0.00/535 [00:00<?, ?B/s]"
      ]
     },
     "metadata": {},
     "output_type": "display_data"
    },
    {
     "name": "stderr",
     "output_type": "stream",
     "text": [
      "c:\\Users\\Playdata\\miniconda3\\envs\\lang_env\\Lib\\site-packages\\huggingface_hub\\file_download.py:143: UserWarning: `huggingface_hub` cache-system uses symlinks by default to efficiently store duplicated files but your machine does not support them in C:\\Users\\Playdata\\.cache\\huggingface\\hub\\datasets--kgmyh--wiki_olympic_rag_eval_dataset. Caching files will still work but in a degraded version that might require more space on your disk. This warning can be disabled by setting the `HF_HUB_DISABLE_SYMLINKS_WARNING` environment variable. For more details, see https://huggingface.co/docs/huggingface_hub/how-to-cache#limitations.\n",
      "To support symlinks on Windows, you either need to activate Developer Mode or to run Python as an administrator. In order to activate developer mode, see this article: https://docs.microsoft.com/en-us/windows/apps/get-started/enable-your-device-for-development\n",
      "  warnings.warn(message)\n"
     ]
    },
    {
     "data": {
      "application/vnd.jupyter.widget-view+json": {
       "model_id": "512fdcdd672f4349872d6304321e7f7e",
       "version_major": 2,
       "version_minor": 0
      },
      "text/plain": [
       "train-00000-of-00001.parquet:   0%|          | 0.00/33.9k [00:00<?, ?B/s]"
      ]
     },
     "metadata": {},
     "output_type": "display_data"
    },
    {
     "data": {
      "application/vnd.jupyter.widget-view+json": {
       "model_id": "d8cf7ac2defe4c24a365afd0670444a2",
       "version_major": 2,
       "version_minor": 0
      },
      "text/plain": [
       "Generating train split:   0%|          | 0/25 [00:00<?, ? examples/s]"
      ]
     },
     "metadata": {},
     "output_type": "display_data"
    },
    {
     "data": {
      "text/plain": [
       "DatasetDict({\n",
       "    train: Dataset({\n",
       "        features: ['user_input', 'reference', 'qa_context', 'response', 'retrieved_contexts'],\n",
       "        num_rows: 25\n",
       "    })\n",
       "})"
      ]
     },
     "execution_count": 94,
     "metadata": {},
     "output_type": "execute_result"
    }
   ],
   "source": [
    "from datasets import load_dataset\n",
    "\n",
    "# Login using e.g. `huggingface-cli login` to access this dataset\n",
    "load_eval_dataset = load_dataset(\"kgmyh/wiki_olympic_rag_eval_dataset\")\n",
    "load_eval_dataset"
   ]
  },
  {
   "cell_type": "code",
   "execution_count": null,
   "metadata": {},
   "outputs": [],
   "source": []
  },
  {
   "cell_type": "code",
   "execution_count": null,
   "metadata": {},
   "outputs": [],
   "source": []
  }
 ],
 "metadata": {
  "kernelspec": {
   "display_name": "lang_env",
   "language": "python",
   "name": "python3"
  },
  "language_info": {
   "codemirror_mode": {
    "name": "ipython",
    "version": 3
   },
   "file_extension": ".py",
   "mimetype": "text/x-python",
   "name": "python",
   "nbconvert_exporter": "python",
   "pygments_lexer": "ipython3",
   "version": "3.12.11"
  }
 },
 "nbformat": 4,
 "nbformat_minor": 4
}
