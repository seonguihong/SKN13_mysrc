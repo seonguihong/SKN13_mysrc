{
 "cells": [
  {
   "cell_type": "markdown",
   "id": "e3b06bfd-24be-4acd-86c7-a053f60695e0",
   "metadata": {},
   "source": [
    "# Streamlit App을 EC2에서 서비스 \n",
    "\n",
    "1. App을 Github에 올린다.\n",
    "    - Github에 올릴 내용\n",
    "    \t- App source\n",
    "    \t- requirements.txt: 설치할 lib 목록\n",
    "\t- openai api 키와 같은 비용이 들어가는 설정 정보는 github에 올리지 않는다.\n",
    "2. [EC2 instance에 인바운드(inbound) 규칙 추가](02_EC2생성.ipynb#보안그룹의-인바운드(Inbound)-규칙-추가하기)\n",
    "    - streamlit을 서비스할 port를 열어준다.(EC2 instance 생성 할때 설정하지 않은 경우)\n",
    "        - streamlit 기본 포트: 8501\n",
    "    - streamlit 실행시 포트 변경\n",
    "        - `streamlit run app.py --server.port <포트번호>`\n",
    "        - 만약 포트번호를 지정해서 실행할 경우 그 포트번호로 **인바운드 규칙**을 설정한다.\n",
    "3. Streamlit 실행\n",
    "    - `nohup streamlait run 실행파일.py & `"
   ]
  },
  {
   "cell_type": "markdown",
   "id": "f831766d-990d-4c53-9850-e8ec9f18afc7",
   "metadata": {},
   "source": []
  },
  {
   "cell_type": "markdown",
   "id": "1d4f5d4e-f0be-49b1-93e7-fbc7c0321ab3",
   "metadata": {},
   "source": [
    "# Django Project를 EC2에서 서비스"
   ]
  },
  {
   "cell_type": "markdown",
   "id": "de7d315c-64c2-4c3b-8773-dffab803fa58",
   "metadata": {},
   "source": [
    "## nginx 설치\n",
    "- Nginx는 오픈소스 웹서버 프로그램이다.\n",
    "- Django 웹 애플리케이션의 성능, 안정성, 보안을 위해 nginx와 연동해 서비스를 한다.\n",
    "- Nginx는 http 요청을 받는 것, http 응답을 생성하는 역할과 static 파일 서비스를 담당한다.\n",
    "- Django Application(View)은 WSGI와 통신해서 실행한다.\n",
    "  \n",
    "```bash\n",
    "sudo apt update\n",
    "sudo apt upgrade\n",
    "sudo apt install python3-pip python3-venv nginx\n",
    "```"
   ]
  },
  {
   "cell_type": "markdown",
   "id": "aed74237-f92d-4179-bf13-ff37fe467d76",
   "metadata": {},
   "source": [
    "## 가상 환경 생성 및 프로젝트 세팅\n",
    "- Django 설치\n",
    "- gunicorn 설치\n",
    "    - WSGI(Web Server Gateway Interface) 서버\n",
    "    - 웹서버의 HTTP 요청을 파이썬 애플리케이션에 전달하고, 애플리케이션이 생성한 응답을 다시 웹 서버로 반환하는 역할을 한다.\n",
    "- **WSGI의 작동 방식**\n",
    "    - 클라이언트가 HTTP 요청을 보낸다.\n",
    "    - 웹 서버(Nginx, Apache 등)가 요청을 받아 WSGI 서버(Gunicorn, uWSGI 등)에 전달한다.\n",
    "    - WSGI 서버는 요청을 파이썬 애플리케이션(Django, Flask 등)에 전달한다.\n",
    "    - 애플리케이션은 요청을 처리하고 응답을 생성하여 WSGI 서버로 반환한다.\n",
    "    - WSGI 서버는 응답을 웹 서버로 전달하고, 웹 서버는 Http응답정보를 클라이언트에 반환됩니다\n",
    "\n",
    "![img](figures/python/nginx_gunicorn.png)\n",
    "\n",
    "- **구문**\n",
    "```bash\n",
    "conda create -n django python=3.12\n",
    "conda activate django\n",
    "pip install django gunicorn\n",
    "```"
   ]
  },
  {
   "cell_type": "markdown",
   "id": "5e6c921c-eec7-407e-874f-155c4b84df7f",
   "metadata": {},
   "source": [
    "## Django 프로젝트 설정 (중요)\n",
    "`/home/ubuntu/mypoll/config/settings.py` 수정:\n",
    "- ALLOWED_HOSTS 설정\n",
    "    - 서비스할 host를 설정\n",
    "    - EC2 instance의 public ip 주소.\n",
    "    - '*'\n",
    "- `DEBUG=False` 설정\n",
    "   - 운영시 디버그 모드를 False로 변경한다.\n",
    "```python\n",
    "DEBUG = False\n",
    "ALLOWED_HOSTS = ['*']\n",
    "```\n",
    "\n",
    "- STATIC 및 MEDIA 파일 설정:\n",
    "```python\n",
    "STATIC_ROOT = BASE_DIR / 'static_collection'\n",
    "MEDIA_ROOT = BASE_DIR / 'media'\n",
    "STATIC_URL = '/static/'\n",
    "MEDIA_URL = '/media/'\n",
    "```\n",
    "\n",
    "- Collect static 실행:\n",
    "```bash\n",
    "python manage.py collectstatic\n",
    "```"
   ]
  },
  {
   "cell_type": "markdown",
   "id": "d004e402-9d57-4da3-8c62-315ab8db1ef4",
   "metadata": {},
   "source": [
    "## Gunicorn 실행 (테스트)\n",
    "```bash\n",
    "cd /home/ubuntu/mypoll\n",
    "\n",
    "gunicorn --bind 0.0.0.0:8000 config.wsgi:application\n",
    "```\n",
    "\n",
    "- 웹 브라우저에서 `http://your-ec2-public-ip:8000`로 접속하여 확인."
   ]
  },
  {
   "cell_type": "markdown",
   "id": "187a5efb-cc1b-41fc-b9ca-d225255bd8d1",
   "metadata": {},
   "source": [
    "## Gunicorn 서비스 생성 (컴퓨터 시작시 자동 실행 하도록 설정)\n",
    "- 서비스 설정파일 생성\n",
    "\n",
    "```bash\n",
    "sudo nano /etc/systemd/system/gunicorn.service\n",
    "```\n",
    "- 다음 항목 입력\n",
    "  \n",
    "```ini\n",
    "[Unit]\n",
    "Description=Gunicorn daemon for Django Project\n",
    "After=network.target                 # 네트워크가 활성화된 후 시작\n",
    "\n",
    "[Service]\n",
    "User=ubuntu                          # 서비스 실행 사용자\n",
    "Group=ubuntu                         # 서비스 실행 사용자 그룹\n",
    "WorkingDirectory=/home/ubuntu/mypoll # 작업 디렉토리\n",
    "ExecStart=/home/ubuntu/miniconda3/envs/django/bin/gunicorn --workers 3 --bind unix:/home/ubuntu/mypoll/gunicorn.sock config.wsgi:application  # gunicorn 실행명령어\n",
    "\n",
    "[Install]\n",
    "WantedBy=multi-user.target      # 다중 사용자 모드에서 시작\n",
    "```\n",
    "\n",
    "- 서비스 시작\n",
    "```bash\n",
    "sudo systemctl start gunicorn      # 서비스로 시작\n",
    "sudo systemctl enable gunicorn     # 자동등록\n",
    "sudo systemctl status gunicorn     # 상태확인\n",
    "```"
   ]
  },
  {
   "cell_type": "markdown",
   "id": "42de5663-f5a9-4c20-b1be-8582d5baa6c0",
   "metadata": {},
   "source": [
    "## Nginx 설정\n",
    "- site 설정파일 생성\n",
    "\n",
    "```bash\n",
    "sudo nano /etc/nginx/sites-available/mypoll\n",
    "```\n",
    "\n",
    "- 다음 설정을 추가:\n",
    "    - 주의: `location /static/`, `location /media/` 경로 설정시 뒤에 `/` 생략 하면 안됨\n",
    "```nginx\n",
    "server {\n",
    "    listen 80;\n",
    "    server_name <<ec2-public-ip>>;\n",
    "\n",
    "    location /static/ {\n",
    "        alias /home/ubuntu/mypoll/static_collection/;     \n",
    "    }\n",
    "\n",
    "    location /media/ {\n",
    "        alias /home/ubuntu/mypoll/media/;                \n",
    "    }\n",
    "\n",
    "    location / {\n",
    "        include proxy_params;\n",
    "        proxy_pass http://unix:/home/ubuntu/mypoll/gunicorn.sock;\n",
    "    }\n",
    "}\n",
    "```\n",
    "\n",
    "\n",
    "심볼릭 링크 생성 및 Nginx 재시작:\n",
    "```bash\n",
    "sudo ln -s /etc/nginx/sites-available/mypoll /etc/nginx/sites-enabled\n",
    "sudo nginx -t\n",
    "sudo systemctl restart nginx\n",
    "```"
   ]
  },
  {
   "cell_type": "markdown",
   "id": "9a8c1c60-d2fd-48ba-8784-be4942249b05",
   "metadata": {},
   "source": [
    "## 권한 설정 변경\n",
    "- nginx 에서 `gunicorn.sock` 을 읽을 수있도록 다음 경로의 권한 설정 변경\n",
    "```bash\n",
    "sudo chmod 755 /home/ubuntu     # 소유자/그룹/외부 모두 읽기 가능하도록 설정\n",
    "```"
   ]
  },
  {
   "cell_type": "markdown",
   "id": "56edae0a-297c-44b0-b183-ee7f422c407e",
   "metadata": {},
   "source": [
    "## 코드/설정 변경시\n",
    "- django 코드 변경시 `gunicorn`, `nginx` 재시작 한다.\n",
    "```bash\n",
    "sudo systemctl daemon-reload          # 설정파일 변경시 실행.\n",
    "sudo systemctl restart gunicorn\n",
    "sudo systemctl restart nginx\n",
    "```\n",
    "\n",
    "## 서버 상태 확인 및 로그 모니터링\n",
    "- **서비스 상태 확인**\n",
    "```bash\n",
    "sudo systemctl status gunicorn\n",
    "sudo systemctl status nginx\n",
    "```\n",
    "- **로그 확인**\n",
    "```bash\n",
    "tail /var/log/nginx/error.log\n",
    "```"
   ]
  },
  {
   "cell_type": "markdown",
   "id": "7a480fb0-03f7-48c6-952d-9d61d4e39bb8",
   "metadata": {},
   "source": [
    "# Django Application - RDS DB 연결"
   ]
  },
  {
   "cell_type": "markdown",
   "id": "087b5efc-df81-4eb5-a9c8-71b6cc7e16f8",
   "metadata": {},
   "source": [
    "1. [RDS에 MySQL DB 설치](04_RDS.ipynb#데이터베이스-생성-설정)\n",
    "2. `pymysql` 설치\n",
    "```bash\n",
    "conda activate django\n",
    "pip install pymysql\n",
    "```"
   ]
  },
  {
   "cell_type": "markdown",
   "id": "e5952ca4-fc2b-4d4c-b31d-d82dc56f1173",
   "metadata": {},
   "source": [
    "3. DB 연결 후 database 생성\n",
    "   - `mysql -u 계정 -p -h 앤드 포인트`\n",
    "   - 연결 후\n",
    "       - Database 확인: `show databases`\n",
    "       - Database 생성: `create database mypoll`"
   ]
  },
  {
   "cell_type": "markdown",
   "id": "7b81443e-96c8-4101-8991-c8351f3bd723",
   "metadata": {},
   "source": [
    "4. **settings.py** 설정\n",
    "    \n",
    "    - **mysql lib 설정**\n",
    "        ```python\n",
    "        import pymysql\n",
    "        pymysql.install_as_MySQLdb()\n",
    "        ```\n",
    "    \n",
    "    - **Database 연결 설정***\n",
    "        ```python\n",
    "        DATABASES = {\n",
    "            'sqlite3': {\n",
    "                'ENGINE': 'django.db.backends.sqlite3',\n",
    "                'NAME': BASE_DIR / 'db.sqlite3',\n",
    "            },\n",
    "            'default': {\n",
    "                'ENGINE': 'django.db.backends.mysql',\n",
    "                'NAME': '<<Database 이름>>',\n",
    "                'USER': '<<username>>',\n",
    "                'PASSWORD': '<<password>>',\n",
    "                'HOST': '<<RDS DB instance end point>>',\n",
    "                'PORT': '3306',\n",
    "            }\n",
    "        }\n",
    "        ```"
   ]
  },
  {
   "cell_type": "markdown",
   "id": "1ddc4790-4a86-4669-951f-b6b9cc10a1c7",
   "metadata": {},
   "source": [
    "5. 서비스 reload\n",
    "```bash\n",
    "sudo systemctl daemon-reload     \n",
    "sudo systemctl restart gunicorn\n",
    "sudo systemctl restart nginx\n",
    "```"
   ]
  }
 ],
 "metadata": {
  "kernelspec": {
   "display_name": "base",
   "language": "python",
   "name": "python3"
  },
  "language_info": {
   "codemirror_mode": {
    "name": "ipython",
    "version": 3
   },
   "file_extension": ".py",
   "mimetype": "text/x-python",
   "name": "python",
   "nbconvert_exporter": "python",
   "pygments_lexer": "ipython3",
   "version": "3.12.4"
  }
 },
 "nbformat": 4,
 "nbformat_minor": 5
}
