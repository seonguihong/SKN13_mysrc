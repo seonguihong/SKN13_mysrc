{
 "cells": [
  {
   "cell_type": "markdown",
   "id": "8c5f52cf-d090-4437-ac44-3499813c3970",
   "metadata": {},
   "source": [
    "# Linux 환경에 미니콘다 설치\n",
    "\n",
    "- 미니콘다 설치 페이지로 이동\n",
    "   - https://docs.anaconda.com/miniconda/install/\n",
    "   - MacOS/Linux installation에서 **Linux terminal installer** 를 선택 후 guide에 따라 설치한다."
   ]
  },
  {
   "cell_type": "markdown",
   "id": "ea3834cf-f5a5-4144-8742-b1cd67109866",
   "metadata": {},
   "source": [
    "## 설치\n",
    "\n",
    "![img](figures/python/miniconda1.png)\n",
    "\n",
    "1. 다운로드\n",
    "    - `curl -O https://repo.anaconda.com/miniconda/Miniconda3-latest-Linux-x86_64.sh`\n",
    "1. 다운 받은 파일에 **실행권한** 부여\n",
    "    - `chmod 755 Miniconda3-latest-Linux-x86_64.sh`\n",
    "1. 설치파일 실행\n",
    "    - `bash ~/Miniconda3-latest-Linux-x86_64.sh`"
   ]
  },
  {
   "cell_type": "markdown",
   "id": "d0a341a1-2a17-4820-bd2d-7ca41a722445",
   "metadata": {},
   "source": [
    "## 설치 과정\n",
    "1. 라이센스 읽기<p>\n",
    "\n",
    "    ![img](figures/python/miniconda2.png)\n",
    "    - 엔터를 치면 라이센스 내용이 나온다. **`q`** 로 읽기 종료한다.\n",
    "    - **yes**를 입력해 라이센스 동의한다."
   ]
  },
  {
   "attachments": {},
   "cell_type": "markdown",
   "id": "5fab69c6-7c06-4d02-862f-ba3324940ef8",
   "metadata": {},
   "source": [
    "2. 설치 경로 설정<p>\n",
    "   \n",
    "    ![img](figures/python/miniconda3.png)\n",
    "    - **엔터**. 기본 설치 경로에 설치한다. "
   ]
  },
  {
   "cell_type": "markdown",
   "id": "9e5748c2-aac4-4f24-b7b8-a2c6feeccf57",
   "metadata": {},
   "source": [
    "3. conda initialize 설정<p>\n",
    "\n",
    "    ![img](figures/python/miniconda4.png)\n",
    "    - **yes**를 입력하고 엔터"
   ]
  },
  {
   "cell_type": "markdown",
   "id": "c68546ae-120e-4693-9332-69e9a8fe30c2",
   "metadata": {},
   "source": [
    "4. 설치 완료 후 작업\n",
    "    - 설정 파일 적용\n",
    "    - `source ~/.bashrc`\n",
    "5. conda tool을 update 한다.\n",
    "    - 가상환경이 활성화 되어있으면 비활성화 한다.\n",
    "        - `conda deactivate` \n",
    "    - `conda update conda`"
   ]
  },
  {
   "cell_type": "markdown",
   "id": "27323d68-3bb7-4ab2-acc6-7287e364e351",
   "metadata": {},
   "source": []
  },
  {
   "cell_type": "markdown",
   "id": "4194de5b-89d6-48b8-ba00-a18edc0648b6",
   "metadata": {},
   "source": [
    "# Linux에 Jupyter Lab 서버 설치"
   ]
  },
  {
   "cell_type": "markdown",
   "id": "25c1e1a7-1e8b-40b3-a959-b0bc881fdeee",
   "metadata": {},
   "source": [
    "1. jupyterlab 설치\n",
    "    - `pip install jupyterlab`\n",
    "2. jupyter lab 설정파일 생성\n",
    "    - `jupyter lab --generate-config`<p>\n",
    "\n",
    "    ![img](figures/python/jupyter1.png)\n",
    "\n",
    "3. password 생성\n",
    "    - ipython (ipython shell) 실행\n",
    "        ```python\n",
    "        from jupyter_server.auth import passwd\n",
    "        passwd()\n",
    "        ```\n",
    "    - password 입력\n",
    "    - **출력된 암호화된 password를 복사한다.**<p>\n",
    "      \n",
    "    ![img](figures/python/jupyter2.png)"
   ]
  },
  {
   "cell_type": "markdown",
   "id": "37e872f8-285f-4caa-8a8b-278219625509",
   "metadata": {},
   "source": [
    "4. `2`에서 생성된 설정파일을 열어서 설정한다.\n",
    "    - `vi /home/ubuntu/.jupyter/jupyter_notebook_config.py`\n",
    "    - `vi /home/ubuntu/.jupyter/jupyter_lab_config.py`\n",
    "        - `i` -> 아래내용 작성 -> `ESC` -> `:` -> `wq`\n",
    "       ```python\n",
    "        c.NotebookApp.ip = 'EC2 instance의 private ip'\n",
    "        c.NotebookApp.open_browser = False # 자동 브라우져 실행 되지 않도록 설정\n",
    "        c.NotebookApp.password = '3에서 저장한 password'\n",
    "        ```\n",
    "    - **예**\n",
    "        ```python\n",
    "        c.NotebookApp.ip = '172.31.11.152'\n",
    "        c.NotebookApp.open_browser = False\n",
    "        c.NotebookApp.password = 'argon2:$argon2id$v=19$m=10240,t=10,p=8$/xMXQkCkjHtidZhDeWJGTg$9zQR2OlX7DiAzWQ63BYNqck5eofbiA'\n",
    "        ```"
   ]
  },
  {
   "cell_type": "markdown",
   "id": "38865f3a-dd03-47da-b528-4c941ae4fbe5",
   "metadata": {},
   "source": [
    "5. 서버 실행\n",
    "    - `nohup jupyter lab &`\n",
    "      > nohup: 리눅스에서 터미널 세션 종료 후에도 백그라운드에서 프로세스를 계속 실행하게 하는 명령어     \n",
    "      > &: background 에서 실행하도록 한다.\n",
    "6. 웹 브라우저에서 요청\n",
    "    - `<EC2의 public ip>:8888`\n",
    "        - 예) 43.202.41.55:8888\n",
    "    - password 입력\n",
    "        - `3` 에서 입력한 password를 입력한다."
   ]
  },
  {
   "cell_type": "markdown",
   "id": "5121f663-aba7-4df4-bee5-6c7a5d64244a",
   "metadata": {},
   "source": []
  },
  {
   "cell_type": "markdown",
   "id": "73efb91c-d8a0-43bc-a777-89c03ec439d0",
   "metadata": {},
   "source": [
    "# VSCode를 이용해 EC2 instance 연결\n",
    "\n",
    "- VSCode의 **Remote-SSH** Extension을 이용해 EC2 instance에 연결해 Local 환경처럼 개발 할 수있다.\n",
    "- 프리티어 사양에서는 접속이 원활하지 않을 수있다."
   ]
  },
  {
   "cell_type": "markdown",
   "id": "32476f2f-cb91-4814-a051-4364d2562330",
   "metadata": {},
   "source": [
    "1. Remote-SSH 확장 설치\n",
    "    - VSCode에서 SSH를 이용해 원격으로 접속할 수있게 해주는 확장프로그램.\n",
    "      \n",
    "![img](figures/python/vscode1.png)"
   ]
  },
  {
   "cell_type": "markdown",
   "id": "3768c0df-e4eb-49c5-903f-fda2649d03ce",
   "metadata": {},
   "source": [
    "2. 왼쪽 하단에 **원격창 열기** 아이콘을 클릭한다.\n",
    "\n",
    "![img](figures/python/vscode2.png)"
   ]
  },
  {
   "cell_type": "markdown",
   "id": "29775f0c-1f8f-4fdd-829d-ae5353394f74",
   "metadata": {},
   "source": [
    "3. **\"Connect to Host...\"/\"호스트에 연결...\"** 선택\n",
    "\n",
    "![img](figures/python/vscode3.png)"
   ]
  },
  {
   "cell_type": "markdown",
   "id": "fb18264b-5f38-4a3e-a2cd-574289fa3cd3",
   "metadata": {},
   "source": [
    "4. **\"SSH 호스트 구성\"** 선택\n",
    "\n",
    "![img](figures/python/vscode4.png)"
   ]
  },
  {
   "cell_type": "markdown",
   "id": "c32552b4-991a-4b22-a820-6c7509184df7",
   "metadata": {},
   "source": [
    "5. **`사용자home\\.ssh\\config`** 파일선택\n",
    "\n",
    "![img](figures/python/vscode5.png)"
   ]
  },
  {
   "cell_type": "markdown",
   "id": "6d82226a-0953-4b8e-a47d-c65744a935eb",
   "metadata": {},
   "source": [
    "6. 연결설정\n",
    "```bash\n",
    "Host 설정이름\n",
    "    HostName EC2 public ip\n",
    "    User EC2 사용자\n",
    "    IdentityFile  ssh public key파일 경로\n",
    "```\n",
    "- 연결 설정을 여러개 만들 경우 위의 설정을 **아래 추가**한다.\n",
    "  \n",
    "![img](figures/python/vscode6.png)"
   ]
  },
  {
   "cell_type": "markdown",
   "id": "3305cfae-ea38-4bac-b2c5-82a9c269ce78",
   "metadata": {},
   "source": [
    "7. 왼쪽 하단에 원격창 열기 다시 실행\n",
    "    - **\"Connect to Host...\"/\"호스트에 연결...\"** 선택\n",
    "\n",
    "![img](figures/python/vscode7.png)"
   ]
  },
  {
   "cell_type": "markdown",
   "id": "36a0c0bc-f764-4887-845c-597b1b328fcd",
   "metadata": {},
   "source": [
    "8. `7`에서 등록한 Host 이름을 선택한다.\n",
    "\n",
    "![img](figures/python/vscode8.png)"
   ]
  },
  {
   "cell_type": "markdown",
   "id": "fa78e804-17e7-4f7c-90fb-e08438d84b5d",
   "metadata": {},
   "source": [
    "9. EC2 Instance의 O/S (Linux)를 선택한다.\n",
    "10. `계속` 을 선택한다. \n",
    "\n",
    "![img](figures/python/vscode9.png)"
   ]
  },
  {
   "cell_type": "markdown",
   "id": "24950afb-b71a-428c-a056-19ce9e546258",
   "metadata": {},
   "source": [
    "11. 연결 된 EC2 인스턴스에 VSCode 확장 프로그램을 설치 해야 한다.\n",
    "     - 파이썬 개발을 위해 **python**, **jupyter** 확장을 설치한다.\n",
    "\n",
    "![img](figures/python/vscode11.png)\n",
    "\n",
    "![img](figures/python/vscode10.png)"
   ]
  },
  {
   "cell_type": "markdown",
   "id": "b427ac78-cc16-4aa9-aee6-b567944b81ad",
   "metadata": {},
   "source": [
    "## SSH public key 파일 권한 설정\n",
    "\n",
    "- VSCode에서 EC2 연결 할 때 public key 권한 문제로 연결이 안될 경우 권한설정을 변경한다.\n",
    "\n",
    "1. **파일 > 오른쪽 마우스클릭 > 속성** 선택\n",
    "2. **보안 탭** 선택\n",
    "3. **고급** 선택\n",
    "\n",
    "![img](figures/python/ssh_key1.png)\n"
   ]
  },
  {
   "cell_type": "markdown",
   "id": "148e5f1e-ac21-411c-9514-2c0963bad74f",
   "metadata": {},
   "source": [
    "4. 하단의 **상속 사용 안 함** 선택\n",
    "\n",
    "![img](figures/python/ssh_key2.png)\n",
    "\n",
    "![img](figures/python/ssh_key3.png)"
   ]
  },
  {
   "cell_type": "markdown",
   "id": "05d4a401-befc-460a-ad30-4beab61eabd1",
   "metadata": {},
   "source": [
    "5. 사용 권한 **편집**\n",
    "\n",
    "![img](figures/python/ssh_key4.png)\n",
    "\n",
    "6. 기존 사용자 이름 **제거(R)** 후 **추가(D)** 선택 → **고급** 선택\n",
    "\n",
    "   \n",
    "![img](figures/python/ssh_key5.png)"
   ]
  },
  {
   "cell_type": "markdown",
   "id": "d9246845-17cf-4b5c-a6b2-22e148e33f69",
   "metadata": {},
   "source": [
    "7. 사용자 찾기\n",
    "    - 개체 유형: 사용자 선택\n",
    "    - 지금 찾기 클릭\n",
    "    - 검색 결과에 검색 된 **user 계정** 선택 후 **확인**\n",
    "\n",
    "![img](figures/python/ssh_key6.png)"
   ]
  },
  {
   "cell_type": "markdown",
   "id": "41e0e4e1-d406-4704-9979-b7cda1f5ec57",
   "metadata": {},
   "source": [
    "8. 모든 권한 주기\n",
    "\n",
    "![img](figures/python/ssh_key7.png)"
   ]
  },
  {
   "cell_type": "markdown",
   "id": "d4bedd98-7429-4c7f-8557-43b1a2a27bab",
   "metadata": {},
   "source": []
  }
 ],
 "metadata": {
  "kernelspec": {
   "display_name": "Python 3 (ipykernel)",
   "language": "python",
   "name": "python3"
  },
  "language_info": {
   "codemirror_mode": {
    "name": "ipython",
    "version": 3
   },
   "file_extension": ".py",
   "mimetype": "text/x-python",
   "name": "python",
   "nbconvert_exporter": "python",
   "pygments_lexer": "ipython3",
   "version": "3.12.4"
  }
 },
 "nbformat": 4,
 "nbformat_minor": 5
}
