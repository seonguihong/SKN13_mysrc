{
 "cells": [
  {
   "cell_type": "markdown",
   "id": "7aa92994-1e37-49c6-bcf9-6e8dd086c16d",
   "metadata": {},
   "source": [
    "# AWS EC2\n",
    "EC2(Elastic Compute Cloud)는 AWS(Amazon Web Services)에서 제공하는 클라우드 컴퓨팅 서비스로, 사용자에게 가상 서버를 임대해주는 서비스이다.\n",
    "\n",
    "## 주요 특징\n",
    "\n",
    "- **유연한 컴퓨팅 환경**\n",
    "    - 몇 분 내로 가상 서버를 시작하고 종료할 수 있다\n",
    "    - 필요에 따라 유연하게 컴퓨팅 성능을 확장하거나 축소할 수 있다.\n",
    "    - 인스턴스 유형, 운영체제, 소프트웨어 패키지를 선택할 수 있다.\n",
    "- **비용 효율성**\n",
    "    - 사용한 만큼만 비용을 지불한다.\n",
    "    - 초기 구입비나 설치비용이 없다.\n",
    "    - 필요한 용량만큼만 구매하여 비용을 최적화할 수 있다.\n",
    "- **보안성**\n",
    "    - VPC와 연동하여 강력한 네트워킹 기능을 제공한다.\n",
    "    - 보안 그룹을 통해 인바운드, 아웃바운드 트래픽을 제어할 수 있다.\n",
    "\n",
    "## 주요 구성요소\n",
    "\n",
    "- **인스턴스**\n",
    "    - EC2에서 생성한 가상 컴퓨팅 환경을 말한다.\n",
    "    - AWS는 다양한 인스턴스 유형(범용, 컴퓨팅 최적화, 메모리 최적화 등)을 제공한다.\n",
    "- **AMI (Amazon Machine Image)**\n",
    "    - 서버에 필요한 운영체제와 소프트웨어가 포함된 템플릿을 말한다.\n",
    "    - AWS에서 제공하는 이미지를 사용하거나 직접 생성할 수도 있다."
   ]
  },
  {
   "cell_type": "markdown",
   "id": "fe14f1fa-0029-4493-8107-052981302f93",
   "metadata": {},
   "source": [
    "# EC2 생성\n",
    "- **로그인** 후 검색(ALT+S)에서 **EC2**를 검색한다.\n",
    "\n",
    "![img](figures/EC2/EC2_생성0.png)"
   ]
  },
  {
   "cell_type": "markdown",
   "id": "79b23dbd-7cfa-4e68-998d-4b5c557be92c",
   "metadata": {},
   "source": [
    "- 리전을 **아시아 태평양 / 서울(ap-northeast-2)** 로 설정한다. (우측 상단)\n",
    "- **서비스들은 리전별로 생성**된다. 그래서 서울 리전에서 생성한 서비스들은 다른 리전에서는 보이지 않는다.\n",
    "\n",
    "![img](figures/EC2/EC2_생성1.png)"
   ]
  },
  {
   "cell_type": "markdown",
   "id": "b61c0008-00aa-40b4-be46-237f5e10c70b",
   "metadata": {},
   "source": [
    "- **\"인스턴스 시작\"** 을 선택한다.\n",
    "\n",
    "![img](figures/EC2/EC2_생성2.png)"
   ]
  },
  {
   "cell_type": "markdown",
   "id": "d758760e-9b82-4e7e-96d9-fe7ae6b74d47",
   "metadata": {},
   "source": [
    "- **\"이름 및 태그\"** 에 생성할 서버의 이름을 지정한다.\n",
    "    - 이 서버의 역할을 설명할 수있는 이름을 지정한다. (ex: dev-web-server: 개발 서버, prod-web-server: 운영서버) \n",
    "- **\"애플리케이션 및 OS이미지(AMI)\"** 에서 **OS**를 선택한다.\n",
    "    - **프리티어** 적용 가능한지 확인한다. \n",
    "\n",
    "> - **AWS 프리티어**\n",
    ">    - AWS의 다양한 서비스를 **무료**로 체험하고 사용할 수있도록 제공되는 혜택이다.\n",
    ">    - 종류\n",
    ">        - 12개월 무료:  AWS 계정 생성 후 12개월 동안 **정해진 사용한도 내에서** 무료로 사용할 수 있는 서비스들. (EC2, S3, RDS 등)\n",
    ">        - 상시 무료: 기간 제한 없이 **제한된 사용량 안에서** 무료로 사용할 수있는 서비스들. (DynamoDB, Lambda 등)\n",
    "\n",
    "\n",
    "![img](figures/EC2/EC2_생성3-1.png)"
   ]
  },
  {
   "cell_type": "markdown",
   "id": "32ec692a-7639-4e62-b9c4-2a0e261d3e29",
   "metadata": {},
   "source": [
    "- **인스턴스 유형**을 선택한다.\n",
    "    - 필요한 사양에 맞는 인스턴스를 선택한다.\n",
    "    - 인스턴스 유형은 대여하려는 서버의 하드웨어 사양(컴퓨팅, 메모리, 스토리지, 네트워크 성능 등)을 정의한 것이다.\n",
    "    - **프리티어 인스턴스**를 선택하면 제한된 용량안에서 무료로 사용할 수있다.\n",
    "\n",
    "![img](figures/EC2/EC2_생성3-2.png)"
   ]
  },
  {
   "cell_type": "markdown",
   "id": "9e7e2745-1d05-443f-b810-d49de8ffee66",
   "metadata": {},
   "source": [
    "- **키 페어**\n",
    "    - 키 페어를 생성 또는 미리 생성된 키페어 선택\n",
    "    - 키 페어는 **SSH나 AWS 콘솔로 EC2 인스턴스에 연결할 때 사용할 인증키**이다.\n",
    "    - Public Key와 Private Key로 구성된다.\n",
    "    - 서버(AWS EC2 인스턴스)는 Public Key를 가지고 있고, 사용자는 Private Key를 보유한다.\n",
    "    - Private Key는 생성 시 한 번만 다운로드할 수 있으므로, 반드시 안전하게 보관해야 한다. 분실 시 새로운 키 페어를 생성한 후, 인스턴스의 authorized_keys 파일에 새 Public Key를 수동으로 추가해야 한다.\n",
    "    - 사용자가 서버에 접속할 때 Private Key를 이용해 인증한다.\n",
    "        - 사용자는 접속 할 때 Private Key로 서버에서 제공한 데이터에 서명(암호화)을 하며, 서버는 Public Key를 이용해 서명의 유효성을 확인하여 인증한다.\n",
    "\n",
    "\n",
    "- **새 키페어 생성** 선택\n",
    "  \n",
    "![img](figures/EC2/EC2_생성3-3.png)"
   ]
  },
  {
   "cell_type": "markdown",
   "id": "696b166c-af99-4c49-ae83-696c7aa2d1d9",
   "metadata": {},
   "source": [
    "- **키 페어 이름** 등록\n",
    "    - 어떤 인스턴스의 key인지를 명시한는 것이 좋다.\n",
    "- 파일 형식을 **.pem** 를 선택\n",
    "- 생성된 **public key 파일이 다운로드** 된다.\n",
    "\n",
    "![img](figures/EC2/EC2_생성3-4.png)"
   ]
  },
  {
   "cell_type": "markdown",
   "id": "c82f9a3c-e161-435e-9993-68a0e426cd62",
   "metadata": {},
   "source": [
    "- 네트워크 설정\n",
    "    - 보안 그룹을 설정한다.\n",
    "        - `편집` 선택\n",
    "        - 이름과 설명을 작성한다. 이름은 어떤 보안 설정인지 알 수 있게 지정해준다.\n",
    "    - **보안그룹 규칙 추가** 클릭\n",
    "        - EC2 접근 규칙을 지정한다.\n",
    "    \n",
    "![img](figures/EC2/EC2_생성3-5.png)"
   ]
  },
  {
   "cell_type": "markdown",
   "id": "e3ae994e-ec2e-4d06-9e20-e6b678db2e15",
   "metadata": {},
   "source": [
    "![img](figures/EC2/EC2_생성3-6.png)"
   ]
  },
  {
   "cell_type": "markdown",
   "id": "ea6fffc7-d2d0-4fc2-aeff-71887917d1c0",
   "metadata": {},
   "source": [
    "> - **보안 그룹(Security Group)**\n",
    ">     -  보안 그룹은 네트워크 방화벽으로 AWS 클라우드에서의 네트워크 보안을 설정한다. \n",
    ">     -  이 보안 규칙에는 **인바운드 트래픽**(외부에서 EC2 인스턴스로 보내는 트래픽)에서 어떤 트래픽만 허용할 지와, **아웃바운드 트래픽**(EC2 인스턴스에서 외부로 나가는 트래픽)에서 어떤 트래픽만 허용할 지 설정할 수 있다.\n",
    ">     -  보안 그룹은 허용할 **IP 범위**와 **포트(port)**를 설정한다."
   ]
  },
  {
   "cell_type": "markdown",
   "id": "a951b0c3-c163-4c7a-8813-aa3856ced881",
   "metadata": {},
   "source": [
    "- **스토리지** 설정\n",
    "    - 인스턴스에 추가할 HDD(SSD) 설정이다.\n",
    "    - 유형 gp2, gp3(최신), 용량 30GB 까지 **프리터어 적용**을 받는다.\n",
    "    - **스토리지는 인스턴스를 중지 해도 과금이 된다**.\n",
    "    - \n",
    "![img](figures/EC2/EC2_생성3-7.png)"
   ]
  },
  {
   "cell_type": "markdown",
   "id": "56ebd733-26c9-4dfb-8b06-5ab8eca316c9",
   "metadata": {},
   "source": [
    "- **인스턴스 시작** 을 클릭하여 인스턴스를 생성한다.\n",
    "\n",
    "![img](figures/EC2/EC2_생성3-8.png)"
   ]
  },
  {
   "cell_type": "markdown",
   "id": "6076853e-db2e-42e8-a4c4-c6b474328dfe",
   "metadata": {},
   "source": [
    "- EC2 **인스턴스** 페이지에서 생성된 인스턴스의 정보를 확인할 수 있다.\n",
    "- 인스턴스 상태\n",
    "    -  **인스턴스 중지**: 인스턴스(컴퓨터) 끄기. 중지하면 과금 되지 않는다. 단 스토리지의 경우는 중지해도 과금 된다.\n",
    "    -  **인스턴스 시작**: 중지된 인스턴스(컴퓨터) 켜기\n",
    "    -  **인스턴스 종료**(삭제): 인스턴스를 완전히 삭제한다. 과금이 안되게 하려면 삭제해야한다.\n",
    "      \n",
    "![img](figures/EC2/EC2_생성3-9.png)"
   ]
  },
  {
   "cell_type": "markdown",
   "id": "012ce43f-2df5-405e-a9db-9a76aaceb943",
   "metadata": {},
   "source": []
  },
  {
   "cell_type": "markdown",
   "id": "5fcd1b4f-35c6-42f3-aa44-7806f3d8cb46",
   "metadata": {},
   "source": [
    "# EC2 Instance 접속\n",
    "- EC2 Instance Connection을 이용해 Web 상에서 직접 연결\n",
    "- SSH Client를 이용해 연결\n",
    "  \n",
    "## EC2 Instance Connection 이용해 Web 상에서 직접 연결\n",
    "1. 실행 중인 EC2 Instance를 선택하고 **연결** 버튼 클릭\n",
    "\n",
    "![img](figures/EC2/EC2연결1.png)\n",
    "\n",
    "---\n",
    "\n",
    "2. **연결** 선택\n",
    "    - 연결 후 실행된 teminal에서 작업을 한다.\n",
    "\n",
    "![img](figures/EC2/EC2연결2.png)\n",
    "---\n",
    "3. 우분투 업데이트\n",
    "\n",
    "- 처음 연결 후 우분투(O/S)를 업데이트 한다. (windows update 처럼)\n",
    "- `sudo apt update`\n",
    "    - 패키지 목록을 업데이트 해서 새버전이 있는지 확인한다. \n",
    "- `sudo apt upgrade`\n",
    "    - 모든 패키지들을 최신 버전으로 업그레이드 한다. "
   ]
  },
  {
   "cell_type": "markdown",
   "id": "49b1d869-06dc-42cb-874d-6348fa4fe407",
   "metadata": {},
   "source": [
    "## Teminal에서 SSH client로 접속하기\n",
    "\n",
    "### SSH\n",
    "\n",
    "- SSH(Secure Shell)는 네트워크를 통해 다른 컴퓨터에 안전하게 접속하여 원격 제어, 파일 전송 등을 수행할 수 있게 해주는 보안 프로토콜이다.\n",
    "- 데이터 암호화를 통해 통신 내용을 보호하고 대칭키, 비대칭키, 해시 알고리즘을 사용하여 인증 및 암호화 수행하여 기존의 Telnet, Rlogin, RSH 등 평문 전송 프로토콜의 보안 취약점을 해결했다. \n",
    "- 작동 방식\n",
    "    - 클라이언트-서버 모델로 동작한다.\n",
    "    - 기본적으로 TCP 프로토콜 기반이며 22번 포트(port)를 사용한다.\n",
    "    - 공개키(Public Key)와 개인키(Private Key) 쌍을 이용한 인증 방식 사용한다.\n",
    "- Linux와 Mac OS에는 기본으로 SSH 클라이언트가 설치되어 있다. \n",
    "- Windows의 경우 별도의 SSH 클라이언트 설치 필요하다. "
   ]
  },
  {
   "cell_type": "markdown",
   "id": "95f1b3ba",
   "metadata": {},
   "source": [
    "### Teminal에서 SSH client로 접속하기\n",
    "\n",
    "OS에 내장되있는 openssh client를 이용해 EC2 서버에 접속한다.\n",
    "\n",
    "- EC2 서버의 **퍼블릭 IP를 확인한다.**\n",
    "\n",
    "<img src=\"figures/EC2/EC2연결3.png\" width=60%>\n",
    "\n",
    "- MAC, Linux에서는 pem 파일의 권한을 사용자 읽기 권한으로 설정한다.\n",
    "    - chmod 400 pem파일경로\n",
    "- 명령어\n",
    "    - `ssh -i \"pem 파일 경로\" 서버계정@Public_IP`\n",
    "    - ex)\n",
    "        - `ssh -i \"C:\\ssh_key\\my_key.pem\" ubuntu@54.181.110.230`\n",
    "    - 최초 연결시 다음 메세지가 뜨면 **`yes`** 를 입력한다.\n",
    "        - 연결하려는 서버가 신뢰할 수있는 서버인지 확인하는 것.\n",
    "\n",
    "    <img src=\"figures/EC2/EC2연결4.png\" width=60%>"
   ]
  },
  {
   "cell_type": "code",
   "execution_count": null,
   "id": "f73016bf",
   "metadata": {
    "vscode": {
     "languageId": "plaintext"
    }
   },
   "outputs": [],
   "source": [
    "ssh -i \"C:\\Users\\tjddm\\Documents\\SKN13_mysrc\\18_AWS\\SKN13-key.pem\" ubuntu@52.78.104.128"
   ]
  },
  {
   "cell_type": "markdown",
   "id": "13645faa",
   "metadata": {},
   "source": []
  },
  {
   "cell_type": "code",
   "execution_count": null,
   "id": "23a9059d",
   "metadata": {
    "vscode": {
     "languageId": "plaintext"
    }
   },
   "outputs": [],
   "source": []
  },
  {
   "cell_type": "markdown",
   "id": "300be218-03cd-4297-a781-1fc13d875438",
   "metadata": {},
   "source": [
    "# 보안그룹의 인바운드(Inbound) 규칙 추가하기 \n",
    "\n",
    "- 외부에서 EC2 instance에서 실행 되는 서버에 접속할 수있도록 **인바운드** 설정(포트열기)을 해준다.\n",
    "    - 처음 EC2 instance 생성 할 때 설정 할 수 있다.\n",
    "    - 생성시 설정하지 않은 경우 추가할 수 있다. 이 작업을 인바운드 설정을 통해 한다. "
   ]
  },
  {
   "cell_type": "markdown",
   "id": "f0d12717-272b-4e61-b6cd-1af19e387df9",
   "metadata": {},
   "source": [
    "1. 왼쪽 메뉴에서 **네트워크 및 보안 > 보안 그룹** 을 선택한다.\n",
    "1. EC2 instance 생성할 때 만든 보안 그룹 설정을 선택한다.\n",
    "\n",
    "![img](figures/EC2/inbound1.png)"
   ]
  },
  {
   "cell_type": "markdown",
   "id": "56313971-a17d-4cd0-aa88-48314c3911d7",
   "metadata": {},
   "source": [
    "3. **인바운드 규칙 편집** 선택\n",
    "   \n",
    "![img](figures/EC2/inbound2.png)"
   ]
  },
  {
   "cell_type": "markdown",
   "id": "edfc73bf-f9cf-405b-ae37-cec95d92674b",
   "metadata": {},
   "source": [
    "4. **규칙 추가** 클릭 -> 규칙 설정\n",
    "    - **유형**: 사용자 지정 TCP\n",
    "    - **포트 범위**: 열어줄 포트번호 설정 (jupyterlab: 8888, streamlit: 8501, django: 8000)\n",
    "    - **소스**: Anywhere-IPv4 선택\n",
    "\n",
    "![img](figures/EC2/inbound3.png)"
   ]
  },
  {
   "cell_type": "markdown",
   "id": "cc475536-bb82-433b-b528-9adf05f06a4d",
   "metadata": {},
   "source": [
    "5. 확인\n",
    "    - Name 을 변경할 수 있다. (마우스를 Name부분에 올리면 편집 버튼이 생긴다.)\n",
    "  \n",
    "![img](figures/EC2/inbound4.png)"
   ]
  }
 ],
 "metadata": {
  "kernelspec": {
   "display_name": "Python 3 (ipykernel)",
   "language": "python",
   "name": "python3"
  },
  "language_info": {
   "codemirror_mode": {
    "name": "ipython",
    "version": 3
   },
   "file_extension": ".py",
   "mimetype": "text/x-python",
   "name": "python",
   "nbconvert_exporter": "python",
   "pygments_lexer": "ipython3",
   "version": "3.12.4"
  }
 },
 "nbformat": 4,
 "nbformat_minor": 5
}
