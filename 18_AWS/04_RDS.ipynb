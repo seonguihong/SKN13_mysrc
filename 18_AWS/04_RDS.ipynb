{
 "cells": [
  {
   "cell_type": "markdown",
   "id": "b7e4de3b-77c8-4bd9-994e-0dbb753a71d5",
   "metadata": {},
   "source": [
    "# RDS (Relational Database Service)\n",
    "\n",
    "- 다양한 관계형 데이터베이스 서비스를 대여해서 사용할 수있게 해 주는 AWS 서비스.\n",
    "\n",
    "> 2024년 2월 부터 RDS public IP로 연결하도록 설정한 경우 프리티어에서도 과금이 된다.     \n",
    "> RDS에 public ip를 할당하지 않고 private ip로 내부에서 연결할 경우 프리티어에서 과금되지 않는다."
   ]
  },
  {
   "cell_type": "markdown",
   "id": "6a30a3e6-c903-43c0-a6b0-e51ac4779bce",
   "metadata": {},
   "source": [
    "## EC2에 데이터베이스를 설치하지 않고 RDS에 분리하여 설치하는 이유\n",
    "\n",
    "1. **관리 편의성**  \n",
    "   - RDS는 AWS에서 데이터베이스 관리(패치, 백업, 복구 등)를 자동화.  \n",
    "   - EC2에 설치하면 직접 관리해야 하며 복잡성이 증가.\n",
    "2. **고가용성**  \n",
    "   - RDS는 멀티 AZ 배포를 지원하여 장애 발생 시 자동으로 복구.  \n",
    "   - EC2는 고가용성을 직접 설계해야 하며 추가 비용과 시간이 소요.\n",
    "3. **스케일링 용이성**  \n",
    "   - RDS는 클릭 몇 번으로 CPU, 메모리, 스토리지 크기 조정 가능.  \n",
    "   - EC2에선 수동으로 서버를 업그레이드해야 하며 다운타임이 발생.\n",
    "4. **보안**  \n",
    "   - RDS는 자동으로 데이터 암호화, IAM 통합, 네트워크 격리를 제공.  \n",
    "   - EC2에서는 보안을 직접 설정해야 하며 실수 가능성 존재.\n",
    "5. **비용 효율성**  \n",
    "   - RDS는 관리 비용과 운영 시간을 줄이는 데 유리.  \n",
    "   - EC2는 운영 부담이 커서 장기적으로 비용이 더 들 수 있음.\n",
    "6. **백업과 복구**  \n",
    "   - RDS는 자동 스냅샷 및 Point-in-Time 복구 제공.  \n",
    "   - EC2는 백업을 직접 설정하고 관리해야 함."
   ]
  },
  {
   "cell_type": "markdown",
   "id": "80904df4-e3a7-48fc-aec1-6f134a54c4c3",
   "metadata": {},
   "source": [
    "# RDS에 Database 생성"
   ]
  },
  {
   "cell_type": "markdown",
   "id": "71d4f352-9f8c-4ebf-9d7b-c8a3d43a519b",
   "metadata": {},
   "source": [
    "- 검색에서 RDS 조회\n",
    "- 리전 확인 한다. EC2와 같은 리전에 생성해야 한다.\n",
    "  \n",
    "![img](figures/rds/rds1.png)"
   ]
  },
  {
   "cell_type": "markdown",
   "id": "00669195-7aa4-40b1-8eda-895a05d763c1",
   "metadata": {},
   "source": [
    "- 대시 보드에서 **데이터베이스 생성** 클릭한다.\n",
    "\n",
    "![img](figures/rds/rds2.png)"
   ]
  },
  {
   "cell_type": "markdown",
   "id": "cdab98e1-453e-4e3d-8290-65b4159dc647",
   "metadata": {},
   "source": [
    "## 데이터베이스 생성 설정\n",
    "- 생성하는 Database와 연결할 EC2 instance를 실행한 뒤 생성한다.\n",
    "    - 생성하는 DB를 EC2와 연결 설정하기 위해서는 EC2 instance가 실행 중이어야 한다.\n",
    " \n",
    "1. **표준 생성** 선택\n",
    "2. 엔진 옵션\n",
    "   - 설치할 DBMS를 선택한다. (mysql 선택)\n",
    "\n",
    "![img](figures/rds/rds3.png)"
   ]
  },
  {
   "cell_type": "markdown",
   "id": "4e50649b-65d5-4dd6-a6b6-7d3c3f4a2e81",
   "metadata": {},
   "source": [
    "3. **템플릿**: 프리티어 선택\n",
    "\n",
    "![img](figures/rds/rds4.png)"
   ]
  },
  {
   "cell_type": "markdown",
   "id": "af46ebcc-90e8-4c4a-9bc5-083f6b568dbf",
   "metadata": {},
   "source": [
    "4. 가용성 및 내구성\n",
    "   - 기본 설정 그대로 둔다."
   ]
  },
  {
   "cell_type": "markdown",
   "id": "c101ea9b-81ee-4fe2-a215-a6fc2a948732",
   "metadata": {},
   "source": [
    "5. **설정**\n",
    "   - **DB instance 식별자** 입력\n",
    "       - 생성된 DB instance의 이름을 설정한다.\n",
    "    - **자격 증명 설정**\n",
    "        - **마스터(Root) 계정 설정**\n",
    "        - **마스터 사용자 이름**: user name\n",
    "        - **마스터 암호**: password   \n",
    "\n",
    "![img](figures/rds/rds5.png)"
   ]
  },
  {
   "cell_type": "markdown",
   "id": "b3b8e929-1fd0-48b9-a9dd-b28ca0fb80de",
   "metadata": {},
   "source": [
    "6. **인스턴스 구성**\n",
    "   - 기본설정 그대로 둔다."
   ]
  },
  {
   "cell_type": "markdown",
   "id": "27e5a08d-cc14-4533-b5dd-858172675497",
   "metadata": {},
   "source": [
    "7. **스토리지**\n",
    "   - RDS도 서버 컴퓨터를 빌리는 것이다. 거기의 저장장치(스토리지) 설정\n",
    "   - 기본설정 그대로 둔다"
   ]
  },
  {
   "cell_type": "markdown",
   "id": "29efb816-ea10-4cde-ad98-e7eb70cda03b",
   "metadata": {},
   "source": [
    "8. **연결** (네트워크 설정)\n",
    "    - **컴퓨팅 리소스**에서 **EC2 컴퓨팅 리소스에 연결** 선택한다.\n",
    "        - 생성되는 Database 서버를 public ip로 외부에서 바로 연결 할 수있게 하려면 **EC2 컴퓨팅 리소스에 연결 안 함** 을 선택하고 아래 **퍼블릭 엑세스** 설정을 **예**로 선택하면 된다. \n",
    "    - EC2 인스턴스에서 EC2에서 생성한 instance 를 선택한다.\n",
    "    - 나머지는 기본설정 그대로 둔다.\n",
    "      \n",
    "![img](figures/rds/rds6.png)"
   ]
  },
  {
   "cell_type": "markdown",
   "id": "4ad9e75c-bbc7-4fbf-a951-e87a71362c92",
   "metadata": {},
   "source": [
    "9. 나머지는 기본 설정 그대로 둔다.\n",
    "10. 맨 아래 **데이터베이스 생성** 버튼 클릭"
   ]
  },
  {
   "cell_type": "markdown",
   "id": "2ca3a8c4-190e-45e3-a3d5-27c6d274a7b5",
   "metadata": {},
   "source": []
  },
  {
   "cell_type": "markdown",
   "id": "ce093e13-278f-4ca9-b8e7-ad5e72507eaa",
   "metadata": {},
   "source": [
    "# Database 연결하기\n",
    "- EC2 instance에서 연결한다."
   ]
  },
  {
   "attachments": {},
   "cell_type": "markdown",
   "id": "b636a007-8c21-4a52-98ac-6a6896910da9",
   "metadata": {},
   "source": [
    "- 생성된 DB를 선택한 뒤 **앤드 포인트 및 포트를 확인한다.**\n",
    "    - **앤드포인트** 복사한다. \n",
    "\n",
    "![img](figures/rds/rds7.png)\n",
    "\n",
    "---\n",
    "\n",
    "![img](figures/rds/rds8.png)"
   ]
  },
  {
   "cell_type": "markdown",
   "id": "9df83149-e199-4e76-bc27-5e1a15ee5822",
   "metadata": {},
   "source": [
    "- EC2 연결 후 mysql 설치\n",
    "    - `sudo apt install mysql-client`"
   ]
  },
  {
   "cell_type": "markdown",
   "id": "2a825a44-98c6-47fc-84c1-d02db7729f6f",
   "metadata": {},
   "source": [
    "- mysql 서버 접속\n",
    "    -  `mysql -u 계정 -p -h 앤드포인트`\n",
    "    -  `mysql -u admin -p -h dev-web-database.cfqi2age4ixs.ap-northeast-2.rds.amazonaws.com`\n",
    "        - 위 명령어 실행 후 password를 입력하면 연결된다.   "
   ]
  },
  {
   "cell_type": "code",
   "execution_count": null,
   "id": "efc84ce2-ed49-482c-b75e-87cb34eda9b9",
   "metadata": {},
   "outputs": [],
   "source": []
  }
 ],
 "metadata": {
  "kernelspec": {
   "display_name": "Python 3 (ipykernel)",
   "language": "python",
   "name": "python3"
  },
  "language_info": {
   "codemirror_mode": {
    "name": "ipython",
    "version": 3
   },
   "file_extension": ".py",
   "mimetype": "text/x-python",
   "name": "python",
   "nbconvert_exporter": "python",
   "pygments_lexer": "ipython3",
   "version": "3.12.2"
  }
 },
 "nbformat": 4,
 "nbformat_minor": 5
}
