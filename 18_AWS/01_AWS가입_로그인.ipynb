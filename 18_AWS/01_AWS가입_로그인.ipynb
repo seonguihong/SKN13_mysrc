{
 "cells": [
  {
   "cell_type": "markdown",
   "id": "c1ff6b1d-b1bf-4cb0-9302-6a4df11064b6",
   "metadata": {},
   "source": [
    "# 클라우드(Cloud) 개요\n",
    "- 클라우드는 인터넷을 통해 컴퓨팅 자원과 서비스를 제공하는 IT 환경을 의미한다.\n",
    "- 사용자는 물리적 하드웨어를 직접 소유하지 않고도 필요한 IT 리소스에 온디맨드(On-Demand) 방식으로 접근할 수 있다.\n",
    "    - 클라우드는 사용자가 **필요한 시점에 필요한 만큼**의 IT 리소스(서버, 스토리지 등)를 대여해서 사용할 수 있는 서비스를 제공한다.\n",
    "    - 대여 비용은 **사용한 만큼**만 지불하기 때문에 초기 투자 비용 없이도 서비스를 시작할 수 있다.\n",
    "\n",
    "    > - **온 디맨드(On-Demand) 방식**\n",
    "    >     - 사용자의 요구에 따라 즉시 서비스나 콘텐츠를 제공하는 방식이다.\n",
    "    >     - Cloud 서비스는 필요할 때 즉시 컴퓨팅 자원(서버, 스토리지, 네트워크)등을 제공하고 사용량 만큼 금액을 지불하는 On-Demand 방식 서비스이다.\n",
    "    > - **온 프레미스(On-Premises) 방식**\n",
    "    >     - On-premises는 기업이나 사용자가 직접 소유한 물리적 인프라를 기반으로 자체적으로 구축 및 운영하는 방식을 말한다.\n",
    "\n",
    "## Cloud 서비스 유형\n",
    "- **IaaS (Infrastructure as a Service)**  \n",
    "    - 가상화된 컴퓨팅 자원 제공.  \n",
    "    - **서버, 스토리지, 네트워크 등 하드웨어 인프라를 가상화하여 제공한다.**  \n",
    "    - 사용자가 운영체제(OS) 및 애플리케이션을 직접 설치하고 관리해야 한다.  \n",
    "    - 예: AWS EC2, Microsoft Azure Virtual Machines, Google Compute Engine.\n",
    "- **PaaS (Platform as a Service)**  \n",
    "    - 개발 및 배포를 위한 플랫폼 제공.  \n",
    "    - **IaaS에 운영체제(OS), 런타임 환경, 개발 도구, 데이터베이스 등 개발 환경을 포함하여 제공한다.**\n",
    "          - 플랫폼 제공뿐만 아니라 운영체제(OS) 업데이트, 보안 설정 등 유지관리도 제공업체가 담당한다.\n",
    "    - **사용자는 애플리케이션 코드를 개발하고 배포하는 데만 집중한다.**\n",
    "    - 예: Google App Engine, AWS Elastic Beanstalk, Microsoft Azure App Services.\n",
    "- **SaaS (Software as a Service)**  \n",
    "    - 클라우드 기반 소프트웨어 애플리케이션 제공.  \n",
    "    - **완전히 관리된 소프트웨어를 인터넷을 통해 제공한다.**  \n",
    "    - 사용자는 소프트웨어 사용에만 집중하고, 인프라, 운영체제(OS), 보안, 업데이트 등은 제공업체가 관리한다.  \n",
    "    - 예: Google Workspace(Gmail, Google Drive), Microsoft 365, Dropbox.\n",
    "- **핵심 차이:**  \n",
    "    - **IaaS:** 하드웨어만 제공, 운영체제 및 소프트웨어 사용자가 설치 하고 관리.  \n",
    "    - **PaaS:** 운영체제 및 개발 환경까지 제공.  \n",
    "    - **SaaS:** 소프트웨어 완제품 제공.  \n",
    "\n",
    "## 클라우드의 장점\n",
    "- **비용 절감**\n",
    "    - 초기 인프라 구축 비용 감소.\n",
    "    - 유지보수 및 운영 비용 최소화.\n",
    "- **효율적인 운영**\n",
    "    - 필요에 따라 자원을 신속하게 확장하거나 축소할 수 있다.\n",
    "    - 자동화된 유지보수 및 업데이트.\n",
    "    - 글로벌 접근성 제공.\n",
    "- **기술적 이점**\n",
    "    - 높은 가용성과 안정성.\n",
    "    - 자동 백업 및 재해 복구 기능 제공.\n",
    "    - 최신 기술 활용 용이.\n",
    "\n",
    "## 대표적인 클라우드 서비스\n",
    "- [Amazon Web Services (AWS)](https://aws.amazon.com/)\n",
    "- [Microsoft Azure](https://azure.microsoft.com/)\n",
    "- [Google Cloud Platform (GCP)](https://cloud.google.com/)\n",
    "- [Oracle Cloud Infrastructure (OCI)](https://www.oracle.com/cloud/)"
   ]
  },
  {
   "cell_type": "markdown",
   "id": "72f98e0a-8348-43d1-868a-1d1ef2911741",
   "metadata": {},
   "source": [
    "# AWS(Amazon Web Services)\n",
    "\n",
    "AWS(Amazon Web Services)는 아마존(Amazon)이 제공하는 클라우드 컴퓨팅 플랫폼으로, 전 세계적으로 가장 널리 사용되는 클라우드 서비스 중 하나이다.     \n",
    "다양한 IT 인프라와 애플리케이션 서비스를 제공하며, 사용자는 필요에 따라 컴퓨팅, 스토리지, 데이터베이스, 네트워킹, 보안, AI/ML 등을 이용할 수 있다.\n",
    "\n",
    "## 주요 AWS 서비스\n",
    "### 1. **컴퓨팅(Computing)**\n",
    "   - **Amazon EC2 (Elastic Compute Cloud)**: 가상 서버 인스턴스를 제공하는 서비스로, 사용자가 원하는 크기의 컴퓨팅 자원을 생성하고 운영할 수 있다.\n",
    "   - **AWS Lambda**: 서버리스 컴퓨팅 서비스로, 코드를 업로드하면 요청에 따라 자동으로 실행된다. 서버 관리가 필요 없다.\n",
    "   - **Amazon Lightsail**: 간편하게 웹 애플리케이션을 배포할 수 있는 가상 서버 서비스.\n",
    "\n",
    "### 2. **스토리지(Storage)**\n",
    "   - **Amazon S3 (Simple Storage Service)**: 객체 스토리지 서비스로, 대용량의 데이터를 저장하고 인터넷을 통해 접근할 수 있다.\n",
    "   - **Amazon EBS (Elastic Block Store)**: EC2 인스턴스를 위한 블록 스토리지.\n",
    "   - **Amazon Glacier**: 장기 데이터 아카이빙을 위한 저비용 스토리지 서비스.\n",
    "\n",
    "### 3. **데이터베이스(Database)**\n",
    "   - **Amazon RDS (Relational Database Service)**: 관리형 관계형 데이터베이스 서비스로, MySQL, PostgreSQL, Oracle, SQL Server 등을 지원한다.\n",
    "   - **Amazon DynamoDB**: NoSQL 데이터베이스로, 빠른 성능과 자동 확장성을 제공한다.\n",
    "   - **Amazon Redshift**: 데이터 웨어하우스 서비스로, 대규모 데이터 분석에 사용된다.\n",
    "\n",
    "### 4. **네트워킹(Networking)**\n",
    "   - **Amazon VPC (Virtual Private Cloud)**: 사용자 지정 가상 네트워크를 생성하여 AWS 리소스를 보호하고 구성할 수 있다.\n",
    "   - **Elastic Load Balancing (ELB)**: 트래픽을 여러 EC2 인스턴스에 분산시켜 고가용성을 보장한다.\n",
    "   - **AWS Direct Connect**: 온프레미스 데이터센터와 AWS를 직접 연결하는 서비스.\n",
    "\n",
    "### 5. **보안 및 식별(Security & Identity)**\n",
    "   - **AWS IAM (Identity and Access Management)**: 사용자 및 권한을 관리하는 서비스.\n",
    "   - **AWS KMS (Key Management Service)**: 암호화 키를 관리하고 데이터 보호를 지원한다.\n",
    "   - **Amazon GuardDuty**: 위협 탐지 서비스.\n",
    "\n",
    "### 6. **분석 및 AI/ML(Analytics & AI/ML)**\n",
    "   - **Amazon Athena**: S3에 저장된 데이터를 SQL 쿼리로 분석할 수 있는 서비스.\n",
    "   - **Amazon SageMaker**: 머신러닝 모델을 쉽게 구축, 학습, 배포할 수 있는 서비스.\n",
    "   - **AWS Glue**: 데이터 준비 및 ETL(Extract, Transform, Load) 서비스.\n",
    "\n",
    "### 7. **개발 및 관리 도구(Developer & Management Tools)**\n",
    "   - **AWS CloudFormation**: 인프라를 코드로 관리할 수 있는 IaC(Infrastructure as Code) 서비스.\n",
    "   - **AWS CodePipeline**: CI/CD(Continuous Integration/Continuous Deployment) 서비스.\n",
    "   - **Amazon CloudWatch**: 모니터링 및 로깅 서비스."
   ]
  },
  {
   "cell_type": "markdown",
   "id": "b308c04c-c3fa-4027-b771-8bc8a183fde2",
   "metadata": {},
   "source": [
    "# AWS 가입 "
   ]
  },
  {
   "cell_type": "markdown",
   "id": "7cb74fe7-426c-4a35-8e57-fbf18423e6f8",
   "metadata": {},
   "source": [
    "- https://aws.amazon.com/ko/\n",
    "- 우쪽 상단 **\"AWS 계정 생성\"** 클릭\n",
    "\n",
    "![img](figures/가입/가입1.png)"
   ]
  },
  {
   "cell_type": "markdown",
   "id": "44a998cc-8d8c-4c6d-9cc5-72352efe574f",
   "metadata": {},
   "source": [
    "- 영문으로 나올 경우 왼쪽 상단에서 **\"한국어\"** 선택\n",
    "- 가입 Email 주소와 사용자이름(id) 입력 후 **\"이메일 확인\"** 클릭\n",
    "- 등록한 **Email 주소로 인증 코드가 발송**된다. Email로 전송된 인증 코드 확인 후 입력\n",
    "\n",
    "![img](figures/가입/가입2.png)"
   ]
  },
  {
   "cell_type": "markdown",
   "id": "1bc16f23-8b7c-4bd4-8950-515801fa0ef4",
   "metadata": {},
   "source": [
    "- 인증 성공하면 다음 화면이 나옴\n",
    "- 사용할 패스워드 등록 후 **\"계속\"** 클릭\n",
    "\n",
    "![img](figures/가입/가입3.png)"
   ]
  },
  {
   "cell_type": "markdown",
   "id": "6eb08dc9-e355-44be-a6ae-2ddb58581db9",
   "metadata": {},
   "source": [
    "- 연락처 정보 등록 \n",
    "    - 개인 선택\n",
    "    - 전화번호의 국가코드와 국가 또는 리전은 **대한민국** 선택\n",
    "    - **시,도 또는 리전** 항목은 **영문**으로 입력한다.\n",
    "      \n",
    "![img](figures/가입/가입4.png)"
   ]
  },
  {
   "cell_type": "markdown",
   "id": "fd4d7cf1-bb7d-4a03-b095-4ac885544fa4",
   "metadata": {},
   "source": [
    "- 신용카드 정보 입력\n",
    "\n",
    "![img](figures/가입/가입5.png)"
   ]
  },
  {
   "cell_type": "markdown",
   "id": "88e70bbc-e64e-4f8e-9156-f8b20a56d644",
   "metadata": {},
   "source": [
    "- 카드 인증\n",
    "    - 카드 비밀번호와 생년월일 입력 \n",
    "\n",
    "![img](figures/가입/가입6.png)"
   ]
  },
  {
   "cell_type": "markdown",
   "id": "ab2ace90-787e-46d0-b2ae-222c8eb47ac7",
   "metadata": {},
   "source": [
    "- 전화번호 인증\n",
    "    - 휴대번호 입력후 **\"SMS 전송\"** 클릭\n",
    "    - 휴대폰으로 인증 번호가 가\n",
    "\n",
    "![img](figures/가입/가입7.png)"
   ]
  },
  {
   "cell_type": "markdown",
   "id": "3c1c8c7d-9f0f-450c-96d6-ee46d4822168",
   "metadata": {},
   "source": [
    "- 휴대폰으로 전송된 인증 번호 입력한다.\n",
    "\n",
    "![img](figures/가입/가입8.png)"
   ]
  },
  {
   "cell_type": "markdown",
   "id": "854273a3-5f33-41e6-b6d0-72a399ce1ee7",
   "metadata": {},
   "source": [
    "- 가입 완료\n",
    "\n",
    "![img](figures/가입/가입9.png)"
   ]
  },
  {
   "cell_type": "markdown",
   "id": "b4dcdeb3-e776-4968-848a-e2c56e15c25c",
   "metadata": {},
   "source": [
    "## 멀티팩터 인증\n",
    "- 로그인 시 추가 보안 인증으로 보안을 위해 설정하는 것이 좋다.\n",
    "    - 이중 인증 방식으로 1차는 계정명과 패스워드로 2차는 MFA 디바이스에서 생성하는 일회용 코드(OTP)로 인증하여 보안성을 높인다.\n",
    "      \n",
    "1. 계정 메뉴에서 **보안 자격 증명** 선택\n",
    "     - 2차 인증 설정이 안되있으면 로그인할 때 아래 **3번 화면이** 나온다.\n",
    "       \n",
    "    ![img](figures/가입/2차보안0_1.png)"
   ]
  },
  {
   "cell_type": "markdown",
   "id": "dd29aa57-8df1-4826-8c41-f0417e2c2d60",
   "metadata": {},
   "source": [
    "2.  멀티 팩터 인증(MFA)에서  **MFA 디바이스 할당** 선택\n",
    "\n",
    "    ![img](figures/가입/2차보안0_2.png)"
   ]
  },
  {
   "cell_type": "markdown",
   "id": "d9aa5ae3-3dfa-42a4-9084-94a1cecfdf40",
   "metadata": {},
   "source": [
    "3. 인증 앱 선택\n",
    "   \n",
    "    ![img](figures/가입/2차보안1.png)"
   ]
  },
  {
   "cell_type": "markdown",
   "id": "82d5e481-cc47-4dc3-93d5-e86ca23a850e",
   "metadata": {},
   "source": [
    "4. 스마트 폰에 **인증 앱** 설치\n",
    "    - 안드로이드 폰: Google OTP 설치\n",
    "    - 아이폰: Google Authenticator 설치"
   ]
  },
  {
   "cell_type": "markdown",
   "id": "055ec1d4-6017-4b53-a7b2-9f53072bbbe3",
   "metadata": {},
   "source": [
    "5. 인증 앱 설정\n",
    "    - **QR 코드 표시** 클릭\n",
    "    - 스마트폰 **인증 앱** 에서 아래 추가(+) 를 선택\n",
    "    - QR 코드 스캔을 선택 후 위의 QR 코드를 스캔한다.\n",
    "    - **인증 앱에 보안 코드가 생성된다.**\n",
    "    - 생성된 보안코드를 **첫번째 코드**에 입력하고 잠시 뒤에 보안코드가 바뀌면 **두번째 코드**에 입력한다.\n",
    "      \n",
    "        ![img](figures/가입/2차보안2.png)"
   ]
  },
  {
   "cell_type": "markdown",
   "id": "94156cbc-f890-4f1c-8548-e741ef72af38",
   "metadata": {},
   "source": [
    "6. 이후 로그인시 등록된 보안코드를 입력하여 로그인 한다."
   ]
  },
  {
   "cell_type": "code",
   "execution_count": null,
   "id": "c730dc50-369f-466e-8e42-97947155207d",
   "metadata": {},
   "outputs": [],
   "source": []
  },
  {
   "cell_type": "markdown",
   "id": "1fdd4bdc-f77b-4b90-a026-01e46f35b3ac",
   "metadata": {},
   "source": [
    "# 로그인"
   ]
  },
  {
   "cell_type": "markdown",
   "id": "1cbb2b7e-6b96-4fcc-b767-605ee7a6c855",
   "metadata": {},
   "source": [
    "- https://aws.amazon.com/ko/\n",
    "- 우측 상단에 **\"콘솔에 로그인\"** 클릭\n",
    "\n",
    "![img](figures/가입/로그인1.png)"
   ]
  },
  {
   "attachments": {},
   "cell_type": "markdown",
   "id": "d3171c43-719e-403b-bc60-bad413826b15",
   "metadata": {},
   "source": [
    "- **루트사용자** 선택\n",
    "- 가입한 이메일 주소 입력 후 **\"다음\"** 클릭\n",
    "\n",
    "![img](figures/가입/로그인2.png)"
   ]
  },
  {
   "cell_type": "markdown",
   "id": "20e1071f-4897-452a-8025-026e0bd54ea8",
   "metadata": {},
   "source": [
    "- 패스워드 입력 후 **\"로그인\"** 버튼 클릭\n",
    "\n",
    "![img](figures/가입/로그인3.png)"
   ]
  },
  {
   "cell_type": "markdown",
   "id": "d9a82d36-454c-41f8-8bdc-34202208441b",
   "metadata": {},
   "source": [
    "- 멀티 팩터 인증\n",
    "    - Google OTP에 생성된 인증 코드를 입력하고 제출 클릭\n",
    "\n",
    "![img](figures/가입/로그인4_멀티팩터인증.png)"
   ]
  },
  {
   "cell_type": "markdown",
   "id": "dcaed62b-3ce2-4f0d-af86-e5bbc941abdc",
   "metadata": {},
   "source": [
    "## 비용 확인\n",
    "\n",
    "- 가입 후 하루 정도 이후에 확인 가능하다.\n",
    "- Root 계정이나 결제확인 권한이 있는 계정(IAM)으로 로그인 해야 볼 수있다.\n",
    "- **계정 > 결제 및 비용관리** 선택\n",
    "- **과금 정보 및 비용 관리 홈** 으로 이동 하며 과금과 관련된 다양한 정보를 확인할 수있다.\n",
    "  \n",
    "![img](figures/가입/결제.png)"
   ]
  }
 ],
 "metadata": {
  "kernelspec": {
   "display_name": "Python 3 (ipykernel)",
   "language": "python",
   "name": "python3"
  },
  "language_info": {
   "codemirror_mode": {
    "name": "ipython",
    "version": 3
   },
   "file_extension": ".py",
   "mimetype": "text/x-python",
   "name": "python",
   "nbconvert_exporter": "python",
   "pygments_lexer": "ipython3",
   "version": "3.12.2"
  }
 },
 "nbformat": 4,
 "nbformat_minor": 5
}
