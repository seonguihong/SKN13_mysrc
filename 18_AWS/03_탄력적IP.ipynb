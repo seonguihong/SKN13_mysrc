{
 "cells": [
  {
   "cell_type": "markdown",
   "id": "46b26319-ddb1-46b9-be4b-39466dfdca5d",
   "metadata": {},
   "source": [
    "# 탄력적 IP 생성 및 인스턴스 연결\n",
    "\n",
    "- **네터워크 및 보안 > 탄력적 IP** 선택\n",
    "    - 인스턴스 정보의 **퍼블릭 IPv4 주소**: 인스턴스 접속을 위한 IP 주소\n",
    "\n",
    "![img](figures/탄력적IP/탄력적IP1.png)"
   ]
  },
  {
   "cell_type": "markdown",
   "id": "fd8e4918-452d-4cac-bff9-16dc992867f7",
   "metadata": {},
   "source": [
    "- **탄력적 IP주소 할당** 선택\n",
    "\n",
    "![img](figures/탄력적IP/탄력적IP2.png)"
   ]
  },
  {
   "cell_type": "markdown",
   "id": "12c1e3ac-0573-424f-bfbb-46aba50bb806",
   "metadata": {},
   "source": [
    "- 기본 설정 그대로 두고 **할당** 선택\n",
    "\n",
    "![img](figures/탄력적IP/탄력적IP3.png)"
   ]
  },
  {
   "cell_type": "markdown",
   "id": "249f601b-d167-4aee-8712-10fb29169c3b",
   "metadata": {},
   "source": [
    "- **Name** 변경\n",
    "- 생성된 주소 선택 후 **작업 > 탄력적 IP 연결** 선택\n",
    "  \n",
    "![img](figures/탄력적IP/탄력적IP4.png)"
   ]
  },
  {
   "cell_type": "markdown",
   "id": "f8e2df57-c3fe-4e5b-81f3-cdfa4d3b72ad",
   "metadata": {},
   "source": [
    "- **인스턴스** 에서 생성된 IP를 **연결할 인스턴스 선택**\n",
    "\n",
    "![img](figures/탄력적IP/탄력적IP5.png)"
   ]
  },
  {
   "cell_type": "markdown",
   "id": "073dc8e0-d80e-45ed-9898-5f9c608e1fb2",
   "metadata": {},
   "source": [
    "# 탄력적 IP 삭제\n",
    "연결된 인스턴스와 연결을 해제 후 삭제한다.\n",
    "- **네트워크 및 보안** > **탄력적 IP**\n",
    "1. **작업 > 탄력적 IP 주소 연결해제**\n",
    "\n",
    "2. **작업 > 탄력적 IP 주소 릴리즈**(삭제)\n",
    "\n",
    "![img](figures/탄력적IP/탄력적IP6_삭제.png)"
   ]
  }
 ],
 "metadata": {
  "kernelspec": {
   "display_name": "Python 3 (ipykernel)",
   "language": "python",
   "name": "python3"
  },
  "language_info": {
   "codemirror_mode": {
    "name": "ipython",
    "version": 3
   },
   "file_extension": ".py",
   "mimetype": "text/x-python",
   "name": "python",
   "nbconvert_exporter": "python",
   "pygments_lexer": "ipython3",
   "version": "3.12.3"
  }
 },
 "nbformat": 4,
 "nbformat_minor": 5
}
