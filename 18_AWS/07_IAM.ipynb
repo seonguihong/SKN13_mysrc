{
 "cells": [
  {
   "cell_type": "markdown",
   "id": "9c718922-74d8-452b-af96-d6123281782a",
   "metadata": {},
   "source": [
    "# IAM(Identity and Access Management)\n",
    "- AWS IAM(Identity and Access Management)은 AWS 리소스에 대한 인증과 권한 관리를 중앙에서 담당하는 서비스다\n",
    "- AWS 계정 하나에서 IAM 사용자 1,000명 이상 생성 가능하다.\n",
    "- 각각의 IAM 사용자 별로 각 리소스에 대한 권한을 설정할 수있고 그룹별로 묶어서 설정할 수도 있다.\n",
    "    - 예를 들어 개발자는 EC2 인스턴스 접근 권한만 부여하고, 데이터 분석가는 Athena와 Glue 접근 권한만 할당 할 수 있다."
   ]
  },
  {
   "cell_type": "markdown",
   "id": "3497b726-7a5e-4133-adc2-ed576e40ac49",
   "metadata": {},
   "source": [
    "## 루트 사용자(root)와 IAM 일반 사용자의 차이\n",
    "\n",
    "### 루트 사용자(root)\n",
    "- AWS 계정을 처음 생성할 때 자동으로 만들어지는 **최상위 권한 계정**.  \n",
    "- **모든 서비스, 리소스, 청구(결제) 정보**에 접근 가능.  \n",
    "- **무제한적 권한**을 보유하며, 모든 IAM 보안 정책을 무시하고 모든 작업 수행 가능.  \n",
    "- **보안 위험**: 계정 정보(비밀번호, 액세스 키 등)가 유출되면, 계정의 **모든 리소스 삭제 및 훼손** 가능.  \n",
    "- **베스트 프랙티스**:  \n",
    "   - 루트 사용자 사용 최소화(계정 생성, MFA 설정, 청구 관련 작업에만 사용)  \n",
    "   - **MFA(다중 인증)** 필수 활성화  \n",
    "   - 루트 계정의 **액세스 키 발급 금지 및 기존 키 삭제**\n",
    "\n",
    "### 일반 User(IAM User)\n",
    "- **필요한 권한만 부여**받아 특정 서비스만 사용할 수 있는 사용자.  \n",
    "- 루트 사용자 혹은 **관리자 권한**이 있는 사용자가 생성 가능.  \n",
    "- **권한을 세부적으로 제한 가능**(예: S3 읽기 전용, EC2 인스턴스 시작·중지 권한만 부여).  \n",
    "- **보안 강화**: 각 사용자마다 **고유한 자격 증명**(비밀번호, 액세스 키) 사용.  \n",
    "- **계정 관리 유연성**: 필요에 따라 **계정 생성 및 삭제** 용이.  \n",
    "- **다중 사용자 환경**: IAM 그룹과 역할을 사용해 **대규모 사용자 관리** 가능.  \n",
    "\n",
    "### 차이점 요약\n",
    "| 구분                        | 루트 사용자                          | IAM 사용자                         |\n",
    "| -------------------------- | ------------------------------------ | ---------------------------------- |\n",
    "| **생성 시점**               | AWS 계정 생성 시 자동 생성          | 필요에 따라 루트/관리자가 생성    |\n",
    "| **권한 범위**               | **무제한 권한**                     | **부여된 권한**만 사용 가능        |\n",
    "| **보안 위험**               | **매우 높음** (최상위 계정 해킹 시 전체 제어 가능) | 보안 위험이 낮음 (권한 제한 가능) |\n",
    "| **사용 권장 여부**           | 최소 사용, MFA 필수                 | 권장 사용, 최소 권한 원칙 적용     |\n",
    "| **주요 용도**               | 청구 관리, 계정 설정, 루트 MFA 활성화 | 일상적 AWS 리소스 관리 및 운영    |"
   ]
  },
  {
   "cell_type": "markdown",
   "id": "395cbdae-cedd-4be6-b10a-075805c69ae0",
   "metadata": {},
   "source": []
  },
  {
   "cell_type": "markdown",
   "id": "ac871379-9526-4722-ada8-6fceb967252d",
   "metadata": {},
   "source": [
    "## IAM 관리자 권한 User 생성\n",
    "\n",
    "- 청구(Billing) 관리를 제외한 모든 권한을 가지는 User "
   ]
  },
  {
   "cell_type": "markdown",
   "id": "7e7fb584-6164-49e8-ac58-57a204adf9d6",
   "metadata": {},
   "source": [
    "1. **Root 계정으로 로그인**\n",
    "2. **IAM 메뉴 선택**\n",
    "\n",
    "   ![img](figures/IAM/iam1.png)\n",
    "\n",
    "3. **사용자 선택**\n",
    "\n",
    "   ![img](figures/IAM/iam2.png)"
   ]
  },
  {
   "cell_type": "markdown",
   "id": "c2b36748-6685-4846-8b31-84d13a522a9f",
   "metadata": {},
   "source": [
    "4. 왼쪽 상단의 **사용자 생성** 버튼 클릭\n",
    "5. 사용자 세부 정보 지정\n",
    "    - **사용자 이름** 등록\n",
    "    - **AWS Management Console에 대한 사용자 액세스 권한 제공** 체크\n",
    "    - **IAM 사용자를 생성하고 싶음** 체크\n",
    "    - **사용자 지정 암호** 에 암호 입력\n",
    "    - **사용자는 다음 로그인 시 새 암호를 생성해야 합니다.** 체크 하면 처음 로그인 한 뒤 암호를 변경하는 화면이 실행된다.\n",
    "      \n",
    "![img](figures/IAM/iam3.png)"
   ]
  },
  {
   "cell_type": "markdown",
   "id": "e8c74679-9d59-42c3-9a0b-7096bce29ab9",
   "metadata": {},
   "source": [
    "6. 권한 설정\n",
    "    - **직접 정책 연결** 선택해서 권한 정책을 등록한다.\n",
    "    - **그룹에 사용자 추가**\n",
    "       - 그룹에 사용자를 추가해 그룹 단위로 권한 정책을 등록한다.\n",
    "       - 그룹에 권한 정책을 등록하면 그 그룹에 속한 모든 사용자에게 동일한 권한을 줄 수있다.\n",
    "    - **AdministratorAccess** 정책 등록\n",
    "        - billing을 제외한 모든 권한을 가지는 **관리자 권한** \n",
    "\n",
    "![img](figures/IAM/iam4.png)"
   ]
  },
  {
   "cell_type": "markdown",
   "id": "286b81da-bf97-4563-addd-29f7d05df6d9",
   "metadata": {},
   "source": [
    "7. **검토 및 생성**에서 **사용자 생성**\n",
    "8. 마지막 **암호 검색** 에서 **사용자 목록으로 돌아가기** 선택\n",
    "   - **.csv 파일 다운로드** 를 실행하면 생성한 계정의 **사용자 이름, 암호** 등 정보를 csv 파일로 다운받는다.\n",
    "   "
   ]
  },
  {
   "cell_type": "markdown",
   "id": "8c8d53fe-72e6-4cd8-9c37-2e40bf6558ce",
   "metadata": {},
   "source": [
    "## MFA 설정\n",
    "1. 사용자 목록에서 생성한 계정을 선택해 상세 페이지로 들어간다.\n",
    "2. **요약**  에서 **콘솔 액세스>MFA 없이 활성화됨** 선택한다.\n",
    "\n",
    "![img](figures/IAM/iam5.png)\n",
    "\n",
    "3. **MFA 디바이스 선택**\n",
    "   - 01_AWS가입_로그인 에서와 같이 MFA 디바이스를 설정한다."
   ]
  },
  {
   "cell_type": "markdown",
   "id": "4f5521c6-bd2a-497e-ac62-bb1385993534",
   "metadata": {},
   "source": [
    "## 로그인\n",
    "\n",
    "- Root 사용자에서 **계정 ID** 확인\n",
    "\n",
    "![img](figures/IAM/iam6.png)\n"
   ]
  },
  {
   "cell_type": "markdown",
   "id": "dbf1610d-5144-464c-b204-8acefa027449",
   "metadata": {},
   "source": [
    "- 로그인\n",
    "    - **계정 ID(12자리) 또는 계정 별칭** 에 위의 계정 ID입력\n",
    "\n",
    "![img](figures/IAM/iam7.png)"
   ]
  }
 ],
 "metadata": {
  "kernelspec": {
   "display_name": "Python 3 (ipykernel)",
   "language": "python",
   "name": "python3"
  },
  "language_info": {
   "codemirror_mode": {
    "name": "ipython",
    "version": 3
   },
   "file_extension": ".py",
   "mimetype": "text/x-python",
   "name": "python",
   "nbconvert_exporter": "python",
   "pygments_lexer": "ipython3",
   "version": "3.12.2"
  }
 },
 "nbformat": 4,
 "nbformat_minor": 5
}
