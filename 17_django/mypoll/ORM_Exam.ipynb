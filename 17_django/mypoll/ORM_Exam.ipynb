{
 "cells": [
  {
   "cell_type": "code",
   "execution_count": 1,
   "id": "bb3c23fd",
   "metadata": {},
   "outputs": [],
   "source": [
    "# mypoll/ORM_Exam.ipynb\n",
    "\n",
    "## Jupyter Lab에서 Django shell을 실행하기 위한 설정\n",
    "import os\n",
    "import django\n",
    "# 환경변수로 config/settings.py의 위치를 설정\n",
    "os.environ['DJANGO_SETTINGS_MODULE'] = \"config.settings\"\n",
    "os.environ['DJANGO_ALLOW_ASYNC_UNSAFE'] = \"true\"\n",
    "\n",
    "django.setup()"
   ]
  },
  {
   "cell_type": "code",
   "execution_count": 2,
   "id": "5eaa3be5",
   "metadata": {},
   "outputs": [
    {
     "data": {
      "text/plain": [
       "<QuerySet [<Question: 1. 좋아하는 색깔은 무엇입니까?>, <Question: 2. 좋아하는 동물은 무엇입니까?>, <Question: 3. 싫어하는 색깔은 고르세요.>, <Question: 4. 여행가고 싶은 나라는?>]>"
      ]
     },
     "execution_count": 2,
     "metadata": {},
     "output_type": "execute_result"
    }
   ],
   "source": [
    "# 조회 테스트\n",
    "from polls.models import Question, Choice\n",
    "\n",
    "q = Question.objects.all()\n",
    "q"
   ]
  },
  {
   "cell_type": "markdown",
   "id": "56ed7a08",
   "metadata": {},
   "source": [
    "# 조회\n",
    "- ModelClass.objects -> Model Manager를 반환.\n",
    "- ModelManager: SQL작업을 할 수있는 메소드들을 제공하는 객체\n",
    "\n",
    "## 조회메소드\n",
    "- `all()`: 전체 조회\n",
    "- `filter()`, `exclude()`: 조건으로 조회(where절)\n",
    "- `get()`: 조회결과가 하나인 조건으로 조회(PK로 조회)\n",
    "\n",
    "## 조회결과\n",
    "- `QuerySet` 객체: 조회결과가 여러개일때 QuerySet에 모아서 반환.\n",
    "  - 조회결과를 바탕으로 추가 DB 작업을 진행할 수 있는 메소드들을 제공.\n",
    "  - 개별 데이터는 Model 객체에 담아서 반환.\n",
    "- Model 객체: 조회결과가 하나(`get()`) 일 때 "
   ]
  },
  {
   "cell_type": "code",
   "execution_count": 3,
   "id": "b836bace",
   "metadata": {},
   "outputs": [],
   "source": [
    "from polls.models import Question, Choice"
   ]
  },
  {
   "cell_type": "code",
   "execution_count": 4,
   "id": "102b4553",
   "metadata": {},
   "outputs": [
    {
     "data": {
      "text/plain": [
       "django.db.models.manager.Manager"
      ]
     },
     "execution_count": 4,
     "metadata": {},
     "output_type": "execute_result"
    }
   ],
   "source": [
    "model_manager = Question.objects\n",
    "type(model_manager)"
   ]
  },
  {
   "cell_type": "code",
   "execution_count": 7,
   "id": "63b472ec",
   "metadata": {},
   "outputs": [
    {
     "name": "stdout",
     "output_type": "stream",
     "text": [
      "조회한 데이터개수: 4\n",
      "all()로 실행된 SQL문을 조회\n",
      "SELECT \"polls_question\".\"id\", \"polls_question\".\"question_text\", \"polls_question\".\"pub_date\" FROM \"polls_question\"\n"
     ]
    }
   ],
   "source": [
    "result = model_manager.all()\n",
    "print(\"조회한 데이터개수:\", len(result))\n",
    "print(\"all()로 실행된 SQL문을 조회\")\n",
    "print(result.query)"
   ]
  },
  {
   "cell_type": "code",
   "execution_count": 10,
   "id": "9ec1e39b",
   "metadata": {},
   "outputs": [
    {
     "name": "stdout",
     "output_type": "stream",
     "text": [
      "<class 'django.db.models.query.QuerySet'>\n"
     ]
    },
    {
     "data": {
      "text/plain": [
       "<QuerySet [<Question: 1. 좋아하는 색깔은 무엇입니까?>, <Question: 2. 좋아하는 동물은 무엇입니까?>, <Question: 3. 싫어하는 색깔은 고르세요.>, <Question: 4. 여행가고 싶은 나라는?>]>"
      ]
     },
     "execution_count": 10,
     "metadata": {},
     "output_type": "execute_result"
    }
   ],
   "source": [
    "print(type(result))\n",
    "result"
   ]
  },
  {
   "cell_type": "code",
   "execution_count": 13,
   "id": "5a420166",
   "metadata": {},
   "outputs": [
    {
     "name": "stdout",
     "output_type": "stream",
     "text": [
      "1. 좋아하는 색깔은 무엇입니까? 2025-07-07 05:17:02.657964+00:00\n",
      "2. 좋아하는 동물은 무엇입니까? 2025-07-07 05:17:27.441139+00:00\n",
      "3. 싫어하는 색깔은 고르세요. 2025-07-07 05:17:41.937410+00:00\n",
      "4. 여행가고 싶은 나라는? 2025-07-07 06:15:03.568627+00:00\n"
     ]
    }
   ],
   "source": [
    "# QuerySet -> Iterable\n",
    "for q in result:\n",
    "    # print(type(q))\n",
    "    print(q, q.pub_date)"
   ]
  },
  {
   "cell_type": "code",
   "execution_count": 19,
   "id": "1c40dd0b",
   "metadata": {},
   "outputs": [
    {
     "name": "stdout",
     "output_type": "stream",
     "text": [
      "2 2\n",
      "좋아하는 동물은 무엇입니까? 2025-07-07 05:17:27.441139+00:00\n",
      "<class 'int'> <class 'str'> <class 'datetime.datetime'>\n"
     ]
    }
   ],
   "source": [
    "# QuerySet -> Subscriptable\n",
    "q = result[1]\n",
    "print(q.id, q.pk)\n",
    "print(q.question_text, q.pub_date)\n",
    "print(type(q.pk), type(q.question_text), type(q.pub_date))"
   ]
  },
  {
   "cell_type": "code",
   "execution_count": 20,
   "id": "399fd8d6",
   "metadata": {},
   "outputs": [
    {
     "data": {
      "text/plain": [
       "(1, 4)"
      ]
     },
     "execution_count": 20,
     "metadata": {},
     "output_type": "execute_result"
    }
   ],
   "source": [
    "# QuerySet - 첫번째, 마지막 index값 조회\n",
    "q_s = result.first()\n",
    "q_e = result.last()\n",
    "q_s.pk, q_e.pk"
   ]
  },
  {
   "cell_type": "code",
   "execution_count": 24,
   "id": "0ac0cc15",
   "metadata": {},
   "outputs": [
    {
     "name": "stdout",
     "output_type": "stream",
     "text": [
      "<class 'list'>\n"
     ]
    },
    {
     "data": {
      "text/plain": [
       "[<Question: 1. 좋아하는 색깔은 무엇입니까?>,\n",
       " <Question: 2. 좋아하는 동물은 무엇입니까?>,\n",
       " <Question: 3. 싫어하는 색깔은 고르세요.>]"
      ]
     },
     "execution_count": 24,
     "metadata": {},
     "output_type": "execute_result"
    }
   ],
   "source": [
    "# slicing -> 결과: list\n",
    "s_result = result[:3]\n",
    "print(type(s_result))\n",
    "s_result"
   ]
  },
  {
   "cell_type": "code",
   "execution_count": 27,
   "id": "536c262e",
   "metadata": {},
   "outputs": [],
   "source": [
    "# 음수 indexing은 지원하지 않는다.\n",
    "# result[-2] "
   ]
  },
  {
   "cell_type": "code",
   "execution_count": 32,
   "id": "a2ccac0a",
   "metadata": {},
   "outputs": [
    {
     "data": {
      "text/plain": [
       "<QuerySet [<Question: 1. 좋아하는 색깔은 무엇입니까?>, <Question: 2. 좋아하는 동물은 무엇입니까?>, <Question: 4. 여행가고 싶은 나라는?>, <Question: 3. 싫어하는 색깔은 고르세요.>]>"
      ]
     },
     "execution_count": 32,
     "metadata": {},
     "output_type": "execute_result"
    }
   ],
   "source": [
    "## QuerySet을 이용해서 정렬 (order by) \n",
    "##  - QS.order_by(\"기준Field명\"): ASC, QS.order_by(\"-기준Field명\"): DESC\n",
    "# result.order_by(\"question_text\")\n",
    "result.order_by(\"-question_text\")"
   ]
  },
  {
   "cell_type": "code",
   "execution_count": 38,
   "id": "4bdfb9d0",
   "metadata": {},
   "outputs": [
    {
     "name": "stdout",
     "output_type": "stream",
     "text": [
      "10 개 0\n",
      "6 검정 0\n",
      "11 고양이 5\n",
      "9 곰 0\n",
      "3 노랑 0\n",
      "4 보라 0\n",
      "7 보라 0\n",
      "1 빨강 10\n",
      "5 빨강 0\n",
      "8 주황 0\n",
      "2 파랑 0\n",
      "12 호랑이 3\n"
     ]
    }
   ],
   "source": [
    "# Choice에 모든 데이터를 조회 -> choice_text 기준으로 정렬\n",
    "results = Choice.objects.all().order_by(\"choice_text\")\n",
    "for c in results:\n",
    "    print(c.pk, c.choice_text, c.votes)"
   ]
  },
  {
   "cell_type": "code",
   "execution_count": 41,
   "id": "dd07d0e9",
   "metadata": {},
   "outputs": [
    {
     "name": "stdout",
     "output_type": "stream",
     "text": [
      "10 개 0\n",
      "6 검정 0\n",
      "11 고양이 5\n",
      "9 곰 0\n",
      "3 노랑 0\n",
      "7 보라 20\n",
      "4 보라 0\n",
      "5 빨강 10\n",
      "1 빨강 5\n",
      "8 주황 0\n",
      "2 파랑 0\n",
      "12 호랑이 3\n"
     ]
    }
   ],
   "source": [
    "# order by choice_text, votes desc\n",
    "results = Choice.objects.all().order_by(\"choice_text\", \"-votes\")\n",
    "for c in results:\n",
    "    print(c.pk, c.choice_text, c.votes)"
   ]
  },
  {
   "cell_type": "code",
   "execution_count": 42,
   "id": "4dc1e048",
   "metadata": {},
   "outputs": [
    {
     "name": "stdout",
     "output_type": "stream",
     "text": [
      "SELECT \"polls_choice\".\"id\", \"polls_choice\".\"choice_text\", \"polls_choice\".\"votes\", \"polls_choice\".\"question_id\" FROM \"polls_choice\" ORDER BY \"polls_choice\".\"choice_text\" ASC, \"polls_choice\".\"votes\" DESC\n"
     ]
    }
   ],
   "source": [
    "print(results.query)"
   ]
  },
  {
   "cell_type": "markdown",
   "id": "25950d84",
   "metadata": {},
   "source": [
    "### Where 절\n",
    "- filter()\n",
    "  - 조회조건이 True인 행들을 조회 -> QuerySet을 반환\n",
    "- exclude()\n",
    "  - 조회조건이 False인 행들을 조회 -> QuerySet을 반환\n",
    "- get()\n",
    "  - 조회조건이 True인 행이 1개일 때 조회.-> Model에 결과를 담아서 반환.\n",
    "  - 조회결과가 2행 이상이거나 없을 경우 Exception 발생.\n",
    "- **조회조건**\n",
    "  - `Field이름__비교연산자 = 비교할 값`"
   ]
  },
  {
   "cell_type": "code",
   "execution_count": null,
   "id": "14f25436",
   "metadata": {},
   "outputs": [
    {
     "name": "stdout",
     "output_type": "stream",
     "text": [
      "<class 'django.db.models.query.QuerySet'>\n",
      "<QuerySet [<Question: 2. 좋아하는 동물은 무엇입니까?>, <Question: 3. 싫어하는 색깔은 고르세요.>, <Question: 4. 여행가고 싶은 나라는?>]>\n"
     ]
    }
   ],
   "source": [
    "# pk 조회 -> 결과 1행 | 0행\n",
    "# 동등 비교: field명 = 값\n",
    "result = Question.objects.get(pk=1)    # where id = 1. 조회결과가 1개\n",
    "result = Question.objects.filter(pk=1) # where id = 1. 조회결과가 0개 이상\n",
    "result = Question.objects.exclude(pk=1)# where not id = 1\n",
    "\n",
    "print(type(result))\n",
    "print(result)\n",
    "\n"
   ]
  },
  {
   "cell_type": "code",
   "execution_count": 54,
   "id": "927cdce3",
   "metadata": {},
   "outputs": [
    {
     "name": "stdout",
     "output_type": "stream",
     "text": [
      "5. 빨강\n"
     ]
    }
   ],
   "source": [
    "# 비교 연산 \n",
    "result = Choice.objects.filter(pk__lt=5) # where pk < 5\n",
    "result = Choice.objects.filter(pk__lte=5) # where pk <= 5\n",
    "result = Choice.objects.filter(pk__gt=5) # where pk > 5\n",
    "result = Choice.objects.filter(pk__gte=5) # where pk >= 5\n",
    "result = Choice.objects.filter(pk=5) # where pk = 5\n",
    "\n",
    "for r in result:\n",
    "    print(r)"
   ]
  },
  {
   "cell_type": "code",
   "execution_count": null,
   "id": "495f285f",
   "metadata": {},
   "outputs": [
    {
     "name": "stdout",
     "output_type": "stream",
     "text": [
      "SELECT \"polls_question\".\"id\", \"polls_question\".\"question_text\", \"polls_question\".\"pub_date\" FROM \"polls_question\" WHERE \"polls_question\".\"question_text\" LIKE 싫어하는% ESCAPE '\\'\n",
      "3. 싫어하는 색깔은 고르세요.\n"
     ]
    }
   ],
   "source": [
    "# 문자열 부분일치 - like ( xxx를 포함, xxx로 시작, xxx로 끝)\n",
    "result = Question.objects.filter(question_text__contains='색깔')\n",
    "# question_text like '%색깔%'\n",
    "result = Question.objects.filter(question_text__endswith='무엇입니까?')\n",
    "# question_text like \"%무엇입니까?\"\n",
    "result = Question.objects.filter(question_text__startswith=\"싫어하는\")\n",
    "# question_text like \"싫어하는%\"\n",
    "\n",
    "print(result.query)\n",
    "for r in result:\n",
    "    print(r)"
   ]
  },
  {
   "cell_type": "code",
   "execution_count": 64,
   "id": "159b7288",
   "metadata": {},
   "outputs": [
    {
     "name": "stdout",
     "output_type": "stream",
     "text": [
      "SELECT \"polls_choice\".\"id\", \"polls_choice\".\"choice_text\", \"polls_choice\".\"votes\", \"polls_choice\".\"question_id\" FROM \"polls_choice\" WHERE NOT (\"polls_choice\".\"id\" IN (1, 10, 3))\n",
      "2. 파랑\n",
      "4. 보라\n",
      "5. 빨강\n",
      "6. 검정\n",
      "7. 보라\n",
      "8. 주황\n",
      "9. 곰\n",
      "11. 고양이\n",
      "12. 호랑이\n"
     ]
    }
   ],
   "source": [
    "# in  연산\n",
    "result = Choice.objects.filter(pk__in=[1, 10, 3]) # pk in (1, 10, 3)\n",
    "result = Choice.objects.exclude(pk__in=[1, 10, 3]) # pk not in (1, 10, 3)\n",
    "\n",
    "print(result.query)\n",
    "for r in result:\n",
    "    print(r)"
   ]
  },
  {
   "cell_type": "code",
   "execution_count": 66,
   "id": "46b05052",
   "metadata": {},
   "outputs": [
    {
     "name": "stdout",
     "output_type": "stream",
     "text": [
      "SELECT \"polls_choice\".\"id\", \"polls_choice\".\"choice_text\", \"polls_choice\".\"votes\", \"polls_choice\".\"question_id\" FROM \"polls_choice\" WHERE NOT (\"polls_choice\".\"id\" BETWEEN 4 AND 8)\n",
      "1. 빨강\n",
      "2. 파랑\n",
      "3. 노랑\n",
      "9. 곰\n",
      "10. 개\n",
      "11. 고양이\n",
      "12. 호랑이\n"
     ]
    }
   ],
   "source": [
    "# between\n",
    "result = Choice.objects.filter(pk__range=[4, 8])\n",
    "# pk between 4 and 8\n",
    "result = Choice.objects.exclude(pk__range=[4, 8])\n",
    "# pk not between 4 and 8\n",
    "\n",
    "print(result.query)\n",
    "for r in result:\n",
    "    print(r)"
   ]
  },
  {
   "cell_type": "markdown",
   "id": "d02261ca",
   "metadata": {},
   "source": [
    "#### where 절의 and, or\n",
    "- `and`: 조건들을 나열\n",
    "- 각 조건을 `Q()` 함수에 넣고 `|` 로 연결."
   ]
  },
  {
   "cell_type": "code",
   "execution_count": 68,
   "id": "8fcf63b9",
   "metadata": {},
   "outputs": [
    {
     "name": "stdout",
     "output_type": "stream",
     "text": [
      "SELECT \"polls_question\".\"id\", \"polls_question\".\"question_text\", \"polls_question\".\"pub_date\" FROM \"polls_question\" WHERE (\"polls_question\".\"id\" >= 2 AND \"polls_question\".\"question_text\" LIKE %무엇입니까? ESCAPE '\\')\n",
      "2. 좋아하는 동물은 무엇입니까?\n"
     ]
    }
   ],
   "source": [
    "result = Question.objects.filter(\n",
    "    question_text__endswith='무엇입니까?',\n",
    "    pk__gte=2\n",
    ")\n",
    "\n",
    "print(result.query)\n",
    "for r in result:\n",
    "    print(r)"
   ]
  },
  {
   "cell_type": "code",
   "execution_count": 72,
   "id": "edac95c5",
   "metadata": {},
   "outputs": [
    {
     "data": {
      "text/plain": [
       "<Q: (OR: ('question_text__endswith', '무엇입니까?'), ('pk__gte', 3))>"
      ]
     },
     "execution_count": 72,
     "metadata": {},
     "output_type": "execute_result"
    }
   ],
   "source": [
    "Q(question_text__endswith='무엇입니까?') | Q(pk__gte=3)"
   ]
  },
  {
   "cell_type": "code",
   "execution_count": 71,
   "id": "7a2a1038",
   "metadata": {},
   "outputs": [
    {
     "name": "stdout",
     "output_type": "stream",
     "text": [
      "SELECT \"polls_question\".\"id\", \"polls_question\".\"question_text\", \"polls_question\".\"pub_date\" FROM \"polls_question\" WHERE (\"polls_question\".\"question_text\" LIKE %무엇입니까? ESCAPE '\\' OR \"polls_question\".\"id\" >= 3)\n",
      "1. 좋아하는 색깔은 무엇입니까?\n",
      "2. 좋아하는 동물은 무엇입니까?\n",
      "3. 싫어하는 색깔은 고르세요.\n",
      "4. 여행가고 싶은 나라는?\n"
     ]
    }
   ],
   "source": [
    "from django.db.models import Q\n",
    "result = Question.objects.filter(\n",
    "    Q(question_text__endswith='무엇입니까?') | Q(pk__gte=3)\n",
    ")\n",
    "\n",
    "print(result.query)\n",
    "for r in result:\n",
    "    print(r)"
   ]
  },
  {
   "cell_type": "code",
   "execution_count": 74,
   "id": "1032b637",
   "metadata": {},
   "outputs": [
    {
     "name": "stdout",
     "output_type": "stream",
     "text": [
      "SELECT \"polls_question\".\"id\", \"polls_question\".\"question_text\", \"polls_question\".\"pub_date\" FROM \"polls_question\" WHERE (NOT (\"polls_question\".\"question_text\" LIKE %무엇입니까? ESCAPE '\\') OR \"polls_question\".\"id\" >= 4)\n",
      "3. 싫어하는 색깔은 고르세요.\n",
      "4. 여행가고 싶은 나라는?\n"
     ]
    }
   ],
   "source": [
    "# ~Q() : Not\n",
    "result = Question.objects.filter(\n",
    "    ~Q(question_text__endswith='무엇입니까?') | Q(pk__gte=4)\n",
    ")\n",
    "\n",
    "print(result.query)\n",
    "for r in result:\n",
    "    print(r)"
   ]
  },
  {
   "cell_type": "markdown",
   "id": "2ca675e1",
   "metadata": {},
   "source": [
    "#### 조회할 컬럼들을 선택.\n",
    "- `values(Field명, ...)`\n",
    "- 개별 조회 결과을 Dictionary로 반환."
   ]
  },
  {
   "cell_type": "code",
   "execution_count": 85,
   "id": "493f20c2",
   "metadata": {},
   "outputs": [
    {
     "name": "stdout",
     "output_type": "stream",
     "text": [
      "SELECT \"polls_choice\".\"id\" AS \"pk\", \"polls_choice\".\"votes\" AS \"votes\" FROM \"polls_choice\" WHERE \"polls_choice\".\"id\" < 5\n"
     ]
    },
    {
     "data": {
      "text/plain": [
       "<QuerySet [{'pk': 1, 'votes': 5}, {'pk': 2, 'votes': 0}, {'pk': 3, 'votes': 0}, {'pk': 4, 'votes': 0}]>"
      ]
     },
     "execution_count": 85,
     "metadata": {},
     "output_type": "execute_result"
    }
   ],
   "source": [
    "result = Question.objects.all().values(\"pk\", \"question_text\")\n",
    "result = Choice.objects.filter(pk__lt = 5).values('pk', 'votes')\n",
    "# select pk, votes from choice where pk < 5\n",
    "print(result.query)\n",
    "result\n",
    "# for r in result:\n",
    "#     print(type(r), r['pk'], r['question_text'])"
   ]
  },
  {
   "cell_type": "markdown",
   "id": "9c7ad3b5",
   "metadata": {},
   "source": [
    "### 집계함수\n",
    "- `aggregate(집계함수(집계기준field명), 집계함수(field명), ...)`\n",
    "  - `select avg(salary), count(comm_pct), max(salary) from emp`\n",
    "- **groupby**\n",
    "  - values(\"groupby기준 컬럼\").annotate(집계함수)"
   ]
  },
  {
   "cell_type": "code",
   "execution_count": 86,
   "id": "e263ac0a",
   "metadata": {},
   "outputs": [],
   "source": [
    "from django.db.models import (\n",
    "    Count, # 값의 개수(null 제외한)\n",
    "    Sum,   # 합계\n",
    "    Avg,   # 평균\n",
    "    Min,   # 최소\n",
    "    Max,   # 최대값\n",
    "    StdDev, # 표준편차\n",
    "    Variance # 분산값\n",
    ")"
   ]
  },
  {
   "cell_type": "code",
   "execution_count": 92,
   "id": "96a0960c",
   "metadata": {},
   "outputs": [
    {
     "name": "stdout",
     "output_type": "stream",
     "text": [
      "{'votes__count': 12, 'votes__avg': 3.5833333333333335, 'pk__max': 12, 'pk__min': 1, 'votes__sum': 43, 'votes__stddev': 5.808877305947816, 'votes__variance': 33.74305555555556}\n"
     ]
    }
   ],
   "source": [
    "result = Choice.objects.aggregate(\n",
    "    Count(\"votes\"),\n",
    "    Avg(\"votes\"),\n",
    "    Max(\"pk\"),\n",
    "    Min(\"pk\"),\n",
    "    Sum(\"votes\"),\n",
    "    StdDev(\"votes\"),\n",
    "    Variance(\"votes\")\n",
    "\n",
    ")\n",
    "\n",
    "print(result)\n",
    "# 반환: dictionary\n",
    "# default key: field명__집계명"
   ]
  },
  {
   "cell_type": "code",
   "execution_count": 93,
   "id": "6fa41d1a",
   "metadata": {},
   "outputs": [
    {
     "data": {
      "text/plain": [
       "{'cnt': 12, 'min': 0, 'max': 20}"
      ]
     },
     "execution_count": 93,
     "metadata": {},
     "output_type": "execute_result"
    }
   ],
   "source": [
    "result = Choice.objects.aggregate(\n",
    "    cnt=Count(\"votes\"),\n",
    "    min=Min(\"votes\"),\n",
    "    max=Max(\"votes\")\n",
    ")\n",
    "result"
   ]
  },
  {
   "cell_type": "code",
   "execution_count": 99,
   "id": "b1056721",
   "metadata": {},
   "outputs": [
    {
     "data": {
      "text/plain": [
       "{'min_max_diff': 11}"
      ]
     },
     "execution_count": 99,
     "metadata": {},
     "output_type": "execute_result"
    }
   ],
   "source": [
    "# 집계 결과를 연산\n",
    "# 변수명 = (집계함수 - 집계함수)\n",
    "Choice.objects.aggregate(min_max_diff = Max(\"pk\") - Min(\"pk\"))"
   ]
  },
  {
   "cell_type": "code",
   "execution_count": 101,
   "id": "2a2a9953",
   "metadata": {},
   "outputs": [],
   "source": [
    "######### groupby + 집계\n",
    "result = Choice.objects.values(\"question\").annotate(\n",
    "    min=Min(\"votes\"),\n",
    "    max=Max(\"votes\")\n",
    ")"
   ]
  },
  {
   "cell_type": "code",
   "execution_count": 102,
   "id": "81e9e180",
   "metadata": {},
   "outputs": [
    {
     "data": {
      "text/plain": [
       "<QuerySet [{'question': 1, 'min': 0, 'max': 5}, {'question': 2, 'min': 0, 'max': 5}, {'question': 3, 'min': 0, 'max': 20}]>"
      ]
     },
     "execution_count": 102,
     "metadata": {},
     "output_type": "execute_result"
    }
   ],
   "source": [
    "result"
   ]
  }
 ],
 "metadata": {
  "kernelspec": {
   "display_name": "lang_env",
   "language": "python",
   "name": "python3"
  },
  "language_info": {
   "codemirror_mode": {
    "name": "ipython",
    "version": 3
   },
   "file_extension": ".py",
   "mimetype": "text/x-python",
   "name": "python",
   "nbconvert_exporter": "python",
   "pygments_lexer": "ipython3",
   "version": "3.12.11"
  }
 },
 "nbformat": 4,
 "nbformat_minor": 5
}
